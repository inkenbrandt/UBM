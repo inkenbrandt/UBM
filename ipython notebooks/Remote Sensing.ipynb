{
 "cells": [
  {
   "cell_type": "markdown",
   "metadata": {
    "deletable": true,
    "editable": true
   },
   "source": [
    "# Import Libraries"
   ]
  },
  {
   "cell_type": "code",
   "execution_count": 1,
   "metadata": {
    "collapsed": false,
    "deletable": true,
    "editable": true
   },
   "outputs": [],
   "source": [
    "%matplotlib inline\n",
    "import pandas as pd\n",
    "import zipfile\n",
    "import shutil\n",
    "import urllib2\n",
    "\n",
    "import numpy as np\n",
    "import matplotlib.pyplot as plt\n",
    "import matplotlib.dates as dates\n",
    "\n",
    "\n",
    "from urllib2 import urlopen     \n",
    "import time\n",
    "\n",
    "from bs4 import BeautifulSoup\n",
    "from pylab import rcParams\n",
    "import platform\n",
    "rcParams['figure.figsize'] = 15, 10\n",
    "import re\n",
    "import os\n",
    "\n",
    "import glob\n",
    "import urllib\n",
    "\n",
    "import gzip\n",
    "\n",
    "import ftplib\n",
    "import calendar\n",
    "import datetime\n",
    "from datetime import date\n",
    "\n",
    "import pymodis"
   ]
  },
  {
   "cell_type": "code",
   "execution_count": 2,
   "metadata": {
    "collapsed": true,
    "deletable": true,
    "editable": true
   },
   "outputs": [],
   "source": [
    "import arcpy\n",
    "arcpy.CheckOutExtension(\"spatial\")\n",
    "from arcpy.sa import *"
   ]
  },
  {
   "cell_type": "code",
   "execution_count": 3,
   "metadata": {
    "collapsed": false,
    "deletable": true,
    "editable": true
   },
   "outputs": [
    {
     "name": "stdout",
     "output_type": "stream",
     "text": [
      "Operating System Windows 7\n",
      "Python Version 2.7.10 (default, May 23 2015, 09:44:00) [MSC v.1500 64 bit (AMD64)]\n",
      "Pandas Version 0.19.2\n",
      "Numpy Version 1.12.0\n"
     ]
    }
   ],
   "source": [
    "print(\"Operating System \" + platform.system() + \" \" + platform.release())\n",
    "print(\"Python Version \" + str(sys.version))\n",
    "print(\"Pandas Version \" + str(pd.__version__))\n",
    "print(\"Numpy Version \" + str(np.__version__))"
   ]
  },
  {
   "cell_type": "code",
   "execution_count": 4,
   "metadata": {
    "collapsed": false,
    "deletable": true,
    "editable": true
   },
   "outputs": [
    {
     "data": {
      "text/plain": [
       "'0.0.3'"
      ]
     },
     "execution_count": 4,
     "metadata": {},
     "output_type": "execute_result"
    }
   ],
   "source": [
    "import UBM\n",
    "UBM.__version__"
   ]
  },
  {
   "cell_type": "markdown",
   "metadata": {
    "deletable": true,
    "editable": true
   },
   "source": [
    "# MODIS16"
   ]
  },
  {
   "cell_type": "markdown",
   "metadata": {
    "deletable": true,
    "editable": true
   },
   "source": [
    "Potential and Actual Evapotranspiration"
   ]
  },
  {
   "cell_type": "markdown",
   "metadata": {
    "deletable": true,
    "editable": true
   },
   "source": [
    "https://github.com/lucadelu/pyModis/blob/master/docs/source/examples/pyModis.ipynb<br>\n",
    "http://www.ntsg.umt.edu/project/mod16"
   ]
  },
  {
   "cell_type": "markdown",
   "metadata": {
    "deletable": true,
    "editable": true
   },
   "source": [
    "## Download HDF Files"
   ]
  },
  {
   "cell_type": "code",
   "execution_count": 11,
   "metadata": {
    "collapsed": false,
    "deletable": true,
    "editable": true
   },
   "outputs": [],
   "source": [
    "#Download HDF Files\n",
    "#'h09v05','h09v04','h08v05'\n",
    "tiles = ['h09v05','h09v05','h09v04','h08v05']\n",
    "save_path = 'H:/GIS/MODIS/'"
   ]
  },
  {
   "cell_type": "code",
   "execution_count": null,
   "metadata": {
    "collapsed": true
   },
   "outputs": [],
   "source": [
    "UBM.get_modis(tiles, save_path)"
   ]
  },
  {
   "cell_type": "code",
   "execution_count": 12,
   "metadata": {
    "collapsed": true
   },
   "outputs": [],
   "source": [
    "files = UBM.get_file_list(save_path)"
   ]
  },
  {
   "cell_type": "markdown",
   "metadata": {
    "deletable": true,
    "editable": true
   },
   "source": [
    "## Reproject MODIS Data"
   ]
  },
  {
   "cell_type": "markdown",
   "metadata": {
    "deletable": true,
    "editable": true
   },
   "source": [
    "These scripts reproject the hdf files from the <a href=\"https://modis-land.gsfc.nasa.gov/MODLAND_grid.html\">wacky sinusoidal MODIS projection</a> to <a href=\"http://spatialreference.org/ref/epsg/4269/\">NAD83 Zone 12</a> for analysis.  In this section, the MODIS rasters are also clipped to Utah Watersheds (see image below) and the fill values are made to null values. Fill values are described in the <a href=\"http://files.ntsg.umt.edu/data/NTSG_Products/MOD16/MOD16_global_evapotranspiration_description.pdf\">MODIS16 documentation</a>:\n",
    "<br>\n",
    "<ul>\n",
    "<li>Fill value, out of the earth 32767</li>\n",
    "<li>Water body 32766</li>\n",
    "<li>Barren or sparsely vegetated 32765</li> \n",
    "<li>Permanent snow and ice 32764</li>\n",
    "<li>Permanent wetland 32763</li>\n",
    "<li>Urban or Built-up 32762</li>\n",
    "<li>Unclassified 32761</li>\n",
    "<img src=\"https://cfpub.epa.gov/surf/images/states/ut.gif\">"
   ]
  },
  {
   "cell_type": "markdown",
   "metadata": {
    "deletable": true,
    "editable": true
   },
   "source": [
    "### Reproject ET"
   ]
  },
  {
   "cell_type": "code",
   "execution_count": 13,
   "metadata": {
    "collapsed": false,
    "deletable": true,
    "editable": true,
    "scrolled": true
   },
   "outputs": [
    {
     "name": "stdout",
     "output_type": "stream",
     "text": [
      "created H:/GIS/MODIS//ET/\n",
      "Layer HDF4_EOS:EOS_GRID:\"H:/GIS/MODIS\\MOD16A2.A2000M01.h08v05.105.2013119165642.hdf\":MOD_Grid_MOD16A2:ET_1km reprojected\n",
      "All layer for dataset 'H:/GIS/MODIS\\MOD16A2.A2000M01.h08v05.105.2013119165642.hdf' reprojected\n",
      "Layer HDF4_EOS:EOS_GRID:\"H:/GIS/MODIS\\MOD16A2.A2000M01.h09v04.105.2013119175410.hdf\":MOD_Grid_MOD16A2:ET_1km reprojected\n",
      "All layer for dataset 'H:/GIS/MODIS\\MOD16A2.A2000M01.h09v04.105.2013119175410.hdf' reprojected\n",
      "Layer HDF4_EOS:EOS_GRID:\"H:/GIS/MODIS\\MOD16A2.A2000M01.h09v05.105.2013119182214.hdf\":MOD_Grid_MOD16A2:ET_1km reprojected\n",
      "All layer for dataset 'H:/GIS/MODIS\\MOD16A2.A2000M01.h09v05.105.2013119182214.hdf' reprojected\n",
      "Layer HDF4_EOS:EOS_GRID:\"H:/GIS/MODIS\\MOD16A2.A2000M02.h08v05.105.2013119165644.hdf\":MOD_Grid_MOD16A2:ET_1km reprojected\n",
      "All layer for dataset 'H:/GIS/MODIS\\MOD16A2.A2000M02.h08v05.105.2013119165644.hdf' reprojected\n",
      "Layer HDF4_EOS:EOS_GRID:\"H:/GIS/MODIS\\MOD16A2.A2000M02.h09v04.105.2013119175411.hdf\":MOD_Grid_MOD16A2:ET_1km reprojected\n",
      "All layer for dataset 'H:/GIS/MODIS\\MOD16A2.A2000M02.h09v04.105.2013119175411.hdf' reprojected\n",
      "Layer HDF4_EOS:EOS_GRID:\"H:/GIS/MODIS\\MOD16A2.A2000M02.h09v05.105.2013119182216.hdf\":MOD_Grid_MOD16A2:ET_1km reprojected\n",
      "All layer for dataset 'H:/GIS/MODIS\\MOD16A2.A2000M02.h09v05.105.2013119182216.hdf' reprojected\n",
      "Layer HDF4_EOS:EOS_GRID:\"H:/GIS/MODIS\\MOD16A2.A2000M03.h08v05.105.2013119165645.hdf\":MOD_Grid_MOD16A2:ET_1km reprojected\n",
      "All layer for dataset 'H:/GIS/MODIS\\MOD16A2.A2000M03.h08v05.105.2013119165645.hdf' reprojected\n",
      "Layer HDF4_EOS:EOS_GRID:\"H:/GIS/MODIS\\MOD16A2.A2000M03.h09v04.105.2013119175412.hdf\":MOD_Grid_MOD16A2:ET_1km reprojected\n",
      "All layer for dataset 'H:/GIS/MODIS\\MOD16A2.A2000M03.h09v04.105.2013119175412.hdf' reprojected\n",
      "Layer HDF4_EOS:EOS_GRID:\"H:/GIS/MODIS\\MOD16A2.A2000M03.h09v05.105.2013119182217.hdf\":MOD_Grid_MOD16A2:ET_1km reprojected\n",
      "All layer for dataset 'H:/GIS/MODIS\\MOD16A2.A2000M03.h09v05.105.2013119182217.hdf' reprojected\n",
      "Layer HDF4_EOS:EOS_GRID:\"H:/GIS/MODIS\\MOD16A2.A2000M04.h08v05.105.2013119165647.hdf\":MOD_Grid_MOD16A2:ET_1km reprojected\n",
      "All layer for dataset 'H:/GIS/MODIS\\MOD16A2.A2000M04.h08v05.105.2013119165647.hdf' reprojected\n",
      "Layer HDF4_EOS:EOS_GRID:\"H:/GIS/MODIS\\MOD16A2.A2000M04.h09v04.105.2013119175413.hdf\":MOD_Grid_MOD16A2:ET_1km reprojected\n",
      "All layer for dataset 'H:/GIS/MODIS\\MOD16A2.A2000M04.h09v04.105.2013119175413.hdf' reprojected\n",
      "Layer HDF4_EOS:EOS_GRID:\"H:/GIS/MODIS\\MOD16A2.A2000M04.h09v05.105.2013119182219.hdf\":MOD_Grid_MOD16A2:ET_1km reprojected\n",
      "All layer for dataset 'H:/GIS/MODIS\\MOD16A2.A2000M04.h09v05.105.2013119182219.hdf' reprojected\n",
      "Layer HDF4_EOS:EOS_GRID:\"H:/GIS/MODIS\\MOD16A2.A2000M05.h08v05.105.2013119165648.hdf\":MOD_Grid_MOD16A2:ET_1km reprojected\n",
      "All layer for dataset 'H:/GIS/MODIS\\MOD16A2.A2000M05.h08v05.105.2013119165648.hdf' reprojected\n",
      "Layer HDF4_EOS:EOS_GRID:\"H:/GIS/MODIS\\MOD16A2.A2000M05.h09v04.105.2013119175414.hdf\":MOD_Grid_MOD16A2:ET_1km reprojected\n",
      "All layer for dataset 'H:/GIS/MODIS\\MOD16A2.A2000M05.h09v04.105.2013119175414.hdf' reprojected\n",
      "Layer HDF4_EOS:EOS_GRID:\"H:/GIS/MODIS\\MOD16A2.A2000M05.h09v05.105.2013119182220.hdf\":MOD_Grid_MOD16A2:ET_1km reprojected\n",
      "All layer for dataset 'H:/GIS/MODIS\\MOD16A2.A2000M05.h09v05.105.2013119182220.hdf' reprojected\n",
      "Layer HDF4_EOS:EOS_GRID:\"H:/GIS/MODIS\\MOD16A2.A2000M06.h08v05.105.2013119165653.hdf\":MOD_Grid_MOD16A2:ET_1km reprojected\n",
      "All layer for dataset 'H:/GIS/MODIS\\MOD16A2.A2000M06.h08v05.105.2013119165653.hdf' reprojected\n",
      "Layer HDF4_EOS:EOS_GRID:\"H:/GIS/MODIS\\MOD16A2.A2000M06.h09v04.105.2013119175415.hdf\":MOD_Grid_MOD16A2:ET_1km reprojected\n",
      "All layer for dataset 'H:/GIS/MODIS\\MOD16A2.A2000M06.h09v04.105.2013119175415.hdf' reprojected\n",
      "Layer HDF4_EOS:EOS_GRID:\"H:/GIS/MODIS\\MOD16A2.A2000M06.h09v05.105.2013119182221.hdf\":MOD_Grid_MOD16A2:ET_1km reprojected\n",
      "All layer for dataset 'H:/GIS/MODIS\\MOD16A2.A2000M06.h09v05.105.2013119182221.hdf' reprojected\n",
      "Layer HDF4_EOS:EOS_GRID:\"H:/GIS/MODIS\\MOD16A2.A2000M07.h08v05.105.2013119165654.hdf\":MOD_Grid_MOD16A2:ET_1km reprojected\n",
      "All layer for dataset 'H:/GIS/MODIS\\MOD16A2.A2000M07.h08v05.105.2013119165654.hdf' reprojected\n",
      "Layer HDF4_EOS:EOS_GRID:\"H:/GIS/MODIS\\MOD16A2.A2000M07.h09v04.105.2013119175416.hdf\":MOD_Grid_MOD16A2:ET_1km reprojected\n",
      "All layer for dataset 'H:/GIS/MODIS\\MOD16A2.A2000M07.h09v04.105.2013119175416.hdf' reprojected\n",
      "Layer HDF4_EOS:EOS_GRID:\"H:/GIS/MODIS\\MOD16A2.A2000M07.h09v05.105.2013119182223.hdf\":MOD_Grid_MOD16A2:ET_1km reprojected\n",
      "All layer for dataset 'H:/GIS/MODIS\\MOD16A2.A2000M07.h09v05.105.2013119182223.hdf' reprojected\n",
      "Layer HDF4_EOS:EOS_GRID:\"H:/GIS/MODIS\\MOD16A2.A2000M08.h08v05.105.2013119165656.hdf\":MOD_Grid_MOD16A2:ET_1km reprojected\n",
      "All layer for dataset 'H:/GIS/MODIS\\MOD16A2.A2000M08.h08v05.105.2013119165656.hdf' reprojected\n",
      "Layer HDF4_EOS:EOS_GRID:\"H:/GIS/MODIS\\MOD16A2.A2000M08.h09v04.105.2013119175416.hdf\":MOD_Grid_MOD16A2:ET_1km reprojected\n",
      "All layer for dataset 'H:/GIS/MODIS\\MOD16A2.A2000M08.h09v04.105.2013119175416.hdf' reprojected\n",
      "Layer HDF4_EOS:EOS_GRID:\"H:/GIS/MODIS\\MOD16A2.A2000M08.h09v05.105.2013119182224.hdf\":MOD_Grid_MOD16A2:ET_1km reprojected\n",
      "All layer for dataset 'H:/GIS/MODIS\\MOD16A2.A2000M08.h09v05.105.2013119182224.hdf' reprojected\n",
      "Layer HDF4_EOS:EOS_GRID:\"H:/GIS/MODIS\\MOD16A2.A2000M09.h08v05.105.2013119165657.hdf\":MOD_Grid_MOD16A2:ET_1km reprojected\n",
      "All layer for dataset 'H:/GIS/MODIS\\MOD16A2.A2000M09.h08v05.105.2013119165657.hdf' reprojected\n",
      "Layer HDF4_EOS:EOS_GRID:\"H:/GIS/MODIS\\MOD16A2.A2000M09.h09v04.105.2013119175417.hdf\":MOD_Grid_MOD16A2:ET_1km reprojected\n",
      "All layer for dataset 'H:/GIS/MODIS\\MOD16A2.A2000M09.h09v04.105.2013119175417.hdf' reprojected\n",
      "Layer HDF4_EOS:EOS_GRID:\"H:/GIS/MODIS\\MOD16A2.A2000M09.h09v05.105.2013119182225.hdf\":MOD_Grid_MOD16A2:ET_1km reprojected\n",
      "All layer for dataset 'H:/GIS/MODIS\\MOD16A2.A2000M09.h09v05.105.2013119182225.hdf' reprojected\n",
      "Layer HDF4_EOS:EOS_GRID:\"H:/GIS/MODIS\\MOD16A2.A2000M10.h08v05.105.2013119165658.hdf\":MOD_Grid_MOD16A2:ET_1km reprojected\n",
      "All layer for dataset 'H:/GIS/MODIS\\MOD16A2.A2000M10.h08v05.105.2013119165658.hdf' reprojected\n",
      "Layer HDF4_EOS:EOS_GRID:\"H:/GIS/MODIS\\MOD16A2.A2000M10.h09v04.105.2013119175418.hdf\":MOD_Grid_MOD16A2:ET_1km reprojected\n",
      "All layer for dataset 'H:/GIS/MODIS\\MOD16A2.A2000M10.h09v04.105.2013119175418.hdf' reprojected\n",
      "Layer HDF4_EOS:EOS_GRID:\"H:/GIS/MODIS\\MOD16A2.A2000M10.h09v05.105.2013119182227.hdf\":MOD_Grid_MOD16A2:ET_1km reprojected\n",
      "All layer for dataset 'H:/GIS/MODIS\\MOD16A2.A2000M10.h09v05.105.2013119182227.hdf' reprojected\n",
      "Layer HDF4_EOS:EOS_GRID:\"H:/GIS/MODIS\\MOD16A2.A2000M11.h08v05.105.2013119165659.hdf\":MOD_Grid_MOD16A2:ET_1km reprojected\n",
      "All layer for dataset 'H:/GIS/MODIS\\MOD16A2.A2000M11.h08v05.105.2013119165659.hdf' reprojected\n",
      "Layer HDF4_EOS:EOS_GRID:\"H:/GIS/MODIS\\MOD16A2.A2000M11.h09v04.105.2013119175419.hdf\":MOD_Grid_MOD16A2:ET_1km reprojected\n",
      "All layer for dataset 'H:/GIS/MODIS\\MOD16A2.A2000M11.h09v04.105.2013119175419.hdf' reprojected\n",
      "Layer HDF4_EOS:EOS_GRID:\"H:/GIS/MODIS\\MOD16A2.A2000M11.h09v05.105.2013119182228.hdf\":MOD_Grid_MOD16A2:ET_1km reprojected\n",
      "All layer for dataset 'H:/GIS/MODIS\\MOD16A2.A2000M11.h09v05.105.2013119182228.hdf' reprojected\n",
      "Layer HDF4_EOS:EOS_GRID:\"H:/GIS/MODIS\\MOD16A2.A2000M12.h08v05.105.2013119165701.hdf\":MOD_Grid_MOD16A2:ET_1km reprojected\n",
      "All layer for dataset 'H:/GIS/MODIS\\MOD16A2.A2000M12.h08v05.105.2013119165701.hdf' reprojected\n",
      "Layer HDF4_EOS:EOS_GRID:\"H:/GIS/MODIS\\MOD16A2.A2000M12.h09v04.105.2013119175423.hdf\":MOD_Grid_MOD16A2:ET_1km reprojected\n",
      "All layer for dataset 'H:/GIS/MODIS\\MOD16A2.A2000M12.h09v04.105.2013119175423.hdf' reprojected\n",
      "Layer HDF4_EOS:EOS_GRID:\"H:/GIS/MODIS\\MOD16A2.A2000M12.h09v05.105.2013119182230.hdf\":MOD_Grid_MOD16A2:ET_1km reprojected\n",
      "All layer for dataset 'H:/GIS/MODIS\\MOD16A2.A2000M12.h09v05.105.2013119182230.hdf' reprojected\n",
      "Layer HDF4_EOS:EOS_GRID:\"H:/GIS/MODIS\\MOD16A2.A2001M01.h08v05.105.2013119164444.hdf\":MOD_Grid_MOD16A2:ET_1km reprojected\n",
      "All layer for dataset 'H:/GIS/MODIS\\MOD16A2.A2001M01.h08v05.105.2013119164444.hdf' reprojected\n",
      "Layer HDF4_EOS:EOS_GRID:\"H:/GIS/MODIS\\MOD16A2.A2001M01.h09v04.105.2013119174320.hdf\":MOD_Grid_MOD16A2:ET_1km reprojected\n",
      "All layer for dataset 'H:/GIS/MODIS\\MOD16A2.A2001M01.h09v04.105.2013119174320.hdf' reprojected\n",
      "Layer HDF4_EOS:EOS_GRID:\"H:/GIS/MODIS\\MOD16A2.A2001M01.h09v05.105.2013119181055.hdf\":MOD_Grid_MOD16A2:ET_1km reprojected\n",
      "All layer for dataset 'H:/GIS/MODIS\\MOD16A2.A2001M01.h09v05.105.2013119181055.hdf' reprojected\n",
      "Layer HDF4_EOS:EOS_GRID:\"H:/GIS/MODIS\\MOD16A2.A2001M02.h08v05.105.2013119164446.hdf\":MOD_Grid_MOD16A2:ET_1km reprojected\n",
      "All layer for dataset 'H:/GIS/MODIS\\MOD16A2.A2001M02.h08v05.105.2013119164446.hdf' reprojected\n",
      "Layer HDF4_EOS:EOS_GRID:\"H:/GIS/MODIS\\MOD16A2.A2001M02.h09v04.105.2013119174321.hdf\":MOD_Grid_MOD16A2:ET_1km reprojected\n",
      "All layer for dataset 'H:/GIS/MODIS\\MOD16A2.A2001M02.h09v04.105.2013119174321.hdf' reprojected\n",
      "Layer HDF4_EOS:EOS_GRID:\"H:/GIS/MODIS\\MOD16A2.A2001M02.h09v05.105.2013119181057.hdf\":MOD_Grid_MOD16A2:ET_1km reprojected\n",
      "All layer for dataset 'H:/GIS/MODIS\\MOD16A2.A2001M02.h09v05.105.2013119181057.hdf' reprojected\n",
      "Layer HDF4_EOS:EOS_GRID:\"H:/GIS/MODIS\\MOD16A2.A2001M03.h08v05.105.2013119164447.hdf\":MOD_Grid_MOD16A2:ET_1km reprojected\n",
      "All layer for dataset 'H:/GIS/MODIS\\MOD16A2.A2001M03.h08v05.105.2013119164447.hdf' reprojected\n",
      "Layer HDF4_EOS:EOS_GRID:\"H:/GIS/MODIS\\MOD16A2.A2001M03.h09v04.105.2013119174322.hdf\":MOD_Grid_MOD16A2:ET_1km reprojected\n",
      "All layer for dataset 'H:/GIS/MODIS\\MOD16A2.A2001M03.h09v04.105.2013119174322.hdf' reprojected\n",
      "Layer HDF4_EOS:EOS_GRID:\"H:/GIS/MODIS\\MOD16A2.A2001M03.h09v05.105.2013119181059.hdf\":MOD_Grid_MOD16A2:ET_1km reprojected\n",
      "All layer for dataset 'H:/GIS/MODIS\\MOD16A2.A2001M03.h09v05.105.2013119181059.hdf' reprojected\n",
      "Layer HDF4_EOS:EOS_GRID:\"H:/GIS/MODIS\\MOD16A2.A2001M04.h08v05.105.2013119164448.hdf\":MOD_Grid_MOD16A2:ET_1km reprojected\n",
      "All layer for dataset 'H:/GIS/MODIS\\MOD16A2.A2001M04.h08v05.105.2013119164448.hdf' reprojected\n",
      "Layer HDF4_EOS:EOS_GRID:\"H:/GIS/MODIS\\MOD16A2.A2001M04.h09v04.105.2013119174323.hdf\":MOD_Grid_MOD16A2:ET_1km reprojected\n",
      "All layer for dataset 'H:/GIS/MODIS\\MOD16A2.A2001M04.h09v04.105.2013119174323.hdf' reprojected\n",
      "Layer HDF4_EOS:EOS_GRID:\"H:/GIS/MODIS\\MOD16A2.A2001M04.h09v05.105.2013119181100.hdf\":MOD_Grid_MOD16A2:ET_1km reprojected\n",
      "All layer for dataset 'H:/GIS/MODIS\\MOD16A2.A2001M04.h09v05.105.2013119181100.hdf' reprojected\n",
      "Layer HDF4_EOS:EOS_GRID:\"H:/GIS/MODIS\\MOD16A2.A2001M05.h08v05.105.2013119164450.hdf\":MOD_Grid_MOD16A2:ET_1km reprojected\n",
      "All layer for dataset 'H:/GIS/MODIS\\MOD16A2.A2001M05.h08v05.105.2013119164450.hdf' reprojected\n",
      "Layer HDF4_EOS:EOS_GRID:\"H:/GIS/MODIS\\MOD16A2.A2001M05.h09v04.105.2013119174323.hdf\":MOD_Grid_MOD16A2:ET_1km reprojected\n",
      "All layer for dataset 'H:/GIS/MODIS\\MOD16A2.A2001M05.h09v04.105.2013119174323.hdf' reprojected\n",
      "Layer HDF4_EOS:EOS_GRID:\"H:/GIS/MODIS\\MOD16A2.A2001M05.h09v05.105.2013119181102.hdf\":MOD_Grid_MOD16A2:ET_1km reprojected\n",
      "All layer for dataset 'H:/GIS/MODIS\\MOD16A2.A2001M05.h09v05.105.2013119181102.hdf' reprojected\n",
      "Layer HDF4_EOS:EOS_GRID:\"H:/GIS/MODIS\\MOD16A2.A2001M06.h08v05.105.2013119164451.hdf\":MOD_Grid_MOD16A2:ET_1km reprojected\n",
      "All layer for dataset 'H:/GIS/MODIS\\MOD16A2.A2001M06.h08v05.105.2013119164451.hdf' reprojected\n",
      "Layer HDF4_EOS:EOS_GRID:\"H:/GIS/MODIS\\MOD16A2.A2001M06.h09v04.105.2013119174324.hdf\":MOD_Grid_MOD16A2:ET_1km reprojected\n",
      "All layer for dataset 'H:/GIS/MODIS\\MOD16A2.A2001M06.h09v04.105.2013119174324.hdf' reprojected\n",
      "Layer HDF4_EOS:EOS_GRID:\"H:/GIS/MODIS\\MOD16A2.A2001M06.h09v05.105.2013119181103.hdf\":MOD_Grid_MOD16A2:ET_1km reprojected\n",
      "All layer for dataset 'H:/GIS/MODIS\\MOD16A2.A2001M06.h09v05.105.2013119181103.hdf' reprojected\n",
      "Layer HDF4_EOS:EOS_GRID:\"H:/GIS/MODIS\\MOD16A2.A2001M07.h08v05.105.2013119164453.hdf\":MOD_Grid_MOD16A2:ET_1km reprojected\n",
      "All layer for dataset 'H:/GIS/MODIS\\MOD16A2.A2001M07.h08v05.105.2013119164453.hdf' reprojected\n",
      "Layer HDF4_EOS:EOS_GRID:\"H:/GIS/MODIS\\MOD16A2.A2001M07.h09v04.105.2013119174327.hdf\":MOD_Grid_MOD16A2:ET_1km reprojected\n",
      "All layer for dataset 'H:/GIS/MODIS\\MOD16A2.A2001M07.h09v04.105.2013119174327.hdf' reprojected\n",
      "Layer HDF4_EOS:EOS_GRID:\"H:/GIS/MODIS\\MOD16A2.A2001M07.h09v05.105.2013119181104.hdf\":MOD_Grid_MOD16A2:ET_1km reprojected\n",
      "All layer for dataset 'H:/GIS/MODIS\\MOD16A2.A2001M07.h09v05.105.2013119181104.hdf' reprojected\n",
      "Layer HDF4_EOS:EOS_GRID:\"H:/GIS/MODIS\\MOD16A2.A2001M08.h08v05.105.2013119164455.hdf\":MOD_Grid_MOD16A2:ET_1km reprojected\n",
      "All layer for dataset 'H:/GIS/MODIS\\MOD16A2.A2001M08.h08v05.105.2013119164455.hdf' reprojected\n",
      "Layer HDF4_EOS:EOS_GRID:\"H:/GIS/MODIS\\MOD16A2.A2001M08.h09v04.105.2013119174328.hdf\":MOD_Grid_MOD16A2:ET_1km reprojected\n",
      "All layer for dataset 'H:/GIS/MODIS\\MOD16A2.A2001M08.h09v04.105.2013119174328.hdf' reprojected\n",
      "Layer HDF4_EOS:EOS_GRID:\"H:/GIS/MODIS\\MOD16A2.A2001M08.h09v05.105.2013119181106.hdf\":MOD_Grid_MOD16A2:ET_1km reprojected\n",
      "All layer for dataset 'H:/GIS/MODIS\\MOD16A2.A2001M08.h09v05.105.2013119181106.hdf' reprojected\n",
      "Layer HDF4_EOS:EOS_GRID:\"H:/GIS/MODIS\\MOD16A2.A2001M09.h08v05.105.2013119164456.hdf\":MOD_Grid_MOD16A2:ET_1km reprojected\n",
      "All layer for dataset 'H:/GIS/MODIS\\MOD16A2.A2001M09.h08v05.105.2013119164456.hdf' reprojected\n",
      "Layer HDF4_EOS:EOS_GRID:\"H:/GIS/MODIS\\MOD16A2.A2001M09.h09v04.105.2013119174329.hdf\":MOD_Grid_MOD16A2:ET_1km reprojected\n",
      "All layer for dataset 'H:/GIS/MODIS\\MOD16A2.A2001M09.h09v04.105.2013119174329.hdf' reprojected\n",
      "Layer HDF4_EOS:EOS_GRID:\"H:/GIS/MODIS\\MOD16A2.A2001M09.h09v05.105.2013119181108.hdf\":MOD_Grid_MOD16A2:ET_1km reprojected\n",
      "All layer for dataset 'H:/GIS/MODIS\\MOD16A2.A2001M09.h09v05.105.2013119181108.hdf' reprojected\n",
      "Layer HDF4_EOS:EOS_GRID:\"H:/GIS/MODIS\\MOD16A2.A2001M10.h08v05.105.2013119164457.hdf\":MOD_Grid_MOD16A2:ET_1km reprojected\n",
      "All layer for dataset 'H:/GIS/MODIS\\MOD16A2.A2001M10.h08v05.105.2013119164457.hdf' reprojected\n",
      "Layer HDF4_EOS:EOS_GRID:\"H:/GIS/MODIS\\MOD16A2.A2001M10.h09v04.105.2013119174330.hdf\":MOD_Grid_MOD16A2:ET_1km reprojected\n",
      "All layer for dataset 'H:/GIS/MODIS\\MOD16A2.A2001M10.h09v04.105.2013119174330.hdf' reprojected\n",
      "Layer HDF4_EOS:EOS_GRID:\"H:/GIS/MODIS\\MOD16A2.A2001M10.h09v05.105.2013119181109.hdf\":MOD_Grid_MOD16A2:ET_1km reprojected\n",
      "All layer for dataset 'H:/GIS/MODIS\\MOD16A2.A2001M10.h09v05.105.2013119181109.hdf' reprojected\n",
      "Layer HDF4_EOS:EOS_GRID:\"H:/GIS/MODIS\\MOD16A2.A2001M11.h08v05.105.2013119164458.hdf\":MOD_Grid_MOD16A2:ET_1km reprojected\n",
      "All layer for dataset 'H:/GIS/MODIS\\MOD16A2.A2001M11.h08v05.105.2013119164458.hdf' reprojected\n",
      "Layer HDF4_EOS:EOS_GRID:\"H:/GIS/MODIS\\MOD16A2.A2001M11.h09v04.105.2013119174331.hdf\":MOD_Grid_MOD16A2:ET_1km reprojected\n",
      "All layer for dataset 'H:/GIS/MODIS\\MOD16A2.A2001M11.h09v04.105.2013119174331.hdf' reprojected\n",
      "Layer HDF4_EOS:EOS_GRID:\"H:/GIS/MODIS\\MOD16A2.A2001M11.h09v05.105.2013119181110.hdf\":MOD_Grid_MOD16A2:ET_1km reprojected\n",
      "All layer for dataset 'H:/GIS/MODIS\\MOD16A2.A2001M11.h09v05.105.2013119181110.hdf' reprojected\n",
      "Layer HDF4_EOS:EOS_GRID:\"H:/GIS/MODIS\\MOD16A2.A2001M12.h08v05.105.2013119164500.hdf\":MOD_Grid_MOD16A2:ET_1km reprojected\n",
      "All layer for dataset 'H:/GIS/MODIS\\MOD16A2.A2001M12.h08v05.105.2013119164500.hdf' reprojected\n",
      "Layer HDF4_EOS:EOS_GRID:\"H:/GIS/MODIS\\MOD16A2.A2001M12.h09v04.105.2013119174332.hdf\":MOD_Grid_MOD16A2:ET_1km reprojected\n",
      "All layer for dataset 'H:/GIS/MODIS\\MOD16A2.A2001M12.h09v04.105.2013119174332.hdf' reprojected\n",
      "Layer HDF4_EOS:EOS_GRID:\"H:/GIS/MODIS\\MOD16A2.A2001M12.h09v05.105.2013119181112.hdf\":MOD_Grid_MOD16A2:ET_1km reprojected\n",
      "All layer for dataset 'H:/GIS/MODIS\\MOD16A2.A2001M12.h09v05.105.2013119181112.hdf' reprojected\n",
      "Layer HDF4_EOS:EOS_GRID:\"H:/GIS/MODIS\\MOD16A2.A2002M01.h08v05.105.2013119164939.hdf\":MOD_Grid_MOD16A2:ET_1km reprojected\n",
      "All layer for dataset 'H:/GIS/MODIS\\MOD16A2.A2002M01.h08v05.105.2013119164939.hdf' reprojected\n",
      "Layer HDF4_EOS:EOS_GRID:\"H:/GIS/MODIS\\MOD16A2.A2002M01.h09v04.105.2013119174810.hdf\":MOD_Grid_MOD16A2:ET_1km reprojected\n",
      "All layer for dataset 'H:/GIS/MODIS\\MOD16A2.A2002M01.h09v04.105.2013119174810.hdf' reprojected\n",
      "Layer HDF4_EOS:EOS_GRID:\"H:/GIS/MODIS\\MOD16A2.A2002M01.h09v05.105.2013119181536.hdf\":MOD_Grid_MOD16A2:ET_1km reprojected\n",
      "All layer for dataset 'H:/GIS/MODIS\\MOD16A2.A2002M01.h09v05.105.2013119181536.hdf' reprojected\n",
      "Layer HDF4_EOS:EOS_GRID:\"H:/GIS/MODIS\\MOD16A2.A2002M02.h08v05.105.2013119164941.hdf\":MOD_Grid_MOD16A2:ET_1km reprojected\n",
      "All layer for dataset 'H:/GIS/MODIS\\MOD16A2.A2002M02.h08v05.105.2013119164941.hdf' reprojected\n",
      "Layer HDF4_EOS:EOS_GRID:\"H:/GIS/MODIS\\MOD16A2.A2002M02.h09v04.105.2013119174811.hdf\":MOD_Grid_MOD16A2:ET_1km reprojected\n",
      "All layer for dataset 'H:/GIS/MODIS\\MOD16A2.A2002M02.h09v04.105.2013119174811.hdf' reprojected\n",
      "Layer HDF4_EOS:EOS_GRID:\"H:/GIS/MODIS\\MOD16A2.A2002M02.h09v05.105.2013119181538.hdf\":MOD_Grid_MOD16A2:ET_1km reprojected\n",
      "All layer for dataset 'H:/GIS/MODIS\\MOD16A2.A2002M02.h09v05.105.2013119181538.hdf' reprojected\n",
      "Layer HDF4_EOS:EOS_GRID:\"H:/GIS/MODIS\\MOD16A2.A2002M03.h08v05.105.2013119164942.hdf\":MOD_Grid_MOD16A2:ET_1km reprojected\n",
      "All layer for dataset 'H:/GIS/MODIS\\MOD16A2.A2002M03.h08v05.105.2013119164942.hdf' reprojected\n",
      "Layer HDF4_EOS:EOS_GRID:\"H:/GIS/MODIS\\MOD16A2.A2002M03.h09v04.105.2013119174812.hdf\":MOD_Grid_MOD16A2:ET_1km reprojected\n",
      "All layer for dataset 'H:/GIS/MODIS\\MOD16A2.A2002M03.h09v04.105.2013119174812.hdf' reprojected\n",
      "Layer HDF4_EOS:EOS_GRID:\"H:/GIS/MODIS\\MOD16A2.A2002M03.h09v05.105.2013119181540.hdf\":MOD_Grid_MOD16A2:ET_1km reprojected\n",
      "All layer for dataset 'H:/GIS/MODIS\\MOD16A2.A2002M03.h09v05.105.2013119181540.hdf' reprojected\n",
      "Layer HDF4_EOS:EOS_GRID:\"H:/GIS/MODIS\\MOD16A2.A2002M04.h08v05.105.2013119164944.hdf\":MOD_Grid_MOD16A2:ET_1km reprojected\n",
      "All layer for dataset 'H:/GIS/MODIS\\MOD16A2.A2002M04.h08v05.105.2013119164944.hdf' reprojected\n",
      "Layer HDF4_EOS:EOS_GRID:\"H:/GIS/MODIS\\MOD16A2.A2002M04.h09v04.105.2013119174813.hdf\":MOD_Grid_MOD16A2:ET_1km reprojected\n",
      "All layer for dataset 'H:/GIS/MODIS\\MOD16A2.A2002M04.h09v04.105.2013119174813.hdf' reprojected\n",
      "Layer HDF4_EOS:EOS_GRID:\"H:/GIS/MODIS\\MOD16A2.A2002M04.h09v05.105.2013119181545.hdf\":MOD_Grid_MOD16A2:ET_1km reprojected\n",
      "All layer for dataset 'H:/GIS/MODIS\\MOD16A2.A2002M04.h09v05.105.2013119181545.hdf' reprojected\n",
      "Layer HDF4_EOS:EOS_GRID:\"H:/GIS/MODIS\\MOD16A2.A2002M05.h08v05.105.2013119164945.hdf\":MOD_Grid_MOD16A2:ET_1km reprojected\n",
      "All layer for dataset 'H:/GIS/MODIS\\MOD16A2.A2002M05.h08v05.105.2013119164945.hdf' reprojected\n",
      "Layer HDF4_EOS:EOS_GRID:\"H:/GIS/MODIS\\MOD16A2.A2002M05.h09v04.105.2013119174813.hdf\":MOD_Grid_MOD16A2:ET_1km reprojected\n",
      "All layer for dataset 'H:/GIS/MODIS\\MOD16A2.A2002M05.h09v04.105.2013119174813.hdf' reprojected\n",
      "Layer HDF4_EOS:EOS_GRID:\"H:/GIS/MODIS\\MOD16A2.A2002M05.h09v05.105.2013119181547.hdf\":MOD_Grid_MOD16A2:ET_1km reprojected\n",
      "All layer for dataset 'H:/GIS/MODIS\\MOD16A2.A2002M05.h09v05.105.2013119181547.hdf' reprojected\n",
      "Layer HDF4_EOS:EOS_GRID:\"H:/GIS/MODIS\\MOD16A2.A2002M06.h08v05.105.2013119164947.hdf\":MOD_Grid_MOD16A2:ET_1km reprojected\n",
      "All layer for dataset 'H:/GIS/MODIS\\MOD16A2.A2002M06.h08v05.105.2013119164947.hdf' reprojected\n",
      "Layer HDF4_EOS:EOS_GRID:\"H:/GIS/MODIS\\MOD16A2.A2002M06.h09v04.105.2013119174814.hdf\":MOD_Grid_MOD16A2:ET_1km reprojected\n",
      "All layer for dataset 'H:/GIS/MODIS\\MOD16A2.A2002M06.h09v04.105.2013119174814.hdf' reprojected\n",
      "Layer HDF4_EOS:EOS_GRID:\"H:/GIS/MODIS\\MOD16A2.A2002M06.h09v05.105.2013119181548.hdf\":MOD_Grid_MOD16A2:ET_1km reprojected\n",
      "All layer for dataset 'H:/GIS/MODIS\\MOD16A2.A2002M06.h09v05.105.2013119181548.hdf' reprojected\n",
      "Layer HDF4_EOS:EOS_GRID:\"H:/GIS/MODIS\\MOD16A2.A2002M07.h08v05.105.2013119164949.hdf\":MOD_Grid_MOD16A2:ET_1km reprojected\n",
      "All layer for dataset 'H:/GIS/MODIS\\MOD16A2.A2002M07.h08v05.105.2013119164949.hdf' reprojected\n",
      "Layer HDF4_EOS:EOS_GRID:\"H:/GIS/MODIS\\MOD16A2.A2002M07.h09v04.105.2013119174815.hdf\":MOD_Grid_MOD16A2:ET_1km reprojected\n",
      "All layer for dataset 'H:/GIS/MODIS\\MOD16A2.A2002M07.h09v04.105.2013119174815.hdf' reprojected\n",
      "Layer HDF4_EOS:EOS_GRID:\"H:/GIS/MODIS\\MOD16A2.A2002M07.h09v05.105.2013119181550.hdf\":MOD_Grid_MOD16A2:ET_1km reprojected\n",
      "All layer for dataset 'H:/GIS/MODIS\\MOD16A2.A2002M07.h09v05.105.2013119181550.hdf' reprojected\n",
      "Layer HDF4_EOS:EOS_GRID:\"H:/GIS/MODIS\\MOD16A2.A2002M08.h08v05.105.2013119164950.hdf\":MOD_Grid_MOD16A2:ET_1km reprojected\n",
      "All layer for dataset 'H:/GIS/MODIS\\MOD16A2.A2002M08.h08v05.105.2013119164950.hdf' reprojected\n",
      "Layer HDF4_EOS:EOS_GRID:\"H:/GIS/MODIS\\MOD16A2.A2002M08.h09v04.105.2013119174816.hdf\":MOD_Grid_MOD16A2:ET_1km reprojected\n",
      "All layer for dataset 'H:/GIS/MODIS\\MOD16A2.A2002M08.h09v04.105.2013119174816.hdf' reprojected\n",
      "Layer HDF4_EOS:EOS_GRID:\"H:/GIS/MODIS\\MOD16A2.A2002M08.h09v05.105.2013119181551.hdf\":MOD_Grid_MOD16A2:ET_1km reprojected\n",
      "All layer for dataset 'H:/GIS/MODIS\\MOD16A2.A2002M08.h09v05.105.2013119181551.hdf' reprojected\n",
      "Layer HDF4_EOS:EOS_GRID:\"H:/GIS/MODIS\\MOD16A2.A2002M09.h08v05.105.2013119164952.hdf\":MOD_Grid_MOD16A2:ET_1km reprojected\n",
      "All layer for dataset 'H:/GIS/MODIS\\MOD16A2.A2002M09.h08v05.105.2013119164952.hdf' reprojected\n",
      "Layer HDF4_EOS:EOS_GRID:\"H:/GIS/MODIS\\MOD16A2.A2002M09.h09v04.105.2013119174817.hdf\":MOD_Grid_MOD16A2:ET_1km reprojected\n",
      "All layer for dataset 'H:/GIS/MODIS\\MOD16A2.A2002M09.h09v04.105.2013119174817.hdf' reprojected\n",
      "Layer HDF4_EOS:EOS_GRID:\"H:/GIS/MODIS\\MOD16A2.A2002M09.h09v05.105.2013119181552.hdf\":MOD_Grid_MOD16A2:ET_1km reprojected\n",
      "All layer for dataset 'H:/GIS/MODIS\\MOD16A2.A2002M09.h09v05.105.2013119181552.hdf' reprojected\n",
      "Layer HDF4_EOS:EOS_GRID:\"H:/GIS/MODIS\\MOD16A2.A2002M10.h08v05.105.2013119164953.hdf\":MOD_Grid_MOD16A2:ET_1km reprojected\n",
      "All layer for dataset 'H:/GIS/MODIS\\MOD16A2.A2002M10.h08v05.105.2013119164953.hdf' reprojected\n",
      "Layer HDF4_EOS:EOS_GRID:\"H:/GIS/MODIS\\MOD16A2.A2002M10.h09v04.105.2013119174818.hdf\":MOD_Grid_MOD16A2:ET_1km reprojected\n",
      "All layer for dataset 'H:/GIS/MODIS\\MOD16A2.A2002M10.h09v04.105.2013119174818.hdf' reprojected\n",
      "Layer HDF4_EOS:EOS_GRID:\"H:/GIS/MODIS\\MOD16A2.A2002M10.h09v05.105.2013119181553.hdf\":MOD_Grid_MOD16A2:ET_1km reprojected\n",
      "All layer for dataset 'H:/GIS/MODIS\\MOD16A2.A2002M10.h09v05.105.2013119181553.hdf' reprojected\n",
      "Layer HDF4_EOS:EOS_GRID:\"H:/GIS/MODIS\\MOD16A2.A2002M11.h08v05.105.2013119165000.hdf\":MOD_Grid_MOD16A2:ET_1km reprojected\n",
      "All layer for dataset 'H:/GIS/MODIS\\MOD16A2.A2002M11.h08v05.105.2013119165000.hdf' reprojected\n",
      "Layer HDF4_EOS:EOS_GRID:\"H:/GIS/MODIS\\MOD16A2.A2002M11.h09v04.105.2013119174819.hdf\":MOD_Grid_MOD16A2:ET_1km reprojected\n",
      "All layer for dataset 'H:/GIS/MODIS\\MOD16A2.A2002M11.h09v04.105.2013119174819.hdf' reprojected\n",
      "Layer HDF4_EOS:EOS_GRID:\"H:/GIS/MODIS\\MOD16A2.A2002M11.h09v05.105.2013119181555.hdf\":MOD_Grid_MOD16A2:ET_1km reprojected\n",
      "All layer for dataset 'H:/GIS/MODIS\\MOD16A2.A2002M11.h09v05.105.2013119181555.hdf' reprojected\n",
      "Layer HDF4_EOS:EOS_GRID:\"H:/GIS/MODIS\\MOD16A2.A2002M12.h08v05.105.2013119165002.hdf\":MOD_Grid_MOD16A2:ET_1km reprojected\n",
      "All layer for dataset 'H:/GIS/MODIS\\MOD16A2.A2002M12.h08v05.105.2013119165002.hdf' reprojected\n",
      "Layer HDF4_EOS:EOS_GRID:\"H:/GIS/MODIS\\MOD16A2.A2002M12.h09v04.105.2013119174820.hdf\":MOD_Grid_MOD16A2:ET_1km reprojected\n",
      "All layer for dataset 'H:/GIS/MODIS\\MOD16A2.A2002M12.h09v04.105.2013119174820.hdf' reprojected\n",
      "Layer HDF4_EOS:EOS_GRID:\"H:/GIS/MODIS\\MOD16A2.A2002M12.h09v05.105.2013119181557.hdf\":MOD_Grid_MOD16A2:ET_1km reprojected\n",
      "All layer for dataset 'H:/GIS/MODIS\\MOD16A2.A2002M12.h09v05.105.2013119181557.hdf' reprojected\n",
      "Layer HDF4_EOS:EOS_GRID:\"H:/GIS/MODIS\\MOD16A2.A2003M01.h08v05.105.2013119164302.hdf\":MOD_Grid_MOD16A2:ET_1km reprojected\n",
      "All layer for dataset 'H:/GIS/MODIS\\MOD16A2.A2003M01.h08v05.105.2013119164302.hdf' reprojected\n",
      "Layer HDF4_EOS:EOS_GRID:\"H:/GIS/MODIS\\MOD16A2.A2003M01.h09v04.105.2013119174132.hdf\":MOD_Grid_MOD16A2:ET_1km reprojected\n",
      "All layer for dataset 'H:/GIS/MODIS\\MOD16A2.A2003M01.h09v04.105.2013119174132.hdf' reprojected\n",
      "Layer HDF4_EOS:EOS_GRID:\"H:/GIS/MODIS\\MOD16A2.A2003M01.h09v05.105.2013119180903.hdf\":MOD_Grid_MOD16A2:ET_1km reprojected\n",
      "All layer for dataset 'H:/GIS/MODIS\\MOD16A2.A2003M01.h09v05.105.2013119180903.hdf' reprojected\n",
      "Layer HDF4_EOS:EOS_GRID:\"H:/GIS/MODIS\\MOD16A2.A2003M02.h08v05.105.2013119164304.hdf\":MOD_Grid_MOD16A2:ET_1km reprojected\n",
      "All layer for dataset 'H:/GIS/MODIS\\MOD16A2.A2003M02.h08v05.105.2013119164304.hdf' reprojected\n",
      "Layer HDF4_EOS:EOS_GRID:\"H:/GIS/MODIS\\MOD16A2.A2003M02.h09v04.105.2013119174134.hdf\":MOD_Grid_MOD16A2:ET_1km reprojected\n",
      "All layer for dataset 'H:/GIS/MODIS\\MOD16A2.A2003M02.h09v04.105.2013119174134.hdf' reprojected\n",
      "Layer HDF4_EOS:EOS_GRID:\"H:/GIS/MODIS\\MOD16A2.A2003M02.h09v05.105.2013119180904.hdf\":MOD_Grid_MOD16A2:ET_1km reprojected\n",
      "All layer for dataset 'H:/GIS/MODIS\\MOD16A2.A2003M02.h09v05.105.2013119180904.hdf' reprojected\n",
      "Layer HDF4_EOS:EOS_GRID:\"H:/GIS/MODIS\\MOD16A2.A2003M03.h08v05.105.2013119164305.hdf\":MOD_Grid_MOD16A2:ET_1km reprojected\n",
      "All layer for dataset 'H:/GIS/MODIS\\MOD16A2.A2003M03.h08v05.105.2013119164305.hdf' reprojected\n",
      "Layer HDF4_EOS:EOS_GRID:\"H:/GIS/MODIS\\MOD16A2.A2003M03.h09v04.105.2013119174135.hdf\":MOD_Grid_MOD16A2:ET_1km reprojected\n",
      "All layer for dataset 'H:/GIS/MODIS\\MOD16A2.A2003M03.h09v04.105.2013119174135.hdf' reprojected\n",
      "Layer HDF4_EOS:EOS_GRID:\"H:/GIS/MODIS\\MOD16A2.A2003M03.h09v05.105.2013119180906.hdf\":MOD_Grid_MOD16A2:ET_1km reprojected\n",
      "All layer for dataset 'H:/GIS/MODIS\\MOD16A2.A2003M03.h09v05.105.2013119180906.hdf' reprojected\n",
      "Layer HDF4_EOS:EOS_GRID:\"H:/GIS/MODIS\\MOD16A2.A2003M04.h08v05.105.2013119164306.hdf\":MOD_Grid_MOD16A2:ET_1km reprojected\n",
      "All layer for dataset 'H:/GIS/MODIS\\MOD16A2.A2003M04.h08v05.105.2013119164306.hdf' reprojected\n",
      "Layer HDF4_EOS:EOS_GRID:\"H:/GIS/MODIS\\MOD16A2.A2003M04.h09v04.105.2013119174135.hdf\":MOD_Grid_MOD16A2:ET_1km reprojected\n",
      "All layer for dataset 'H:/GIS/MODIS\\MOD16A2.A2003M04.h09v04.105.2013119174135.hdf' reprojected\n",
      "Layer HDF4_EOS:EOS_GRID:\"H:/GIS/MODIS\\MOD16A2.A2003M04.h09v05.105.2013119180907.hdf\":MOD_Grid_MOD16A2:ET_1km reprojected\n",
      "All layer for dataset 'H:/GIS/MODIS\\MOD16A2.A2003M04.h09v05.105.2013119180907.hdf' reprojected\n",
      "Layer HDF4_EOS:EOS_GRID:\"H:/GIS/MODIS\\MOD16A2.A2003M05.h08v05.105.2013119164307.hdf\":MOD_Grid_MOD16A2:ET_1km reprojected\n",
      "All layer for dataset 'H:/GIS/MODIS\\MOD16A2.A2003M05.h08v05.105.2013119164307.hdf' reprojected\n",
      "Layer HDF4_EOS:EOS_GRID:\"H:/GIS/MODIS\\MOD16A2.A2003M05.h09v04.105.2013119174136.hdf\":MOD_Grid_MOD16A2:ET_1km reprojected\n",
      "All layer for dataset 'H:/GIS/MODIS\\MOD16A2.A2003M05.h09v04.105.2013119174136.hdf' reprojected\n",
      "Layer HDF4_EOS:EOS_GRID:\"H:/GIS/MODIS\\MOD16A2.A2003M05.h09v05.105.2013119180908.hdf\":MOD_Grid_MOD16A2:ET_1km reprojected\n",
      "All layer for dataset 'H:/GIS/MODIS\\MOD16A2.A2003M05.h09v05.105.2013119180908.hdf' reprojected\n",
      "Layer HDF4_EOS:EOS_GRID:\"H:/GIS/MODIS\\MOD16A2.A2003M06.h08v05.105.2013119164309.hdf\":MOD_Grid_MOD16A2:ET_1km reprojected\n",
      "All layer for dataset 'H:/GIS/MODIS\\MOD16A2.A2003M06.h08v05.105.2013119164309.hdf' reprojected\n",
      "Layer HDF4_EOS:EOS_GRID:\"H:/GIS/MODIS\\MOD16A2.A2003M06.h09v04.105.2013119174137.hdf\":MOD_Grid_MOD16A2:ET_1km reprojected\n",
      "All layer for dataset 'H:/GIS/MODIS\\MOD16A2.A2003M06.h09v04.105.2013119174137.hdf' reprojected\n",
      "Layer HDF4_EOS:EOS_GRID:\"H:/GIS/MODIS\\MOD16A2.A2003M06.h09v05.105.2013119180910.hdf\":MOD_Grid_MOD16A2:ET_1km reprojected\n",
      "All layer for dataset 'H:/GIS/MODIS\\MOD16A2.A2003M06.h09v05.105.2013119180910.hdf' reprojected\n",
      "Layer HDF4_EOS:EOS_GRID:\"H:/GIS/MODIS\\MOD16A2.A2003M07.h08v05.105.2013119164310.hdf\":MOD_Grid_MOD16A2:ET_1km reprojected\n",
      "All layer for dataset 'H:/GIS/MODIS\\MOD16A2.A2003M07.h08v05.105.2013119164310.hdf' reprojected\n",
      "Layer HDF4_EOS:EOS_GRID:\"H:/GIS/MODIS\\MOD16A2.A2003M07.h09v04.105.2013119174138.hdf\":MOD_Grid_MOD16A2:ET_1km reprojected\n",
      "All layer for dataset 'H:/GIS/MODIS\\MOD16A2.A2003M07.h09v04.105.2013119174138.hdf' reprojected\n",
      "Layer HDF4_EOS:EOS_GRID:\"H:/GIS/MODIS\\MOD16A2.A2003M07.h09v05.105.2013119180911.hdf\":MOD_Grid_MOD16A2:ET_1km reprojected\n",
      "All layer for dataset 'H:/GIS/MODIS\\MOD16A2.A2003M07.h09v05.105.2013119180911.hdf' reprojected\n",
      "Layer HDF4_EOS:EOS_GRID:\"H:/GIS/MODIS\\MOD16A2.A2003M08.h08v05.105.2013119164312.hdf\":MOD_Grid_MOD16A2:ET_1km reprojected\n",
      "All layer for dataset 'H:/GIS/MODIS\\MOD16A2.A2003M08.h08v05.105.2013119164312.hdf' reprojected\n",
      "Layer HDF4_EOS:EOS_GRID:\"H:/GIS/MODIS\\MOD16A2.A2003M08.h09v04.105.2013119174139.hdf\":MOD_Grid_MOD16A2:ET_1km reprojected\n",
      "All layer for dataset 'H:/GIS/MODIS\\MOD16A2.A2003M08.h09v04.105.2013119174139.hdf' reprojected\n",
      "Layer HDF4_EOS:EOS_GRID:\"H:/GIS/MODIS\\MOD16A2.A2003M08.h09v05.105.2013119180912.hdf\":MOD_Grid_MOD16A2:ET_1km reprojected\n",
      "All layer for dataset 'H:/GIS/MODIS\\MOD16A2.A2003M08.h09v05.105.2013119180912.hdf' reprojected\n",
      "Layer HDF4_EOS:EOS_GRID:\"H:/GIS/MODIS\\MOD16A2.A2003M09.h08v05.105.2013119164313.hdf\":MOD_Grid_MOD16A2:ET_1km reprojected\n",
      "All layer for dataset 'H:/GIS/MODIS\\MOD16A2.A2003M09.h08v05.105.2013119164313.hdf' reprojected\n",
      "Layer HDF4_EOS:EOS_GRID:\"H:/GIS/MODIS\\MOD16A2.A2003M09.h09v04.105.2013119174140.hdf\":MOD_Grid_MOD16A2:ET_1km reprojected\n",
      "All layer for dataset 'H:/GIS/MODIS\\MOD16A2.A2003M09.h09v04.105.2013119174140.hdf' reprojected\n",
      "Layer HDF4_EOS:EOS_GRID:\"H:/GIS/MODIS\\MOD16A2.A2003M09.h09v05.105.2013119180918.hdf\":MOD_Grid_MOD16A2:ET_1km reprojected\n",
      "All layer for dataset 'H:/GIS/MODIS\\MOD16A2.A2003M09.h09v05.105.2013119180918.hdf' reprojected\n",
      "Layer HDF4_EOS:EOS_GRID:\"H:/GIS/MODIS\\MOD16A2.A2003M10.h08v05.105.2013119164314.hdf\":MOD_Grid_MOD16A2:ET_1km reprojected\n",
      "All layer for dataset 'H:/GIS/MODIS\\MOD16A2.A2003M10.h08v05.105.2013119164314.hdf' reprojected\n",
      "Layer HDF4_EOS:EOS_GRID:\"H:/GIS/MODIS\\MOD16A2.A2003M10.h09v04.105.2013119174141.hdf\":MOD_Grid_MOD16A2:ET_1km reprojected\n",
      "All layer for dataset 'H:/GIS/MODIS\\MOD16A2.A2003M10.h09v04.105.2013119174141.hdf' reprojected\n",
      "Layer HDF4_EOS:EOS_GRID:\"H:/GIS/MODIS\\MOD16A2.A2003M10.h09v05.105.2013119180920.hdf\":MOD_Grid_MOD16A2:ET_1km reprojected\n",
      "All layer for dataset 'H:/GIS/MODIS\\MOD16A2.A2003M10.h09v05.105.2013119180920.hdf' reprojected\n",
      "Layer HDF4_EOS:EOS_GRID:\"H:/GIS/MODIS\\MOD16A2.A2003M11.h08v05.105.2013119164315.hdf\":MOD_Grid_MOD16A2:ET_1km reprojected\n",
      "All layer for dataset 'H:/GIS/MODIS\\MOD16A2.A2003M11.h08v05.105.2013119164315.hdf' reprojected\n",
      "Layer HDF4_EOS:EOS_GRID:\"H:/GIS/MODIS\\MOD16A2.A2003M11.h09v04.105.2013119174142.hdf\":MOD_Grid_MOD16A2:ET_1km reprojected\n",
      "All layer for dataset 'H:/GIS/MODIS\\MOD16A2.A2003M11.h09v04.105.2013119174142.hdf' reprojected\n",
      "Layer HDF4_EOS:EOS_GRID:\"H:/GIS/MODIS\\MOD16A2.A2003M11.h09v05.105.2013119180921.hdf\":MOD_Grid_MOD16A2:ET_1km reprojected\n",
      "All layer for dataset 'H:/GIS/MODIS\\MOD16A2.A2003M11.h09v05.105.2013119180921.hdf' reprojected\n",
      "Layer HDF4_EOS:EOS_GRID:\"H:/GIS/MODIS\\MOD16A2.A2003M12.h08v05.105.2013119164317.hdf\":MOD_Grid_MOD16A2:ET_1km reprojected\n",
      "All layer for dataset 'H:/GIS/MODIS\\MOD16A2.A2003M12.h08v05.105.2013119164317.hdf' reprojected\n",
      "Layer HDF4_EOS:EOS_GRID:\"H:/GIS/MODIS\\MOD16A2.A2003M12.h09v04.105.2013119174144.hdf\":MOD_Grid_MOD16A2:ET_1km reprojected\n",
      "All layer for dataset 'H:/GIS/MODIS\\MOD16A2.A2003M12.h09v04.105.2013119174144.hdf' reprojected\n",
      "Layer HDF4_EOS:EOS_GRID:\"H:/GIS/MODIS\\MOD16A2.A2003M12.h09v05.105.2013119180922.hdf\":MOD_Grid_MOD16A2:ET_1km reprojected\n",
      "All layer for dataset 'H:/GIS/MODIS\\MOD16A2.A2003M12.h09v05.105.2013119180922.hdf' reprojected\n",
      "Layer HDF4_EOS:EOS_GRID:\"H:/GIS/MODIS\\MOD16A2.A2004M01.h08v05.105.2013119163137.hdf\":MOD_Grid_MOD16A2:ET_1km reprojected\n",
      "All layer for dataset 'H:/GIS/MODIS\\MOD16A2.A2004M01.h08v05.105.2013119163137.hdf' reprojected\n",
      "Layer HDF4_EOS:EOS_GRID:\"H:/GIS/MODIS\\MOD16A2.A2004M01.h09v04.105.2013119173331.hdf\":MOD_Grid_MOD16A2:ET_1km reprojected\n",
      "All layer for dataset 'H:/GIS/MODIS\\MOD16A2.A2004M01.h09v04.105.2013119173331.hdf' reprojected\n",
      "Layer HDF4_EOS:EOS_GRID:\"H:/GIS/MODIS\\MOD16A2.A2004M01.h09v05.105.2013119180124.hdf\":MOD_Grid_MOD16A2:ET_1km reprojected\n",
      "All layer for dataset 'H:/GIS/MODIS\\MOD16A2.A2004M01.h09v05.105.2013119180124.hdf' reprojected\n",
      "Layer HDF4_EOS:EOS_GRID:\"H:/GIS/MODIS\\MOD16A2.A2004M02.h08v05.105.2013119163139.hdf\":MOD_Grid_MOD16A2:ET_1km reprojected\n",
      "All layer for dataset 'H:/GIS/MODIS\\MOD16A2.A2004M02.h08v05.105.2013119163139.hdf' reprojected\n",
      "Layer HDF4_EOS:EOS_GRID:\"H:/GIS/MODIS\\MOD16A2.A2004M02.h09v04.105.2013119173332.hdf\":MOD_Grid_MOD16A2:ET_1km reprojected\n",
      "All layer for dataset 'H:/GIS/MODIS\\MOD16A2.A2004M02.h09v04.105.2013119173332.hdf' reprojected\n",
      "Layer HDF4_EOS:EOS_GRID:\"H:/GIS/MODIS\\MOD16A2.A2004M02.h09v05.105.2013119180128.hdf\":MOD_Grid_MOD16A2:ET_1km reprojected\n",
      "All layer for dataset 'H:/GIS/MODIS\\MOD16A2.A2004M02.h09v05.105.2013119180128.hdf' reprojected\n",
      "Layer HDF4_EOS:EOS_GRID:\"H:/GIS/MODIS\\MOD16A2.A2004M03.h08v05.105.2013119163140.hdf\":MOD_Grid_MOD16A2:ET_1km reprojected\n",
      "All layer for dataset 'H:/GIS/MODIS\\MOD16A2.A2004M03.h08v05.105.2013119163140.hdf' reprojected\n",
      "Layer HDF4_EOS:EOS_GRID:\"H:/GIS/MODIS\\MOD16A2.A2004M03.h09v04.105.2013119173333.hdf\":MOD_Grid_MOD16A2:ET_1km reprojected\n",
      "All layer for dataset 'H:/GIS/MODIS\\MOD16A2.A2004M03.h09v04.105.2013119173333.hdf' reprojected\n",
      "Layer HDF4_EOS:EOS_GRID:\"H:/GIS/MODIS\\MOD16A2.A2004M03.h09v05.105.2013119180130.hdf\":MOD_Grid_MOD16A2:ET_1km reprojected\n",
      "All layer for dataset 'H:/GIS/MODIS\\MOD16A2.A2004M03.h09v05.105.2013119180130.hdf' reprojected\n",
      "Layer HDF4_EOS:EOS_GRID:\"H:/GIS/MODIS\\MOD16A2.A2004M04.h08v05.105.2013119163141.hdf\":MOD_Grid_MOD16A2:ET_1km reprojected\n",
      "All layer for dataset 'H:/GIS/MODIS\\MOD16A2.A2004M04.h08v05.105.2013119163141.hdf' reprojected\n",
      "Layer HDF4_EOS:EOS_GRID:\"H:/GIS/MODIS\\MOD16A2.A2004M04.h09v04.105.2013119173334.hdf\":MOD_Grid_MOD16A2:ET_1km reprojected\n",
      "All layer for dataset 'H:/GIS/MODIS\\MOD16A2.A2004M04.h09v04.105.2013119173334.hdf' reprojected\n",
      "Layer HDF4_EOS:EOS_GRID:\"H:/GIS/MODIS\\MOD16A2.A2004M04.h09v05.105.2013119180131.hdf\":MOD_Grid_MOD16A2:ET_1km reprojected\n",
      "All layer for dataset 'H:/GIS/MODIS\\MOD16A2.A2004M04.h09v05.105.2013119180131.hdf' reprojected\n",
      "Layer HDF4_EOS:EOS_GRID:\"H:/GIS/MODIS\\MOD16A2.A2004M05.h08v05.105.2013119163143.hdf\":MOD_Grid_MOD16A2:ET_1km reprojected\n",
      "All layer for dataset 'H:/GIS/MODIS\\MOD16A2.A2004M05.h08v05.105.2013119163143.hdf' reprojected\n",
      "Layer HDF4_EOS:EOS_GRID:\"H:/GIS/MODIS\\MOD16A2.A2004M05.h09v04.105.2013119173336.hdf\":MOD_Grid_MOD16A2:ET_1km reprojected\n",
      "All layer for dataset 'H:/GIS/MODIS\\MOD16A2.A2004M05.h09v04.105.2013119173336.hdf' reprojected\n",
      "Layer HDF4_EOS:EOS_GRID:\"H:/GIS/MODIS\\MOD16A2.A2004M05.h09v05.105.2013119180132.hdf\":MOD_Grid_MOD16A2:ET_1km reprojected\n",
      "All layer for dataset 'H:/GIS/MODIS\\MOD16A2.A2004M05.h09v05.105.2013119180132.hdf' reprojected\n",
      "Layer HDF4_EOS:EOS_GRID:\"H:/GIS/MODIS\\MOD16A2.A2004M06.h08v05.105.2013119163144.hdf\":MOD_Grid_MOD16A2:ET_1km reprojected\n",
      "All layer for dataset 'H:/GIS/MODIS\\MOD16A2.A2004M06.h08v05.105.2013119163144.hdf' reprojected\n",
      "Layer HDF4_EOS:EOS_GRID:\"H:/GIS/MODIS\\MOD16A2.A2004M06.h09v04.105.2013119173337.hdf\":MOD_Grid_MOD16A2:ET_1km reprojected\n",
      "All layer for dataset 'H:/GIS/MODIS\\MOD16A2.A2004M06.h09v04.105.2013119173337.hdf' reprojected\n",
      "Layer HDF4_EOS:EOS_GRID:\"H:/GIS/MODIS\\MOD16A2.A2004M06.h09v05.105.2013119180134.hdf\":MOD_Grid_MOD16A2:ET_1km reprojected\n",
      "All layer for dataset 'H:/GIS/MODIS\\MOD16A2.A2004M06.h09v05.105.2013119180134.hdf' reprojected\n",
      "Layer HDF4_EOS:EOS_GRID:\"H:/GIS/MODIS\\MOD16A2.A2004M07.h08v05.105.2013119163146.hdf\":MOD_Grid_MOD16A2:ET_1km reprojected\n",
      "All layer for dataset 'H:/GIS/MODIS\\MOD16A2.A2004M07.h08v05.105.2013119163146.hdf' reprojected\n",
      "Layer HDF4_EOS:EOS_GRID:\"H:/GIS/MODIS\\MOD16A2.A2004M07.h09v04.105.2013119173337.hdf\":MOD_Grid_MOD16A2:ET_1km reprojected\n",
      "All layer for dataset 'H:/GIS/MODIS\\MOD16A2.A2004M07.h09v04.105.2013119173337.hdf' reprojected\n",
      "Layer HDF4_EOS:EOS_GRID:\"H:/GIS/MODIS\\MOD16A2.A2004M07.h09v05.105.2013119180135.hdf\":MOD_Grid_MOD16A2:ET_1km reprojected\n",
      "All layer for dataset 'H:/GIS/MODIS\\MOD16A2.A2004M07.h09v05.105.2013119180135.hdf' reprojected\n",
      "Layer HDF4_EOS:EOS_GRID:\"H:/GIS/MODIS\\MOD16A2.A2004M08.h08v05.105.2013119163147.hdf\":MOD_Grid_MOD16A2:ET_1km reprojected\n",
      "All layer for dataset 'H:/GIS/MODIS\\MOD16A2.A2004M08.h08v05.105.2013119163147.hdf' reprojected\n",
      "Layer HDF4_EOS:EOS_GRID:\"H:/GIS/MODIS\\MOD16A2.A2004M08.h09v04.105.2013119173338.hdf\":MOD_Grid_MOD16A2:ET_1km reprojected\n",
      "All layer for dataset 'H:/GIS/MODIS\\MOD16A2.A2004M08.h09v04.105.2013119173338.hdf' reprojected\n",
      "Layer HDF4_EOS:EOS_GRID:\"H:/GIS/MODIS\\MOD16A2.A2004M08.h09v05.105.2013119180136.hdf\":MOD_Grid_MOD16A2:ET_1km reprojected\n",
      "All layer for dataset 'H:/GIS/MODIS\\MOD16A2.A2004M08.h09v05.105.2013119180136.hdf' reprojected\n",
      "Layer HDF4_EOS:EOS_GRID:\"H:/GIS/MODIS\\MOD16A2.A2004M09.h08v05.105.2013119163149.hdf\":MOD_Grid_MOD16A2:ET_1km reprojected\n",
      "All layer for dataset 'H:/GIS/MODIS\\MOD16A2.A2004M09.h08v05.105.2013119163149.hdf' reprojected\n",
      "Layer HDF4_EOS:EOS_GRID:\"H:/GIS/MODIS\\MOD16A2.A2004M09.h09v04.105.2013119173339.hdf\":MOD_Grid_MOD16A2:ET_1km reprojected\n",
      "All layer for dataset 'H:/GIS/MODIS\\MOD16A2.A2004M09.h09v04.105.2013119173339.hdf' reprojected\n",
      "Layer HDF4_EOS:EOS_GRID:\"H:/GIS/MODIS\\MOD16A2.A2004M09.h09v05.105.2013119180137.hdf\":MOD_Grid_MOD16A2:ET_1km reprojected\n",
      "All layer for dataset 'H:/GIS/MODIS\\MOD16A2.A2004M09.h09v05.105.2013119180137.hdf' reprojected\n",
      "Layer HDF4_EOS:EOS_GRID:\"H:/GIS/MODIS\\MOD16A2.A2004M10.h08v05.105.2013119163151.hdf\":MOD_Grid_MOD16A2:ET_1km reprojected\n",
      "All layer for dataset 'H:/GIS/MODIS\\MOD16A2.A2004M10.h08v05.105.2013119163151.hdf' reprojected\n",
      "Layer HDF4_EOS:EOS_GRID:\"H:/GIS/MODIS\\MOD16A2.A2004M10.h09v04.105.2013119173340.hdf\":MOD_Grid_MOD16A2:ET_1km reprojected\n",
      "All layer for dataset 'H:/GIS/MODIS\\MOD16A2.A2004M10.h09v04.105.2013119173340.hdf' reprojected\n",
      "Layer HDF4_EOS:EOS_GRID:\"H:/GIS/MODIS\\MOD16A2.A2004M10.h09v05.105.2013119180139.hdf\":MOD_Grid_MOD16A2:ET_1km reprojected\n",
      "All layer for dataset 'H:/GIS/MODIS\\MOD16A2.A2004M10.h09v05.105.2013119180139.hdf' reprojected\n",
      "Layer HDF4_EOS:EOS_GRID:\"H:/GIS/MODIS\\MOD16A2.A2004M11.h08v05.105.2013119163153.hdf\":MOD_Grid_MOD16A2:ET_1km reprojected\n",
      "All layer for dataset 'H:/GIS/MODIS\\MOD16A2.A2004M11.h08v05.105.2013119163153.hdf' reprojected\n",
      "Layer HDF4_EOS:EOS_GRID:\"H:/GIS/MODIS\\MOD16A2.A2004M11.h09v04.105.2013119173341.hdf\":MOD_Grid_MOD16A2:ET_1km reprojected\n",
      "All layer for dataset 'H:/GIS/MODIS\\MOD16A2.A2004M11.h09v04.105.2013119173341.hdf' reprojected\n",
      "Layer HDF4_EOS:EOS_GRID:\"H:/GIS/MODIS\\MOD16A2.A2004M11.h09v05.105.2013119180140.hdf\":MOD_Grid_MOD16A2:ET_1km reprojected\n",
      "All layer for dataset 'H:/GIS/MODIS\\MOD16A2.A2004M11.h09v05.105.2013119180140.hdf' reprojected\n",
      "Layer HDF4_EOS:EOS_GRID:\"H:/GIS/MODIS\\MOD16A2.A2004M12.h08v05.105.2013119163154.hdf\":MOD_Grid_MOD16A2:ET_1km reprojected\n",
      "All layer for dataset 'H:/GIS/MODIS\\MOD16A2.A2004M12.h08v05.105.2013119163154.hdf' reprojected\n",
      "Layer HDF4_EOS:EOS_GRID:\"H:/GIS/MODIS\\MOD16A2.A2004M12.h09v04.105.2013119173342.hdf\":MOD_Grid_MOD16A2:ET_1km reprojected\n",
      "All layer for dataset 'H:/GIS/MODIS\\MOD16A2.A2004M12.h09v04.105.2013119173342.hdf' reprojected\n",
      "Layer HDF4_EOS:EOS_GRID:\"H:/GIS/MODIS\\MOD16A2.A2004M12.h09v05.105.2013119180142.hdf\":MOD_Grid_MOD16A2:ET_1km reprojected\n",
      "All layer for dataset 'H:/GIS/MODIS\\MOD16A2.A2004M12.h09v05.105.2013119180142.hdf' reprojected\n",
      "Layer HDF4_EOS:EOS_GRID:\"H:/GIS/MODIS\\MOD16A2.A2005M01.h08v05.105.2013119161455.hdf\":MOD_Grid_MOD16A2:ET_1km reprojected\n",
      "All layer for dataset 'H:/GIS/MODIS\\MOD16A2.A2005M01.h08v05.105.2013119161455.hdf' reprojected\n",
      "Layer HDF4_EOS:EOS_GRID:\"H:/GIS/MODIS\\MOD16A2.A2005M01.h09v04.105.2013119171844.hdf\":MOD_Grid_MOD16A2:ET_1km reprojected\n",
      "All layer for dataset 'H:/GIS/MODIS\\MOD16A2.A2005M01.h09v04.105.2013119171844.hdf' reprojected\n",
      "Layer HDF4_EOS:EOS_GRID:\"H:/GIS/MODIS\\MOD16A2.A2005M01.h09v05.105.2013119174642.hdf\":MOD_Grid_MOD16A2:ET_1km reprojected\n",
      "All layer for dataset 'H:/GIS/MODIS\\MOD16A2.A2005M01.h09v05.105.2013119174642.hdf' reprojected\n",
      "Layer HDF4_EOS:EOS_GRID:\"H:/GIS/MODIS\\MOD16A2.A2005M02.h08v05.105.2013119161456.hdf\":MOD_Grid_MOD16A2:ET_1km reprojected\n",
      "All layer for dataset 'H:/GIS/MODIS\\MOD16A2.A2005M02.h08v05.105.2013119161456.hdf' reprojected\n",
      "Layer HDF4_EOS:EOS_GRID:\"H:/GIS/MODIS\\MOD16A2.A2005M02.h09v04.105.2013119171845.hdf\":MOD_Grid_MOD16A2:ET_1km reprojected\n",
      "All layer for dataset 'H:/GIS/MODIS\\MOD16A2.A2005M02.h09v04.105.2013119171845.hdf' reprojected\n",
      "Layer HDF4_EOS:EOS_GRID:\"H:/GIS/MODIS\\MOD16A2.A2005M02.h09v05.105.2013119174643.hdf\":MOD_Grid_MOD16A2:ET_1km reprojected\n",
      "All layer for dataset 'H:/GIS/MODIS\\MOD16A2.A2005M02.h09v05.105.2013119174643.hdf' reprojected\n",
      "Layer HDF4_EOS:EOS_GRID:\"H:/GIS/MODIS\\MOD16A2.A2005M03.h08v05.105.2013119161458.hdf\":MOD_Grid_MOD16A2:ET_1km reprojected\n",
      "All layer for dataset 'H:/GIS/MODIS\\MOD16A2.A2005M03.h08v05.105.2013119161458.hdf' reprojected\n",
      "Layer HDF4_EOS:EOS_GRID:\"H:/GIS/MODIS\\MOD16A2.A2005M03.h09v04.105.2013119171846.hdf\":MOD_Grid_MOD16A2:ET_1km reprojected\n",
      "All layer for dataset 'H:/GIS/MODIS\\MOD16A2.A2005M03.h09v04.105.2013119171846.hdf' reprojected\n",
      "Layer HDF4_EOS:EOS_GRID:\"H:/GIS/MODIS\\MOD16A2.A2005M03.h09v05.105.2013119174645.hdf\":MOD_Grid_MOD16A2:ET_1km reprojected\n",
      "All layer for dataset 'H:/GIS/MODIS\\MOD16A2.A2005M03.h09v05.105.2013119174645.hdf' reprojected\n",
      "Layer HDF4_EOS:EOS_GRID:\"H:/GIS/MODIS\\MOD16A2.A2005M04.h08v05.105.2013119161459.hdf\":MOD_Grid_MOD16A2:ET_1km reprojected\n",
      "All layer for dataset 'H:/GIS/MODIS\\MOD16A2.A2005M04.h08v05.105.2013119161459.hdf' reprojected\n",
      "Layer HDF4_EOS:EOS_GRID:\"H:/GIS/MODIS\\MOD16A2.A2005M04.h09v04.105.2013119171847.hdf\":MOD_Grid_MOD16A2:ET_1km reprojected\n",
      "All layer for dataset 'H:/GIS/MODIS\\MOD16A2.A2005M04.h09v04.105.2013119171847.hdf' reprojected\n",
      "Layer HDF4_EOS:EOS_GRID:\"H:/GIS/MODIS\\MOD16A2.A2005M04.h09v05.105.2013119174647.hdf\":MOD_Grid_MOD16A2:ET_1km reprojected\n",
      "All layer for dataset 'H:/GIS/MODIS\\MOD16A2.A2005M04.h09v05.105.2013119174647.hdf' reprojected\n",
      "Layer HDF4_EOS:EOS_GRID:\"H:/GIS/MODIS\\MOD16A2.A2005M05.h08v05.105.2013119161500.hdf\":MOD_Grid_MOD16A2:ET_1km reprojected\n",
      "All layer for dataset 'H:/GIS/MODIS\\MOD16A2.A2005M05.h08v05.105.2013119161500.hdf' reprojected\n",
      "Layer HDF4_EOS:EOS_GRID:\"H:/GIS/MODIS\\MOD16A2.A2005M05.h09v04.105.2013119171848.hdf\":MOD_Grid_MOD16A2:ET_1km reprojected\n",
      "All layer for dataset 'H:/GIS/MODIS\\MOD16A2.A2005M05.h09v04.105.2013119171848.hdf' reprojected\n",
      "Layer HDF4_EOS:EOS_GRID:\"H:/GIS/MODIS\\MOD16A2.A2005M05.h09v05.105.2013119174648.hdf\":MOD_Grid_MOD16A2:ET_1km reprojected\n",
      "All layer for dataset 'H:/GIS/MODIS\\MOD16A2.A2005M05.h09v05.105.2013119174648.hdf' reprojected\n",
      "Layer HDF4_EOS:EOS_GRID:\"H:/GIS/MODIS\\MOD16A2.A2005M06.h08v05.105.2013119161501.hdf\":MOD_Grid_MOD16A2:ET_1km reprojected\n",
      "All layer for dataset 'H:/GIS/MODIS\\MOD16A2.A2005M06.h08v05.105.2013119161501.hdf' reprojected\n",
      "Layer HDF4_EOS:EOS_GRID:\"H:/GIS/MODIS\\MOD16A2.A2005M06.h09v04.105.2013119171849.hdf\":MOD_Grid_MOD16A2:ET_1km reprojected\n",
      "All layer for dataset 'H:/GIS/MODIS\\MOD16A2.A2005M06.h09v04.105.2013119171849.hdf' reprojected\n",
      "Layer HDF4_EOS:EOS_GRID:\"H:/GIS/MODIS\\MOD16A2.A2005M06.h09v05.105.2013119174649.hdf\":MOD_Grid_MOD16A2:ET_1km reprojected\n",
      "All layer for dataset 'H:/GIS/MODIS\\MOD16A2.A2005M06.h09v05.105.2013119174649.hdf' reprojected\n",
      "Layer HDF4_EOS:EOS_GRID:\"H:/GIS/MODIS\\MOD16A2.A2005M07.h08v05.105.2013119161503.hdf\":MOD_Grid_MOD16A2:ET_1km reprojected\n",
      "All layer for dataset 'H:/GIS/MODIS\\MOD16A2.A2005M07.h08v05.105.2013119161503.hdf' reprojected\n",
      "Layer HDF4_EOS:EOS_GRID:\"H:/GIS/MODIS\\MOD16A2.A2005M07.h09v04.105.2013119171850.hdf\":MOD_Grid_MOD16A2:ET_1km reprojected\n",
      "All layer for dataset 'H:/GIS/MODIS\\MOD16A2.A2005M07.h09v04.105.2013119171850.hdf' reprojected\n",
      "Layer HDF4_EOS:EOS_GRID:\"H:/GIS/MODIS\\MOD16A2.A2005M07.h09v05.105.2013119174650.hdf\":MOD_Grid_MOD16A2:ET_1km reprojected\n",
      "All layer for dataset 'H:/GIS/MODIS\\MOD16A2.A2005M07.h09v05.105.2013119174650.hdf' reprojected\n",
      "Layer HDF4_EOS:EOS_GRID:\"H:/GIS/MODIS\\MOD16A2.A2005M08.h08v05.105.2013119161504.hdf\":MOD_Grid_MOD16A2:ET_1km reprojected\n",
      "All layer for dataset 'H:/GIS/MODIS\\MOD16A2.A2005M08.h08v05.105.2013119161504.hdf' reprojected\n",
      "Layer HDF4_EOS:EOS_GRID:\"H:/GIS/MODIS\\MOD16A2.A2005M08.h09v04.105.2013119171850.hdf\":MOD_Grid_MOD16A2:ET_1km reprojected\n",
      "All layer for dataset 'H:/GIS/MODIS\\MOD16A2.A2005M08.h09v04.105.2013119171850.hdf' reprojected\n",
      "Layer HDF4_EOS:EOS_GRID:\"H:/GIS/MODIS\\MOD16A2.A2005M08.h09v05.105.2013119174651.hdf\":MOD_Grid_MOD16A2:ET_1km reprojected\n",
      "All layer for dataset 'H:/GIS/MODIS\\MOD16A2.A2005M08.h09v05.105.2013119174651.hdf' reprojected\n",
      "Layer HDF4_EOS:EOS_GRID:\"H:/GIS/MODIS\\MOD16A2.A2005M09.h08v05.105.2013119161505.hdf\":MOD_Grid_MOD16A2:ET_1km reprojected\n",
      "All layer for dataset 'H:/GIS/MODIS\\MOD16A2.A2005M09.h08v05.105.2013119161505.hdf' reprojected\n",
      "Layer HDF4_EOS:EOS_GRID:\"H:/GIS/MODIS\\MOD16A2.A2005M09.h09v04.105.2013119171852.hdf\":MOD_Grid_MOD16A2:ET_1km reprojected\n",
      "All layer for dataset 'H:/GIS/MODIS\\MOD16A2.A2005M09.h09v04.105.2013119171852.hdf' reprojected\n",
      "Layer HDF4_EOS:EOS_GRID:\"H:/GIS/MODIS\\MOD16A2.A2005M09.h09v05.105.2013119174652.hdf\":MOD_Grid_MOD16A2:ET_1km reprojected\n",
      "All layer for dataset 'H:/GIS/MODIS\\MOD16A2.A2005M09.h09v05.105.2013119174652.hdf' reprojected\n",
      "Layer HDF4_EOS:EOS_GRID:\"H:/GIS/MODIS\\MOD16A2.A2005M10.h08v05.105.2013119161506.hdf\":MOD_Grid_MOD16A2:ET_1km reprojected\n",
      "All layer for dataset 'H:/GIS/MODIS\\MOD16A2.A2005M10.h08v05.105.2013119161506.hdf' reprojected\n",
      "Layer HDF4_EOS:EOS_GRID:\"H:/GIS/MODIS\\MOD16A2.A2005M10.h09v04.105.2013119171852.hdf\":MOD_Grid_MOD16A2:ET_1km reprojected\n",
      "All layer for dataset 'H:/GIS/MODIS\\MOD16A2.A2005M10.h09v04.105.2013119171852.hdf' reprojected\n",
      "Layer HDF4_EOS:EOS_GRID:\"H:/GIS/MODIS\\MOD16A2.A2005M10.h09v05.105.2013119174653.hdf\":MOD_Grid_MOD16A2:ET_1km reprojected\n",
      "All layer for dataset 'H:/GIS/MODIS\\MOD16A2.A2005M10.h09v05.105.2013119174653.hdf' reprojected\n",
      "Layer HDF4_EOS:EOS_GRID:\"H:/GIS/MODIS\\MOD16A2.A2005M11.h08v05.105.2013119161508.hdf\":MOD_Grid_MOD16A2:ET_1km reprojected\n",
      "All layer for dataset 'H:/GIS/MODIS\\MOD16A2.A2005M11.h08v05.105.2013119161508.hdf' reprojected\n",
      "Layer HDF4_EOS:EOS_GRID:\"H:/GIS/MODIS\\MOD16A2.A2005M11.h09v04.105.2013119171854.hdf\":MOD_Grid_MOD16A2:ET_1km reprojected\n",
      "All layer for dataset 'H:/GIS/MODIS\\MOD16A2.A2005M11.h09v04.105.2013119171854.hdf' reprojected\n",
      "Layer HDF4_EOS:EOS_GRID:\"H:/GIS/MODIS\\MOD16A2.A2005M11.h09v05.105.2013119174655.hdf\":MOD_Grid_MOD16A2:ET_1km reprojected\n",
      "All layer for dataset 'H:/GIS/MODIS\\MOD16A2.A2005M11.h09v05.105.2013119174655.hdf' reprojected\n",
      "Layer HDF4_EOS:EOS_GRID:\"H:/GIS/MODIS\\MOD16A2.A2005M12.h08v05.105.2013119161509.hdf\":MOD_Grid_MOD16A2:ET_1km reprojected\n",
      "All layer for dataset 'H:/GIS/MODIS\\MOD16A2.A2005M12.h08v05.105.2013119161509.hdf' reprojected\n",
      "Layer HDF4_EOS:EOS_GRID:\"H:/GIS/MODIS\\MOD16A2.A2005M12.h09v04.105.2013119171855.hdf\":MOD_Grid_MOD16A2:ET_1km reprojected\n",
      "All layer for dataset 'H:/GIS/MODIS\\MOD16A2.A2005M12.h09v04.105.2013119171855.hdf' reprojected\n",
      "Layer HDF4_EOS:EOS_GRID:\"H:/GIS/MODIS\\MOD16A2.A2005M12.h09v05.105.2013119174657.hdf\":MOD_Grid_MOD16A2:ET_1km reprojected\n",
      "All layer for dataset 'H:/GIS/MODIS\\MOD16A2.A2005M12.h09v05.105.2013119174657.hdf' reprojected\n",
      "Layer HDF4_EOS:EOS_GRID:\"H:/GIS/MODIS\\MOD16A2.A2006M01.h08v05.105.2013119173040.hdf\":MOD_Grid_MOD16A2:ET_1km reprojected\n",
      "All layer for dataset 'H:/GIS/MODIS\\MOD16A2.A2006M01.h08v05.105.2013119173040.hdf' reprojected\n",
      "Layer HDF4_EOS:EOS_GRID:\"H:/GIS/MODIS\\MOD16A2.A2006M01.h09v04.105.2013119183743.hdf\":MOD_Grid_MOD16A2:ET_1km reprojected\n",
      "All layer for dataset 'H:/GIS/MODIS\\MOD16A2.A2006M01.h09v04.105.2013119183743.hdf' reprojected\n",
      "Layer HDF4_EOS:EOS_GRID:\"H:/GIS/MODIS\\MOD16A2.A2006M01.h09v05.105.2013119190620.hdf\":MOD_Grid_MOD16A2:ET_1km reprojected\n",
      "All layer for dataset 'H:/GIS/MODIS\\MOD16A2.A2006M01.h09v05.105.2013119190620.hdf' reprojected\n",
      "Layer HDF4_EOS:EOS_GRID:\"H:/GIS/MODIS\\MOD16A2.A2006M02.h08v05.105.2013119173042.hdf\":MOD_Grid_MOD16A2:ET_1km reprojected\n",
      "All layer for dataset 'H:/GIS/MODIS\\MOD16A2.A2006M02.h08v05.105.2013119173042.hdf' reprojected\n",
      "Layer HDF4_EOS:EOS_GRID:\"H:/GIS/MODIS\\MOD16A2.A2006M02.h09v04.105.2013119183744.hdf\":MOD_Grid_MOD16A2:ET_1km reprojected\n",
      "All layer for dataset 'H:/GIS/MODIS\\MOD16A2.A2006M02.h09v04.105.2013119183744.hdf' reprojected\n",
      "Layer HDF4_EOS:EOS_GRID:\"H:/GIS/MODIS\\MOD16A2.A2006M02.h09v05.105.2013119190622.hdf\":MOD_Grid_MOD16A2:ET_1km reprojected\n",
      "All layer for dataset 'H:/GIS/MODIS\\MOD16A2.A2006M02.h09v05.105.2013119190622.hdf' reprojected\n",
      "Layer HDF4_EOS:EOS_GRID:\"H:/GIS/MODIS\\MOD16A2.A2006M03.h08v05.105.2013119173044.hdf\":MOD_Grid_MOD16A2:ET_1km reprojected\n",
      "All layer for dataset 'H:/GIS/MODIS\\MOD16A2.A2006M03.h08v05.105.2013119173044.hdf' reprojected\n",
      "Layer HDF4_EOS:EOS_GRID:\"H:/GIS/MODIS\\MOD16A2.A2006M03.h09v04.105.2013119183745.hdf\":MOD_Grid_MOD16A2:ET_1km reprojected\n",
      "All layer for dataset 'H:/GIS/MODIS\\MOD16A2.A2006M03.h09v04.105.2013119183745.hdf' reprojected\n",
      "Layer HDF4_EOS:EOS_GRID:\"H:/GIS/MODIS\\MOD16A2.A2006M03.h09v05.105.2013119190624.hdf\":MOD_Grid_MOD16A2:ET_1km reprojected\n",
      "All layer for dataset 'H:/GIS/MODIS\\MOD16A2.A2006M03.h09v05.105.2013119190624.hdf' reprojected\n",
      "Layer HDF4_EOS:EOS_GRID:\"H:/GIS/MODIS\\MOD16A2.A2006M04.h08v05.105.2013119173045.hdf\":MOD_Grid_MOD16A2:ET_1km reprojected\n",
      "All layer for dataset 'H:/GIS/MODIS\\MOD16A2.A2006M04.h08v05.105.2013119173045.hdf' reprojected\n",
      "Layer HDF4_EOS:EOS_GRID:\"H:/GIS/MODIS\\MOD16A2.A2006M04.h09v04.105.2013119183746.hdf\":MOD_Grid_MOD16A2:ET_1km reprojected\n",
      "All layer for dataset 'H:/GIS/MODIS\\MOD16A2.A2006M04.h09v04.105.2013119183746.hdf' reprojected\n",
      "Layer HDF4_EOS:EOS_GRID:\"H:/GIS/MODIS\\MOD16A2.A2006M04.h09v05.105.2013119190625.hdf\":MOD_Grid_MOD16A2:ET_1km reprojected\n",
      "All layer for dataset 'H:/GIS/MODIS\\MOD16A2.A2006M04.h09v05.105.2013119190625.hdf' reprojected\n",
      "Layer HDF4_EOS:EOS_GRID:\"H:/GIS/MODIS\\MOD16A2.A2006M05.h08v05.105.2013119173046.hdf\":MOD_Grid_MOD16A2:ET_1km reprojected\n",
      "All layer for dataset 'H:/GIS/MODIS\\MOD16A2.A2006M05.h08v05.105.2013119173046.hdf' reprojected\n",
      "Layer HDF4_EOS:EOS_GRID:\"H:/GIS/MODIS\\MOD16A2.A2006M05.h09v04.105.2013119183746.hdf\":MOD_Grid_MOD16A2:ET_1km reprojected\n",
      "All layer for dataset 'H:/GIS/MODIS\\MOD16A2.A2006M05.h09v04.105.2013119183746.hdf' reprojected\n",
      "Layer HDF4_EOS:EOS_GRID:\"H:/GIS/MODIS\\MOD16A2.A2006M05.h09v05.105.2013119190627.hdf\":MOD_Grid_MOD16A2:ET_1km reprojected\n",
      "All layer for dataset 'H:/GIS/MODIS\\MOD16A2.A2006M05.h09v05.105.2013119190627.hdf' reprojected\n",
      "Layer HDF4_EOS:EOS_GRID:\"H:/GIS/MODIS\\MOD16A2.A2006M06.h08v05.105.2013119173048.hdf\":MOD_Grid_MOD16A2:ET_1km reprojected\n",
      "All layer for dataset 'H:/GIS/MODIS\\MOD16A2.A2006M06.h08v05.105.2013119173048.hdf' reprojected\n",
      "Layer HDF4_EOS:EOS_GRID:\"H:/GIS/MODIS\\MOD16A2.A2006M06.h09v04.105.2013119183747.hdf\":MOD_Grid_MOD16A2:ET_1km reprojected\n",
      "All layer for dataset 'H:/GIS/MODIS\\MOD16A2.A2006M06.h09v04.105.2013119183747.hdf' reprojected\n",
      "Layer HDF4_EOS:EOS_GRID:\"H:/GIS/MODIS\\MOD16A2.A2006M06.h09v05.105.2013119190628.hdf\":MOD_Grid_MOD16A2:ET_1km reprojected\n",
      "All layer for dataset 'H:/GIS/MODIS\\MOD16A2.A2006M06.h09v05.105.2013119190628.hdf' reprojected\n",
      "Layer HDF4_EOS:EOS_GRID:\"H:/GIS/MODIS\\MOD16A2.A2006M07.h08v05.105.2013119173050.hdf\":MOD_Grid_MOD16A2:ET_1km reprojected\n",
      "All layer for dataset 'H:/GIS/MODIS\\MOD16A2.A2006M07.h08v05.105.2013119173050.hdf' reprojected\n",
      "Layer HDF4_EOS:EOS_GRID:\"H:/GIS/MODIS\\MOD16A2.A2006M07.h09v04.105.2013119183748.hdf\":MOD_Grid_MOD16A2:ET_1km reprojected\n",
      "All layer for dataset 'H:/GIS/MODIS\\MOD16A2.A2006M07.h09v04.105.2013119183748.hdf' reprojected\n",
      "Layer HDF4_EOS:EOS_GRID:\"H:/GIS/MODIS\\MOD16A2.A2006M07.h09v05.105.2013119190629.hdf\":MOD_Grid_MOD16A2:ET_1km reprojected\n",
      "All layer for dataset 'H:/GIS/MODIS\\MOD16A2.A2006M07.h09v05.105.2013119190629.hdf' reprojected\n",
      "Layer HDF4_EOS:EOS_GRID:\"H:/GIS/MODIS\\MOD16A2.A2006M08.h08v05.105.2013119173051.hdf\":MOD_Grid_MOD16A2:ET_1km reprojected\n",
      "All layer for dataset 'H:/GIS/MODIS\\MOD16A2.A2006M08.h08v05.105.2013119173051.hdf' reprojected\n",
      "Layer HDF4_EOS:EOS_GRID:\"H:/GIS/MODIS\\MOD16A2.A2006M08.h09v04.105.2013119183749.hdf\":MOD_Grid_MOD16A2:ET_1km reprojected\n",
      "All layer for dataset 'H:/GIS/MODIS\\MOD16A2.A2006M08.h09v04.105.2013119183749.hdf' reprojected\n",
      "Layer HDF4_EOS:EOS_GRID:\"H:/GIS/MODIS\\MOD16A2.A2006M08.h09v05.105.2013119190631.hdf\":MOD_Grid_MOD16A2:ET_1km reprojected\n",
      "All layer for dataset 'H:/GIS/MODIS\\MOD16A2.A2006M08.h09v05.105.2013119190631.hdf' reprojected\n",
      "Layer HDF4_EOS:EOS_GRID:\"H:/GIS/MODIS\\MOD16A2.A2006M09.h08v05.105.2013119173052.hdf\":MOD_Grid_MOD16A2:ET_1km reprojected\n",
      "All layer for dataset 'H:/GIS/MODIS\\MOD16A2.A2006M09.h08v05.105.2013119173052.hdf' reprojected\n",
      "Layer HDF4_EOS:EOS_GRID:\"H:/GIS/MODIS\\MOD16A2.A2006M09.h09v04.105.2013119183750.hdf\":MOD_Grid_MOD16A2:ET_1km reprojected\n",
      "All layer for dataset 'H:/GIS/MODIS\\MOD16A2.A2006M09.h09v04.105.2013119183750.hdf' reprojected\n",
      "Layer HDF4_EOS:EOS_GRID:\"H:/GIS/MODIS\\MOD16A2.A2006M09.h09v05.105.2013119190632.hdf\":MOD_Grid_MOD16A2:ET_1km reprojected\n",
      "All layer for dataset 'H:/GIS/MODIS\\MOD16A2.A2006M09.h09v05.105.2013119190632.hdf' reprojected\n",
      "Layer HDF4_EOS:EOS_GRID:\"H:/GIS/MODIS\\MOD16A2.A2006M10.h08v05.105.2013119173054.hdf\":MOD_Grid_MOD16A2:ET_1km reprojected\n",
      "All layer for dataset 'H:/GIS/MODIS\\MOD16A2.A2006M10.h08v05.105.2013119173054.hdf' reprojected\n",
      "Layer HDF4_EOS:EOS_GRID:\"H:/GIS/MODIS\\MOD16A2.A2006M10.h09v04.105.2013119183751.hdf\":MOD_Grid_MOD16A2:ET_1km reprojected\n",
      "All layer for dataset 'H:/GIS/MODIS\\MOD16A2.A2006M10.h09v04.105.2013119183751.hdf' reprojected\n",
      "Layer HDF4_EOS:EOS_GRID:\"H:/GIS/MODIS\\MOD16A2.A2006M10.h09v05.105.2013119190633.hdf\":MOD_Grid_MOD16A2:ET_1km reprojected\n",
      "All layer for dataset 'H:/GIS/MODIS\\MOD16A2.A2006M10.h09v05.105.2013119190633.hdf' reprojected\n",
      "Layer HDF4_EOS:EOS_GRID:\"H:/GIS/MODIS\\MOD16A2.A2006M11.h08v05.105.2013119173055.hdf\":MOD_Grid_MOD16A2:ET_1km reprojected\n",
      "All layer for dataset 'H:/GIS/MODIS\\MOD16A2.A2006M11.h08v05.105.2013119173055.hdf' reprojected\n",
      "Layer HDF4_EOS:EOS_GRID:\"H:/GIS/MODIS\\MOD16A2.A2006M11.h09v04.105.2013119183752.hdf\":MOD_Grid_MOD16A2:ET_1km reprojected\n",
      "All layer for dataset 'H:/GIS/MODIS\\MOD16A2.A2006M11.h09v04.105.2013119183752.hdf' reprojected\n",
      "Layer HDF4_EOS:EOS_GRID:\"H:/GIS/MODIS\\MOD16A2.A2006M11.h09v05.105.2013119190634.hdf\":MOD_Grid_MOD16A2:ET_1km reprojected\n",
      "All layer for dataset 'H:/GIS/MODIS\\MOD16A2.A2006M11.h09v05.105.2013119190634.hdf' reprojected\n",
      "Layer HDF4_EOS:EOS_GRID:\"H:/GIS/MODIS\\MOD16A2.A2006M12.h08v05.105.2013119173056.hdf\":MOD_Grid_MOD16A2:ET_1km reprojected\n",
      "All layer for dataset 'H:/GIS/MODIS\\MOD16A2.A2006M12.h08v05.105.2013119173056.hdf' reprojected\n",
      "Layer HDF4_EOS:EOS_GRID:\"H:/GIS/MODIS\\MOD16A2.A2006M12.h09v04.105.2013119183753.hdf\":MOD_Grid_MOD16A2:ET_1km reprojected\n",
      "All layer for dataset 'H:/GIS/MODIS\\MOD16A2.A2006M12.h09v04.105.2013119183753.hdf' reprojected\n",
      "Layer HDF4_EOS:EOS_GRID:\"H:/GIS/MODIS\\MOD16A2.A2006M12.h09v05.105.2013119190636.hdf\":MOD_Grid_MOD16A2:ET_1km reprojected\n",
      "All layer for dataset 'H:/GIS/MODIS\\MOD16A2.A2006M12.h09v05.105.2013119190636.hdf' reprojected\n",
      "Layer HDF4_EOS:EOS_GRID:\"H:/GIS/MODIS\\MOD16A2.A2007M01.h08v05.105.2013119172810.hdf\":MOD_Grid_MOD16A2:ET_1km reprojected\n",
      "All layer for dataset 'H:/GIS/MODIS\\MOD16A2.A2007M01.h08v05.105.2013119172810.hdf' reprojected\n",
      "Layer HDF4_EOS:EOS_GRID:\"H:/GIS/MODIS\\MOD16A2.A2007M01.h09v04.105.2013119183136.hdf\":MOD_Grid_MOD16A2:ET_1km reprojected\n",
      "All layer for dataset 'H:/GIS/MODIS\\MOD16A2.A2007M01.h09v04.105.2013119183136.hdf' reprojected\n",
      "Layer HDF4_EOS:EOS_GRID:\"H:/GIS/MODIS\\MOD16A2.A2007M01.h09v05.105.2013119190003.hdf\":MOD_Grid_MOD16A2:ET_1km reprojected\n",
      "All layer for dataset 'H:/GIS/MODIS\\MOD16A2.A2007M01.h09v05.105.2013119190003.hdf' reprojected\n",
      "Layer HDF4_EOS:EOS_GRID:\"H:/GIS/MODIS\\MOD16A2.A2007M02.h08v05.105.2013119172811.hdf\":MOD_Grid_MOD16A2:ET_1km reprojected\n",
      "All layer for dataset 'H:/GIS/MODIS\\MOD16A2.A2007M02.h08v05.105.2013119172811.hdf' reprojected\n",
      "Layer HDF4_EOS:EOS_GRID:\"H:/GIS/MODIS\\MOD16A2.A2007M02.h09v04.105.2013119183137.hdf\":MOD_Grid_MOD16A2:ET_1km reprojected\n",
      "All layer for dataset 'H:/GIS/MODIS\\MOD16A2.A2007M02.h09v04.105.2013119183137.hdf' reprojected\n",
      "Layer HDF4_EOS:EOS_GRID:\"H:/GIS/MODIS\\MOD16A2.A2007M02.h09v05.105.2013119190005.hdf\":MOD_Grid_MOD16A2:ET_1km reprojected\n",
      "All layer for dataset 'H:/GIS/MODIS\\MOD16A2.A2007M02.h09v05.105.2013119190005.hdf' reprojected\n",
      "Layer HDF4_EOS:EOS_GRID:\"H:/GIS/MODIS\\MOD16A2.A2007M03.h08v05.105.2013119172813.hdf\":MOD_Grid_MOD16A2:ET_1km reprojected\n",
      "All layer for dataset 'H:/GIS/MODIS\\MOD16A2.A2007M03.h08v05.105.2013119172813.hdf' reprojected\n",
      "Layer HDF4_EOS:EOS_GRID:\"H:/GIS/MODIS\\MOD16A2.A2007M03.h09v04.105.2013119183138.hdf\":MOD_Grid_MOD16A2:ET_1km reprojected\n",
      "All layer for dataset 'H:/GIS/MODIS\\MOD16A2.A2007M03.h09v04.105.2013119183138.hdf' reprojected\n",
      "Layer HDF4_EOS:EOS_GRID:\"H:/GIS/MODIS\\MOD16A2.A2007M03.h09v05.105.2013119190007.hdf\":MOD_Grid_MOD16A2:ET_1km reprojected\n",
      "All layer for dataset 'H:/GIS/MODIS\\MOD16A2.A2007M03.h09v05.105.2013119190007.hdf' reprojected\n",
      "Layer HDF4_EOS:EOS_GRID:\"H:/GIS/MODIS\\MOD16A2.A2007M04.h08v05.105.2013119172814.hdf\":MOD_Grid_MOD16A2:ET_1km reprojected\n",
      "All layer for dataset 'H:/GIS/MODIS\\MOD16A2.A2007M04.h08v05.105.2013119172814.hdf' reprojected\n",
      "Layer HDF4_EOS:EOS_GRID:\"H:/GIS/MODIS\\MOD16A2.A2007M04.h09v04.105.2013119183139.hdf\":MOD_Grid_MOD16A2:ET_1km reprojected\n",
      "All layer for dataset 'H:/GIS/MODIS\\MOD16A2.A2007M04.h09v04.105.2013119183139.hdf' reprojected\n",
      "Layer HDF4_EOS:EOS_GRID:\"H:/GIS/MODIS\\MOD16A2.A2007M04.h09v05.105.2013119190008.hdf\":MOD_Grid_MOD16A2:ET_1km reprojected\n",
      "All layer for dataset 'H:/GIS/MODIS\\MOD16A2.A2007M04.h09v05.105.2013119190008.hdf' reprojected\n",
      "Layer HDF4_EOS:EOS_GRID:\"H:/GIS/MODIS\\MOD16A2.A2007M05.h08v05.105.2013119172815.hdf\":MOD_Grid_MOD16A2:ET_1km reprojected\n",
      "All layer for dataset 'H:/GIS/MODIS\\MOD16A2.A2007M05.h08v05.105.2013119172815.hdf' reprojected\n",
      "Layer HDF4_EOS:EOS_GRID:\"H:/GIS/MODIS\\MOD16A2.A2007M05.h09v04.105.2013119183140.hdf\":MOD_Grid_MOD16A2:ET_1km reprojected\n",
      "All layer for dataset 'H:/GIS/MODIS\\MOD16A2.A2007M05.h09v04.105.2013119183140.hdf' reprojected\n",
      "Layer HDF4_EOS:EOS_GRID:\"H:/GIS/MODIS\\MOD16A2.A2007M05.h09v05.105.2013119190009.hdf\":MOD_Grid_MOD16A2:ET_1km reprojected\n",
      "All layer for dataset 'H:/GIS/MODIS\\MOD16A2.A2007M05.h09v05.105.2013119190009.hdf' reprojected\n",
      "Layer HDF4_EOS:EOS_GRID:\"H:/GIS/MODIS\\MOD16A2.A2007M06.h08v05.105.2013119172817.hdf\":MOD_Grid_MOD16A2:ET_1km reprojected\n",
      "All layer for dataset 'H:/GIS/MODIS\\MOD16A2.A2007M06.h08v05.105.2013119172817.hdf' reprojected\n",
      "Layer HDF4_EOS:EOS_GRID:\"H:/GIS/MODIS\\MOD16A2.A2007M06.h09v04.105.2013119183141.hdf\":MOD_Grid_MOD16A2:ET_1km reprojected\n",
      "All layer for dataset 'H:/GIS/MODIS\\MOD16A2.A2007M06.h09v04.105.2013119183141.hdf' reprojected\n",
      "Layer HDF4_EOS:EOS_GRID:\"H:/GIS/MODIS\\MOD16A2.A2007M06.h09v05.105.2013119190010.hdf\":MOD_Grid_MOD16A2:ET_1km reprojected\n",
      "All layer for dataset 'H:/GIS/MODIS\\MOD16A2.A2007M06.h09v05.105.2013119190010.hdf' reprojected\n",
      "Layer HDF4_EOS:EOS_GRID:\"H:/GIS/MODIS\\MOD16A2.A2007M07.h08v05.105.2013119172818.hdf\":MOD_Grid_MOD16A2:ET_1km reprojected\n",
      "All layer for dataset 'H:/GIS/MODIS\\MOD16A2.A2007M07.h08v05.105.2013119172818.hdf' reprojected\n",
      "Layer HDF4_EOS:EOS_GRID:\"H:/GIS/MODIS\\MOD16A2.A2007M07.h09v04.105.2013119183141.hdf\":MOD_Grid_MOD16A2:ET_1km reprojected\n",
      "All layer for dataset 'H:/GIS/MODIS\\MOD16A2.A2007M07.h09v04.105.2013119183141.hdf' reprojected\n",
      "Layer HDF4_EOS:EOS_GRID:\"H:/GIS/MODIS\\MOD16A2.A2007M07.h09v05.105.2013119190012.hdf\":MOD_Grid_MOD16A2:ET_1km reprojected\n",
      "All layer for dataset 'H:/GIS/MODIS\\MOD16A2.A2007M07.h09v05.105.2013119190012.hdf' reprojected\n",
      "Layer HDF4_EOS:EOS_GRID:\"H:/GIS/MODIS\\MOD16A2.A2007M08.h08v05.105.2013119172820.hdf\":MOD_Grid_MOD16A2:ET_1km reprojected\n",
      "All layer for dataset 'H:/GIS/MODIS\\MOD16A2.A2007M08.h08v05.105.2013119172820.hdf' reprojected\n",
      "Layer HDF4_EOS:EOS_GRID:\"H:/GIS/MODIS\\MOD16A2.A2007M08.h09v04.105.2013119183146.hdf\":MOD_Grid_MOD16A2:ET_1km reprojected\n",
      "All layer for dataset 'H:/GIS/MODIS\\MOD16A2.A2007M08.h09v04.105.2013119183146.hdf' reprojected\n",
      "Layer HDF4_EOS:EOS_GRID:\"H:/GIS/MODIS\\MOD16A2.A2007M08.h09v05.105.2013119190013.hdf\":MOD_Grid_MOD16A2:ET_1km reprojected\n",
      "All layer for dataset 'H:/GIS/MODIS\\MOD16A2.A2007M08.h09v05.105.2013119190013.hdf' reprojected\n",
      "Layer HDF4_EOS:EOS_GRID:\"H:/GIS/MODIS\\MOD16A2.A2007M09.h08v05.105.2013119172821.hdf\":MOD_Grid_MOD16A2:ET_1km reprojected\n",
      "All layer for dataset 'H:/GIS/MODIS\\MOD16A2.A2007M09.h08v05.105.2013119172821.hdf' reprojected\n",
      "Layer HDF4_EOS:EOS_GRID:\"H:/GIS/MODIS\\MOD16A2.A2007M09.h09v04.105.2013119183147.hdf\":MOD_Grid_MOD16A2:ET_1km reprojected\n",
      "All layer for dataset 'H:/GIS/MODIS\\MOD16A2.A2007M09.h09v04.105.2013119183147.hdf' reprojected\n",
      "Layer HDF4_EOS:EOS_GRID:\"H:/GIS/MODIS\\MOD16A2.A2007M09.h09v05.105.2013119190014.hdf\":MOD_Grid_MOD16A2:ET_1km reprojected\n",
      "All layer for dataset 'H:/GIS/MODIS\\MOD16A2.A2007M09.h09v05.105.2013119190014.hdf' reprojected\n",
      "Layer HDF4_EOS:EOS_GRID:\"H:/GIS/MODIS\\MOD16A2.A2007M10.h08v05.105.2013119172822.hdf\":MOD_Grid_MOD16A2:ET_1km reprojected\n",
      "All layer for dataset 'H:/GIS/MODIS\\MOD16A2.A2007M10.h08v05.105.2013119172822.hdf' reprojected\n",
      "Layer HDF4_EOS:EOS_GRID:\"H:/GIS/MODIS\\MOD16A2.A2007M10.h09v04.105.2013119183148.hdf\":MOD_Grid_MOD16A2:ET_1km reprojected\n",
      "All layer for dataset 'H:/GIS/MODIS\\MOD16A2.A2007M10.h09v04.105.2013119183148.hdf' reprojected\n",
      "Layer HDF4_EOS:EOS_GRID:\"H:/GIS/MODIS\\MOD16A2.A2007M10.h09v05.105.2013119190015.hdf\":MOD_Grid_MOD16A2:ET_1km reprojected\n",
      "All layer for dataset 'H:/GIS/MODIS\\MOD16A2.A2007M10.h09v05.105.2013119190015.hdf' reprojected\n",
      "Layer HDF4_EOS:EOS_GRID:\"H:/GIS/MODIS\\MOD16A2.A2007M11.h08v05.105.2013119172823.hdf\":MOD_Grid_MOD16A2:ET_1km reprojected\n",
      "All layer for dataset 'H:/GIS/MODIS\\MOD16A2.A2007M11.h08v05.105.2013119172823.hdf' reprojected\n",
      "Layer HDF4_EOS:EOS_GRID:\"H:/GIS/MODIS\\MOD16A2.A2007M11.h09v04.105.2013119183149.hdf\":MOD_Grid_MOD16A2:ET_1km reprojected\n",
      "All layer for dataset 'H:/GIS/MODIS\\MOD16A2.A2007M11.h09v04.105.2013119183149.hdf' reprojected\n",
      "Layer HDF4_EOS:EOS_GRID:\"H:/GIS/MODIS\\MOD16A2.A2007M11.h09v05.105.2013119190017.hdf\":MOD_Grid_MOD16A2:ET_1km reprojected\n",
      "All layer for dataset 'H:/GIS/MODIS\\MOD16A2.A2007M11.h09v05.105.2013119190017.hdf' reprojected\n",
      "Layer HDF4_EOS:EOS_GRID:\"H:/GIS/MODIS\\MOD16A2.A2007M12.h08v05.105.2013119172825.hdf\":MOD_Grid_MOD16A2:ET_1km reprojected\n",
      "All layer for dataset 'H:/GIS/MODIS\\MOD16A2.A2007M12.h08v05.105.2013119172825.hdf' reprojected\n",
      "Layer HDF4_EOS:EOS_GRID:\"H:/GIS/MODIS\\MOD16A2.A2007M12.h09v04.105.2013119183150.hdf\":MOD_Grid_MOD16A2:ET_1km reprojected\n",
      "All layer for dataset 'H:/GIS/MODIS\\MOD16A2.A2007M12.h09v04.105.2013119183150.hdf' reprojected\n",
      "Layer HDF4_EOS:EOS_GRID:\"H:/GIS/MODIS\\MOD16A2.A2007M12.h09v05.105.2013119190018.hdf\":MOD_Grid_MOD16A2:ET_1km reprojected\n",
      "All layer for dataset 'H:/GIS/MODIS\\MOD16A2.A2007M12.h09v05.105.2013119190018.hdf' reprojected\n",
      "Layer HDF4_EOS:EOS_GRID:\"H:/GIS/MODIS\\MOD16A2.A2008M01.h08v05.105.2013119173529.hdf\":MOD_Grid_MOD16A2:ET_1km reprojected\n",
      "All layer for dataset 'H:/GIS/MODIS\\MOD16A2.A2008M01.h08v05.105.2013119173529.hdf' reprojected\n",
      "Layer HDF4_EOS:EOS_GRID:\"H:/GIS/MODIS\\MOD16A2.A2008M01.h09v04.105.2013119184056.hdf\":MOD_Grid_MOD16A2:ET_1km reprojected\n",
      "All layer for dataset 'H:/GIS/MODIS\\MOD16A2.A2008M01.h09v04.105.2013119184056.hdf' reprojected\n",
      "Layer HDF4_EOS:EOS_GRID:\"H:/GIS/MODIS\\MOD16A2.A2008M01.h09v05.105.2013119190939.hdf\":MOD_Grid_MOD16A2:ET_1km reprojected\n",
      "All layer for dataset 'H:/GIS/MODIS\\MOD16A2.A2008M01.h09v05.105.2013119190939.hdf' reprojected\n",
      "Layer HDF4_EOS:EOS_GRID:\"H:/GIS/MODIS\\MOD16A2.A2008M02.h08v05.105.2013119173531.hdf\":MOD_Grid_MOD16A2:ET_1km reprojected\n",
      "All layer for dataset 'H:/GIS/MODIS\\MOD16A2.A2008M02.h08v05.105.2013119173531.hdf' reprojected\n",
      "Layer HDF4_EOS:EOS_GRID:\"H:/GIS/MODIS\\MOD16A2.A2008M02.h09v04.105.2013119184101.hdf\":MOD_Grid_MOD16A2:ET_1km reprojected\n",
      "All layer for dataset 'H:/GIS/MODIS\\MOD16A2.A2008M02.h09v04.105.2013119184101.hdf' reprojected\n",
      "Layer HDF4_EOS:EOS_GRID:\"H:/GIS/MODIS\\MOD16A2.A2008M02.h09v05.105.2013119190941.hdf\":MOD_Grid_MOD16A2:ET_1km reprojected\n",
      "All layer for dataset 'H:/GIS/MODIS\\MOD16A2.A2008M02.h09v05.105.2013119190941.hdf' reprojected\n",
      "Layer HDF4_EOS:EOS_GRID:\"H:/GIS/MODIS\\MOD16A2.A2008M03.h08v05.105.2013119173532.hdf\":MOD_Grid_MOD16A2:ET_1km reprojected\n",
      "All layer for dataset 'H:/GIS/MODIS\\MOD16A2.A2008M03.h08v05.105.2013119173532.hdf' reprojected\n",
      "Layer HDF4_EOS:EOS_GRID:\"H:/GIS/MODIS\\MOD16A2.A2008M03.h09v04.105.2013119184106.hdf\":MOD_Grid_MOD16A2:ET_1km reprojected\n",
      "All layer for dataset 'H:/GIS/MODIS\\MOD16A2.A2008M03.h09v04.105.2013119184106.hdf' reprojected\n",
      "Layer HDF4_EOS:EOS_GRID:\"H:/GIS/MODIS\\MOD16A2.A2008M03.h09v05.105.2013119190943.hdf\":MOD_Grid_MOD16A2:ET_1km reprojected\n",
      "All layer for dataset 'H:/GIS/MODIS\\MOD16A2.A2008M03.h09v05.105.2013119190943.hdf' reprojected\n",
      "Layer HDF4_EOS:EOS_GRID:\"H:/GIS/MODIS\\MOD16A2.A2008M04.h08v05.105.2013119173533.hdf\":MOD_Grid_MOD16A2:ET_1km reprojected\n",
      "All layer for dataset 'H:/GIS/MODIS\\MOD16A2.A2008M04.h08v05.105.2013119173533.hdf' reprojected\n",
      "Layer HDF4_EOS:EOS_GRID:\"H:/GIS/MODIS\\MOD16A2.A2008M04.h09v04.105.2013119184107.hdf\":MOD_Grid_MOD16A2:ET_1km reprojected\n",
      "All layer for dataset 'H:/GIS/MODIS\\MOD16A2.A2008M04.h09v04.105.2013119184107.hdf' reprojected\n",
      "Layer HDF4_EOS:EOS_GRID:\"H:/GIS/MODIS\\MOD16A2.A2008M04.h09v05.105.2013119190944.hdf\":MOD_Grid_MOD16A2:ET_1km reprojected\n",
      "All layer for dataset 'H:/GIS/MODIS\\MOD16A2.A2008M04.h09v05.105.2013119190944.hdf' reprojected\n",
      "Layer HDF4_EOS:EOS_GRID:\"H:/GIS/MODIS\\MOD16A2.A2008M05.h08v05.105.2013119173535.hdf\":MOD_Grid_MOD16A2:ET_1km reprojected\n",
      "All layer for dataset 'H:/GIS/MODIS\\MOD16A2.A2008M05.h08v05.105.2013119173535.hdf' reprojected\n",
      "Layer HDF4_EOS:EOS_GRID:\"H:/GIS/MODIS\\MOD16A2.A2008M05.h09v04.105.2013119184108.hdf\":MOD_Grid_MOD16A2:ET_1km reprojected\n",
      "All layer for dataset 'H:/GIS/MODIS\\MOD16A2.A2008M05.h09v04.105.2013119184108.hdf' reprojected\n",
      "Layer HDF4_EOS:EOS_GRID:\"H:/GIS/MODIS\\MOD16A2.A2008M05.h09v05.105.2013119190946.hdf\":MOD_Grid_MOD16A2:ET_1km reprojected\n",
      "All layer for dataset 'H:/GIS/MODIS\\MOD16A2.A2008M05.h09v05.105.2013119190946.hdf' reprojected\n",
      "Layer HDF4_EOS:EOS_GRID:\"H:/GIS/MODIS\\MOD16A2.A2008M06.h08v05.105.2013119173536.hdf\":MOD_Grid_MOD16A2:ET_1km reprojected\n",
      "All layer for dataset 'H:/GIS/MODIS\\MOD16A2.A2008M06.h08v05.105.2013119173536.hdf' reprojected\n",
      "Layer HDF4_EOS:EOS_GRID:\"H:/GIS/MODIS\\MOD16A2.A2008M06.h09v04.105.2013119184109.hdf\":MOD_Grid_MOD16A2:ET_1km reprojected\n",
      "All layer for dataset 'H:/GIS/MODIS\\MOD16A2.A2008M06.h09v04.105.2013119184109.hdf' reprojected\n",
      "Layer HDF4_EOS:EOS_GRID:\"H:/GIS/MODIS\\MOD16A2.A2008M06.h09v05.105.2013119190947.hdf\":MOD_Grid_MOD16A2:ET_1km reprojected\n",
      "All layer for dataset 'H:/GIS/MODIS\\MOD16A2.A2008M06.h09v05.105.2013119190947.hdf' reprojected\n",
      "Layer HDF4_EOS:EOS_GRID:\"H:/GIS/MODIS\\MOD16A2.A2008M07.h08v05.105.2013119173538.hdf\":MOD_Grid_MOD16A2:ET_1km reprojected\n",
      "All layer for dataset 'H:/GIS/MODIS\\MOD16A2.A2008M07.h08v05.105.2013119173538.hdf' reprojected\n",
      "Layer HDF4_EOS:EOS_GRID:\"H:/GIS/MODIS\\MOD16A2.A2008M07.h09v04.105.2013119184109.hdf\":MOD_Grid_MOD16A2:ET_1km reprojected\n",
      "All layer for dataset 'H:/GIS/MODIS\\MOD16A2.A2008M07.h09v04.105.2013119184109.hdf' reprojected\n",
      "Layer HDF4_EOS:EOS_GRID:\"H:/GIS/MODIS\\MOD16A2.A2008M07.h09v05.105.2013119190948.hdf\":MOD_Grid_MOD16A2:ET_1km reprojected\n",
      "All layer for dataset 'H:/GIS/MODIS\\MOD16A2.A2008M07.h09v05.105.2013119190948.hdf' reprojected\n",
      "Layer HDF4_EOS:EOS_GRID:\"H:/GIS/MODIS\\MOD16A2.A2008M08.h08v05.105.2013119173539.hdf\":MOD_Grid_MOD16A2:ET_1km reprojected\n",
      "All layer for dataset 'H:/GIS/MODIS\\MOD16A2.A2008M08.h08v05.105.2013119173539.hdf' reprojected\n",
      "Layer HDF4_EOS:EOS_GRID:\"H:/GIS/MODIS\\MOD16A2.A2008M08.h09v04.105.2013119184110.hdf\":MOD_Grid_MOD16A2:ET_1km reprojected\n",
      "All layer for dataset 'H:/GIS/MODIS\\MOD16A2.A2008M08.h09v04.105.2013119184110.hdf' reprojected\n",
      "Layer HDF4_EOS:EOS_GRID:\"H:/GIS/MODIS\\MOD16A2.A2008M08.h09v05.105.2013119190949.hdf\":MOD_Grid_MOD16A2:ET_1km reprojected\n",
      "All layer for dataset 'H:/GIS/MODIS\\MOD16A2.A2008M08.h09v05.105.2013119190949.hdf' reprojected\n",
      "Layer HDF4_EOS:EOS_GRID:\"H:/GIS/MODIS\\MOD16A2.A2008M09.h08v05.105.2013119173540.hdf\":MOD_Grid_MOD16A2:ET_1km reprojected\n",
      "All layer for dataset 'H:/GIS/MODIS\\MOD16A2.A2008M09.h08v05.105.2013119173540.hdf' reprojected\n",
      "Layer HDF4_EOS:EOS_GRID:\"H:/GIS/MODIS\\MOD16A2.A2008M09.h09v04.105.2013119184112.hdf\":MOD_Grid_MOD16A2:ET_1km reprojected\n",
      "All layer for dataset 'H:/GIS/MODIS\\MOD16A2.A2008M09.h09v04.105.2013119184112.hdf' reprojected\n",
      "Layer HDF4_EOS:EOS_GRID:\"H:/GIS/MODIS\\MOD16A2.A2008M09.h09v05.105.2013119190950.hdf\":MOD_Grid_MOD16A2:ET_1km reprojected\n",
      "All layer for dataset 'H:/GIS/MODIS\\MOD16A2.A2008M09.h09v05.105.2013119190950.hdf' reprojected\n",
      "Layer HDF4_EOS:EOS_GRID:\"H:/GIS/MODIS\\MOD16A2.A2008M10.h08v05.105.2013119173541.hdf\":MOD_Grid_MOD16A2:ET_1km reprojected\n",
      "All layer for dataset 'H:/GIS/MODIS\\MOD16A2.A2008M10.h08v05.105.2013119173541.hdf' reprojected\n",
      "Layer HDF4_EOS:EOS_GRID:\"H:/GIS/MODIS\\MOD16A2.A2008M10.h09v04.105.2013119184113.hdf\":MOD_Grid_MOD16A2:ET_1km reprojected\n",
      "All layer for dataset 'H:/GIS/MODIS\\MOD16A2.A2008M10.h09v04.105.2013119184113.hdf' reprojected\n",
      "Layer HDF4_EOS:EOS_GRID:\"H:/GIS/MODIS\\MOD16A2.A2008M10.h09v05.105.2013119190952.hdf\":MOD_Grid_MOD16A2:ET_1km reprojected\n",
      "All layer for dataset 'H:/GIS/MODIS\\MOD16A2.A2008M10.h09v05.105.2013119190952.hdf' reprojected\n",
      "Layer HDF4_EOS:EOS_GRID:\"H:/GIS/MODIS\\MOD16A2.A2008M11.h08v05.105.2013119173542.hdf\":MOD_Grid_MOD16A2:ET_1km reprojected\n",
      "All layer for dataset 'H:/GIS/MODIS\\MOD16A2.A2008M11.h08v05.105.2013119173542.hdf' reprojected\n",
      "Layer HDF4_EOS:EOS_GRID:\"H:/GIS/MODIS\\MOD16A2.A2008M11.h09v04.105.2013119184115.hdf\":MOD_Grid_MOD16A2:ET_1km reprojected\n",
      "All layer for dataset 'H:/GIS/MODIS\\MOD16A2.A2008M11.h09v04.105.2013119184115.hdf' reprojected\n",
      "Layer HDF4_EOS:EOS_GRID:\"H:/GIS/MODIS\\MOD16A2.A2008M11.h09v05.105.2013119190953.hdf\":MOD_Grid_MOD16A2:ET_1km reprojected\n",
      "All layer for dataset 'H:/GIS/MODIS\\MOD16A2.A2008M11.h09v05.105.2013119190953.hdf' reprojected\n",
      "Layer HDF4_EOS:EOS_GRID:\"H:/GIS/MODIS\\MOD16A2.A2008M12.h08v05.105.2013119173544.hdf\":MOD_Grid_MOD16A2:ET_1km reprojected\n",
      "All layer for dataset 'H:/GIS/MODIS\\MOD16A2.A2008M12.h08v05.105.2013119173544.hdf' reprojected\n",
      "Layer HDF4_EOS:EOS_GRID:\"H:/GIS/MODIS\\MOD16A2.A2008M12.h09v04.105.2013119184118.hdf\":MOD_Grid_MOD16A2:ET_1km reprojected\n",
      "All layer for dataset 'H:/GIS/MODIS\\MOD16A2.A2008M12.h09v04.105.2013119184118.hdf' reprojected\n",
      "Layer HDF4_EOS:EOS_GRID:\"H:/GIS/MODIS\\MOD16A2.A2008M12.h09v05.105.2013119190955.hdf\":MOD_Grid_MOD16A2:ET_1km reprojected\n",
      "All layer for dataset 'H:/GIS/MODIS\\MOD16A2.A2008M12.h09v05.105.2013119190955.hdf' reprojected\n",
      "Layer HDF4_EOS:EOS_GRID:\"H:/GIS/MODIS\\MOD16A2.A2009M01.h08v05.105.2013119173016.hdf\":MOD_Grid_MOD16A2:ET_1km reprojected\n",
      "All layer for dataset 'H:/GIS/MODIS\\MOD16A2.A2009M01.h08v05.105.2013119173016.hdf' reprojected\n",
      "Layer HDF4_EOS:EOS_GRID:\"H:/GIS/MODIS\\MOD16A2.A2009M01.h09v04.105.2013119183446.hdf\":MOD_Grid_MOD16A2:ET_1km reprojected\n",
      "All layer for dataset 'H:/GIS/MODIS\\MOD16A2.A2009M01.h09v04.105.2013119183446.hdf' reprojected\n",
      "Layer HDF4_EOS:EOS_GRID:\"H:/GIS/MODIS\\MOD16A2.A2009M01.h09v05.105.2013119190249.hdf\":MOD_Grid_MOD16A2:ET_1km reprojected\n",
      "All layer for dataset 'H:/GIS/MODIS\\MOD16A2.A2009M01.h09v05.105.2013119190249.hdf' reprojected\n",
      "Layer HDF4_EOS:EOS_GRID:\"H:/GIS/MODIS\\MOD16A2.A2009M02.h08v05.105.2013119173017.hdf\":MOD_Grid_MOD16A2:ET_1km reprojected\n",
      "All layer for dataset 'H:/GIS/MODIS\\MOD16A2.A2009M02.h08v05.105.2013119173017.hdf' reprojected\n",
      "Layer HDF4_EOS:EOS_GRID:\"H:/GIS/MODIS\\MOD16A2.A2009M02.h09v04.105.2013119183447.hdf\":MOD_Grid_MOD16A2:ET_1km reprojected\n",
      "All layer for dataset 'H:/GIS/MODIS\\MOD16A2.A2009M02.h09v04.105.2013119183447.hdf' reprojected\n",
      "Layer HDF4_EOS:EOS_GRID:\"H:/GIS/MODIS\\MOD16A2.A2009M02.h09v05.105.2013119190251.hdf\":MOD_Grid_MOD16A2:ET_1km reprojected\n",
      "All layer for dataset 'H:/GIS/MODIS\\MOD16A2.A2009M02.h09v05.105.2013119190251.hdf' reprojected\n",
      "Layer HDF4_EOS:EOS_GRID:\"H:/GIS/MODIS\\MOD16A2.A2009M03.h08v05.105.2013119173019.hdf\":MOD_Grid_MOD16A2:ET_1km reprojected\n",
      "All layer for dataset 'H:/GIS/MODIS\\MOD16A2.A2009M03.h08v05.105.2013119173019.hdf' reprojected\n",
      "Layer HDF4_EOS:EOS_GRID:\"H:/GIS/MODIS\\MOD16A2.A2009M03.h09v04.105.2013119183448.hdf\":MOD_Grid_MOD16A2:ET_1km reprojected\n",
      "All layer for dataset 'H:/GIS/MODIS\\MOD16A2.A2009M03.h09v04.105.2013119183448.hdf' reprojected\n",
      "Layer HDF4_EOS:EOS_GRID:\"H:/GIS/MODIS\\MOD16A2.A2009M03.h09v05.105.2013119190253.hdf\":MOD_Grid_MOD16A2:ET_1km reprojected\n",
      "All layer for dataset 'H:/GIS/MODIS\\MOD16A2.A2009M03.h09v05.105.2013119190253.hdf' reprojected\n",
      "Layer HDF4_EOS:EOS_GRID:\"H:/GIS/MODIS\\MOD16A2.A2009M04.h08v05.105.2013119173020.hdf\":MOD_Grid_MOD16A2:ET_1km reprojected\n",
      "All layer for dataset 'H:/GIS/MODIS\\MOD16A2.A2009M04.h08v05.105.2013119173020.hdf' reprojected\n",
      "Layer HDF4_EOS:EOS_GRID:\"H:/GIS/MODIS\\MOD16A2.A2009M04.h09v04.105.2013119183449.hdf\":MOD_Grid_MOD16A2:ET_1km reprojected\n",
      "All layer for dataset 'H:/GIS/MODIS\\MOD16A2.A2009M04.h09v04.105.2013119183449.hdf' reprojected\n",
      "Layer HDF4_EOS:EOS_GRID:\"H:/GIS/MODIS\\MOD16A2.A2009M04.h09v05.105.2013119190254.hdf\":MOD_Grid_MOD16A2:ET_1km reprojected\n",
      "All layer for dataset 'H:/GIS/MODIS\\MOD16A2.A2009M04.h09v05.105.2013119190254.hdf' reprojected\n",
      "Layer HDF4_EOS:EOS_GRID:\"H:/GIS/MODIS\\MOD16A2.A2009M05.h08v05.105.2013119173022.hdf\":MOD_Grid_MOD16A2:ET_1km reprojected\n",
      "All layer for dataset 'H:/GIS/MODIS\\MOD16A2.A2009M05.h08v05.105.2013119173022.hdf' reprojected\n",
      "Layer HDF4_EOS:EOS_GRID:\"H:/GIS/MODIS\\MOD16A2.A2009M05.h09v04.105.2013119183450.hdf\":MOD_Grid_MOD16A2:ET_1km reprojected\n",
      "All layer for dataset 'H:/GIS/MODIS\\MOD16A2.A2009M05.h09v04.105.2013119183450.hdf' reprojected\n",
      "Layer HDF4_EOS:EOS_GRID:\"H:/GIS/MODIS\\MOD16A2.A2009M05.h09v05.105.2013119190256.hdf\":MOD_Grid_MOD16A2:ET_1km reprojected\n",
      "All layer for dataset 'H:/GIS/MODIS\\MOD16A2.A2009M05.h09v05.105.2013119190256.hdf' reprojected\n",
      "Layer HDF4_EOS:EOS_GRID:\"H:/GIS/MODIS\\MOD16A2.A2009M06.h08v05.105.2013119173023.hdf\":MOD_Grid_MOD16A2:ET_1km reprojected\n",
      "All layer for dataset 'H:/GIS/MODIS\\MOD16A2.A2009M06.h08v05.105.2013119173023.hdf' reprojected\n",
      "Layer HDF4_EOS:EOS_GRID:\"H:/GIS/MODIS\\MOD16A2.A2009M06.h09v04.105.2013119183451.hdf\":MOD_Grid_MOD16A2:ET_1km reprojected\n",
      "All layer for dataset 'H:/GIS/MODIS\\MOD16A2.A2009M06.h09v04.105.2013119183451.hdf' reprojected\n",
      "Layer HDF4_EOS:EOS_GRID:\"H:/GIS/MODIS\\MOD16A2.A2009M06.h09v05.105.2013119190257.hdf\":MOD_Grid_MOD16A2:ET_1km reprojected\n",
      "All layer for dataset 'H:/GIS/MODIS\\MOD16A2.A2009M06.h09v05.105.2013119190257.hdf' reprojected\n",
      "Layer HDF4_EOS:EOS_GRID:\"H:/GIS/MODIS\\MOD16A2.A2009M07.h08v05.105.2013119173025.hdf\":MOD_Grid_MOD16A2:ET_1km reprojected\n",
      "All layer for dataset 'H:/GIS/MODIS\\MOD16A2.A2009M07.h08v05.105.2013119173025.hdf' reprojected\n",
      "Layer HDF4_EOS:EOS_GRID:\"H:/GIS/MODIS\\MOD16A2.A2009M07.h09v04.105.2013119183452.hdf\":MOD_Grid_MOD16A2:ET_1km reprojected\n",
      "All layer for dataset 'H:/GIS/MODIS\\MOD16A2.A2009M07.h09v04.105.2013119183452.hdf' reprojected\n",
      "Layer HDF4_EOS:EOS_GRID:\"H:/GIS/MODIS\\MOD16A2.A2009M07.h09v05.105.2013119190258.hdf\":MOD_Grid_MOD16A2:ET_1km reprojected\n",
      "All layer for dataset 'H:/GIS/MODIS\\MOD16A2.A2009M07.h09v05.105.2013119190258.hdf' reprojected\n",
      "Layer HDF4_EOS:EOS_GRID:\"H:/GIS/MODIS\\MOD16A2.A2009M08.h08v05.105.2013119173026.hdf\":MOD_Grid_MOD16A2:ET_1km reprojected\n",
      "All layer for dataset 'H:/GIS/MODIS\\MOD16A2.A2009M08.h08v05.105.2013119173026.hdf' reprojected\n",
      "Layer HDF4_EOS:EOS_GRID:\"H:/GIS/MODIS\\MOD16A2.A2009M08.h09v04.105.2013119183453.hdf\":MOD_Grid_MOD16A2:ET_1km reprojected\n",
      "All layer for dataset 'H:/GIS/MODIS\\MOD16A2.A2009M08.h09v04.105.2013119183453.hdf' reprojected\n",
      "Layer HDF4_EOS:EOS_GRID:\"H:/GIS/MODIS\\MOD16A2.A2009M08.h09v05.105.2013119190259.hdf\":MOD_Grid_MOD16A2:ET_1km reprojected\n",
      "All layer for dataset 'H:/GIS/MODIS\\MOD16A2.A2009M08.h09v05.105.2013119190259.hdf' reprojected\n",
      "Layer HDF4_EOS:EOS_GRID:\"H:/GIS/MODIS\\MOD16A2.A2009M09.h08v05.105.2013119173027.hdf\":MOD_Grid_MOD16A2:ET_1km reprojected\n",
      "All layer for dataset 'H:/GIS/MODIS\\MOD16A2.A2009M09.h08v05.105.2013119173027.hdf' reprojected\n",
      "Layer HDF4_EOS:EOS_GRID:\"H:/GIS/MODIS\\MOD16A2.A2009M09.h09v04.105.2013119183453.hdf\":MOD_Grid_MOD16A2:ET_1km reprojected\n",
      "All layer for dataset 'H:/GIS/MODIS\\MOD16A2.A2009M09.h09v04.105.2013119183453.hdf' reprojected\n",
      "Layer HDF4_EOS:EOS_GRID:\"H:/GIS/MODIS\\MOD16A2.A2009M09.h09v05.105.2013119190300.hdf\":MOD_Grid_MOD16A2:ET_1km reprojected\n",
      "All layer for dataset 'H:/GIS/MODIS\\MOD16A2.A2009M09.h09v05.105.2013119190300.hdf' reprojected\n",
      "Layer HDF4_EOS:EOS_GRID:\"H:/GIS/MODIS\\MOD16A2.A2009M10.h08v05.105.2013119173029.hdf\":MOD_Grid_MOD16A2:ET_1km reprojected\n",
      "All layer for dataset 'H:/GIS/MODIS\\MOD16A2.A2009M10.h08v05.105.2013119173029.hdf' reprojected\n",
      "Layer HDF4_EOS:EOS_GRID:\"H:/GIS/MODIS\\MOD16A2.A2009M10.h09v04.105.2013119183454.hdf\":MOD_Grid_MOD16A2:ET_1km reprojected\n",
      "All layer for dataset 'H:/GIS/MODIS\\MOD16A2.A2009M10.h09v04.105.2013119183454.hdf' reprojected\n",
      "Layer HDF4_EOS:EOS_GRID:\"H:/GIS/MODIS\\MOD16A2.A2009M10.h09v05.105.2013119190302.hdf\":MOD_Grid_MOD16A2:ET_1km reprojected\n",
      "All layer for dataset 'H:/GIS/MODIS\\MOD16A2.A2009M10.h09v05.105.2013119190302.hdf' reprojected\n",
      "Layer HDF4_EOS:EOS_GRID:\"H:/GIS/MODIS\\MOD16A2.A2009M11.h08v05.105.2013119173030.hdf\":MOD_Grid_MOD16A2:ET_1km reprojected\n",
      "All layer for dataset 'H:/GIS/MODIS\\MOD16A2.A2009M11.h08v05.105.2013119173030.hdf' reprojected\n",
      "Layer HDF4_EOS:EOS_GRID:\"H:/GIS/MODIS\\MOD16A2.A2009M11.h09v04.105.2013119183455.hdf\":MOD_Grid_MOD16A2:ET_1km reprojected\n",
      "All layer for dataset 'H:/GIS/MODIS\\MOD16A2.A2009M11.h09v04.105.2013119183455.hdf' reprojected\n",
      "Layer HDF4_EOS:EOS_GRID:\"H:/GIS/MODIS\\MOD16A2.A2009M11.h09v05.105.2013119190303.hdf\":MOD_Grid_MOD16A2:ET_1km reprojected\n",
      "All layer for dataset 'H:/GIS/MODIS\\MOD16A2.A2009M11.h09v05.105.2013119190303.hdf' reprojected\n",
      "Layer HDF4_EOS:EOS_GRID:\"H:/GIS/MODIS\\MOD16A2.A2009M12.h08v05.105.2013119173031.hdf\":MOD_Grid_MOD16A2:ET_1km reprojected\n",
      "All layer for dataset 'H:/GIS/MODIS\\MOD16A2.A2009M12.h08v05.105.2013119173031.hdf' reprojected\n",
      "Layer HDF4_EOS:EOS_GRID:\"H:/GIS/MODIS\\MOD16A2.A2009M12.h09v04.105.2013119183456.hdf\":MOD_Grid_MOD16A2:ET_1km reprojected\n",
      "All layer for dataset 'H:/GIS/MODIS\\MOD16A2.A2009M12.h09v04.105.2013119183456.hdf' reprojected\n",
      "Layer HDF4_EOS:EOS_GRID:\"H:/GIS/MODIS\\MOD16A2.A2009M12.h09v05.105.2013119190305.hdf\":MOD_Grid_MOD16A2:ET_1km reprojected\n",
      "All layer for dataset 'H:/GIS/MODIS\\MOD16A2.A2009M12.h09v05.105.2013119190305.hdf' reprojected\n",
      "Layer HDF4_EOS:EOS_GRID:\"H:/GIS/MODIS\\MOD16A2.A2010M01.h08v05.105.2013119173042.hdf\":MOD_Grid_MOD16A2:ET_1km reprojected\n",
      "All layer for dataset 'H:/GIS/MODIS\\MOD16A2.A2010M01.h08v05.105.2013119173042.hdf' reprojected\n",
      "Layer HDF4_EOS:EOS_GRID:\"H:/GIS/MODIS\\MOD16A2.A2010M01.h09v04.105.2013119183726.hdf\":MOD_Grid_MOD16A2:ET_1km reprojected\n",
      "All layer for dataset 'H:/GIS/MODIS\\MOD16A2.A2010M01.h09v04.105.2013119183726.hdf' reprojected\n",
      "Layer HDF4_EOS:EOS_GRID:\"H:/GIS/MODIS\\MOD16A2.A2010M01.h09v05.105.2013119190632.hdf\":MOD_Grid_MOD16A2:ET_1km reprojected\n",
      "All layer for dataset 'H:/GIS/MODIS\\MOD16A2.A2010M01.h09v05.105.2013119190632.hdf' reprojected\n",
      "Layer HDF4_EOS:EOS_GRID:\"H:/GIS/MODIS\\MOD16A2.A2010M02.h08v05.105.2013119173044.hdf\":MOD_Grid_MOD16A2:ET_1km reprojected\n",
      "All layer for dataset 'H:/GIS/MODIS\\MOD16A2.A2010M02.h08v05.105.2013119173044.hdf' reprojected\n",
      "Layer HDF4_EOS:EOS_GRID:\"H:/GIS/MODIS\\MOD16A2.A2010M02.h09v04.105.2013119183727.hdf\":MOD_Grid_MOD16A2:ET_1km reprojected\n",
      "All layer for dataset 'H:/GIS/MODIS\\MOD16A2.A2010M02.h09v04.105.2013119183727.hdf' reprojected\n",
      "Layer HDF4_EOS:EOS_GRID:\"H:/GIS/MODIS\\MOD16A2.A2010M02.h09v05.105.2013119190634.hdf\":MOD_Grid_MOD16A2:ET_1km reprojected\n",
      "All layer for dataset 'H:/GIS/MODIS\\MOD16A2.A2010M02.h09v05.105.2013119190634.hdf' reprojected\n",
      "Layer HDF4_EOS:EOS_GRID:\"H:/GIS/MODIS\\MOD16A2.A2010M03.h08v05.105.2013119173045.hdf\":MOD_Grid_MOD16A2:ET_1km reprojected\n",
      "All layer for dataset 'H:/GIS/MODIS\\MOD16A2.A2010M03.h08v05.105.2013119173045.hdf' reprojected\n",
      "Layer HDF4_EOS:EOS_GRID:\"H:/GIS/MODIS\\MOD16A2.A2010M03.h09v04.105.2013119183728.hdf\":MOD_Grid_MOD16A2:ET_1km reprojected\n",
      "All layer for dataset 'H:/GIS/MODIS\\MOD16A2.A2010M03.h09v04.105.2013119183728.hdf' reprojected\n",
      "Layer HDF4_EOS:EOS_GRID:\"H:/GIS/MODIS\\MOD16A2.A2010M03.h09v05.105.2013119190636.hdf\":MOD_Grid_MOD16A2:ET_1km reprojected\n",
      "All layer for dataset 'H:/GIS/MODIS\\MOD16A2.A2010M03.h09v05.105.2013119190636.hdf' reprojected\n",
      "Layer HDF4_EOS:EOS_GRID:\"H:/GIS/MODIS\\MOD16A2.A2010M04.h08v05.105.2013119173046.hdf\":MOD_Grid_MOD16A2:ET_1km reprojected\n",
      "All layer for dataset 'H:/GIS/MODIS\\MOD16A2.A2010M04.h08v05.105.2013119173046.hdf' reprojected\n",
      "Layer HDF4_EOS:EOS_GRID:\"H:/GIS/MODIS\\MOD16A2.A2010M04.h09v04.105.2013119183729.hdf\":MOD_Grid_MOD16A2:ET_1km reprojected\n",
      "All layer for dataset 'H:/GIS/MODIS\\MOD16A2.A2010M04.h09v04.105.2013119183729.hdf' reprojected\n",
      "Layer HDF4_EOS:EOS_GRID:\"H:/GIS/MODIS\\MOD16A2.A2010M04.h09v05.105.2013119190637.hdf\":MOD_Grid_MOD16A2:ET_1km reprojected\n",
      "All layer for dataset 'H:/GIS/MODIS\\MOD16A2.A2010M04.h09v05.105.2013119190637.hdf' reprojected\n",
      "Layer HDF4_EOS:EOS_GRID:\"H:/GIS/MODIS\\MOD16A2.A2010M05.h08v05.105.2013119173047.hdf\":MOD_Grid_MOD16A2:ET_1km reprojected\n",
      "All layer for dataset 'H:/GIS/MODIS\\MOD16A2.A2010M05.h08v05.105.2013119173047.hdf' reprojected\n",
      "Layer HDF4_EOS:EOS_GRID:\"H:/GIS/MODIS\\MOD16A2.A2010M05.h09v04.105.2013119183729.hdf\":MOD_Grid_MOD16A2:ET_1km reprojected\n",
      "All layer for dataset 'H:/GIS/MODIS\\MOD16A2.A2010M05.h09v04.105.2013119183729.hdf' reprojected\n",
      "Layer HDF4_EOS:EOS_GRID:\"H:/GIS/MODIS\\MOD16A2.A2010M05.h09v05.105.2013119190639.hdf\":MOD_Grid_MOD16A2:ET_1km reprojected\n",
      "All layer for dataset 'H:/GIS/MODIS\\MOD16A2.A2010M05.h09v05.105.2013119190639.hdf' reprojected\n",
      "Layer HDF4_EOS:EOS_GRID:\"H:/GIS/MODIS\\MOD16A2.A2010M06.h08v05.105.2013119173049.hdf\":MOD_Grid_MOD16A2:ET_1km reprojected\n",
      "All layer for dataset 'H:/GIS/MODIS\\MOD16A2.A2010M06.h08v05.105.2013119173049.hdf' reprojected\n",
      "Layer HDF4_EOS:EOS_GRID:\"H:/GIS/MODIS\\MOD16A2.A2010M06.h09v04.105.2013119183730.hdf\":MOD_Grid_MOD16A2:ET_1km reprojected\n",
      "All layer for dataset 'H:/GIS/MODIS\\MOD16A2.A2010M06.h09v04.105.2013119183730.hdf' reprojected\n",
      "Layer HDF4_EOS:EOS_GRID:\"H:/GIS/MODIS\\MOD16A2.A2010M06.h09v05.105.2013119190640.hdf\":MOD_Grid_MOD16A2:ET_1km reprojected\n",
      "All layer for dataset 'H:/GIS/MODIS\\MOD16A2.A2010M06.h09v05.105.2013119190640.hdf' reprojected\n",
      "Layer HDF4_EOS:EOS_GRID:\"H:/GIS/MODIS\\MOD16A2.A2010M07.h08v05.105.2013119173050.hdf\":MOD_Grid_MOD16A2:ET_1km reprojected\n",
      "All layer for dataset 'H:/GIS/MODIS\\MOD16A2.A2010M07.h08v05.105.2013119173050.hdf' reprojected\n",
      "Layer HDF4_EOS:EOS_GRID:\"H:/GIS/MODIS\\MOD16A2.A2010M07.h09v04.105.2013119183731.hdf\":MOD_Grid_MOD16A2:ET_1km reprojected\n",
      "All layer for dataset 'H:/GIS/MODIS\\MOD16A2.A2010M07.h09v04.105.2013119183731.hdf' reprojected\n",
      "Layer HDF4_EOS:EOS_GRID:\"H:/GIS/MODIS\\MOD16A2.A2010M07.h09v05.105.2013119190646.hdf\":MOD_Grid_MOD16A2:ET_1km reprojected\n",
      "All layer for dataset 'H:/GIS/MODIS\\MOD16A2.A2010M07.h09v05.105.2013119190646.hdf' reprojected\n",
      "Layer HDF4_EOS:EOS_GRID:\"H:/GIS/MODIS\\MOD16A2.A2010M08.h08v05.105.2013119173052.hdf\":MOD_Grid_MOD16A2:ET_1km reprojected\n",
      "All layer for dataset 'H:/GIS/MODIS\\MOD16A2.A2010M08.h08v05.105.2013119173052.hdf' reprojected\n",
      "Layer HDF4_EOS:EOS_GRID:\"H:/GIS/MODIS\\MOD16A2.A2010M08.h09v04.105.2013119183732.hdf\":MOD_Grid_MOD16A2:ET_1km reprojected\n",
      "All layer for dataset 'H:/GIS/MODIS\\MOD16A2.A2010M08.h09v04.105.2013119183732.hdf' reprojected\n",
      "Layer HDF4_EOS:EOS_GRID:\"H:/GIS/MODIS\\MOD16A2.A2010M08.h09v05.105.2013119190647.hdf\":MOD_Grid_MOD16A2:ET_1km reprojected\n",
      "All layer for dataset 'H:/GIS/MODIS\\MOD16A2.A2010M08.h09v05.105.2013119190647.hdf' reprojected\n",
      "Layer HDF4_EOS:EOS_GRID:\"H:/GIS/MODIS\\MOD16A2.A2010M09.h08v05.105.2013119173053.hdf\":MOD_Grid_MOD16A2:ET_1km reprojected\n",
      "All layer for dataset 'H:/GIS/MODIS\\MOD16A2.A2010M09.h08v05.105.2013119173053.hdf' reprojected\n",
      "Layer HDF4_EOS:EOS_GRID:\"H:/GIS/MODIS\\MOD16A2.A2010M09.h09v04.105.2013119183733.hdf\":MOD_Grid_MOD16A2:ET_1km reprojected\n",
      "All layer for dataset 'H:/GIS/MODIS\\MOD16A2.A2010M09.h09v04.105.2013119183733.hdf' reprojected\n",
      "Layer HDF4_EOS:EOS_GRID:\"H:/GIS/MODIS\\MOD16A2.A2010M09.h09v05.105.2013119190648.hdf\":MOD_Grid_MOD16A2:ET_1km reprojected\n",
      "All layer for dataset 'H:/GIS/MODIS\\MOD16A2.A2010M09.h09v05.105.2013119190648.hdf' reprojected\n",
      "Layer HDF4_EOS:EOS_GRID:\"H:/GIS/MODIS\\MOD16A2.A2010M10.h08v05.105.2013119173054.hdf\":MOD_Grid_MOD16A2:ET_1km reprojected\n",
      "All layer for dataset 'H:/GIS/MODIS\\MOD16A2.A2010M10.h08v05.105.2013119173054.hdf' reprojected\n",
      "Layer HDF4_EOS:EOS_GRID:\"H:/GIS/MODIS\\MOD16A2.A2010M10.h09v04.105.2013119183734.hdf\":MOD_Grid_MOD16A2:ET_1km reprojected\n",
      "All layer for dataset 'H:/GIS/MODIS\\MOD16A2.A2010M10.h09v04.105.2013119183734.hdf' reprojected\n",
      "Layer HDF4_EOS:EOS_GRID:\"H:/GIS/MODIS\\MOD16A2.A2010M10.h09v05.105.2013119190649.hdf\":MOD_Grid_MOD16A2:ET_1km reprojected\n",
      "All layer for dataset 'H:/GIS/MODIS\\MOD16A2.A2010M10.h09v05.105.2013119190649.hdf' reprojected\n",
      "Layer HDF4_EOS:EOS_GRID:\"H:/GIS/MODIS\\MOD16A2.A2010M11.h08v05.105.2013119173055.hdf\":MOD_Grid_MOD16A2:ET_1km reprojected\n",
      "All layer for dataset 'H:/GIS/MODIS\\MOD16A2.A2010M11.h08v05.105.2013119173055.hdf' reprojected\n",
      "Layer HDF4_EOS:EOS_GRID:\"H:/GIS/MODIS\\MOD16A2.A2010M11.h09v04.105.2013119183735.hdf\":MOD_Grid_MOD16A2:ET_1km reprojected\n",
      "All layer for dataset 'H:/GIS/MODIS\\MOD16A2.A2010M11.h09v04.105.2013119183735.hdf' reprojected\n",
      "Layer HDF4_EOS:EOS_GRID:\"H:/GIS/MODIS\\MOD16A2.A2010M11.h09v05.105.2013119190651.hdf\":MOD_Grid_MOD16A2:ET_1km reprojected\n",
      "All layer for dataset 'H:/GIS/MODIS\\MOD16A2.A2010M11.h09v05.105.2013119190651.hdf' reprojected\n",
      "Layer HDF4_EOS:EOS_GRID:\"H:/GIS/MODIS\\MOD16A2.A2010M12.h08v05.105.2013119173057.hdf\":MOD_Grid_MOD16A2:ET_1km reprojected\n",
      "All layer for dataset 'H:/GIS/MODIS\\MOD16A2.A2010M12.h08v05.105.2013119173057.hdf' reprojected\n",
      "Layer HDF4_EOS:EOS_GRID:\"H:/GIS/MODIS\\MOD16A2.A2010M12.h09v04.105.2013119183739.hdf\":MOD_Grid_MOD16A2:ET_1km reprojected\n",
      "All layer for dataset 'H:/GIS/MODIS\\MOD16A2.A2010M12.h09v04.105.2013119183739.hdf' reprojected\n",
      "Layer HDF4_EOS:EOS_GRID:\"H:/GIS/MODIS\\MOD16A2.A2010M12.h09v05.105.2013119190652.hdf\":MOD_Grid_MOD16A2:ET_1km reprojected\n",
      "All layer for dataset 'H:/GIS/MODIS\\MOD16A2.A2010M12.h09v05.105.2013119190652.hdf' reprojected\n",
      "Layer HDF4_EOS:EOS_GRID:\"H:/GIS/MODIS\\MOD16A2.A2011M01.h08v05.105.2013119173511.hdf\":MOD_Grid_MOD16A2:ET_1km reprojected\n",
      "All layer for dataset 'H:/GIS/MODIS\\MOD16A2.A2011M01.h08v05.105.2013119173511.hdf' reprojected\n",
      "Layer HDF4_EOS:EOS_GRID:\"H:/GIS/MODIS\\MOD16A2.A2011M01.h09v04.105.2013119184037.hdf\":MOD_Grid_MOD16A2:ET_1km reprojected\n",
      "All layer for dataset 'H:/GIS/MODIS\\MOD16A2.A2011M01.h09v04.105.2013119184037.hdf' reprojected\n",
      "Layer HDF4_EOS:EOS_GRID:\"H:/GIS/MODIS\\MOD16A2.A2011M01.h09v05.105.2013119190910.hdf\":MOD_Grid_MOD16A2:ET_1km reprojected\n",
      "All layer for dataset 'H:/GIS/MODIS\\MOD16A2.A2011M01.h09v05.105.2013119190910.hdf' reprojected\n",
      "Layer HDF4_EOS:EOS_GRID:\"H:/GIS/MODIS\\MOD16A2.A2011M02.h08v05.105.2013119173513.hdf\":MOD_Grid_MOD16A2:ET_1km reprojected\n",
      "All layer for dataset 'H:/GIS/MODIS\\MOD16A2.A2011M02.h08v05.105.2013119173513.hdf' reprojected\n",
      "Layer HDF4_EOS:EOS_GRID:\"H:/GIS/MODIS\\MOD16A2.A2011M02.h09v04.105.2013119184038.hdf\":MOD_Grid_MOD16A2:ET_1km reprojected\n",
      "All layer for dataset 'H:/GIS/MODIS\\MOD16A2.A2011M02.h09v04.105.2013119184038.hdf' reprojected\n",
      "Layer HDF4_EOS:EOS_GRID:\"H:/GIS/MODIS\\MOD16A2.A2011M02.h09v05.105.2013119190912.hdf\":MOD_Grid_MOD16A2:ET_1km reprojected\n",
      "All layer for dataset 'H:/GIS/MODIS\\MOD16A2.A2011M02.h09v05.105.2013119190912.hdf' reprojected\n",
      "Layer HDF4_EOS:EOS_GRID:\"H:/GIS/MODIS\\MOD16A2.A2011M03.h08v05.105.2013119173514.hdf\":MOD_Grid_MOD16A2:ET_1km reprojected\n",
      "All layer for dataset 'H:/GIS/MODIS\\MOD16A2.A2011M03.h08v05.105.2013119173514.hdf' reprojected\n",
      "Layer HDF4_EOS:EOS_GRID:\"H:/GIS/MODIS\\MOD16A2.A2011M03.h09v04.105.2013119184039.hdf\":MOD_Grid_MOD16A2:ET_1km reprojected\n",
      "All layer for dataset 'H:/GIS/MODIS\\MOD16A2.A2011M03.h09v04.105.2013119184039.hdf' reprojected\n",
      "Layer HDF4_EOS:EOS_GRID:\"H:/GIS/MODIS\\MOD16A2.A2011M03.h09v05.105.2013119190914.hdf\":MOD_Grid_MOD16A2:ET_1km reprojected\n",
      "All layer for dataset 'H:/GIS/MODIS\\MOD16A2.A2011M03.h09v05.105.2013119190914.hdf' reprojected\n",
      "Layer HDF4_EOS:EOS_GRID:\"H:/GIS/MODIS\\MOD16A2.A2011M04.h08v05.105.2013119173516.hdf\":MOD_Grid_MOD16A2:ET_1km reprojected\n",
      "All layer for dataset 'H:/GIS/MODIS\\MOD16A2.A2011M04.h08v05.105.2013119173516.hdf' reprojected\n",
      "Layer HDF4_EOS:EOS_GRID:\"H:/GIS/MODIS\\MOD16A2.A2011M04.h09v04.105.2013119184040.hdf\":MOD_Grid_MOD16A2:ET_1km reprojected\n",
      "All layer for dataset 'H:/GIS/MODIS\\MOD16A2.A2011M04.h09v04.105.2013119184040.hdf' reprojected\n",
      "Layer HDF4_EOS:EOS_GRID:\"H:/GIS/MODIS\\MOD16A2.A2011M04.h09v05.105.2013119190915.hdf\":MOD_Grid_MOD16A2:ET_1km reprojected\n",
      "All layer for dataset 'H:/GIS/MODIS\\MOD16A2.A2011M04.h09v05.105.2013119190915.hdf' reprojected\n",
      "Layer HDF4_EOS:EOS_GRID:\"H:/GIS/MODIS\\MOD16A2.A2011M05.h08v05.105.2013119173517.hdf\":MOD_Grid_MOD16A2:ET_1km reprojected\n",
      "All layer for dataset 'H:/GIS/MODIS\\MOD16A2.A2011M05.h08v05.105.2013119173517.hdf' reprojected\n",
      "Layer HDF4_EOS:EOS_GRID:\"H:/GIS/MODIS\\MOD16A2.A2011M05.h09v04.105.2013119184041.hdf\":MOD_Grid_MOD16A2:ET_1km reprojected\n",
      "All layer for dataset 'H:/GIS/MODIS\\MOD16A2.A2011M05.h09v04.105.2013119184041.hdf' reprojected\n",
      "Layer HDF4_EOS:EOS_GRID:\"H:/GIS/MODIS\\MOD16A2.A2011M05.h09v05.105.2013119190917.hdf\":MOD_Grid_MOD16A2:ET_1km reprojected\n",
      "All layer for dataset 'H:/GIS/MODIS\\MOD16A2.A2011M05.h09v05.105.2013119190917.hdf' reprojected\n",
      "Layer HDF4_EOS:EOS_GRID:\"H:/GIS/MODIS\\MOD16A2.A2011M06.h08v05.105.2013119173519.hdf\":MOD_Grid_MOD16A2:ET_1km reprojected\n",
      "All layer for dataset 'H:/GIS/MODIS\\MOD16A2.A2011M06.h08v05.105.2013119173519.hdf' reprojected\n",
      "Layer HDF4_EOS:EOS_GRID:\"H:/GIS/MODIS\\MOD16A2.A2011M06.h09v04.105.2013119184042.hdf\":MOD_Grid_MOD16A2:ET_1km reprojected\n",
      "All layer for dataset 'H:/GIS/MODIS\\MOD16A2.A2011M06.h09v04.105.2013119184042.hdf' reprojected\n",
      "Layer HDF4_EOS:EOS_GRID:\"H:/GIS/MODIS\\MOD16A2.A2011M06.h09v05.105.2013119190918.hdf\":MOD_Grid_MOD16A2:ET_1km reprojected\n",
      "All layer for dataset 'H:/GIS/MODIS\\MOD16A2.A2011M06.h09v05.105.2013119190918.hdf' reprojected\n",
      "Layer HDF4_EOS:EOS_GRID:\"H:/GIS/MODIS\\MOD16A2.A2011M07.h08v05.105.2013119173521.hdf\":MOD_Grid_MOD16A2:ET_1km reprojected\n",
      "All layer for dataset 'H:/GIS/MODIS\\MOD16A2.A2011M07.h08v05.105.2013119173521.hdf' reprojected\n",
      "Layer HDF4_EOS:EOS_GRID:\"H:/GIS/MODIS\\MOD16A2.A2011M07.h09v04.105.2013119184043.hdf\":MOD_Grid_MOD16A2:ET_1km reprojected\n",
      "All layer for dataset 'H:/GIS/MODIS\\MOD16A2.A2011M07.h09v04.105.2013119184043.hdf' reprojected\n",
      "Layer HDF4_EOS:EOS_GRID:\"H:/GIS/MODIS\\MOD16A2.A2011M07.h09v05.105.2013119190919.hdf\":MOD_Grid_MOD16A2:ET_1km reprojected\n",
      "All layer for dataset 'H:/GIS/MODIS\\MOD16A2.A2011M07.h09v05.105.2013119190919.hdf' reprojected\n",
      "Layer HDF4_EOS:EOS_GRID:\"H:/GIS/MODIS\\MOD16A2.A2011M08.h08v05.105.2013119173524.hdf\":MOD_Grid_MOD16A2:ET_1km reprojected\n",
      "All layer for dataset 'H:/GIS/MODIS\\MOD16A2.A2011M08.h08v05.105.2013119173524.hdf' reprojected\n",
      "Layer HDF4_EOS:EOS_GRID:\"H:/GIS/MODIS\\MOD16A2.A2011M08.h09v04.105.2013119184043.hdf\":MOD_Grid_MOD16A2:ET_1km reprojected\n",
      "All layer for dataset 'H:/GIS/MODIS\\MOD16A2.A2011M08.h09v04.105.2013119184043.hdf' reprojected\n",
      "Layer HDF4_EOS:EOS_GRID:\"H:/GIS/MODIS\\MOD16A2.A2011M08.h09v05.105.2013119190921.hdf\":MOD_Grid_MOD16A2:ET_1km reprojected\n",
      "All layer for dataset 'H:/GIS/MODIS\\MOD16A2.A2011M08.h09v05.105.2013119190921.hdf' reprojected\n",
      "Layer HDF4_EOS:EOS_GRID:\"H:/GIS/MODIS\\MOD16A2.A2011M09.h08v05.105.2013119173525.hdf\":MOD_Grid_MOD16A2:ET_1km reprojected\n",
      "All layer for dataset 'H:/GIS/MODIS\\MOD16A2.A2011M09.h08v05.105.2013119173525.hdf' reprojected\n",
      "Layer HDF4_EOS:EOS_GRID:\"H:/GIS/MODIS\\MOD16A2.A2011M09.h09v04.105.2013119184044.hdf\":MOD_Grid_MOD16A2:ET_1km reprojected\n",
      "All layer for dataset 'H:/GIS/MODIS\\MOD16A2.A2011M09.h09v04.105.2013119184044.hdf' reprojected\n",
      "Layer HDF4_EOS:EOS_GRID:\"H:/GIS/MODIS\\MOD16A2.A2011M09.h09v05.105.2013119190922.hdf\":MOD_Grid_MOD16A2:ET_1km reprojected\n",
      "All layer for dataset 'H:/GIS/MODIS\\MOD16A2.A2011M09.h09v05.105.2013119190922.hdf' reprojected\n",
      "Layer HDF4_EOS:EOS_GRID:\"H:/GIS/MODIS\\MOD16A2.A2011M10.h08v05.105.2013119173526.hdf\":MOD_Grid_MOD16A2:ET_1km reprojected\n",
      "All layer for dataset 'H:/GIS/MODIS\\MOD16A2.A2011M10.h08v05.105.2013119173526.hdf' reprojected\n",
      "Layer HDF4_EOS:EOS_GRID:\"H:/GIS/MODIS\\MOD16A2.A2011M10.h09v04.105.2013119184045.hdf\":MOD_Grid_MOD16A2:ET_1km reprojected\n",
      "All layer for dataset 'H:/GIS/MODIS\\MOD16A2.A2011M10.h09v04.105.2013119184045.hdf' reprojected\n",
      "Layer HDF4_EOS:EOS_GRID:\"H:/GIS/MODIS\\MOD16A2.A2011M10.h09v05.105.2013119190924.hdf\":MOD_Grid_MOD16A2:ET_1km reprojected\n",
      "All layer for dataset 'H:/GIS/MODIS\\MOD16A2.A2011M10.h09v05.105.2013119190924.hdf' reprojected\n",
      "Layer HDF4_EOS:EOS_GRID:\"H:/GIS/MODIS\\MOD16A2.A2011M11.h08v05.105.2013119173527.hdf\":MOD_Grid_MOD16A2:ET_1km reprojected\n",
      "All layer for dataset 'H:/GIS/MODIS\\MOD16A2.A2011M11.h08v05.105.2013119173527.hdf' reprojected\n",
      "Layer HDF4_EOS:EOS_GRID:\"H:/GIS/MODIS\\MOD16A2.A2011M11.h09v04.105.2013119184046.hdf\":MOD_Grid_MOD16A2:ET_1km reprojected\n",
      "All layer for dataset 'H:/GIS/MODIS\\MOD16A2.A2011M11.h09v04.105.2013119184046.hdf' reprojected\n",
      "Layer HDF4_EOS:EOS_GRID:\"H:/GIS/MODIS\\MOD16A2.A2011M11.h09v05.105.2013119190925.hdf\":MOD_Grid_MOD16A2:ET_1km reprojected\n",
      "All layer for dataset 'H:/GIS/MODIS\\MOD16A2.A2011M11.h09v05.105.2013119190925.hdf' reprojected\n",
      "Layer HDF4_EOS:EOS_GRID:\"H:/GIS/MODIS\\MOD16A2.A2011M12.h08v05.105.2013119173529.hdf\":MOD_Grid_MOD16A2:ET_1km reprojected\n",
      "All layer for dataset 'H:/GIS/MODIS\\MOD16A2.A2011M12.h08v05.105.2013119173529.hdf' reprojected\n",
      "Layer HDF4_EOS:EOS_GRID:\"H:/GIS/MODIS\\MOD16A2.A2011M12.h09v04.105.2013119184047.hdf\":MOD_Grid_MOD16A2:ET_1km reprojected\n",
      "All layer for dataset 'H:/GIS/MODIS\\MOD16A2.A2011M12.h09v04.105.2013119184047.hdf' reprojected\n",
      "Layer HDF4_EOS:EOS_GRID:\"H:/GIS/MODIS\\MOD16A2.A2011M12.h09v05.105.2013119190927.hdf\":MOD_Grid_MOD16A2:ET_1km reprojected\n",
      "All layer for dataset 'H:/GIS/MODIS\\MOD16A2.A2011M12.h09v05.105.2013119190927.hdf' reprojected\n",
      "Layer HDF4_EOS:EOS_GRID:\"H:/GIS/MODIS\\MOD16A2.A2012M01.h08v05.105.2013121201914.hdf\":MOD_Grid_MOD16A2:ET_1km reprojected\n",
      "All layer for dataset 'H:/GIS/MODIS\\MOD16A2.A2012M01.h08v05.105.2013121201914.hdf' reprojected\n",
      "Layer HDF4_EOS:EOS_GRID:\"H:/GIS/MODIS\\MOD16A2.A2012M01.h09v04.105.2013121203912.hdf\":MOD_Grid_MOD16A2:ET_1km reprojected\n",
      "All layer for dataset 'H:/GIS/MODIS\\MOD16A2.A2012M01.h09v04.105.2013121203912.hdf' reprojected\n",
      "Layer HDF4_EOS:EOS_GRID:\"H:/GIS/MODIS\\MOD16A2.A2012M01.h09v05.105.2013121210737.hdf\":MOD_Grid_MOD16A2:ET_1km reprojected\n",
      "All layer for dataset 'H:/GIS/MODIS\\MOD16A2.A2012M01.h09v05.105.2013121210737.hdf' reprojected\n",
      "Layer HDF4_EOS:EOS_GRID:\"H:/GIS/MODIS\\MOD16A2.A2012M02.h08v05.105.2013121201916.hdf\":MOD_Grid_MOD16A2:ET_1km reprojected\n",
      "All layer for dataset 'H:/GIS/MODIS\\MOD16A2.A2012M02.h08v05.105.2013121201916.hdf' reprojected\n",
      "Layer HDF4_EOS:EOS_GRID:\"H:/GIS/MODIS\\MOD16A2.A2012M02.h09v04.105.2013121203913.hdf\":MOD_Grid_MOD16A2:ET_1km reprojected\n",
      "All layer for dataset 'H:/GIS/MODIS\\MOD16A2.A2012M02.h09v04.105.2013121203913.hdf' reprojected\n",
      "Layer HDF4_EOS:EOS_GRID:\"H:/GIS/MODIS\\MOD16A2.A2012M02.h09v05.105.2013121210739.hdf\":MOD_Grid_MOD16A2:ET_1km reprojected\n",
      "All layer for dataset 'H:/GIS/MODIS\\MOD16A2.A2012M02.h09v05.105.2013121210739.hdf' reprojected\n",
      "Layer HDF4_EOS:EOS_GRID:\"H:/GIS/MODIS\\MOD16A2.A2012M03.h08v05.105.2013121201917.hdf\":MOD_Grid_MOD16A2:ET_1km reprojected\n",
      "All layer for dataset 'H:/GIS/MODIS\\MOD16A2.A2012M03.h08v05.105.2013121201917.hdf' reprojected\n",
      "Layer HDF4_EOS:EOS_GRID:\"H:/GIS/MODIS\\MOD16A2.A2012M03.h09v04.105.2013121203917.hdf\":MOD_Grid_MOD16A2:ET_1km reprojected\n",
      "All layer for dataset 'H:/GIS/MODIS\\MOD16A2.A2012M03.h09v04.105.2013121203917.hdf' reprojected\n",
      "Layer HDF4_EOS:EOS_GRID:\"H:/GIS/MODIS\\MOD16A2.A2012M03.h09v05.105.2013121210741.hdf\":MOD_Grid_MOD16A2:ET_1km reprojected\n",
      "All layer for dataset 'H:/GIS/MODIS\\MOD16A2.A2012M03.h09v05.105.2013121210741.hdf' reprojected\n",
      "Layer HDF4_EOS:EOS_GRID:\"H:/GIS/MODIS\\MOD16A2.A2012M04.h08v05.105.2013121201918.hdf\":MOD_Grid_MOD16A2:ET_1km reprojected\n",
      "All layer for dataset 'H:/GIS/MODIS\\MOD16A2.A2012M04.h08v05.105.2013121201918.hdf' reprojected\n",
      "Layer HDF4_EOS:EOS_GRID:\"H:/GIS/MODIS\\MOD16A2.A2012M04.h09v04.105.2013121203918.hdf\":MOD_Grid_MOD16A2:ET_1km reprojected\n",
      "All layer for dataset 'H:/GIS/MODIS\\MOD16A2.A2012M04.h09v04.105.2013121203918.hdf' reprojected\n",
      "Layer HDF4_EOS:EOS_GRID:\"H:/GIS/MODIS\\MOD16A2.A2012M04.h09v05.105.2013121210742.hdf\":MOD_Grid_MOD16A2:ET_1km reprojected\n",
      "All layer for dataset 'H:/GIS/MODIS\\MOD16A2.A2012M04.h09v05.105.2013121210742.hdf' reprojected\n",
      "Layer HDF4_EOS:EOS_GRID:\"H:/GIS/MODIS\\MOD16A2.A2012M05.h08v05.105.2013121201920.hdf\":MOD_Grid_MOD16A2:ET_1km reprojected\n",
      "All layer for dataset 'H:/GIS/MODIS\\MOD16A2.A2012M05.h08v05.105.2013121201920.hdf' reprojected\n",
      "Layer HDF4_EOS:EOS_GRID:\"H:/GIS/MODIS\\MOD16A2.A2012M05.h09v04.105.2013121203919.hdf\":MOD_Grid_MOD16A2:ET_1km reprojected\n",
      "All layer for dataset 'H:/GIS/MODIS\\MOD16A2.A2012M05.h09v04.105.2013121203919.hdf' reprojected\n",
      "Layer HDF4_EOS:EOS_GRID:\"H:/GIS/MODIS\\MOD16A2.A2012M05.h09v05.105.2013121210743.hdf\":MOD_Grid_MOD16A2:ET_1km reprojected\n",
      "All layer for dataset 'H:/GIS/MODIS\\MOD16A2.A2012M05.h09v05.105.2013121210743.hdf' reprojected\n",
      "Layer HDF4_EOS:EOS_GRID:\"H:/GIS/MODIS\\MOD16A2.A2012M06.h08v05.105.2013121201921.hdf\":MOD_Grid_MOD16A2:ET_1km reprojected\n",
      "All layer for dataset 'H:/GIS/MODIS\\MOD16A2.A2012M06.h08v05.105.2013121201921.hdf' reprojected\n",
      "Layer HDF4_EOS:EOS_GRID:\"H:/GIS/MODIS\\MOD16A2.A2012M06.h09v04.105.2013121203920.hdf\":MOD_Grid_MOD16A2:ET_1km reprojected\n",
      "All layer for dataset 'H:/GIS/MODIS\\MOD16A2.A2012M06.h09v04.105.2013121203920.hdf' reprojected\n",
      "Layer HDF4_EOS:EOS_GRID:\"H:/GIS/MODIS\\MOD16A2.A2012M06.h09v05.105.2013121210745.hdf\":MOD_Grid_MOD16A2:ET_1km reprojected\n",
      "All layer for dataset 'H:/GIS/MODIS\\MOD16A2.A2012M06.h09v05.105.2013121210745.hdf' reprojected\n",
      "Layer HDF4_EOS:EOS_GRID:\"H:/GIS/MODIS\\MOD16A2.A2012M07.h08v05.105.2013121201925.hdf\":MOD_Grid_MOD16A2:ET_1km reprojected\n",
      "All layer for dataset 'H:/GIS/MODIS\\MOD16A2.A2012M07.h08v05.105.2013121201925.hdf' reprojected\n",
      "Layer HDF4_EOS:EOS_GRID:\"H:/GIS/MODIS\\MOD16A2.A2012M07.h09v04.105.2013121203921.hdf\":MOD_Grid_MOD16A2:ET_1km reprojected\n",
      "All layer for dataset 'H:/GIS/MODIS\\MOD16A2.A2012M07.h09v04.105.2013121203921.hdf' reprojected\n",
      "Layer HDF4_EOS:EOS_GRID:\"H:/GIS/MODIS\\MOD16A2.A2012M07.h09v05.105.2013121210746.hdf\":MOD_Grid_MOD16A2:ET_1km reprojected\n",
      "All layer for dataset 'H:/GIS/MODIS\\MOD16A2.A2012M07.h09v05.105.2013121210746.hdf' reprojected\n",
      "Layer HDF4_EOS:EOS_GRID:\"H:/GIS/MODIS\\MOD16A2.A2012M08.h08v05.105.2013121201927.hdf\":MOD_Grid_MOD16A2:ET_1km reprojected\n",
      "All layer for dataset 'H:/GIS/MODIS\\MOD16A2.A2012M08.h08v05.105.2013121201927.hdf' reprojected\n",
      "Layer HDF4_EOS:EOS_GRID:\"H:/GIS/MODIS\\MOD16A2.A2012M08.h09v04.105.2013121203921.hdf\":MOD_Grid_MOD16A2:ET_1km reprojected\n",
      "All layer for dataset 'H:/GIS/MODIS\\MOD16A2.A2012M08.h09v04.105.2013121203921.hdf' reprojected\n",
      "Layer HDF4_EOS:EOS_GRID:\"H:/GIS/MODIS\\MOD16A2.A2012M08.h09v05.105.2013121210747.hdf\":MOD_Grid_MOD16A2:ET_1km reprojected\n",
      "All layer for dataset 'H:/GIS/MODIS\\MOD16A2.A2012M08.h09v05.105.2013121210747.hdf' reprojected\n",
      "Layer HDF4_EOS:EOS_GRID:\"H:/GIS/MODIS\\MOD16A2.A2012M09.h08v05.105.2013121201929.hdf\":MOD_Grid_MOD16A2:ET_1km reprojected\n",
      "All layer for dataset 'H:/GIS/MODIS\\MOD16A2.A2012M09.h08v05.105.2013121201929.hdf' reprojected\n",
      "Layer HDF4_EOS:EOS_GRID:\"H:/GIS/MODIS\\MOD16A2.A2012M09.h09v04.105.2013121203922.hdf\":MOD_Grid_MOD16A2:ET_1km reprojected\n",
      "All layer for dataset 'H:/GIS/MODIS\\MOD16A2.A2012M09.h09v04.105.2013121203922.hdf' reprojected\n",
      "Layer HDF4_EOS:EOS_GRID:\"H:/GIS/MODIS\\MOD16A2.A2012M09.h09v05.105.2013121210748.hdf\":MOD_Grid_MOD16A2:ET_1km reprojected\n",
      "All layer for dataset 'H:/GIS/MODIS\\MOD16A2.A2012M09.h09v05.105.2013121210748.hdf' reprojected\n",
      "Layer HDF4_EOS:EOS_GRID:\"H:/GIS/MODIS\\MOD16A2.A2012M10.h08v05.105.2013121201930.hdf\":MOD_Grid_MOD16A2:ET_1km reprojected\n",
      "All layer for dataset 'H:/GIS/MODIS\\MOD16A2.A2012M10.h08v05.105.2013121201930.hdf' reprojected\n",
      "Layer HDF4_EOS:EOS_GRID:\"H:/GIS/MODIS\\MOD16A2.A2012M10.h09v04.105.2013121203923.hdf\":MOD_Grid_MOD16A2:ET_1km reprojected\n",
      "All layer for dataset 'H:/GIS/MODIS\\MOD16A2.A2012M10.h09v04.105.2013121203923.hdf' reprojected\n",
      "Layer HDF4_EOS:EOS_GRID:\"H:/GIS/MODIS\\MOD16A2.A2012M10.h09v05.105.2013121210750.hdf\":MOD_Grid_MOD16A2:ET_1km reprojected\n",
      "All layer for dataset 'H:/GIS/MODIS\\MOD16A2.A2012M10.h09v05.105.2013121210750.hdf' reprojected\n",
      "Layer HDF4_EOS:EOS_GRID:\"H:/GIS/MODIS\\MOD16A2.A2012M11.h08v05.105.2013121201932.hdf\":MOD_Grid_MOD16A2:ET_1km reprojected\n",
      "All layer for dataset 'H:/GIS/MODIS\\MOD16A2.A2012M11.h08v05.105.2013121201932.hdf' reprojected\n",
      "Layer HDF4_EOS:EOS_GRID:\"H:/GIS/MODIS\\MOD16A2.A2012M11.h09v04.105.2013121203925.hdf\":MOD_Grid_MOD16A2:ET_1km reprojected\n",
      "All layer for dataset 'H:/GIS/MODIS\\MOD16A2.A2012M11.h09v04.105.2013121203925.hdf' reprojected\n",
      "Layer HDF4_EOS:EOS_GRID:\"H:/GIS/MODIS\\MOD16A2.A2012M11.h09v05.105.2013121210753.hdf\":MOD_Grid_MOD16A2:ET_1km reprojected\n",
      "All layer for dataset 'H:/GIS/MODIS\\MOD16A2.A2012M11.h09v05.105.2013121210753.hdf' reprojected\n",
      "Layer HDF4_EOS:EOS_GRID:\"H:/GIS/MODIS\\MOD16A2.A2012M12.h08v05.105.2013121201933.hdf\":MOD_Grid_MOD16A2:ET_1km reprojected\n",
      "All layer for dataset 'H:/GIS/MODIS\\MOD16A2.A2012M12.h08v05.105.2013121201933.hdf' reprojected\n",
      "Layer HDF4_EOS:EOS_GRID:\"H:/GIS/MODIS\\MOD16A2.A2012M12.h09v04.105.2013121203926.hdf\":MOD_Grid_MOD16A2:ET_1km reprojected\n",
      "All layer for dataset 'H:/GIS/MODIS\\MOD16A2.A2012M12.h09v04.105.2013121203926.hdf' reprojected\n",
      "Layer HDF4_EOS:EOS_GRID:\"H:/GIS/MODIS\\MOD16A2.A2012M12.h09v05.105.2013121210755.hdf\":MOD_Grid_MOD16A2:ET_1km reprojected\n",
      "All layer for dataset 'H:/GIS/MODIS\\MOD16A2.A2012M12.h09v05.105.2013121210755.hdf' reprojected\n",
      "Layer HDF4_EOS:EOS_GRID:\"H:/GIS/MODIS\\MOD16A2.A2013M01.h08v05.105.2014119202526.hdf\":MOD_Grid_MOD16A2:ET_1km reprojected\n",
      "All layer for dataset 'H:/GIS/MODIS\\MOD16A2.A2013M01.h08v05.105.2014119202526.hdf' reprojected\n",
      "Layer HDF4_EOS:EOS_GRID:\"H:/GIS/MODIS\\MOD16A2.A2013M01.h09v04.105.2014119212031.hdf\":MOD_Grid_MOD16A2:ET_1km reprojected\n",
      "All layer for dataset 'H:/GIS/MODIS\\MOD16A2.A2013M01.h09v04.105.2014119212031.hdf' reprojected\n",
      "Layer HDF4_EOS:EOS_GRID:\"H:/GIS/MODIS\\MOD16A2.A2013M01.h09v05.105.2014119214740.hdf\":MOD_Grid_MOD16A2:ET_1km reprojected\n",
      "All layer for dataset 'H:/GIS/MODIS\\MOD16A2.A2013M01.h09v05.105.2014119214740.hdf' reprojected\n",
      "Layer HDF4_EOS:EOS_GRID:\"H:/GIS/MODIS\\MOD16A2.A2013M02.h08v05.105.2014119202527.hdf\":MOD_Grid_MOD16A2:ET_1km reprojected\n",
      "All layer for dataset 'H:/GIS/MODIS\\MOD16A2.A2013M02.h08v05.105.2014119202527.hdf' reprojected\n",
      "Layer HDF4_EOS:EOS_GRID:\"H:/GIS/MODIS\\MOD16A2.A2013M02.h09v04.105.2014119212032.hdf\":MOD_Grid_MOD16A2:ET_1km reprojected\n",
      "All layer for dataset 'H:/GIS/MODIS\\MOD16A2.A2013M02.h09v04.105.2014119212032.hdf' reprojected\n",
      "Layer HDF4_EOS:EOS_GRID:\"H:/GIS/MODIS\\MOD16A2.A2013M02.h09v05.105.2014119214741.hdf\":MOD_Grid_MOD16A2:ET_1km reprojected\n",
      "All layer for dataset 'H:/GIS/MODIS\\MOD16A2.A2013M02.h09v05.105.2014119214741.hdf' reprojected\n",
      "Layer HDF4_EOS:EOS_GRID:\"H:/GIS/MODIS\\MOD16A2.A2013M03.h08v05.105.2014119202529.hdf\":MOD_Grid_MOD16A2:ET_1km reprojected\n",
      "All layer for dataset 'H:/GIS/MODIS\\MOD16A2.A2013M03.h08v05.105.2014119202529.hdf' reprojected\n",
      "Layer HDF4_EOS:EOS_GRID:\"H:/GIS/MODIS\\MOD16A2.A2013M03.h09v04.105.2014119212033.hdf\":MOD_Grid_MOD16A2:ET_1km reprojected\n",
      "All layer for dataset 'H:/GIS/MODIS\\MOD16A2.A2013M03.h09v04.105.2014119212033.hdf' reprojected\n",
      "Layer HDF4_EOS:EOS_GRID:\"H:/GIS/MODIS\\MOD16A2.A2013M03.h09v05.105.2014119214743.hdf\":MOD_Grid_MOD16A2:ET_1km reprojected\n",
      "All layer for dataset 'H:/GIS/MODIS\\MOD16A2.A2013M03.h09v05.105.2014119214743.hdf' reprojected\n",
      "Layer HDF4_EOS:EOS_GRID:\"H:/GIS/MODIS\\MOD16A2.A2013M04.h08v05.105.2014119202531.hdf\":MOD_Grid_MOD16A2:ET_1km reprojected\n",
      "All layer for dataset 'H:/GIS/MODIS\\MOD16A2.A2013M04.h08v05.105.2014119202531.hdf' reprojected\n",
      "Layer HDF4_EOS:EOS_GRID:\"H:/GIS/MODIS\\MOD16A2.A2013M04.h09v04.105.2014119212034.hdf\":MOD_Grid_MOD16A2:ET_1km reprojected\n",
      "All layer for dataset 'H:/GIS/MODIS\\MOD16A2.A2013M04.h09v04.105.2014119212034.hdf' reprojected\n",
      "Layer HDF4_EOS:EOS_GRID:\"H:/GIS/MODIS\\MOD16A2.A2013M04.h09v05.105.2014119214744.hdf\":MOD_Grid_MOD16A2:ET_1km reprojected\n",
      "All layer for dataset 'H:/GIS/MODIS\\MOD16A2.A2013M04.h09v05.105.2014119214744.hdf' reprojected\n",
      "Layer HDF4_EOS:EOS_GRID:\"H:/GIS/MODIS\\MOD16A2.A2013M05.h08v05.105.2014119202532.hdf\":MOD_Grid_MOD16A2:ET_1km reprojected\n",
      "All layer for dataset 'H:/GIS/MODIS\\MOD16A2.A2013M05.h08v05.105.2014119202532.hdf' reprojected\n",
      "Layer HDF4_EOS:EOS_GRID:\"H:/GIS/MODIS\\MOD16A2.A2013M05.h09v04.105.2014119212035.hdf\":MOD_Grid_MOD16A2:ET_1km reprojected\n",
      "All layer for dataset 'H:/GIS/MODIS\\MOD16A2.A2013M05.h09v04.105.2014119212035.hdf' reprojected\n",
      "Layer HDF4_EOS:EOS_GRID:\"H:/GIS/MODIS\\MOD16A2.A2013M05.h09v05.105.2014119214747.hdf\":MOD_Grid_MOD16A2:ET_1km reprojected\n",
      "All layer for dataset 'H:/GIS/MODIS\\MOD16A2.A2013M05.h09v05.105.2014119214747.hdf' reprojected\n",
      "Layer HDF4_EOS:EOS_GRID:\"H:/GIS/MODIS\\MOD16A2.A2013M06.h08v05.105.2014119202533.hdf\":MOD_Grid_MOD16A2:ET_1km reprojected\n",
      "All layer for dataset 'H:/GIS/MODIS\\MOD16A2.A2013M06.h08v05.105.2014119202533.hdf' reprojected\n",
      "Layer HDF4_EOS:EOS_GRID:\"H:/GIS/MODIS\\MOD16A2.A2013M06.h09v04.105.2014119212036.hdf\":MOD_Grid_MOD16A2:ET_1km reprojected\n",
      "All layer for dataset 'H:/GIS/MODIS\\MOD16A2.A2013M06.h09v04.105.2014119212036.hdf' reprojected\n",
      "Layer HDF4_EOS:EOS_GRID:\"H:/GIS/MODIS\\MOD16A2.A2013M06.h09v05.105.2014119214749.hdf\":MOD_Grid_MOD16A2:ET_1km reprojected\n",
      "All layer for dataset 'H:/GIS/MODIS\\MOD16A2.A2013M06.h09v05.105.2014119214749.hdf' reprojected\n",
      "Layer HDF4_EOS:EOS_GRID:\"H:/GIS/MODIS\\MOD16A2.A2013M07.h08v05.105.2014119202538.hdf\":MOD_Grid_MOD16A2:ET_1km reprojected\n",
      "All layer for dataset 'H:/GIS/MODIS\\MOD16A2.A2013M07.h08v05.105.2014119202538.hdf' reprojected\n",
      "Layer HDF4_EOS:EOS_GRID:\"H:/GIS/MODIS\\MOD16A2.A2013M07.h09v04.105.2014119212036.hdf\":MOD_Grid_MOD16A2:ET_1km reprojected\n",
      "All layer for dataset 'H:/GIS/MODIS\\MOD16A2.A2013M07.h09v04.105.2014119212036.hdf' reprojected\n",
      "Layer HDF4_EOS:EOS_GRID:\"H:/GIS/MODIS\\MOD16A2.A2013M07.h09v05.105.2014119214750.hdf\":MOD_Grid_MOD16A2:ET_1km reprojected\n",
      "All layer for dataset 'H:/GIS/MODIS\\MOD16A2.A2013M07.h09v05.105.2014119214750.hdf' reprojected\n",
      "Layer HDF4_EOS:EOS_GRID:\"H:/GIS/MODIS\\MOD16A2.A2013M08.h08v05.105.2014119202539.hdf\":MOD_Grid_MOD16A2:ET_1km reprojected\n",
      "All layer for dataset 'H:/GIS/MODIS\\MOD16A2.A2013M08.h08v05.105.2014119202539.hdf' reprojected\n",
      "Layer HDF4_EOS:EOS_GRID:\"H:/GIS/MODIS\\MOD16A2.A2013M08.h09v04.105.2014119212037.hdf\":MOD_Grid_MOD16A2:ET_1km reprojected\n",
      "All layer for dataset 'H:/GIS/MODIS\\MOD16A2.A2013M08.h09v04.105.2014119212037.hdf' reprojected\n",
      "Layer HDF4_EOS:EOS_GRID:\"H:/GIS/MODIS\\MOD16A2.A2013M08.h09v05.105.2014119214751.hdf\":MOD_Grid_MOD16A2:ET_1km reprojected\n",
      "All layer for dataset 'H:/GIS/MODIS\\MOD16A2.A2013M08.h09v05.105.2014119214751.hdf' reprojected\n",
      "Layer HDF4_EOS:EOS_GRID:\"H:/GIS/MODIS\\MOD16A2.A2013M09.h08v05.105.2014119202541.hdf\":MOD_Grid_MOD16A2:ET_1km reprojected\n",
      "All layer for dataset 'H:/GIS/MODIS\\MOD16A2.A2013M09.h08v05.105.2014119202541.hdf' reprojected\n",
      "Layer HDF4_EOS:EOS_GRID:\"H:/GIS/MODIS\\MOD16A2.A2013M09.h09v04.105.2014119212038.hdf\":MOD_Grid_MOD16A2:ET_1km reprojected\n",
      "All layer for dataset 'H:/GIS/MODIS\\MOD16A2.A2013M09.h09v04.105.2014119212038.hdf' reprojected\n",
      "Layer HDF4_EOS:EOS_GRID:\"H:/GIS/MODIS\\MOD16A2.A2013M09.h09v05.105.2014119214752.hdf\":MOD_Grid_MOD16A2:ET_1km reprojected\n",
      "All layer for dataset 'H:/GIS/MODIS\\MOD16A2.A2013M09.h09v05.105.2014119214752.hdf' reprojected\n",
      "Layer HDF4_EOS:EOS_GRID:\"H:/GIS/MODIS\\MOD16A2.A2013M10.h08v05.105.2014119202542.hdf\":MOD_Grid_MOD16A2:ET_1km reprojected\n",
      "All layer for dataset 'H:/GIS/MODIS\\MOD16A2.A2013M10.h08v05.105.2014119202542.hdf' reprojected\n",
      "Layer HDF4_EOS:EOS_GRID:\"H:/GIS/MODIS\\MOD16A2.A2013M10.h09v04.105.2014119212040.hdf\":MOD_Grid_MOD16A2:ET_1km reprojected\n",
      "All layer for dataset 'H:/GIS/MODIS\\MOD16A2.A2013M10.h09v04.105.2014119212040.hdf' reprojected\n",
      "Layer HDF4_EOS:EOS_GRID:\"H:/GIS/MODIS\\MOD16A2.A2013M10.h09v05.105.2014119214753.hdf\":MOD_Grid_MOD16A2:ET_1km reprojected\n",
      "All layer for dataset 'H:/GIS/MODIS\\MOD16A2.A2013M10.h09v05.105.2014119214753.hdf' reprojected\n",
      "Layer HDF4_EOS:EOS_GRID:\"H:/GIS/MODIS\\MOD16A2.A2013M11.h08v05.105.2014119202543.hdf\":MOD_Grid_MOD16A2:ET_1km reprojected\n",
      "All layer for dataset 'H:/GIS/MODIS\\MOD16A2.A2013M11.h08v05.105.2014119202543.hdf' reprojected\n",
      "Layer HDF4_EOS:EOS_GRID:\"H:/GIS/MODIS\\MOD16A2.A2013M11.h09v04.105.2014119212041.hdf\":MOD_Grid_MOD16A2:ET_1km reprojected\n",
      "All layer for dataset 'H:/GIS/MODIS\\MOD16A2.A2013M11.h09v04.105.2014119212041.hdf' reprojected\n",
      "Layer HDF4_EOS:EOS_GRID:\"H:/GIS/MODIS\\MOD16A2.A2013M11.h09v05.105.2014119214754.hdf\":MOD_Grid_MOD16A2:ET_1km reprojected\n",
      "All layer for dataset 'H:/GIS/MODIS\\MOD16A2.A2013M11.h09v05.105.2014119214754.hdf' reprojected\n",
      "Layer HDF4_EOS:EOS_GRID:\"H:/GIS/MODIS\\MOD16A2.A2013M12.h08v05.105.2014119202546.hdf\":MOD_Grid_MOD16A2:ET_1km reprojected\n",
      "All layer for dataset 'H:/GIS/MODIS\\MOD16A2.A2013M12.h08v05.105.2014119202546.hdf' reprojected\n",
      "Layer HDF4_EOS:EOS_GRID:\"H:/GIS/MODIS\\MOD16A2.A2013M12.h09v04.105.2014119212042.hdf\":MOD_Grid_MOD16A2:ET_1km reprojected\n",
      "All layer for dataset 'H:/GIS/MODIS\\MOD16A2.A2013M12.h09v04.105.2014119212042.hdf' reprojected\n",
      "Layer HDF4_EOS:EOS_GRID:\"H:/GIS/MODIS\\MOD16A2.A2013M12.h09v05.105.2014119214756.hdf\":MOD_Grid_MOD16A2:ET_1km reprojected\n",
      "All layer for dataset 'H:/GIS/MODIS\\MOD16A2.A2013M12.h09v05.105.2014119214756.hdf' reprojected\n",
      "Layer HDF4_EOS:EOS_GRID:\"H:/GIS/MODIS\\MOD16A2.A2014M01.h08v05.105.2015034092935.hdf\":MOD_Grid_MOD16A2:ET_1km reprojected\n",
      "All layer for dataset 'H:/GIS/MODIS\\MOD16A2.A2014M01.h08v05.105.2015034092935.hdf' reprojected\n",
      "Layer HDF4_EOS:EOS_GRID:\"H:/GIS/MODIS\\MOD16A2.A2014M01.h09v04.105.2015034100523.hdf\":MOD_Grid_MOD16A2:ET_1km reprojected\n",
      "All layer for dataset 'H:/GIS/MODIS\\MOD16A2.A2014M01.h09v04.105.2015034100523.hdf' reprojected\n",
      "Layer HDF4_EOS:EOS_GRID:\"H:/GIS/MODIS\\MOD16A2.A2014M01.h09v05.105.2015034102228.hdf\":MOD_Grid_MOD16A2:ET_1km reprojected\n",
      "All layer for dataset 'H:/GIS/MODIS\\MOD16A2.A2014M01.h09v05.105.2015034102228.hdf' reprojected\n",
      "Layer HDF4_EOS:EOS_GRID:\"H:/GIS/MODIS\\MOD16A2.A2014M02.h08v05.105.2015034092937.hdf\":MOD_Grid_MOD16A2:ET_1km reprojected\n",
      "All layer for dataset 'H:/GIS/MODIS\\MOD16A2.A2014M02.h08v05.105.2015034092937.hdf' reprojected\n",
      "Layer HDF4_EOS:EOS_GRID:\"H:/GIS/MODIS\\MOD16A2.A2014M02.h09v04.105.2015034100524.hdf\":MOD_Grid_MOD16A2:ET_1km reprojected\n",
      "All layer for dataset 'H:/GIS/MODIS\\MOD16A2.A2014M02.h09v04.105.2015034100524.hdf' reprojected\n",
      "Layer HDF4_EOS:EOS_GRID:\"H:/GIS/MODIS\\MOD16A2.A2014M02.h09v05.105.2015034102230.hdf\":MOD_Grid_MOD16A2:ET_1km reprojected\n",
      "All layer for dataset 'H:/GIS/MODIS\\MOD16A2.A2014M02.h09v05.105.2015034102230.hdf' reprojected\n",
      "Layer HDF4_EOS:EOS_GRID:\"H:/GIS/MODIS\\MOD16A2.A2014M03.h08v05.105.2015034092938.hdf\":MOD_Grid_MOD16A2:ET_1km reprojected\n",
      "All layer for dataset 'H:/GIS/MODIS\\MOD16A2.A2014M03.h08v05.105.2015034092938.hdf' reprojected\n",
      "Layer HDF4_EOS:EOS_GRID:\"H:/GIS/MODIS\\MOD16A2.A2014M03.h09v04.105.2015034100525.hdf\":MOD_Grid_MOD16A2:ET_1km reprojected\n",
      "All layer for dataset 'H:/GIS/MODIS\\MOD16A2.A2014M03.h09v04.105.2015034100525.hdf' reprojected\n",
      "Layer HDF4_EOS:EOS_GRID:\"H:/GIS/MODIS\\MOD16A2.A2014M03.h09v05.105.2015034102232.hdf\":MOD_Grid_MOD16A2:ET_1km reprojected\n",
      "All layer for dataset 'H:/GIS/MODIS\\MOD16A2.A2014M03.h09v05.105.2015034102232.hdf' reprojected\n",
      "Layer HDF4_EOS:EOS_GRID:\"H:/GIS/MODIS\\MOD16A2.A2014M04.h08v05.105.2015034092939.hdf\":MOD_Grid_MOD16A2:ET_1km reprojected\n",
      "All layer for dataset 'H:/GIS/MODIS\\MOD16A2.A2014M04.h08v05.105.2015034092939.hdf' reprojected\n",
      "Layer HDF4_EOS:EOS_GRID:\"H:/GIS/MODIS\\MOD16A2.A2014M04.h09v04.105.2015034100526.hdf\":MOD_Grid_MOD16A2:ET_1km reprojected\n",
      "All layer for dataset 'H:/GIS/MODIS\\MOD16A2.A2014M04.h09v04.105.2015034100526.hdf' reprojected\n",
      "Layer HDF4_EOS:EOS_GRID:\"H:/GIS/MODIS\\MOD16A2.A2014M04.h09v05.105.2015034102233.hdf\":MOD_Grid_MOD16A2:ET_1km reprojected\n",
      "All layer for dataset 'H:/GIS/MODIS\\MOD16A2.A2014M04.h09v05.105.2015034102233.hdf' reprojected\n",
      "Layer HDF4_EOS:EOS_GRID:\"H:/GIS/MODIS\\MOD16A2.A2014M05.h08v05.105.2015034092941.hdf\":MOD_Grid_MOD16A2:ET_1km reprojected\n",
      "All layer for dataset 'H:/GIS/MODIS\\MOD16A2.A2014M05.h08v05.105.2015034092941.hdf' reprojected\n",
      "Layer HDF4_EOS:EOS_GRID:\"H:/GIS/MODIS\\MOD16A2.A2014M05.h09v04.105.2015034100527.hdf\":MOD_Grid_MOD16A2:ET_1km reprojected\n",
      "All layer for dataset 'H:/GIS/MODIS\\MOD16A2.A2014M05.h09v04.105.2015034100527.hdf' reprojected\n",
      "Layer HDF4_EOS:EOS_GRID:\"H:/GIS/MODIS\\MOD16A2.A2014M05.h09v05.105.2015034102234.hdf\":MOD_Grid_MOD16A2:ET_1km reprojected\n",
      "All layer for dataset 'H:/GIS/MODIS\\MOD16A2.A2014M05.h09v05.105.2015034102234.hdf' reprojected\n",
      "Layer HDF4_EOS:EOS_GRID:\"H:/GIS/MODIS\\MOD16A2.A2014M06.h08v05.105.2015034092942.hdf\":MOD_Grid_MOD16A2:ET_1km reprojected\n",
      "All layer for dataset 'H:/GIS/MODIS\\MOD16A2.A2014M06.h08v05.105.2015034092942.hdf' reprojected\n",
      "Layer HDF4_EOS:EOS_GRID:\"H:/GIS/MODIS\\MOD16A2.A2014M06.h09v04.105.2015034100528.hdf\":MOD_Grid_MOD16A2:ET_1km reprojected\n",
      "All layer for dataset 'H:/GIS/MODIS\\MOD16A2.A2014M06.h09v04.105.2015034100528.hdf' reprojected\n",
      "Layer HDF4_EOS:EOS_GRID:\"H:/GIS/MODIS\\MOD16A2.A2014M06.h09v05.105.2015034102237.hdf\":MOD_Grid_MOD16A2:ET_1km reprojected\n",
      "All layer for dataset 'H:/GIS/MODIS\\MOD16A2.A2014M06.h09v05.105.2015034102237.hdf' reprojected\n",
      "Layer HDF4_EOS:EOS_GRID:\"H:/GIS/MODIS\\MOD16A2.A2014M07.h08v05.105.2015034092944.hdf\":MOD_Grid_MOD16A2:ET_1km reprojected\n",
      "All layer for dataset 'H:/GIS/MODIS\\MOD16A2.A2014M07.h08v05.105.2015034092944.hdf' reprojected\n",
      "Layer HDF4_EOS:EOS_GRID:\"H:/GIS/MODIS\\MOD16A2.A2014M07.h09v04.105.2015034100529.hdf\":MOD_Grid_MOD16A2:ET_1km reprojected\n",
      "All layer for dataset 'H:/GIS/MODIS\\MOD16A2.A2014M07.h09v04.105.2015034100529.hdf' reprojected\n",
      "Layer HDF4_EOS:EOS_GRID:\"H:/GIS/MODIS\\MOD16A2.A2014M07.h09v05.105.2015034102238.hdf\":MOD_Grid_MOD16A2:ET_1km reprojected\n",
      "All layer for dataset 'H:/GIS/MODIS\\MOD16A2.A2014M07.h09v05.105.2015034102238.hdf' reprojected\n",
      "Layer HDF4_EOS:EOS_GRID:\"H:/GIS/MODIS\\MOD16A2.A2014M08.h08v05.105.2015034092945.hdf\":MOD_Grid_MOD16A2:ET_1km reprojected\n",
      "All layer for dataset 'H:/GIS/MODIS\\MOD16A2.A2014M08.h08v05.105.2015034092945.hdf' reprojected\n",
      "Layer HDF4_EOS:EOS_GRID:\"H:/GIS/MODIS\\MOD16A2.A2014M08.h09v04.105.2015034100530.hdf\":MOD_Grid_MOD16A2:ET_1km reprojected\n",
      "All layer for dataset 'H:/GIS/MODIS\\MOD16A2.A2014M08.h09v04.105.2015034100530.hdf' reprojected\n",
      "Layer HDF4_EOS:EOS_GRID:\"H:/GIS/MODIS\\MOD16A2.A2014M08.h09v05.105.2015034102239.hdf\":MOD_Grid_MOD16A2:ET_1km reprojected\n",
      "All layer for dataset 'H:/GIS/MODIS\\MOD16A2.A2014M08.h09v05.105.2015034102239.hdf' reprojected\n",
      "Layer HDF4_EOS:EOS_GRID:\"H:/GIS/MODIS\\MOD16A2.A2014M09.h08v05.105.2015034092946.hdf\":MOD_Grid_MOD16A2:ET_1km reprojected\n",
      "All layer for dataset 'H:/GIS/MODIS\\MOD16A2.A2014M09.h08v05.105.2015034092946.hdf' reprojected\n",
      "Layer HDF4_EOS:EOS_GRID:\"H:/GIS/MODIS\\MOD16A2.A2014M09.h09v04.105.2015034100530.hdf\":MOD_Grid_MOD16A2:ET_1km reprojected\n",
      "All layer for dataset 'H:/GIS/MODIS\\MOD16A2.A2014M09.h09v04.105.2015034100530.hdf' reprojected\n",
      "Layer HDF4_EOS:EOS_GRID:\"H:/GIS/MODIS\\MOD16A2.A2014M09.h09v05.105.2015034102240.hdf\":MOD_Grid_MOD16A2:ET_1km reprojected\n",
      "All layer for dataset 'H:/GIS/MODIS\\MOD16A2.A2014M09.h09v05.105.2015034102240.hdf' reprojected\n",
      "Layer HDF4_EOS:EOS_GRID:\"H:/GIS/MODIS\\MOD16A2.A2014M10.h08v05.105.2015034092947.hdf\":MOD_Grid_MOD16A2:ET_1km reprojected\n",
      "All layer for dataset 'H:/GIS/MODIS\\MOD16A2.A2014M10.h08v05.105.2015034092947.hdf' reprojected\n",
      "Layer HDF4_EOS:EOS_GRID:\"H:/GIS/MODIS\\MOD16A2.A2014M10.h09v04.105.2015034100531.hdf\":MOD_Grid_MOD16A2:ET_1km reprojected\n",
      "All layer for dataset 'H:/GIS/MODIS\\MOD16A2.A2014M10.h09v04.105.2015034100531.hdf' reprojected\n",
      "Layer HDF4_EOS:EOS_GRID:\"H:/GIS/MODIS\\MOD16A2.A2014M10.h09v05.105.2015034102241.hdf\":MOD_Grid_MOD16A2:ET_1km reprojected\n",
      "All layer for dataset 'H:/GIS/MODIS\\MOD16A2.A2014M10.h09v05.105.2015034102241.hdf' reprojected\n",
      "Layer HDF4_EOS:EOS_GRID:\"H:/GIS/MODIS\\MOD16A2.A2014M11.h08v05.105.2015034092949.hdf\":MOD_Grid_MOD16A2:ET_1km reprojected\n",
      "All layer for dataset 'H:/GIS/MODIS\\MOD16A2.A2014M11.h08v05.105.2015034092949.hdf' reprojected\n",
      "Layer HDF4_EOS:EOS_GRID:\"H:/GIS/MODIS\\MOD16A2.A2014M11.h09v04.105.2015034100532.hdf\":MOD_Grid_MOD16A2:ET_1km reprojected\n",
      "All layer for dataset 'H:/GIS/MODIS\\MOD16A2.A2014M11.h09v04.105.2015034100532.hdf' reprojected\n",
      "Layer HDF4_EOS:EOS_GRID:\"H:/GIS/MODIS\\MOD16A2.A2014M11.h09v05.105.2015034102243.hdf\":MOD_Grid_MOD16A2:ET_1km reprojected\n",
      "All layer for dataset 'H:/GIS/MODIS\\MOD16A2.A2014M11.h09v05.105.2015034102243.hdf' reprojected\n",
      "Layer HDF4_EOS:EOS_GRID:\"H:/GIS/MODIS\\MOD16A2.A2014M12.h08v05.105.2015034092950.hdf\":MOD_Grid_MOD16A2:ET_1km reprojected\n",
      "All layer for dataset 'H:/GIS/MODIS\\MOD16A2.A2014M12.h08v05.105.2015034092950.hdf' reprojected\n",
      "Layer HDF4_EOS:EOS_GRID:\"H:/GIS/MODIS\\MOD16A2.A2014M12.h09v04.105.2015034100533.hdf\":MOD_Grid_MOD16A2:ET_1km reprojected\n",
      "All layer for dataset 'H:/GIS/MODIS\\MOD16A2.A2014M12.h09v04.105.2015034100533.hdf' reprojected\n",
      "Layer HDF4_EOS:EOS_GRID:\"H:/GIS/MODIS\\MOD16A2.A2014M12.h09v05.105.2015034102244.hdf\":MOD_Grid_MOD16A2:ET_1km reprojected\n",
      "All layer for dataset 'H:/GIS/MODIS\\MOD16A2.A2014M12.h09v05.105.2015034102244.hdf' reprojected\n"
     ]
    }
   ],
   "source": [
    "save_path = 'H:/GIS/MODIS/'\n",
    "UBM.reproject_modis(files,save_path,'ET')"
   ]
  },
  {
   "cell_type": "code",
   "execution_count": 14,
   "metadata": {
    "collapsed": false,
    "deletable": true,
    "editable": true,
    "scrolled": true
   },
   "outputs": [
    {
     "name": "stdout",
     "output_type": "stream",
     "text": [
      "H:/GIS/MODIS16.gdb/ET200001h8v5\n",
      "H:/GIS/MODIS16.gdb/ET200001h9v4\n",
      "H:/GIS/MODIS16.gdb/ET200001h9v5\n",
      "H:/GIS/MODIS16.gdb/ET200002h8v5\n",
      "H:/GIS/MODIS16.gdb/ET200002h9v4\n",
      "H:/GIS/MODIS16.gdb/ET200002h9v5\n",
      "H:/GIS/MODIS16.gdb/ET200003h8v5\n",
      "H:/GIS/MODIS16.gdb/ET200003h9v4\n",
      "H:/GIS/MODIS16.gdb/ET200003h9v5\n",
      "H:/GIS/MODIS16.gdb/ET200004h8v5\n",
      "H:/GIS/MODIS16.gdb/ET200004h9v4\n",
      "H:/GIS/MODIS16.gdb/ET200004h9v5\n",
      "H:/GIS/MODIS16.gdb/ET200005h8v5\n",
      "H:/GIS/MODIS16.gdb/ET200005h9v4\n",
      "H:/GIS/MODIS16.gdb/ET200005h9v5\n",
      "H:/GIS/MODIS16.gdb/ET200006h8v5\n",
      "H:/GIS/MODIS16.gdb/ET200006h9v4\n",
      "H:/GIS/MODIS16.gdb/ET200006h9v5\n",
      "H:/GIS/MODIS16.gdb/ET200007h8v5\n",
      "H:/GIS/MODIS16.gdb/ET200007h9v4\n",
      "H:/GIS/MODIS16.gdb/ET200007h9v5\n",
      "H:/GIS/MODIS16.gdb/ET200008h8v5\n",
      "H:/GIS/MODIS16.gdb/ET200008h9v4\n",
      "H:/GIS/MODIS16.gdb/ET200008h9v5\n",
      "H:/GIS/MODIS16.gdb/ET200009h8v5\n",
      "H:/GIS/MODIS16.gdb/ET200009h9v4\n",
      "H:/GIS/MODIS16.gdb/ET200009h9v5\n",
      "H:/GIS/MODIS16.gdb/ET200010h8v5\n",
      "H:/GIS/MODIS16.gdb/ET200010h9v4\n",
      "H:/GIS/MODIS16.gdb/ET200010h9v5\n",
      "H:/GIS/MODIS16.gdb/ET200011h8v5\n",
      "H:/GIS/MODIS16.gdb/ET200011h9v4\n",
      "H:/GIS/MODIS16.gdb/ET200011h9v5\n",
      "H:/GIS/MODIS16.gdb/ET200012h8v5\n",
      "H:/GIS/MODIS16.gdb/ET200012h9v4\n",
      "H:/GIS/MODIS16.gdb/ET200012h9v5\n",
      "H:/GIS/MODIS16.gdb/ET200101h8v5\n",
      "H:/GIS/MODIS16.gdb/ET200101h9v4\n",
      "H:/GIS/MODIS16.gdb/ET200101h9v5\n",
      "H:/GIS/MODIS16.gdb/ET200102h8v5\n",
      "H:/GIS/MODIS16.gdb/ET200102h9v4\n",
      "H:/GIS/MODIS16.gdb/ET200102h9v5\n",
      "H:/GIS/MODIS16.gdb/ET200103h8v5\n",
      "H:/GIS/MODIS16.gdb/ET200103h9v4\n",
      "H:/GIS/MODIS16.gdb/ET200103h9v5\n",
      "H:/GIS/MODIS16.gdb/ET200104h8v5\n",
      "H:/GIS/MODIS16.gdb/ET200104h9v4\n",
      "H:/GIS/MODIS16.gdb/ET200104h9v5\n",
      "H:/GIS/MODIS16.gdb/ET200105h8v5\n",
      "H:/GIS/MODIS16.gdb/ET200105h9v4\n",
      "H:/GIS/MODIS16.gdb/ET200105h9v5\n",
      "H:/GIS/MODIS16.gdb/ET200106h8v5\n",
      "H:/GIS/MODIS16.gdb/ET200106h9v4\n",
      "H:/GIS/MODIS16.gdb/ET200106h9v5\n",
      "H:/GIS/MODIS16.gdb/ET200107h8v5\n",
      "H:/GIS/MODIS16.gdb/ET200107h9v4\n",
      "H:/GIS/MODIS16.gdb/ET200107h9v5\n",
      "H:/GIS/MODIS16.gdb/ET200108h8v5\n",
      "H:/GIS/MODIS16.gdb/ET200108h9v4\n",
      "H:/GIS/MODIS16.gdb/ET200108h9v5\n",
      "H:/GIS/MODIS16.gdb/ET200109h8v5\n",
      "H:/GIS/MODIS16.gdb/ET200109h9v4\n",
      "H:/GIS/MODIS16.gdb/ET200109h9v5\n",
      "H:/GIS/MODIS16.gdb/ET200110h8v5\n",
      "H:/GIS/MODIS16.gdb/ET200110h9v4\n",
      "H:/GIS/MODIS16.gdb/ET200110h9v5\n",
      "H:/GIS/MODIS16.gdb/ET200111h8v5\n",
      "H:/GIS/MODIS16.gdb/ET200111h9v4\n",
      "H:/GIS/MODIS16.gdb/ET200111h9v5\n",
      "H:/GIS/MODIS16.gdb/ET200112h8v5\n",
      "H:/GIS/MODIS16.gdb/ET200112h9v4\n",
      "H:/GIS/MODIS16.gdb/ET200112h9v5\n",
      "H:/GIS/MODIS16.gdb/ET200201h8v5\n",
      "H:/GIS/MODIS16.gdb/ET200201h9v4\n",
      "H:/GIS/MODIS16.gdb/ET200201h9v5\n",
      "H:/GIS/MODIS16.gdb/ET200202h8v5\n",
      "H:/GIS/MODIS16.gdb/ET200202h9v4\n",
      "H:/GIS/MODIS16.gdb/ET200202h9v5\n",
      "H:/GIS/MODIS16.gdb/ET200203h8v5\n",
      "H:/GIS/MODIS16.gdb/ET200203h9v4\n",
      "H:/GIS/MODIS16.gdb/ET200203h9v5\n",
      "H:/GIS/MODIS16.gdb/ET200204h8v5\n",
      "H:/GIS/MODIS16.gdb/ET200204h9v4\n",
      "H:/GIS/MODIS16.gdb/ET200204h9v5\n",
      "H:/GIS/MODIS16.gdb/ET200205h8v5\n",
      "H:/GIS/MODIS16.gdb/ET200205h9v4\n",
      "H:/GIS/MODIS16.gdb/ET200205h9v5\n",
      "H:/GIS/MODIS16.gdb/ET200206h8v5\n",
      "H:/GIS/MODIS16.gdb/ET200206h9v4\n",
      "H:/GIS/MODIS16.gdb/ET200206h9v5\n",
      "H:/GIS/MODIS16.gdb/ET200207h8v5\n",
      "H:/GIS/MODIS16.gdb/ET200207h9v4\n",
      "H:/GIS/MODIS16.gdb/ET200207h9v5\n",
      "H:/GIS/MODIS16.gdb/ET200208h8v5\n",
      "H:/GIS/MODIS16.gdb/ET200208h9v4\n",
      "H:/GIS/MODIS16.gdb/ET200208h9v5\n",
      "H:/GIS/MODIS16.gdb/ET200209h8v5\n",
      "H:/GIS/MODIS16.gdb/ET200209h9v4\n",
      "H:/GIS/MODIS16.gdb/ET200209h9v5\n",
      "H:/GIS/MODIS16.gdb/ET200210h8v5\n",
      "H:/GIS/MODIS16.gdb/ET200210h9v4\n",
      "H:/GIS/MODIS16.gdb/ET200210h9v5\n",
      "H:/GIS/MODIS16.gdb/ET200211h8v5\n",
      "H:/GIS/MODIS16.gdb/ET200211h9v4\n",
      "H:/GIS/MODIS16.gdb/ET200211h9v5\n",
      "H:/GIS/MODIS16.gdb/ET200212h8v5\n",
      "H:/GIS/MODIS16.gdb/ET200212h9v4\n",
      "H:/GIS/MODIS16.gdb/ET200212h9v5\n",
      "H:/GIS/MODIS16.gdb/ET200301h8v5\n",
      "H:/GIS/MODIS16.gdb/ET200301h9v4\n",
      "H:/GIS/MODIS16.gdb/ET200301h9v5\n",
      "H:/GIS/MODIS16.gdb/ET200302h8v5\n",
      "H:/GIS/MODIS16.gdb/ET200302h9v4\n",
      "H:/GIS/MODIS16.gdb/ET200302h9v5\n",
      "H:/GIS/MODIS16.gdb/ET200303h8v5\n",
      "H:/GIS/MODIS16.gdb/ET200303h9v4\n",
      "H:/GIS/MODIS16.gdb/ET200303h9v5\n",
      "H:/GIS/MODIS16.gdb/ET200304h8v5\n",
      "H:/GIS/MODIS16.gdb/ET200304h9v4\n",
      "H:/GIS/MODIS16.gdb/ET200304h9v5\n",
      "H:/GIS/MODIS16.gdb/ET200305h8v5\n",
      "H:/GIS/MODIS16.gdb/ET200305h9v4\n",
      "H:/GIS/MODIS16.gdb/ET200305h9v5\n",
      "H:/GIS/MODIS16.gdb/ET200306h8v5\n",
      "H:/GIS/MODIS16.gdb/ET200306h9v4\n",
      "H:/GIS/MODIS16.gdb/ET200306h9v5\n",
      "H:/GIS/MODIS16.gdb/ET200307h8v5\n",
      "H:/GIS/MODIS16.gdb/ET200307h9v4\n",
      "H:/GIS/MODIS16.gdb/ET200307h9v5\n",
      "H:/GIS/MODIS16.gdb/ET200308h8v5\n",
      "H:/GIS/MODIS16.gdb/ET200308h9v4\n",
      "H:/GIS/MODIS16.gdb/ET200308h9v5\n",
      "H:/GIS/MODIS16.gdb/ET200309h8v5\n",
      "H:/GIS/MODIS16.gdb/ET200309h9v4\n",
      "H:/GIS/MODIS16.gdb/ET200309h9v5\n",
      "H:/GIS/MODIS16.gdb/ET200310h8v5\n",
      "H:/GIS/MODIS16.gdb/ET200310h9v4\n",
      "H:/GIS/MODIS16.gdb/ET200310h9v5\n",
      "H:/GIS/MODIS16.gdb/ET200311h8v5\n",
      "H:/GIS/MODIS16.gdb/ET200311h9v4\n",
      "H:/GIS/MODIS16.gdb/ET200311h9v5\n",
      "H:/GIS/MODIS16.gdb/ET200312h8v5\n",
      "H:/GIS/MODIS16.gdb/ET200312h9v4\n",
      "H:/GIS/MODIS16.gdb/ET200312h9v5\n",
      "H:/GIS/MODIS16.gdb/ET200401h8v5\n",
      "H:/GIS/MODIS16.gdb/ET200401h9v4\n",
      "H:/GIS/MODIS16.gdb/ET200401h9v5\n",
      "H:/GIS/MODIS16.gdb/ET200402h8v5\n",
      "H:/GIS/MODIS16.gdb/ET200402h9v4\n",
      "H:/GIS/MODIS16.gdb/ET200402h9v5\n",
      "H:/GIS/MODIS16.gdb/ET200403h8v5\n",
      "H:/GIS/MODIS16.gdb/ET200403h9v4\n",
      "H:/GIS/MODIS16.gdb/ET200403h9v5\n",
      "H:/GIS/MODIS16.gdb/ET200404h8v5\n",
      "H:/GIS/MODIS16.gdb/ET200404h9v4\n",
      "H:/GIS/MODIS16.gdb/ET200404h9v5\n",
      "H:/GIS/MODIS16.gdb/ET200405h8v5\n",
      "H:/GIS/MODIS16.gdb/ET200405h9v4\n",
      "H:/GIS/MODIS16.gdb/ET200405h9v5\n",
      "H:/GIS/MODIS16.gdb/ET200406h8v5\n",
      "H:/GIS/MODIS16.gdb/ET200406h9v4\n",
      "H:/GIS/MODIS16.gdb/ET200406h9v5\n",
      "H:/GIS/MODIS16.gdb/ET200407h8v5\n",
      "H:/GIS/MODIS16.gdb/ET200407h9v4\n",
      "H:/GIS/MODIS16.gdb/ET200407h9v5\n",
      "H:/GIS/MODIS16.gdb/ET200408h8v5\n",
      "H:/GIS/MODIS16.gdb/ET200408h9v4\n",
      "H:/GIS/MODIS16.gdb/ET200408h9v5\n",
      "H:/GIS/MODIS16.gdb/ET200409h8v5\n",
      "H:/GIS/MODIS16.gdb/ET200409h9v4\n",
      "H:/GIS/MODIS16.gdb/ET200409h9v5\n",
      "H:/GIS/MODIS16.gdb/ET200410h8v5\n",
      "H:/GIS/MODIS16.gdb/ET200410h9v4\n",
      "H:/GIS/MODIS16.gdb/ET200410h9v5\n",
      "H:/GIS/MODIS16.gdb/ET200411h8v5\n",
      "H:/GIS/MODIS16.gdb/ET200411h9v4\n",
      "H:/GIS/MODIS16.gdb/ET200411h9v5\n",
      "H:/GIS/MODIS16.gdb/ET200412h8v5\n",
      "H:/GIS/MODIS16.gdb/ET200412h9v4\n",
      "H:/GIS/MODIS16.gdb/ET200412h9v5\n",
      "H:/GIS/MODIS16.gdb/ET200501h8v5\n",
      "H:/GIS/MODIS16.gdb/ET200501h9v4\n",
      "H:/GIS/MODIS16.gdb/ET200501h9v5\n",
      "H:/GIS/MODIS16.gdb/ET200502h8v5\n",
      "H:/GIS/MODIS16.gdb/ET200502h9v4\n",
      "H:/GIS/MODIS16.gdb/ET200502h9v5\n",
      "H:/GIS/MODIS16.gdb/ET200503h8v5\n",
      "H:/GIS/MODIS16.gdb/ET200503h9v4\n",
      "H:/GIS/MODIS16.gdb/ET200503h9v5\n",
      "H:/GIS/MODIS16.gdb/ET200504h8v5\n",
      "H:/GIS/MODIS16.gdb/ET200504h9v4\n",
      "H:/GIS/MODIS16.gdb/ET200504h9v5\n",
      "H:/GIS/MODIS16.gdb/ET200505h8v5\n",
      "H:/GIS/MODIS16.gdb/ET200505h9v4\n",
      "H:/GIS/MODIS16.gdb/ET200505h9v5\n",
      "H:/GIS/MODIS16.gdb/ET200506h8v5\n",
      "H:/GIS/MODIS16.gdb/ET200506h9v4\n",
      "H:/GIS/MODIS16.gdb/ET200506h9v5\n",
      "H:/GIS/MODIS16.gdb/ET200507h8v5\n",
      "H:/GIS/MODIS16.gdb/ET200507h9v4\n",
      "H:/GIS/MODIS16.gdb/ET200507h9v5\n",
      "H:/GIS/MODIS16.gdb/ET200508h8v5\n",
      "H:/GIS/MODIS16.gdb/ET200508h9v4\n",
      "H:/GIS/MODIS16.gdb/ET200508h9v5\n",
      "H:/GIS/MODIS16.gdb/ET200509h8v5\n",
      "H:/GIS/MODIS16.gdb/ET200509h9v4\n",
      "H:/GIS/MODIS16.gdb/ET200509h9v5\n",
      "H:/GIS/MODIS16.gdb/ET200510h8v5\n",
      "H:/GIS/MODIS16.gdb/ET200510h9v4\n",
      "H:/GIS/MODIS16.gdb/ET200510h9v5\n",
      "H:/GIS/MODIS16.gdb/ET200511h8v5\n",
      "H:/GIS/MODIS16.gdb/ET200511h9v4\n",
      "H:/GIS/MODIS16.gdb/ET200511h9v5\n",
      "H:/GIS/MODIS16.gdb/ET200512h8v5\n",
      "H:/GIS/MODIS16.gdb/ET200512h9v4\n",
      "H:/GIS/MODIS16.gdb/ET200512h9v5\n",
      "H:/GIS/MODIS16.gdb/ET200601h8v5\n",
      "H:/GIS/MODIS16.gdb/ET200601h9v4\n",
      "H:/GIS/MODIS16.gdb/ET200601h9v5\n",
      "H:/GIS/MODIS16.gdb/ET200602h8v5\n",
      "H:/GIS/MODIS16.gdb/ET200602h9v4\n",
      "H:/GIS/MODIS16.gdb/ET200602h9v5\n",
      "H:/GIS/MODIS16.gdb/ET200603h8v5\n",
      "H:/GIS/MODIS16.gdb/ET200603h9v4\n",
      "H:/GIS/MODIS16.gdb/ET200603h9v5\n",
      "H:/GIS/MODIS16.gdb/ET200604h8v5\n",
      "H:/GIS/MODIS16.gdb/ET200604h9v4\n",
      "H:/GIS/MODIS16.gdb/ET200604h9v5\n",
      "H:/GIS/MODIS16.gdb/ET200605h8v5\n",
      "H:/GIS/MODIS16.gdb/ET200605h9v4\n",
      "H:/GIS/MODIS16.gdb/ET200605h9v5\n",
      "H:/GIS/MODIS16.gdb/ET200606h8v5\n",
      "H:/GIS/MODIS16.gdb/ET200606h9v4\n",
      "H:/GIS/MODIS16.gdb/ET200606h9v5\n",
      "H:/GIS/MODIS16.gdb/ET200607h8v5\n",
      "H:/GIS/MODIS16.gdb/ET200607h9v4\n",
      "H:/GIS/MODIS16.gdb/ET200607h9v5\n",
      "H:/GIS/MODIS16.gdb/ET200608h8v5\n",
      "H:/GIS/MODIS16.gdb/ET200608h9v4\n",
      "H:/GIS/MODIS16.gdb/ET200608h9v5\n",
      "H:/GIS/MODIS16.gdb/ET200609h8v5\n",
      "H:/GIS/MODIS16.gdb/ET200609h9v4\n",
      "H:/GIS/MODIS16.gdb/ET200609h9v5\n",
      "H:/GIS/MODIS16.gdb/ET200610h8v5\n",
      "H:/GIS/MODIS16.gdb/ET200610h9v4\n",
      "H:/GIS/MODIS16.gdb/ET200610h9v5\n",
      "H:/GIS/MODIS16.gdb/ET200611h8v5\n",
      "H:/GIS/MODIS16.gdb/ET200611h9v4\n",
      "H:/GIS/MODIS16.gdb/ET200611h9v5\n",
      "H:/GIS/MODIS16.gdb/ET200612h8v5\n",
      "H:/GIS/MODIS16.gdb/ET200612h9v4\n",
      "H:/GIS/MODIS16.gdb/ET200612h9v5\n",
      "H:/GIS/MODIS16.gdb/ET200701h8v5\n",
      "H:/GIS/MODIS16.gdb/ET200701h9v4\n",
      "H:/GIS/MODIS16.gdb/ET200701h9v5\n",
      "H:/GIS/MODIS16.gdb/ET200702h8v5\n",
      "H:/GIS/MODIS16.gdb/ET200702h9v4\n",
      "H:/GIS/MODIS16.gdb/ET200702h9v5\n",
      "H:/GIS/MODIS16.gdb/ET200703h8v5\n",
      "H:/GIS/MODIS16.gdb/ET200703h9v4\n",
      "H:/GIS/MODIS16.gdb/ET200703h9v5\n",
      "H:/GIS/MODIS16.gdb/ET200704h8v5\n",
      "H:/GIS/MODIS16.gdb/ET200704h9v4\n",
      "H:/GIS/MODIS16.gdb/ET200704h9v5\n",
      "H:/GIS/MODIS16.gdb/ET200705h8v5\n",
      "H:/GIS/MODIS16.gdb/ET200705h9v4\n",
      "H:/GIS/MODIS16.gdb/ET200705h9v5\n",
      "H:/GIS/MODIS16.gdb/ET200706h8v5\n",
      "H:/GIS/MODIS16.gdb/ET200706h9v4\n",
      "H:/GIS/MODIS16.gdb/ET200706h9v5\n",
      "H:/GIS/MODIS16.gdb/ET200707h8v5\n",
      "H:/GIS/MODIS16.gdb/ET200707h9v4\n",
      "H:/GIS/MODIS16.gdb/ET200707h9v5\n",
      "H:/GIS/MODIS16.gdb/ET200708h8v5\n",
      "H:/GIS/MODIS16.gdb/ET200708h9v4\n",
      "H:/GIS/MODIS16.gdb/ET200708h9v5\n",
      "H:/GIS/MODIS16.gdb/ET200709h8v5\n",
      "H:/GIS/MODIS16.gdb/ET200709h9v4\n",
      "H:/GIS/MODIS16.gdb/ET200709h9v5\n",
      "H:/GIS/MODIS16.gdb/ET200710h8v5\n",
      "H:/GIS/MODIS16.gdb/ET200710h9v4\n",
      "H:/GIS/MODIS16.gdb/ET200710h9v5\n",
      "H:/GIS/MODIS16.gdb/ET200711h8v5\n",
      "H:/GIS/MODIS16.gdb/ET200711h9v4\n",
      "H:/GIS/MODIS16.gdb/ET200711h9v5\n",
      "H:/GIS/MODIS16.gdb/ET200712h8v5\n",
      "H:/GIS/MODIS16.gdb/ET200712h9v4\n",
      "H:/GIS/MODIS16.gdb/ET200712h9v5\n",
      "H:/GIS/MODIS16.gdb/ET200801h8v5\n",
      "H:/GIS/MODIS16.gdb/ET200801h9v4\n",
      "H:/GIS/MODIS16.gdb/ET200801h9v5\n",
      "H:/GIS/MODIS16.gdb/ET200802h8v5\n",
      "H:/GIS/MODIS16.gdb/ET200802h9v4\n",
      "H:/GIS/MODIS16.gdb/ET200802h9v5\n",
      "H:/GIS/MODIS16.gdb/ET200803h8v5\n",
      "H:/GIS/MODIS16.gdb/ET200803h9v4\n",
      "H:/GIS/MODIS16.gdb/ET200803h9v5\n",
      "H:/GIS/MODIS16.gdb/ET200804h8v5\n",
      "H:/GIS/MODIS16.gdb/ET200804h9v4\n",
      "H:/GIS/MODIS16.gdb/ET200804h9v5\n",
      "H:/GIS/MODIS16.gdb/ET200805h8v5\n",
      "H:/GIS/MODIS16.gdb/ET200805h9v4\n",
      "H:/GIS/MODIS16.gdb/ET200805h9v5\n",
      "H:/GIS/MODIS16.gdb/ET200806h8v5\n",
      "H:/GIS/MODIS16.gdb/ET200806h9v4\n",
      "H:/GIS/MODIS16.gdb/ET200806h9v5\n",
      "H:/GIS/MODIS16.gdb/ET200807h8v5\n",
      "H:/GIS/MODIS16.gdb/ET200807h9v4\n",
      "H:/GIS/MODIS16.gdb/ET200807h9v5\n",
      "H:/GIS/MODIS16.gdb/ET200808h8v5\n",
      "H:/GIS/MODIS16.gdb/ET200808h9v4\n",
      "H:/GIS/MODIS16.gdb/ET200808h9v5\n",
      "H:/GIS/MODIS16.gdb/ET200809h8v5\n",
      "H:/GIS/MODIS16.gdb/ET200809h9v4\n",
      "H:/GIS/MODIS16.gdb/ET200809h9v5\n",
      "H:/GIS/MODIS16.gdb/ET200810h8v5\n",
      "H:/GIS/MODIS16.gdb/ET200810h9v4\n",
      "H:/GIS/MODIS16.gdb/ET200810h9v5\n",
      "H:/GIS/MODIS16.gdb/ET200811h8v5\n",
      "H:/GIS/MODIS16.gdb/ET200811h9v4\n",
      "H:/GIS/MODIS16.gdb/ET200811h9v5\n",
      "H:/GIS/MODIS16.gdb/ET200812h8v5\n",
      "H:/GIS/MODIS16.gdb/ET200812h9v4\n",
      "H:/GIS/MODIS16.gdb/ET200812h9v5\n",
      "H:/GIS/MODIS16.gdb/ET200901h8v5\n",
      "H:/GIS/MODIS16.gdb/ET200901h9v4\n",
      "H:/GIS/MODIS16.gdb/ET200901h9v5\n",
      "H:/GIS/MODIS16.gdb/ET200902h8v5\n",
      "H:/GIS/MODIS16.gdb/ET200902h9v4\n",
      "H:/GIS/MODIS16.gdb/ET200902h9v5\n",
      "H:/GIS/MODIS16.gdb/ET200903h8v5\n",
      "H:/GIS/MODIS16.gdb/ET200903h9v4\n",
      "H:/GIS/MODIS16.gdb/ET200903h9v5\n",
      "H:/GIS/MODIS16.gdb/ET200904h8v5\n",
      "H:/GIS/MODIS16.gdb/ET200904h9v4\n",
      "H:/GIS/MODIS16.gdb/ET200904h9v5\n",
      "H:/GIS/MODIS16.gdb/ET200905h8v5\n",
      "H:/GIS/MODIS16.gdb/ET200905h9v4\n",
      "H:/GIS/MODIS16.gdb/ET200905h9v5\n",
      "H:/GIS/MODIS16.gdb/ET200906h8v5\n",
      "H:/GIS/MODIS16.gdb/ET200906h9v4\n",
      "H:/GIS/MODIS16.gdb/ET200906h9v5\n",
      "H:/GIS/MODIS16.gdb/ET200907h8v5\n",
      "H:/GIS/MODIS16.gdb/ET200907h9v4\n",
      "H:/GIS/MODIS16.gdb/ET200907h9v5\n",
      "H:/GIS/MODIS16.gdb/ET200908h8v5\n",
      "H:/GIS/MODIS16.gdb/ET200908h9v4\n",
      "H:/GIS/MODIS16.gdb/ET200908h9v5\n",
      "H:/GIS/MODIS16.gdb/ET200909h8v5\n",
      "H:/GIS/MODIS16.gdb/ET200909h9v4\n",
      "H:/GIS/MODIS16.gdb/ET200909h9v5\n",
      "H:/GIS/MODIS16.gdb/ET200910h8v5\n",
      "H:/GIS/MODIS16.gdb/ET200910h9v4\n",
      "H:/GIS/MODIS16.gdb/ET200910h9v5\n",
      "H:/GIS/MODIS16.gdb/ET200911h8v5\n",
      "H:/GIS/MODIS16.gdb/ET200911h9v4\n",
      "H:/GIS/MODIS16.gdb/ET200911h9v5\n",
      "H:/GIS/MODIS16.gdb/ET200912h8v5\n",
      "H:/GIS/MODIS16.gdb/ET200912h9v4\n",
      "H:/GIS/MODIS16.gdb/ET200912h9v5\n",
      "H:/GIS/MODIS16.gdb/ET201001h8v5\n",
      "H:/GIS/MODIS16.gdb/ET201001h9v4\n",
      "H:/GIS/MODIS16.gdb/ET201001h9v5\n",
      "H:/GIS/MODIS16.gdb/ET201002h8v5\n",
      "H:/GIS/MODIS16.gdb/ET201002h9v4\n",
      "H:/GIS/MODIS16.gdb/ET201002h9v5\n",
      "H:/GIS/MODIS16.gdb/ET201003h8v5\n",
      "H:/GIS/MODIS16.gdb/ET201003h9v4\n",
      "H:/GIS/MODIS16.gdb/ET201003h9v5\n",
      "H:/GIS/MODIS16.gdb/ET201004h8v5\n",
      "H:/GIS/MODIS16.gdb/ET201004h9v4\n",
      "H:/GIS/MODIS16.gdb/ET201004h9v5\n",
      "H:/GIS/MODIS16.gdb/ET201005h8v5\n",
      "H:/GIS/MODIS16.gdb/ET201005h9v4\n",
      "H:/GIS/MODIS16.gdb/ET201005h9v5\n",
      "H:/GIS/MODIS16.gdb/ET201006h8v5\n",
      "H:/GIS/MODIS16.gdb/ET201006h9v4\n",
      "H:/GIS/MODIS16.gdb/ET201006h9v5\n",
      "H:/GIS/MODIS16.gdb/ET201007h8v5\n",
      "H:/GIS/MODIS16.gdb/ET201007h9v4\n",
      "H:/GIS/MODIS16.gdb/ET201007h9v5\n",
      "H:/GIS/MODIS16.gdb/ET201008h8v5\n",
      "H:/GIS/MODIS16.gdb/ET201008h9v4\n",
      "H:/GIS/MODIS16.gdb/ET201008h9v5\n",
      "H:/GIS/MODIS16.gdb/ET201009h8v5\n",
      "H:/GIS/MODIS16.gdb/ET201009h9v4\n",
      "H:/GIS/MODIS16.gdb/ET201009h9v5\n",
      "H:/GIS/MODIS16.gdb/ET201010h8v5\n",
      "H:/GIS/MODIS16.gdb/ET201010h9v4\n",
      "H:/GIS/MODIS16.gdb/ET201010h9v5\n",
      "H:/GIS/MODIS16.gdb/ET201011h8v5\n",
      "H:/GIS/MODIS16.gdb/ET201011h9v4\n",
      "H:/GIS/MODIS16.gdb/ET201011h9v5\n",
      "H:/GIS/MODIS16.gdb/ET201012h8v5\n",
      "H:/GIS/MODIS16.gdb/ET201012h9v4\n",
      "H:/GIS/MODIS16.gdb/ET201012h9v5\n",
      "H:/GIS/MODIS16.gdb/ET201101h8v5\n",
      "H:/GIS/MODIS16.gdb/ET201101h9v4\n",
      "H:/GIS/MODIS16.gdb/ET201101h9v5\n",
      "H:/GIS/MODIS16.gdb/ET201102h8v5\n",
      "H:/GIS/MODIS16.gdb/ET201102h9v4\n",
      "H:/GIS/MODIS16.gdb/ET201102h9v5\n",
      "H:/GIS/MODIS16.gdb/ET201103h8v5\n",
      "H:/GIS/MODIS16.gdb/ET201103h9v4\n",
      "H:/GIS/MODIS16.gdb/ET201103h9v5\n",
      "H:/GIS/MODIS16.gdb/ET201104h8v5\n",
      "H:/GIS/MODIS16.gdb/ET201104h9v4\n",
      "H:/GIS/MODIS16.gdb/ET201104h9v5\n",
      "H:/GIS/MODIS16.gdb/ET201105h8v5\n",
      "H:/GIS/MODIS16.gdb/ET201105h9v4\n",
      "H:/GIS/MODIS16.gdb/ET201105h9v5\n",
      "H:/GIS/MODIS16.gdb/ET201106h8v5\n",
      "H:/GIS/MODIS16.gdb/ET201106h9v4\n",
      "H:/GIS/MODIS16.gdb/ET201106h9v5\n",
      "H:/GIS/MODIS16.gdb/ET201107h8v5\n",
      "H:/GIS/MODIS16.gdb/ET201107h9v4\n",
      "H:/GIS/MODIS16.gdb/ET201107h9v5\n",
      "H:/GIS/MODIS16.gdb/ET201108h8v5\n",
      "H:/GIS/MODIS16.gdb/ET201108h9v4\n",
      "H:/GIS/MODIS16.gdb/ET201108h9v5\n",
      "H:/GIS/MODIS16.gdb/ET201109h8v5\n",
      "H:/GIS/MODIS16.gdb/ET201109h9v4\n",
      "H:/GIS/MODIS16.gdb/ET201109h9v5\n",
      "H:/GIS/MODIS16.gdb/ET201110h8v5\n",
      "H:/GIS/MODIS16.gdb/ET201110h9v4\n",
      "H:/GIS/MODIS16.gdb/ET201110h9v5\n",
      "H:/GIS/MODIS16.gdb/ET201111h8v5\n",
      "H:/GIS/MODIS16.gdb/ET201111h9v4\n",
      "H:/GIS/MODIS16.gdb/ET201111h9v5\n",
      "H:/GIS/MODIS16.gdb/ET201112h8v5\n",
      "H:/GIS/MODIS16.gdb/ET201112h9v4\n",
      "H:/GIS/MODIS16.gdb/ET201112h9v5\n",
      "H:/GIS/MODIS16.gdb/ET201201h8v5\n",
      "H:/GIS/MODIS16.gdb/ET201201h9v4\n",
      "H:/GIS/MODIS16.gdb/ET201201h9v5\n",
      "H:/GIS/MODIS16.gdb/ET201202h8v5\n",
      "H:/GIS/MODIS16.gdb/ET201202h9v4\n",
      "H:/GIS/MODIS16.gdb/ET201202h9v5\n",
      "H:/GIS/MODIS16.gdb/ET201203h8v5\n",
      "H:/GIS/MODIS16.gdb/ET201203h9v4\n",
      "H:/GIS/MODIS16.gdb/ET201203h9v5\n",
      "H:/GIS/MODIS16.gdb/ET201204h8v5\n",
      "H:/GIS/MODIS16.gdb/ET201204h9v4\n",
      "H:/GIS/MODIS16.gdb/ET201204h9v5\n",
      "H:/GIS/MODIS16.gdb/ET201205h8v5\n",
      "H:/GIS/MODIS16.gdb/ET201205h9v4\n",
      "H:/GIS/MODIS16.gdb/ET201205h9v5\n",
      "H:/GIS/MODIS16.gdb/ET201206h8v5\n",
      "H:/GIS/MODIS16.gdb/ET201206h9v4\n",
      "H:/GIS/MODIS16.gdb/ET201206h9v5\n",
      "H:/GIS/MODIS16.gdb/ET201207h8v5\n",
      "H:/GIS/MODIS16.gdb/ET201207h9v4\n",
      "H:/GIS/MODIS16.gdb/ET201207h9v5\n",
      "H:/GIS/MODIS16.gdb/ET201208h8v5\n",
      "H:/GIS/MODIS16.gdb/ET201208h9v4\n",
      "H:/GIS/MODIS16.gdb/ET201208h9v5\n",
      "H:/GIS/MODIS16.gdb/ET201209h8v5\n",
      "H:/GIS/MODIS16.gdb/ET201209h9v4\n",
      "H:/GIS/MODIS16.gdb/ET201209h9v5\n",
      "H:/GIS/MODIS16.gdb/ET201210h8v5\n",
      "H:/GIS/MODIS16.gdb/ET201210h9v4\n",
      "H:/GIS/MODIS16.gdb/ET201210h9v5\n",
      "H:/GIS/MODIS16.gdb/ET201211h8v5\n",
      "H:/GIS/MODIS16.gdb/ET201211h9v4\n",
      "H:/GIS/MODIS16.gdb/ET201211h9v5\n",
      "H:/GIS/MODIS16.gdb/ET201212h8v5\n",
      "H:/GIS/MODIS16.gdb/ET201212h9v4\n",
      "H:/GIS/MODIS16.gdb/ET201212h9v5\n",
      "H:/GIS/MODIS16.gdb/ET201301h8v5\n",
      "H:/GIS/MODIS16.gdb/ET201301h9v4\n",
      "H:/GIS/MODIS16.gdb/ET201301h9v5\n",
      "H:/GIS/MODIS16.gdb/ET201302h8v5\n",
      "H:/GIS/MODIS16.gdb/ET201302h9v4\n",
      "H:/GIS/MODIS16.gdb/ET201302h9v5\n",
      "H:/GIS/MODIS16.gdb/ET201303h8v5\n",
      "H:/GIS/MODIS16.gdb/ET201303h9v4\n",
      "H:/GIS/MODIS16.gdb/ET201303h9v5\n",
      "H:/GIS/MODIS16.gdb/ET201304h8v5\n",
      "H:/GIS/MODIS16.gdb/ET201304h9v4\n",
      "H:/GIS/MODIS16.gdb/ET201304h9v5\n",
      "H:/GIS/MODIS16.gdb/ET201305h8v5\n",
      "H:/GIS/MODIS16.gdb/ET201305h9v4\n",
      "H:/GIS/MODIS16.gdb/ET201305h9v5\n",
      "H:/GIS/MODIS16.gdb/ET201306h8v5\n",
      "H:/GIS/MODIS16.gdb/ET201306h9v4\n",
      "H:/GIS/MODIS16.gdb/ET201306h9v5\n",
      "H:/GIS/MODIS16.gdb/ET201307h8v5\n",
      "H:/GIS/MODIS16.gdb/ET201307h9v4\n",
      "H:/GIS/MODIS16.gdb/ET201307h9v5\n",
      "H:/GIS/MODIS16.gdb/ET201308h8v5\n",
      "H:/GIS/MODIS16.gdb/ET201308h9v4\n",
      "H:/GIS/MODIS16.gdb/ET201308h9v5\n",
      "H:/GIS/MODIS16.gdb/ET201309h8v5\n",
      "H:/GIS/MODIS16.gdb/ET201309h9v4\n",
      "H:/GIS/MODIS16.gdb/ET201309h9v5\n",
      "H:/GIS/MODIS16.gdb/ET201310h8v5\n",
      "H:/GIS/MODIS16.gdb/ET201310h9v4\n",
      "H:/GIS/MODIS16.gdb/ET201310h9v5\n",
      "H:/GIS/MODIS16.gdb/ET201311h8v5\n",
      "H:/GIS/MODIS16.gdb/ET201311h9v4\n",
      "H:/GIS/MODIS16.gdb/ET201311h9v5\n",
      "H:/GIS/MODIS16.gdb/ET201312h8v5\n",
      "H:/GIS/MODIS16.gdb/ET201312h9v4\n",
      "H:/GIS/MODIS16.gdb/ET201312h9v5\n",
      "H:/GIS/MODIS16.gdb/ET201401h8v5\n",
      "H:/GIS/MODIS16.gdb/ET201401h9v4\n",
      "H:/GIS/MODIS16.gdb/ET201401h9v5\n",
      "H:/GIS/MODIS16.gdb/ET201402h8v5\n",
      "H:/GIS/MODIS16.gdb/ET201402h9v4\n",
      "H:/GIS/MODIS16.gdb/ET201402h9v5\n",
      "H:/GIS/MODIS16.gdb/ET201403h8v5\n",
      "H:/GIS/MODIS16.gdb/ET201403h9v4\n",
      "H:/GIS/MODIS16.gdb/ET201403h9v5\n",
      "H:/GIS/MODIS16.gdb/ET201404h8v5\n",
      "H:/GIS/MODIS16.gdb/ET201404h9v4\n",
      "H:/GIS/MODIS16.gdb/ET201404h9v5\n",
      "H:/GIS/MODIS16.gdb/ET201405h8v5\n",
      "H:/GIS/MODIS16.gdb/ET201405h9v4\n",
      "H:/GIS/MODIS16.gdb/ET201405h9v5\n",
      "H:/GIS/MODIS16.gdb/ET201406h8v5\n",
      "H:/GIS/MODIS16.gdb/ET201406h9v4\n",
      "H:/GIS/MODIS16.gdb/ET201406h9v5\n",
      "H:/GIS/MODIS16.gdb/ET201407h8v5\n",
      "H:/GIS/MODIS16.gdb/ET201407h9v4\n",
      "H:/GIS/MODIS16.gdb/ET201407h9v5\n",
      "H:/GIS/MODIS16.gdb/ET201408h8v5\n",
      "H:/GIS/MODIS16.gdb/ET201408h9v4\n",
      "H:/GIS/MODIS16.gdb/ET201408h9v5\n",
      "H:/GIS/MODIS16.gdb/ET201409h8v5\n",
      "H:/GIS/MODIS16.gdb/ET201409h9v4\n",
      "H:/GIS/MODIS16.gdb/ET201409h9v5\n",
      "H:/GIS/MODIS16.gdb/ET201410h8v5\n",
      "H:/GIS/MODIS16.gdb/ET201410h9v4\n",
      "H:/GIS/MODIS16.gdb/ET201410h9v5\n",
      "H:/GIS/MODIS16.gdb/ET201411h8v5\n",
      "H:/GIS/MODIS16.gdb/ET201411h9v4\n",
      "H:/GIS/MODIS16.gdb/ET201411h9v5\n",
      "H:/GIS/MODIS16.gdb/ET201412h8v5\n",
      "H:/GIS/MODIS16.gdb/ET201412h9v4\n",
      "H:/GIS/MODIS16.gdb/ET201412h9v5\n"
     ]
    }
   ],
   "source": [
    "path = \"H:/GIS/MODIS/ET/\"\n",
    "outpath=\"H:/GIS/MODIS16.gdb/\"\n",
    "UBM.clip_and_fix(path,outpath,'ET')"
   ]
  },
  {
   "cell_type": "markdown",
   "metadata": {
    "deletable": true,
    "editable": true
   },
   "source": [
    "### Reproject PET"
   ]
  },
  {
   "cell_type": "code",
   "execution_count": 15,
   "metadata": {
    "collapsed": false,
    "deletable": true,
    "editable": true
   },
   "outputs": [
    {
     "ename": "NameError",
     "evalue": "name 'reprojectMODIS' is not defined",
     "output_type": "error",
     "traceback": [
      "\u001b[0;31m---------------------------------------------------------------------------\u001b[0m",
      "\u001b[0;31mNameError\u001b[0m                                 Traceback (most recent call last)",
      "\u001b[0;32m<ipython-input-15-20ba75cc8fb3>\u001b[0m in \u001b[0;36m<module>\u001b[0;34m()\u001b[0m\n\u001b[1;32m      1\u001b[0m \u001b[0msave_path\u001b[0m \u001b[1;33m=\u001b[0m \u001b[1;34m\"H:/GIS/MODIS/PET/\"\u001b[0m\u001b[1;33m\u001b[0m\u001b[0m\n\u001b[0;32m----> 2\u001b[0;31m \u001b[0mreprojectMODIS\u001b[0m\u001b[1;33m(\u001b[0m\u001b[0mfiles\u001b[0m\u001b[1;33m,\u001b[0m\u001b[0msave_path\u001b[0m\u001b[1;33m,\u001b[0m\u001b[1;34m'PET'\u001b[0m\u001b[1;33m)\u001b[0m\u001b[1;33m\u001b[0m\u001b[0m\n\u001b[0m",
      "\u001b[0;31mNameError\u001b[0m: name 'reprojectMODIS' is not defined"
     ]
    }
   ],
   "source": [
    "save_path = \"H:/GIS/MODIS/PET/\"\n",
    "UBM.reproject_modis(files,save_path,'PET')"
   ]
  },
  {
   "cell_type": "code",
   "execution_count": null,
   "metadata": {
    "collapsed": false,
    "deletable": true,
    "editable": true
   },
   "outputs": [],
   "source": [
    "path = \"H:/GIS/MODIS/PET/\"\n",
    "outpath=\"H:/GIS/MODIS16.gdb/\"\n",
    "UBM.clip_and_fix(path,outpath,'PET')"
   ]
  },
  {
   "cell_type": "markdown",
   "metadata": {
    "deletable": true,
    "editable": true
   },
   "source": [
    "## Merge Data"
   ]
  },
  {
   "cell_type": "markdown",
   "metadata": {
    "deletable": true,
    "editable": true
   },
   "source": [
    "MODIS data is downloaded as separate cells based on the Sinusoidal grid.  Three MODIS cells cover Utah ('h09v05','h09v04','h08v05'). The following scripts mosaic (merge) the three individual rasters for each month into one seamless monthly raster for the entire state. \n",
    "<img src=\"https://modis-land.gsfc.nasa.gov/images/MODIS_sinusoidal_grid1.gif\" alt=\"MODIS grid\">"
   ]
  },
  {
   "cell_type": "markdown",
   "metadata": {
    "deletable": true,
    "editable": true
   },
   "source": [
    "### Merge ET"
   ]
  },
  {
   "cell_type": "code",
   "execution_count": null,
   "metadata": {
    "collapsed": false,
    "deletable": true,
    "editable": true
   },
   "outputs": [],
   "source": [
    "path=\"H:/GIS/MODIS16.gdb/\"\n",
    "UBM.merge_rasts(path,data_type='ET')"
   ]
  },
  {
   "cell_type": "markdown",
   "metadata": {
    "deletable": true,
    "editable": true
   },
   "source": [
    "### Merge PET"
   ]
  },
  {
   "cell_type": "code",
   "execution_count": null,
   "metadata": {
    "collapsed": false,
    "deletable": true,
    "editable": true,
    "scrolled": true
   },
   "outputs": [],
   "source": [
    "path=\"H:/GIS/MODIS16.gdb/\"\n",
    "UBM.merge_rasts(path,data_type='PET')"
   ]
  },
  {
   "cell_type": "markdown",
   "metadata": {
    "deletable": true,
    "editable": true
   },
   "source": [
    "## Scale MODIS Data"
   ]
  },
  {
   "cell_type": "markdown",
   "metadata": {
    "deletable": true,
    "editable": true
   },
   "source": [
    "The documentation for the dataset says that the raw files have to be multiplied by 0.1 to get mm/month.  To convert to meters per month, we have to multiply the raw files by 0.0001 (0.1 x 0.001) or divide by 10,000.  These scripts do that division. "
   ]
  },
  {
   "cell_type": "code",
   "execution_count": null,
   "metadata": {
    "collapsed": false,
    "deletable": true,
    "editable": true
   },
   "outputs": [],
   "source": [
    "path=\"H:/GIS/MODIS16/\"\n",
    "arcpy.env.workspace = path\n",
    "\n",
    "scalingFactor = 10000.0 #convert to m/month\n",
    "out_path=\"H:/GIS/MODIS16/\"\n",
    "UBM.scale_modis(path, out_path, scaleby = 10000.0, data_type = 'ET')\n",
    "UBM.scale_modis(path, out_path, scaleby = 10000.0, data_type = 'PET')"
   ]
  },
  {
   "cell_type": "markdown",
   "metadata": {
    "deletable": true,
    "editable": true
   },
   "source": [
    "## Clean up GDB"
   ]
  },
  {
   "cell_type": "markdown",
   "metadata": {
    "deletable": true,
    "editable": true
   },
   "source": [
    "This deletes intermediate files left over from previous processing steps. For whatever reason, it take a while."
   ]
  },
  {
   "cell_type": "code",
   "execution_count": null,
   "metadata": {
    "collapsed": false,
    "deletable": true,
    "editable": true,
    "scrolled": true
   },
   "outputs": [],
   "source": [
    "path=\"H:/GIS/MODIS16/\"\n",
    "arcpy.env.workspace = path\n",
    "\n",
    "for rast in arcpy.ListRasters('*c'):\n",
    "    print(rast)\n",
    "    arcpy.Delete_management(rast, 'RasterDataset')\n",
    "    \n",
    "for rast in arcpy.ListRasters('*h*v*'):\n",
    "    print(rast)\n",
    "    arcpy.Delete_management(rast, 'RasterDataset')"
   ]
  },
  {
   "cell_type": "markdown",
   "metadata": {
    "deletable": true,
    "editable": true
   },
   "source": [
    "## Fill Holes in Rasters"
   ]
  },
  {
   "cell_type": "markdown",
   "metadata": {
    "deletable": true,
    "editable": true
   },
   "source": [
    "This processing step fills in null values created when the fill values were removed [above](#Reproject-MODIS-Data)."
   ]
  },
  {
   "cell_type": "markdown",
   "metadata": {
    "deletable": true,
    "editable": true
   },
   "source": [
    "From: http://gis.stackexchange.com/questions/136075/fill-in-nodata-gaps-in-raster-using-arcgis-for-desktop"
   ]
  },
  {
   "cell_type": "code",
   "execution_count": null,
   "metadata": {
    "collapsed": false,
    "deletable": true,
    "editable": true
   },
   "outputs": [],
   "source": [
    "path= \"H:/GIS/MODIS2/MODIS.gdb/\"\n",
    "outpath = \"H:/GIS/MODIS2/MODIS16.gdb/\"\n",
    "\n",
    "units = 'CELL'\n",
    "radius = 15\n",
    "\n",
    "arcpy.env.workspace = path\n",
    "\n",
    "def fill_holes(path, outpath, wildcard, units='CELL', radius=15):\n",
    "    for rast in arcpy.ListRasters(wildcard):\n",
    "        rfilled = arcpy.sa.Con(arcpy.sa.IsNull(rast),\n",
    "                              arcpy.sa.FocalStatistics(rast,\n",
    "                                                       arcpy.sa.NbrCircle(radius, units),'MEAN'), rast)\n",
    "        dsc = arcpy.Describe(rast)\n",
    "        nm = dsc.baseName\n",
    "        rfilled.save(outpath+nm)\n",
    "        print(nm)\n",
    "    "
   ]
  },
  {
   "cell_type": "code",
   "execution_count": null,
   "metadata": {
    "collapsed": true,
    "deletable": true,
    "editable": true
   },
   "outputs": [],
   "source": []
  },
  {
   "cell_type": "markdown",
   "metadata": {
    "deletable": true,
    "editable": true
   },
   "source": [
    "# SNODAS"
   ]
  },
  {
   "cell_type": "markdown",
   "metadata": {
    "deletable": true,
    "editable": true
   },
   "source": [
    "Data were downloaded using polaris: http://nsidc.org/data/polaris/"
   ]
  },
  {
   "cell_type": "markdown",
   "metadata": {},
   "source": [
    "## SNODAS ftp Download"
   ]
  },
  {
   "cell_type": "markdown",
   "metadata": {
    "deletable": true,
    "editable": true
   },
   "source": [
    "Alternatively, you can download from the ftp, which is slower. <br>\n",
    "ftp://sidads.colorado.edu/pub/DATASETS/NOAA/G02158/ <br>\n",
    "https://support.nsidc.org/entries/64231694-FTP-Client-Data-Access "
   ]
  },
  {
   "cell_type": "markdown",
   "metadata": {
    "deletable": true,
    "editable": true
   },
   "source": [
    "### Download SNODAS TARs\n"
   ]
  },
  {
   "cell_type": "code",
   "execution_count": null,
   "metadata": {
    "collapsed": false,
    "deletable": true,
    "editable": true
   },
   "outputs": [],
   "source": [
    "L = u'H:\\GIS\\SNODAS'\n",
    "UBM.get_snodas(L)"
   ]
  },
  {
   "cell_type": "markdown",
   "metadata": {
    "deletable": true,
    "editable": true
   },
   "source": [
    "### Extract SNODAS Data Files"
   ]
  },
  {
   "cell_type": "markdown",
   "metadata": {
    "deletable": true,
    "editable": true
   },
   "source": [
    "http://nsidc.org/data/docs/noaa/g02158_snodas_snow_cover_model/"
   ]
  },
  {
   "cell_type": "code",
   "execution_count": null,
   "metadata": {
    "collapsed": false,
    "deletable": true,
    "editable": true
   },
   "outputs": [],
   "source": [
    "#https://github.com/PSU-CSAR/SNODAS-SWE/blob/master/snodas-swe-prep.py"
   ]
  },
  {
   "cell_type": "markdown",
   "metadata": {
    "collapsed": false,
    "deletable": true,
    "editable": true
   },
   "source": [
    "Unzip tar files and put in unzip file"
   ]
  },
  {
   "cell_type": "code",
   "execution_count": null,
   "metadata": {
    "collapsed": false,
    "deletable": true,
    "editable": true
   },
   "outputs": [],
   "source": [
    "snodasTars = glob.glob(u'H:/GIS/SNODAS/*.tar')\n",
    "for tared in snodasTars:\n",
    "    untar(tared,u'H:/GIS/SNODAS/SNODASUNZIPPED/')"
   ]
  },
  {
   "cell_type": "markdown",
   "metadata": {
    "collapsed": true,
    "deletable": true,
    "editable": true
   },
   "source": [
    "Ungz gz files and delete gz files"
   ]
  },
  {
   "cell_type": "code",
   "execution_count": null,
   "metadata": {
    "collapsed": false,
    "deletable": true,
    "editable": true
   },
   "outputs": [],
   "source": [
    "unsnodasTars = glob.glob(u'H:/GIS/SNODAS/SNODASUNZIPPED/*.gz')\n",
    "for tared in unsnodasTars:\n",
    "    ungz(tared, deletesource=True)"
   ]
  },
  {
   "cell_type": "markdown",
   "metadata": {
    "deletable": true,
    "editable": true
   },
   "source": [
    "Replace header file to make compatible with ArcGIS"
   ]
  },
  {
   "cell_type": "code",
   "execution_count": null,
   "metadata": {
    "collapsed": false,
    "deletable": true,
    "editable": true
   },
   "outputs": [],
   "source": [
    "for hdrfile in glob.glob(\"H:/GIS/SNODAS/SNODASUNZIPPED/*.Hdr\"):\n",
    "    replace_hdr_file(hdrfile)"
   ]
  },
  {
   "cell_type": "markdown",
   "metadata": {
    "deletable": true,
    "editable": true
   },
   "source": [
    "## Polaris Download"
   ]
  },
  {
   "cell_type": "markdown",
   "metadata": {
    "deletable": true,
    "editable": true
   },
   "source": [
    "Downloaded data from http://nsidc.org/data/polaris/, which allows for clipping to an area, as well as output as GeoTiff Format.  The download takes about 3 days and the unzipping takes about 2 hours."
   ]
  },
  {
   "cell_type": "markdown",
   "metadata": {
    "collapsed": true,
    "deletable": true,
    "editable": true
   },
   "source": [
    "<b>Extent:</b><br>\n",
    "<ul type=\"disc\">\n",
    "<li>Top `44.0254000046`</li>\n",
    "<li>Left `-116.075366662`</li>\n",
    "<li>Right `-108.375366657`</li>\n",
    "<li>Bottom `36.0087333333`</li>"
   ]
  },
  {
   "cell_type": "markdown",
   "metadata": {
    "deletable": true,
    "editable": true
   },
   "source": [
    "<b>Selected Variables:</b> <p>Snow Melt Runoff at the Base of the Snow Pack, Sublimation of Blowing Snow, Snow Pack Average Temperature, Sublimation from the Snow Pack, Snow Water Equivalent, Liquid Precipitation, Snow Depth, Solid Precipitation</p><br>\n",
    "<b>Download Format:</b> GeoTIFF<br>\n",
    "<b>Output Grid:</b> 30\" (Cylindrical Equidistant)"
   ]
  },
  {
   "cell_type": "markdown",
   "metadata": {
    "deletable": true,
    "editable": true
   },
   "source": [
    "After unzipping files, rename them to make them easier to handle."
   ]
  },
  {
   "cell_type": "markdown",
   "metadata": {
    "deletable": true,
    "editable": true
   },
   "source": [
    "From http://nsidc.org/data/docs/noaa/g02158_snodas_snow_cover_model/, the file abbreviations are as follows:\n",
    "<ul type=\"disc\">\n",
    "<li>`RAIN` = `Wet Precip`</li>\n",
    "<li>`SWEQ` = `Snow Water Equivalent`</li> \n",
    "<li>`SNOD` = `Snow Depth`</li> \n",
    "<li>`SPAT` = `Snow Pack Average Temp`</li>\n",
    "<li>`BSSB` = `Blowing Snow Sublimation`</li>\n",
    "<li>`SNML` = `Snowmelt`</li>\n",
    "<li>`SPSB` = `Snow Pack Sublimation`</li>\n",
    "</ul>"
   ]
  },
  {
   "cell_type": "code",
   "execution_count": null,
   "metadata": {
    "collapsed": false,
    "deletable": true,
    "editable": true
   },
   "outputs": [],
   "source": [
    "path = \"C:/Users/PAULINKENBRANDT/Downloads/NSIDC_Data\"           \n",
    "UBM.rename_polaris_snodas(path)"
   ]
  },
  {
   "cell_type": "markdown",
   "metadata": {
    "deletable": true,
    "editable": true
   },
   "source": [
    "## Data Merge (daily to monthly)"
   ]
  },
  {
   "cell_type": "markdown",
   "metadata": {
    "deletable": true,
    "editable": true
   },
   "source": [
    "This merge uses geoTiff files from Polaris"
   ]
  },
  {
   "cell_type": "markdown",
   "metadata": {
    "collapsed": false,
    "deletable": true,
    "editable": true
   },
   "source": [
    "https://pro.arcgis.com/en/pro-app/help/analysis/spatial-analyst/mapalgebra/building-complex-statements.htm\n",
    "    "
   ]
  },
  {
   "cell_type": "markdown",
   "metadata": {
    "deletable": true,
    "editable": true
   },
   "source": [
    "### Precipitation"
   ]
  },
  {
   "cell_type": "markdown",
   "metadata": {
    "deletable": true,
    "editable": true
   },
   "source": [
    "Includes snow and rain, which are provided as separate data sets in the SNOTEL data."
   ]
  },
  {
   "cell_type": "markdown",
   "metadata": {
    "deletable": true,
    "editable": true
   },
   "source": [
    "#### Wet Precipitation"
   ]
  },
  {
   "cell_type": "markdown",
   "metadata": {
    "deletable": true,
    "editable": true
   },
   "source": [
    "This is a measure of the cumulative incoming rain over a month.<br> \n",
    "Units are meters of water per month."
   ]
  },
  {
   "cell_type": "code",
   "execution_count": 6,
   "metadata": {
    "collapsed": false,
    "deletable": true,
    "editable": true,
    "scrolled": true
   },
   "outputs": [
    {
     "name": "stdout",
     "output_type": "stream",
     "text": [
      "H:/GIS/SNODAS.gdb/RAIN201501SUM\n",
      "H:/GIS/SNODAS.gdb/RAIN201502SUM\n",
      "H:/GIS/SNODAS.gdb/RAIN201503SUM\n",
      "H:/GIS/SNODAS.gdb/RAIN201504SUM\n",
      "H:/GIS/SNODAS.gdb/RAIN201505SUM\n",
      "H:/GIS/SNODAS.gdb/RAIN201506SUM\n",
      "H:/GIS/SNODAS.gdb/RAIN201507SUM\n",
      "H:/GIS/SNODAS.gdb/RAIN201508SUM\n",
      "H:/GIS/SNODAS.gdb/RAIN201509SUM\n",
      "H:/GIS/SNODAS.gdb/RAIN201510SUM\n",
      "H:/GIS/SNODAS.gdb/RAIN201511SUM\n",
      "H:/GIS/SNODAS.gdb/RAIN201512SUM\n"
     ]
    }
   ],
   "source": [
    "UBM.snow_summary('RAIN',10000.0, monthRange = [1,12], yearRange = [2015,2015])"
   ]
  },
  {
   "cell_type": "markdown",
   "metadata": {
    "deletable": true,
    "editable": true
   },
   "source": [
    "#### Snow"
   ]
  },
  {
   "cell_type": "markdown",
   "metadata": {
    "deletable": true,
    "editable": true
   },
   "source": [
    "This represents the \"dry\" precipitation that falls to the ground as snow.<br>\n",
    "We summed daily data to create cumulative monthly snowfall.<br>\n",
    "Units are in meters of water per month."
   ]
  },
  {
   "cell_type": "code",
   "execution_count": null,
   "metadata": {
    "collapsed": false,
    "deletable": true,
    "editable": true,
    "scrolled": true
   },
   "outputs": [],
   "source": [
    "UBM.snow_summary('SNOW',10000.0)"
   ]
  },
  {
   "cell_type": "markdown",
   "metadata": {
    "deletable": true,
    "editable": true
   },
   "source": [
    "#### Total Precipitation"
   ]
  },
  {
   "cell_type": "code",
   "execution_count": null,
   "metadata": {
    "collapsed": false,
    "deletable": true,
    "editable": true
   },
   "outputs": [],
   "source": [
    "monthRange = [1,12] \n",
    "yearRange = [2003,2016]\n",
    "\n",
    "g = {}\n",
    "path=\"H:/GIS/SNODAS.gdb/\"\n",
    "arcpy.env.workspace = path\n",
    "arcpy.env.overwriteOutput = True\n",
    "\n",
    "for y in range(yearRange[0],yearRange[1]+1): #set years converted here\n",
    "    for m in range(monthRange[0],monthRange[1]+1): #set months converted here\n",
    "        my = str(y)+str(m).zfill(2)\n",
    "        newdn = 'TPPT' + my\n",
    "        try:\n",
    "            calc = Plus('SNOW'+ my +'SUM', 'RAIN'+ my +'SUM')\n",
    "            calc.save(newdn+'SUM')\n",
    "            print(newdn)\n",
    "        except(RuntimeError):\n",
    "            pass"
   ]
  },
  {
   "cell_type": "markdown",
   "metadata": {
    "deletable": true,
    "editable": true
   },
   "source": [
    "### SWE"
   ]
  },
  {
   "cell_type": "markdown",
   "metadata": {
    "deletable": true,
    "editable": true
   },
   "source": [
    "SWE = Snow-water equivalent;  This is a measure of the estimated total water content of the snow pack. <br>\n",
    "The median is used to summarize these data.<br>\n",
    "Units are in meters of water."
   ]
  },
  {
   "cell_type": "code",
   "execution_count": null,
   "metadata": {
    "collapsed": false,
    "deletable": true,
    "editable": true
   },
   "outputs": [],
   "source": [
    "UBM.snow_summary('SWEQ', 1000.0, 'MEDIAN', monthRange=[1, 12], yearRange=[2003, 2016])"
   ]
  },
  {
   "cell_type": "markdown",
   "metadata": {
    "deletable": true,
    "editable": true
   },
   "source": [
    "### Snowmelt"
   ]
  },
  {
   "cell_type": "markdown",
   "metadata": {
    "deletable": true,
    "editable": true
   },
   "source": [
    "SNML = Cumulative monthly snowmelt calculated by summing daily snowmelt data.<br>\n",
    "Units are in meters of water per month.\n",
    "Snow Melt Runoff at the Base of the Snow Pack.\n",
    "Units are meters of water per month."
   ]
  },
  {
   "cell_type": "code",
   "execution_count": 7,
   "metadata": {
    "collapsed": false,
    "deletable": true,
    "editable": true,
    "scrolled": true
   },
   "outputs": [
    {
     "name": "stdout",
     "output_type": "stream",
     "text": [
      "H:/GIS/SNODAS.gdb/SNML200309SUM\n",
      "H:/GIS/SNODAS.gdb/SNML200310SUM\n",
      "H:/GIS/SNODAS.gdb/SNML200311SUM\n",
      "H:/GIS/SNODAS.gdb/SNML200312SUM\n",
      "H:/GIS/SNODAS.gdb/SNML200401SUM\n",
      "H:/GIS/SNODAS.gdb/SNML200402SUM\n",
      "H:/GIS/SNODAS.gdb/SNML200403SUM\n",
      "H:/GIS/SNODAS.gdb/SNML200404SUM\n",
      "H:/GIS/SNODAS.gdb/SNML200405SUM\n",
      "H:/GIS/SNODAS.gdb/SNML200406SUM\n",
      "H:/GIS/SNODAS.gdb/SNML200407SUM\n",
      "H:/GIS/SNODAS.gdb/SNML200408SUM\n",
      "H:/GIS/SNODAS.gdb/SNML200409SUM\n",
      "H:/GIS/SNODAS.gdb/SNML200410SUM\n",
      "H:/GIS/SNODAS.gdb/SNML200411SUM\n",
      "H:/GIS/SNODAS.gdb/SNML200412SUM\n",
      "H:/GIS/SNODAS.gdb/SNML200501SUM\n",
      "H:/GIS/SNODAS.gdb/SNML200502SUM\n",
      "H:/GIS/SNODAS.gdb/SNML200503SUM\n",
      "H:/GIS/SNODAS.gdb/SNML200504SUM\n",
      "H:/GIS/SNODAS.gdb/SNML200505SUM\n",
      "H:/GIS/SNODAS.gdb/SNML200506SUM\n",
      "H:/GIS/SNODAS.gdb/SNML200507SUM\n",
      "H:/GIS/SNODAS.gdb/SNML200508SUM\n",
      "H:/GIS/SNODAS.gdb/SNML200509SUM\n",
      "H:/GIS/SNODAS.gdb/SNML200510SUM\n",
      "H:/GIS/SNODAS.gdb/SNML200511SUM\n",
      "H:/GIS/SNODAS.gdb/SNML200512SUM\n",
      "H:/GIS/SNODAS.gdb/SNML200601SUM\n",
      "H:/GIS/SNODAS.gdb/SNML200602SUM\n",
      "H:/GIS/SNODAS.gdb/SNML200603SUM\n",
      "H:/GIS/SNODAS.gdb/SNML200604SUM\n",
      "H:/GIS/SNODAS.gdb/SNML200605SUM\n",
      "H:/GIS/SNODAS.gdb/SNML200606SUM\n",
      "H:/GIS/SNODAS.gdb/SNML200607SUM\n",
      "H:/GIS/SNODAS.gdb/SNML200608SUM\n",
      "H:/GIS/SNODAS.gdb/SNML200609SUM\n",
      "H:/GIS/SNODAS.gdb/SNML200610SUM\n",
      "H:/GIS/SNODAS.gdb/SNML200611SUM\n",
      "H:/GIS/SNODAS.gdb/SNML200612SUM\n",
      "H:/GIS/SNODAS.gdb/SNML200701SUM\n",
      "H:/GIS/SNODAS.gdb/SNML200702SUM\n",
      "H:/GIS/SNODAS.gdb/SNML200703SUM\n",
      "H:/GIS/SNODAS.gdb/SNML200704SUM\n",
      "H:/GIS/SNODAS.gdb/SNML200705SUM\n",
      "H:/GIS/SNODAS.gdb/SNML200706SUM\n",
      "H:/GIS/SNODAS.gdb/SNML200707SUM\n",
      "H:/GIS/SNODAS.gdb/SNML200708SUM\n",
      "H:/GIS/SNODAS.gdb/SNML200709SUM\n",
      "H:/GIS/SNODAS.gdb/SNML200710SUM\n",
      "H:/GIS/SNODAS.gdb/SNML200711SUM\n",
      "H:/GIS/SNODAS.gdb/SNML200712SUM\n",
      "H:/GIS/SNODAS.gdb/SNML200801SUM\n",
      "H:/GIS/SNODAS.gdb/SNML200802SUM\n",
      "H:/GIS/SNODAS.gdb/SNML200803SUM\n",
      "H:/GIS/SNODAS.gdb/SNML200804SUM\n",
      "H:/GIS/SNODAS.gdb/SNML200805SUM\n",
      "H:/GIS/SNODAS.gdb/SNML200806SUM\n",
      "H:/GIS/SNODAS.gdb/SNML200807SUM\n",
      "H:/GIS/SNODAS.gdb/SNML200808SUM\n",
      "H:/GIS/SNODAS.gdb/SNML200809SUM\n",
      "H:/GIS/SNODAS.gdb/SNML200810SUM\n",
      "H:/GIS/SNODAS.gdb/SNML200811SUM\n",
      "H:/GIS/SNODAS.gdb/SNML200812SUM\n",
      "H:/GIS/SNODAS.gdb/SNML200901SUM\n",
      "H:/GIS/SNODAS.gdb/SNML200902SUM\n",
      "H:/GIS/SNODAS.gdb/SNML200903SUM\n",
      "H:/GIS/SNODAS.gdb/SNML200904SUM\n",
      "H:/GIS/SNODAS.gdb/SNML200905SUM\n",
      "H:/GIS/SNODAS.gdb/SNML200906SUM\n",
      "H:/GIS/SNODAS.gdb/SNML200907SUM\n",
      "H:/GIS/SNODAS.gdb/SNML200908SUM\n",
      "H:/GIS/SNODAS.gdb/SNML200909SUM\n",
      "H:/GIS/SNODAS.gdb/SNML200910SUM\n",
      "H:/GIS/SNODAS.gdb/SNML200911SUM\n",
      "H:/GIS/SNODAS.gdb/SNML200912SUM\n",
      "H:/GIS/SNODAS.gdb/SNML201001SUM\n",
      "H:/GIS/SNODAS.gdb/SNML201002SUM\n",
      "H:/GIS/SNODAS.gdb/SNML201003SUM\n",
      "H:/GIS/SNODAS.gdb/SNML201004SUM\n",
      "H:/GIS/SNODAS.gdb/SNML201005SUM\n",
      "H:/GIS/SNODAS.gdb/SNML201006SUM\n",
      "H:/GIS/SNODAS.gdb/SNML201007SUM\n",
      "H:/GIS/SNODAS.gdb/SNML201008SUM\n",
      "H:/GIS/SNODAS.gdb/SNML201009SUM\n",
      "H:/GIS/SNODAS.gdb/SNML201010SUM\n",
      "H:/GIS/SNODAS.gdb/SNML201011SUM\n",
      "H:/GIS/SNODAS.gdb/SNML201012SUM\n",
      "H:/GIS/SNODAS.gdb/SNML201101SUM\n",
      "H:/GIS/SNODAS.gdb/SNML201102SUM\n",
      "H:/GIS/SNODAS.gdb/SNML201103SUM\n",
      "H:/GIS/SNODAS.gdb/SNML201104SUM\n",
      "H:/GIS/SNODAS.gdb/SNML201105SUM\n",
      "H:/GIS/SNODAS.gdb/SNML201106SUM\n",
      "H:/GIS/SNODAS.gdb/SNML201107SUM\n",
      "H:/GIS/SNODAS.gdb/SNML201108SUM\n",
      "H:/GIS/SNODAS.gdb/SNML201109SUM\n",
      "H:/GIS/SNODAS.gdb/SNML201110SUM\n",
      "H:/GIS/SNODAS.gdb/SNML201111SUM\n",
      "H:/GIS/SNODAS.gdb/SNML201112SUM\n",
      "H:/GIS/SNODAS.gdb/SNML201201SUM\n",
      "H:/GIS/SNODAS.gdb/SNML201202SUM\n",
      "H:/GIS/SNODAS.gdb/SNML201203SUM\n",
      "H:/GIS/SNODAS.gdb/SNML201204SUM\n",
      "H:/GIS/SNODAS.gdb/SNML201205SUM\n",
      "H:/GIS/SNODAS.gdb/SNML201206SUM\n",
      "H:/GIS/SNODAS.gdb/SNML201207SUM\n",
      "H:/GIS/SNODAS.gdb/SNML201208SUM\n",
      "H:/GIS/SNODAS.gdb/SNML201209SUM\n",
      "H:/GIS/SNODAS.gdb/SNML201210SUM\n",
      "H:/GIS/SNODAS.gdb/SNML201211SUM\n",
      "H:/GIS/SNODAS.gdb/SNML201212SUM\n",
      "H:/GIS/SNODAS.gdb/SNML201301SUM\n",
      "H:/GIS/SNODAS.gdb/SNML201302SUM\n",
      "H:/GIS/SNODAS.gdb/SNML201303SUM\n",
      "H:/GIS/SNODAS.gdb/SNML201304SUM\n",
      "H:/GIS/SNODAS.gdb/SNML201305SUM\n",
      "H:/GIS/SNODAS.gdb/SNML201306SUM\n",
      "H:/GIS/SNODAS.gdb/SNML201307SUM\n",
      "H:/GIS/SNODAS.gdb/SNML201308SUM\n",
      "H:/GIS/SNODAS.gdb/SNML201309SUM\n",
      "H:/GIS/SNODAS.gdb/SNML201310SUM\n",
      "H:/GIS/SNODAS.gdb/SNML201311SUM\n",
      "H:/GIS/SNODAS.gdb/SNML201312SUM\n",
      "H:/GIS/SNODAS.gdb/SNML201401SUM\n",
      "H:/GIS/SNODAS.gdb/SNML201402SUM\n",
      "H:/GIS/SNODAS.gdb/SNML201403SUM\n",
      "H:/GIS/SNODAS.gdb/SNML201404SUM\n",
      "H:/GIS/SNODAS.gdb/SNML201405SUM\n",
      "H:/GIS/SNODAS.gdb/SNML201406SUM\n",
      "H:/GIS/SNODAS.gdb/SNML201407SUM\n",
      "H:/GIS/SNODAS.gdb/SNML201408SUM\n",
      "H:/GIS/SNODAS.gdb/SNML201409SUM\n",
      "H:/GIS/SNODAS.gdb/SNML201410SUM\n",
      "H:/GIS/SNODAS.gdb/SNML201411SUM\n",
      "H:/GIS/SNODAS.gdb/SNML201412SUM\n",
      "H:/GIS/SNODAS.gdb/SNML201501SUM\n",
      "H:/GIS/SNODAS.gdb/SNML201502SUM\n",
      "H:/GIS/SNODAS.gdb/SNML201503SUM\n",
      "H:/GIS/SNODAS.gdb/SNML201504SUM\n",
      "H:/GIS/SNODAS.gdb/SNML201505SUM\n",
      "H:/GIS/SNODAS.gdb/SNML201506SUM\n",
      "H:/GIS/SNODAS.gdb/SNML201507SUM\n",
      "H:/GIS/SNODAS.gdb/SNML201508SUM\n",
      "H:/GIS/SNODAS.gdb/SNML201509SUM\n",
      "H:/GIS/SNODAS.gdb/SNML201510SUM\n",
      "H:/GIS/SNODAS.gdb/SNML201511SUM\n",
      "H:/GIS/SNODAS.gdb/SNML201512SUM\n"
     ]
    }
   ],
   "source": [
    "UBM.snow_summary('SNML', 100000.0, 'SUM', monthRange=[1, 12], yearRange=[2003, 2015])"
   ]
  },
  {
   "cell_type": "markdown",
   "metadata": {
    "deletable": true,
    "editable": true
   },
   "source": [
    "### Snow Sublimation"
   ]
  },
  {
   "cell_type": "markdown",
   "metadata": {
    "deletable": true,
    "editable": true
   },
   "source": [
    "BSSB = Cumulative monthly blowing snow sublimation.<br>\n",
    "SPSB = Cumulative monthly snow pack sublimation.<br>\n",
    "TSSB = Total Cumulative monthly snow sublimation.<br>\n",
    "Units are in meters of water per month."
   ]
  },
  {
   "cell_type": "code",
   "execution_count": null,
   "metadata": {
    "collapsed": false,
    "deletable": true,
    "editable": true,
    "scrolled": true
   },
   "outputs": [],
   "source": [
    "UBM.snow_summary('BSSB', 100000.0, 'SUM', monthRange=[9, 9], yearRange=[2016, 2016])"
   ]
  },
  {
   "cell_type": "code",
   "execution_count": null,
   "metadata": {
    "collapsed": false,
    "deletable": true,
    "editable": true
   },
   "outputs": [],
   "source": [
    "UBM.snow_summary('SPSB', 100000.0, 'SUM', monthRange=[9, 9], yearRange=[2016, 2016])"
   ]
  },
  {
   "cell_type": "code",
   "execution_count": null,
   "metadata": {
    "collapsed": false,
    "deletable": true,
    "editable": true
   },
   "outputs": [],
   "source": [
    "g = {}\n",
    "path=\"H:/GIS/SNODAS.gdb/\"\n",
    "arcpy.env.workspace = path\n",
    "arcpy.env.overwriteOutput = True\n",
    "\n",
    "monthRange = [1,12] \n",
    "yearRange = [2003,2016]\n",
    "\n",
    "for y in range(yearRange[0],yearRange[1]+1): #set years converted here\n",
    "    for m in range(monthRange[0],monthRange[1]+1): #set months converted here\n",
    "        my = str(y)+str(m).zfill(2)\n",
    "        newdn = 'TSSB' + my\n",
    "        try:\n",
    "            calc = Plus('BSSB'+ my +'SUM', 'SPSB'+ my +'SUM')\n",
    "            calc.save(newdn+'SUM')\n",
    "            print(newdn)\n",
    "        except(RuntimeError):\n",
    "            pass"
   ]
  },
  {
   "cell_type": "markdown",
   "metadata": {
    "deletable": true,
    "editable": true
   },
   "source": [
    "## Monthly Averages"
   ]
  },
  {
   "cell_type": "code",
   "execution_count": null,
   "metadata": {
    "collapsed": false,
    "deletable": true,
    "editable": true
   },
   "outputs": [],
   "source": [
    "UBM.totalavg('TSSB')"
   ]
  },
  {
   "cell_type": "code",
   "execution_count": null,
   "metadata": {
    "collapsed": false,
    "deletable": true,
    "editable": true
   },
   "outputs": [],
   "source": [
    "UBM.totalavg('SNML', monthRange=[2, 12], yearRange=[2003, 2016])"
   ]
  },
  {
   "cell_type": "markdown",
   "metadata": {
    "deletable": true,
    "editable": true
   },
   "source": [
    "# Soil Data"
   ]
  },
  {
   "cell_type": "markdown",
   "metadata": {},
   "source": [
    "<img src='https://casoilresource.lawr.ucdavis.edu/files/6114/1807/4326/SSURGO-analysis-diagram.preview.png'>"
   ]
  },
  {
   "cell_type": "markdown",
   "metadata": {
    "deletable": true,
    "editable": true
   },
   "source": [
    "## STATSGO"
   ]
  },
  {
   "cell_type": "code",
   "execution_count": null,
   "metadata": {
    "collapsed": false,
    "deletable": true,
    "editable": true
   },
   "outputs": [],
   "source": [
    "soildir = 'H:/GIS/soils/STATSGO/'\n",
    "\n",
    "keeplist = ['hzname', 'hzdept_r','hzdepb_r','hzthk_r','dbovendry_r','ksat_r','awc_r','wthirdbar_r',\n",
    "            'wfifteenbar_r','mukey','cokey','chkey']\n",
    "\n",
    "chorizon = pd.read_excel(soildir+'chorizon.xlsx')\n",
    "\n",
    "droplist = list(set(list(chorizon.columns)) - set(keeplist))\n",
    "chorizon.drop(droplist, axis=1, inplace=True)"
   ]
  },
  {
   "cell_type": "code",
   "execution_count": null,
   "metadata": {
    "collapsed": true,
    "deletable": true,
    "editable": true
   },
   "outputs": [],
   "source": [
    "chorizon.columns = [str(x).strip() for x in list(chorizon.columns)]"
   ]
  },
  {
   "cell_type": "code",
   "execution_count": null,
   "metadata": {
    "collapsed": false,
    "deletable": true,
    "editable": true
   },
   "outputs": [],
   "source": [
    "chorizon.columns"
   ]
  },
  {
   "cell_type": "markdown",
   "metadata": {
    "deletable": true,
    "editable": true
   },
   "source": [
    "Get thickness of all measured horizons and calculate weighting factor for each horizon."
   ]
  },
  {
   "cell_type": "code",
   "execution_count": null,
   "metadata": {
    "collapsed": false,
    "deletable": true,
    "editable": true
   },
   "outputs": [],
   "source": [
    "chorizon['hzthk_r'] = chorizon['hzdepb_r'] - chorizon['hzdept_r']\n",
    "thick = chorizon.groupby(['cokey'])['hzthk_r'].sum().to_dict()\n",
    "chorizon['comthk'] = chorizon['cokey'].apply(lambda x: thick[x],1)\n",
    "chorizon['thickness_weight'] = chorizon['hzthk_r']/chorizon['comthk']"
   ]
  },
  {
   "cell_type": "markdown",
   "metadata": {
    "deletable": true,
    "editable": true
   },
   "source": [
    "Calculated weighting of each important horizon variable."
   ]
  },
  {
   "cell_type": "code",
   "execution_count": null,
   "metadata": {
    "collapsed": true,
    "deletable": true,
    "editable": true
   },
   "outputs": [],
   "source": [
    "chorizon['tw_ksat'] = chorizon[['thickness_weight','ksat_r']].apply(lambda x: x[0]*x[1],1)\n",
    "chorizon['tw_wilt'] = chorizon[['thickness_weight','wfifteenbar_r']].apply(lambda x: x[0]*x[1],1)\n",
    "chorizon['tw_field_capacity'] = chorizon[['thickness_weight','wthirdbar_r']].apply(lambda x: x[0]*x[1],1)\n",
    "chorizon['tw_dense'] = chorizon[['thickness_weight','dbovendry_r']].apply(lambda x: x[0]*x[1],1)"
   ]
  },
  {
   "cell_type": "markdown",
   "metadata": {
    "deletable": true,
    "editable": true
   },
   "source": [
    "Combine horizons into components. Drop na and unneeded fields."
   ]
  },
  {
   "cell_type": "code",
   "execution_count": null,
   "metadata": {
    "collapsed": false,
    "deletable": true,
    "editable": true
   },
   "outputs": [],
   "source": [
    "component_props = chorizon.groupby('cokey').sum()\n",
    "component_props.drop(['hzdept_r','hzdepb_r','dbovendry_r','ksat_r','awc_r','wthirdbar_r','wfifteenbar_r'],axis=1,inplace=True)"
   ]
  },
  {
   "cell_type": "code",
   "execution_count": null,
   "metadata": {
    "collapsed": false,
    "deletable": true,
    "editable": true
   },
   "outputs": [],
   "source": [
    "component_props.dropna(subset=['tw_ksat','tw_wilt','tw_field_capacity','tw_dense'],how='all',inplace=True)"
   ]
  },
  {
   "cell_type": "code",
   "execution_count": null,
   "metadata": {
    "collapsed": false,
    "deletable": true,
    "editable": true
   },
   "outputs": [],
   "source": [
    "component_props.reset_index(inplace=True)"
   ]
  },
  {
   "cell_type": "markdown",
   "metadata": {
    "deletable": true,
    "editable": true
   },
   "source": [
    "Read in component table. Keep only keys and component percent field."
   ]
  },
  {
   "cell_type": "code",
   "execution_count": null,
   "metadata": {
    "collapsed": false,
    "deletable": true,
    "editable": true
   },
   "outputs": [],
   "source": [
    "component = pd.read_excel(soildir+'component.xlsx')\n",
    "droplist = list(set(list(component.columns))-set(['comppct_r','compname','mukey','cokey']))\n",
    "component.drop(droplist, axis=1, inplace=True)"
   ]
  },
  {
   "cell_type": "code",
   "execution_count": null,
   "metadata": {
    "collapsed": false,
    "deletable": true,
    "editable": true
   },
   "outputs": [],
   "source": [
    "com_props = pd.merge(component_props, component, on='cokey')"
   ]
  },
  {
   "cell_type": "code",
   "execution_count": null,
   "metadata": {
    "collapsed": true,
    "deletable": true,
    "editable": true
   },
   "outputs": [],
   "source": [
    "corest = pd.read_excel('H:/GIS/soils/STATSGO/corestrictions.xlsx')\n",
    "corest.drop([u'reskind', u'reshard', u'resdept_l', u'resdept_h', u'resdepb_l', u'resdepb_r', u'resdepb_h', \n",
    "             u'resthk_l', u'resthk_r', u'resthk_h', u'corestrictkey'], inplace=True, axis=1)"
   ]
  },
  {
   "cell_type": "code",
   "execution_count": null,
   "metadata": {
    "collapsed": false,
    "deletable": true,
    "editable": true
   },
   "outputs": [],
   "source": []
  },
  {
   "cell_type": "code",
   "execution_count": null,
   "metadata": {
    "collapsed": true,
    "deletable": true,
    "editable": true
   },
   "outputs": [],
   "source": [
    "comprops = pd.merge(corest,com_props, on='cokey')"
   ]
  },
  {
   "cell_type": "markdown",
   "metadata": {
    "deletable": true,
    "editable": true
   },
   "source": [
    "Combine compenents for each mukey."
   ]
  },
  {
   "cell_type": "code",
   "execution_count": null,
   "metadata": {
    "collapsed": false,
    "deletable": true,
    "editable": true
   },
   "outputs": [],
   "source": [
    "cowt = comprops.groupby(['mukey'])['comppct_r'].sum().to_dict()\n",
    "comprops['comppct_tot'] = comprops['mukey'].apply(lambda x: cowt[x],1)\n",
    "comprops['comppct_r'] = comprops['comppct_r'] / comprops['comppct_tot']\n",
    "\n",
    "comprops['thickness_m'] = comprops['comppct_r']*comprops['resdept_r']/100.0 # convert to meters\n",
    "comprops['ksat'] = comprops['tw_ksat'] * comprops['comppct_r']\n",
    "comprops['wilt'] = comprops['tw_wilt'] * comprops['comppct_r']\n",
    "comprops['field_cap'] = comprops['tw_field_capacity'] * comprops['comppct_r']\n",
    "comprops['dense'] = comprops['tw_dense'] * comprops['comppct_r']"
   ]
  },
  {
   "cell_type": "code",
   "execution_count": null,
   "metadata": {
    "collapsed": false,
    "deletable": true,
    "editable": true
   },
   "outputs": [],
   "source": [
    "muprops = comprops.groupby(['mukey']).sum()"
   ]
  },
  {
   "cell_type": "code",
   "execution_count": null,
   "metadata": {
    "collapsed": true,
    "deletable": true,
    "editable": true
   },
   "outputs": [],
   "source": [
    "dropfields = [u'cokey', u'hzthk_r', u'chkey', u'comthk', u'tw_ksat', u'tw_wilt',\n",
    "              u'tw_field_capacity', u'tw_dense', u'thickness_weight','comppct_tot']\n",
    "muprops.drop(dropfields,axis=1,inplace=True)"
   ]
  },
  {
   "cell_type": "code",
   "execution_count": null,
   "metadata": {
    "collapsed": false,
    "deletable": true,
    "editable": true
   },
   "outputs": [],
   "source": [
    "muprops['porosity'] = 1 - (muprops['dense']/2.65) # bulk density of material / density of quartz = percent solids\n",
    "muprops['max_soil_cap_m'] = muprops['thickness_m']*muprops['porosity'] # meters of water\n",
    "muprops['field_cap_m'] = muprops['max_soil_cap_m']*muprops['field_cap']\n",
    "muprops['wilt_m'] = muprops['max_soil_cap_m']*muprops['wilt']"
   ]
  },
  {
   "cell_type": "code",
   "execution_count": null,
   "metadata": {
    "collapsed": false,
    "deletable": true,
    "editable": true
   },
   "outputs": [],
   "source": [
    "muprops.drop(['resdept_r','comppct_r','dense'],axis=1,inplace=True)"
   ]
  },
  {
   "cell_type": "code",
   "execution_count": null,
   "metadata": {
    "collapsed": false,
    "deletable": true,
    "editable": true
   },
   "outputs": [],
   "source": [
    "muprops.index = muprops.index.astype('str')"
   ]
  },
  {
   "cell_type": "code",
   "execution_count": null,
   "metadata": {
    "collapsed": true,
    "deletable": true,
    "editable": true
   },
   "outputs": [],
   "source": [
    "muprops.to_pickle('H:/GIS/soils/STATSGO/muprops.pickle')"
   ]
  },
  {
   "cell_type": "code",
   "execution_count": null,
   "metadata": {
    "collapsed": true,
    "deletable": true,
    "editable": true
   },
   "outputs": [],
   "source": [
    "muprops = pd.read_pickle('H:/GIS/soils/STATSGO/muprops.pickle')"
   ]
  },
  {
   "cell_type": "code",
   "execution_count": null,
   "metadata": {
    "collapsed": false,
    "deletable": true,
    "editable": true,
    "scrolled": true
   },
   "outputs": [],
   "source": [
    "muprops"
   ]
  },
  {
   "cell_type": "code",
   "execution_count": null,
   "metadata": {
    "collapsed": false,
    "deletable": true,
    "editable": true
   },
   "outputs": [],
   "source": [
    "path = 'H:/GIS/soils/STATSGO/STATSGO.gdb'\n",
    "arcpy.env.workspace = path\n",
    "arcpy.env.overwriteOutput = True\n",
    "\n",
    "fc = 'H:/GIS/soils/STATSGO/STATSGO.gdb/gsmsoilmu_hucs'\n",
    "narray = muprops.to_records()\n",
    "\n",
    "arcpy.da.ExtendTable(fc, \"MUKEY\", narray, \"mukey\", append_only=False)"
   ]
  },
  {
   "cell_type": "code",
   "execution_count": null,
   "metadata": {
    "collapsed": false,
    "deletable": true,
    "editable": true
   },
   "outputs": [],
   "source": [
    "path = 'H:/GIS/soils/STATSGO/STATSGO.gdb'\n",
    "arcpy.env.workspace = path\n",
    "arcpy.env.overwriteOutput = True\n",
    "\n",
    "convfields = ['thickness_m','ksat','wilt_m','porosity','max_soil_cap_m','field_cap_m']\n",
    "\n",
    "for field in convfields:\n",
    "    arcpy.PolygonToRaster_conversion(fc, field, field, 'CELL_CENTER','', 100)"
   ]
  },
  {
   "cell_type": "markdown",
   "metadata": {
    "deletable": true,
    "editable": true
   },
   "source": [
    "## SSURGO"
   ]
  },
  {
   "cell_type": "code",
   "execution_count": null,
   "metadata": {
    "collapsed": false,
    "deletable": true,
    "editable": true
   },
   "outputs": [],
   "source": [
    "path = 'H:/GIS/soils/SSURGO/gssurgo_g_ut.gdb'\n",
    "\n",
    "arcpy.env.workspace = path\n",
    "arcpy.env.overwriteOutput = True\n",
    "\n",
    "def arc_to_df(table, fieldlist):\n",
    "    fields = arcpy.ListFields(table)\n",
    "    return pd.DataFrame(arcpy.da.TableToNumPyArray(table,fieldlist,null_value=np.nan))"
   ]
  },
  {
   "cell_type": "code",
   "execution_count": null,
   "metadata": {
    "collapsed": true,
    "deletable": true,
    "editable": true
   },
   "outputs": [],
   "source": []
  },
  {
   "cell_type": "code",
   "execution_count": null,
   "metadata": {
    "collapsed": false,
    "deletable": true,
    "editable": true
   },
   "outputs": [],
   "source": [
    "keeplist = ['hzname', 'hzdept_r','hzdepb_r','hzthk_r','dbovendry_r','ksat_r','awc_r','wthirdbar_r',\n",
    "            'wfifteenbar_r','cokey','chkey']\n",
    "\n",
    "chorizon = arc_to_df('chorizon',keeplist)"
   ]
  },
  {
   "cell_type": "code",
   "execution_count": null,
   "metadata": {
    "collapsed": true,
    "deletable": true,
    "editable": true
   },
   "outputs": [],
   "source": [
    "chorizon['hzthk_r'] = chorizon['hzdepb_r'] - chorizon['hzdept_r']\n",
    "thick = chorizon.groupby(['cokey'])['hzthk_r'].sum().to_dict()\n",
    "chorizon['comthk'] = chorizon['cokey'].apply(lambda x: thick[x],1)\n",
    "chorizon['thickness_weight'] = chorizon['hzthk_r']/chorizon['comthk']"
   ]
  },
  {
   "cell_type": "code",
   "execution_count": null,
   "metadata": {
    "collapsed": true,
    "deletable": true,
    "editable": true
   },
   "outputs": [],
   "source": [
    "chorizon['tw_ksat'] = chorizon[['thickness_weight','ksat_r']].apply(lambda x: x[0]*x[1],1)\n",
    "chorizon['tw_wilt'] = chorizon[['thickness_weight','wfifteenbar_r']].apply(lambda x: x[0]*x[1],1)\n",
    "chorizon['tw_field_capacity'] = chorizon[['thickness_weight','wthirdbar_r']].apply(lambda x: x[0]*x[1],1)\n",
    "chorizon['tw_dense'] = chorizon[['thickness_weight','dbovendry_r']].apply(lambda x: x[0]*x[1],1)"
   ]
  },
  {
   "cell_type": "code",
   "execution_count": null,
   "metadata": {
    "collapsed": true,
    "deletable": true,
    "editable": true
   },
   "outputs": [],
   "source": [
    "component_props = chorizon.groupby('cokey').sum()\n",
    "component_props.drop(['hzdept_r','hzdepb_r','dbovendry_r','ksat_r','awc_r','wthirdbar_r','wfifteenbar_r'],axis=1,inplace=True)"
   ]
  },
  {
   "cell_type": "code",
   "execution_count": null,
   "metadata": {
    "collapsed": true,
    "deletable": true,
    "editable": true
   },
   "outputs": [],
   "source": [
    "component_props.dropna(subset=['tw_ksat','tw_wilt','tw_field_capacity','tw_dense'],how='all',inplace=True)"
   ]
  },
  {
   "cell_type": "code",
   "execution_count": null,
   "metadata": {
    "collapsed": true,
    "deletable": true,
    "editable": true
   },
   "outputs": [],
   "source": [
    "component_props.reset_index(inplace=True)"
   ]
  },
  {
   "cell_type": "code",
   "execution_count": null,
   "metadata": {
    "collapsed": false,
    "deletable": true,
    "editable": true
   },
   "outputs": [],
   "source": [
    "component = arc_to_df('component',['comppct_r','compname','mukey','cokey'])"
   ]
  },
  {
   "cell_type": "code",
   "execution_count": null,
   "metadata": {
    "collapsed": true,
    "deletable": true,
    "editable": true
   },
   "outputs": [],
   "source": [
    "com_props = pd.merge(component_props, component, on='cokey')"
   ]
  },
  {
   "cell_type": "code",
   "execution_count": null,
   "metadata": {
    "collapsed": true,
    "deletable": true,
    "editable": true
   },
   "outputs": [],
   "source": [
    "fields = arcpy.ListFields('corestrictions')\n",
    "fieldlist = [field.name for field in fields]\n",
    "droplist = [u'reskind', u'reshard', u'resdept_l', u'resdept_h', u'resdepb_l', u'resdepb_r', u'resdepb_h', \n",
    "             u'resthk_l', u'resthk_r', u'resthk_h', u'corestrictkey']\n",
    "keepfields = list(set(fieldlist)-set(droplist))\n",
    "\n",
    "corest = arc_to_df('corestrictions',keepfields)"
   ]
  },
  {
   "cell_type": "code",
   "execution_count": null,
   "metadata": {
    "collapsed": true,
    "deletable": true,
    "editable": true
   },
   "outputs": [],
   "source": []
  },
  {
   "cell_type": "code",
   "execution_count": null,
   "metadata": {
    "collapsed": false,
    "deletable": true,
    "editable": true
   },
   "outputs": [],
   "source": [
    "comprops = pd.merge(corest,com_props, on='cokey')"
   ]
  },
  {
   "cell_type": "code",
   "execution_count": null,
   "metadata": {
    "collapsed": true,
    "deletable": true,
    "editable": true
   },
   "outputs": [],
   "source": [
    "cowt = comprops.groupby(['mukey'])['comppct_r'].sum().to_dict()\n",
    "comprops['comppct_tot'] = comprops['mukey'].apply(lambda x: cowt[x],1)\n",
    "comprops['comppct_r'] = comprops['comppct_r'] / comprops['comppct_tot']\n",
    "\n",
    "comprops['thickness_m'] = comprops['comppct_r']*comprops['resdept_r']/100.0 # convert to meters\n",
    "comprops['ksat'] = comprops['tw_ksat'] * comprops['comppct_r']\n",
    "comprops['wilt'] = comprops['tw_wilt'] * comprops['comppct_r']\n",
    "comprops['field_cap'] = comprops['tw_field_capacity'] * comprops['comppct_r']\n",
    "comprops['dense'] = comprops['tw_dense'] * comprops['comppct_r']"
   ]
  },
  {
   "cell_type": "code",
   "execution_count": null,
   "metadata": {
    "collapsed": false,
    "deletable": true,
    "editable": true
   },
   "outputs": [],
   "source": [
    "muprops = comprops.groupby(['mukey']).sum()"
   ]
  },
  {
   "cell_type": "code",
   "execution_count": null,
   "metadata": {
    "collapsed": false,
    "deletable": true,
    "editable": true
   },
   "outputs": [],
   "source": [
    "dropfields = [u'hzthk_r', u'comthk', u'tw_ksat', u'tw_wilt',\n",
    "              u'tw_field_capacity', u'tw_dense', u'thickness_weight','comppct_tot']\n",
    "muprops.drop(dropfields,axis=1,inplace=True)"
   ]
  },
  {
   "cell_type": "code",
   "execution_count": null,
   "metadata": {
    "collapsed": false,
    "deletable": true,
    "editable": true
   },
   "outputs": [],
   "source": [
    "muprops['porosity'] = 1 - (muprops['dense']/2.65) # bulk density of material / density of quartz = percent solids\n",
    "muprops['max_soil_cap_m'] = muprops['thickness_m']*muprops['porosity'] # meters of water\n",
    "muprops['field_cap_m'] = muprops['max_soil_cap_m']*muprops['field_cap']\n",
    "muprops['wilt_m'] = muprops['max_soil_cap_m']*muprops['wilt']"
   ]
  },
  {
   "cell_type": "code",
   "execution_count": null,
   "metadata": {
    "collapsed": true,
    "deletable": true,
    "editable": true
   },
   "outputs": [],
   "source": [
    "muprops.drop(['resdept_r','comppct_r','dense'],axis=1,inplace=True)"
   ]
  },
  {
   "cell_type": "code",
   "execution_count": null,
   "metadata": {
    "collapsed": true,
    "deletable": true,
    "editable": true
   },
   "outputs": [],
   "source": [
    "muprops.index = muprops.index.astype('str')"
   ]
  },
  {
   "cell_type": "code",
   "execution_count": null,
   "metadata": {
    "collapsed": true,
    "deletable": true,
    "editable": true
   },
   "outputs": [],
   "source": [
    "muprops.to_pickle('H:/GIS/soils/SSURGO/muprops.pickle')"
   ]
  },
  {
   "cell_type": "code",
   "execution_count": null,
   "metadata": {
    "collapsed": true,
    "deletable": true,
    "editable": true
   },
   "outputs": [],
   "source": [
    "muprops = pd.read_pickle('H:/GIS/soils/SSURGO/muprops.pickle')"
   ]
  },
  {
   "cell_type": "code",
   "execution_count": null,
   "metadata": {
    "collapsed": false,
    "deletable": true,
    "editable": true
   },
   "outputs": [],
   "source": [
    "muprops.drop(['OBJECTID'],axis=1,inplace=True)"
   ]
  },
  {
   "cell_type": "code",
   "execution_count": null,
   "metadata": {
    "collapsed": false,
    "deletable": true,
    "editable": true
   },
   "outputs": [],
   "source": [
    "fc = 'H:/GIS/soils/SSURGO/gssurgo_g_ut.gdb/gmupoly'\n",
    "narray = muprops.to_records()\n",
    "\n",
    "fieldlist = list(set(muprops.columns)-set(['mukey']))\n",
    "arcpy.da.ExtendTable(fc, \"MUKEY\", narray, \"mukey\", append_only=False)"
   ]
  },
  {
   "cell_type": "code",
   "execution_count": null,
   "metadata": {
    "collapsed": false,
    "deletable": true,
    "editable": true
   },
   "outputs": [],
   "source": [
    "path = 'H:/GIS/soils/SSURGO/ssurgo.gdb'\n",
    "\n",
    "arcpy.env.workspace = path\n",
    "arcpy.env.overwriteOutput = True\n",
    "\n",
    "fc = 'gmupoly'\n",
    "convfields = ['thickness_m','ksat','wilt_m','porosity','max_soil_cap_m','field_cap_m']\n",
    "\n",
    "for field in convfields:\n",
    "    arcpy.PolygonToRaster_conversion(fc, field, field, 'CELL_CENTER','', 100)"
   ]
  },
  {
   "cell_type": "markdown",
   "metadata": {
    "deletable": true,
    "editable": true
   },
   "source": [
    "## Combining Soils Data"
   ]
  },
  {
   "cell_type": "code",
   "execution_count": null,
   "metadata": {
    "collapsed": true,
    "deletable": true,
    "editable": true
   },
   "outputs": [],
   "source": [
    "convfields = ['thickness_m','ksat','wilt_m','porosity','max_soil_cap_m','field_cap_m']\n",
    "path1 = 'H:/GIS/soils/SSURGO/ssurgo.gdb/'\n",
    "path2 = 'H:/GIS/soils/STATSGO/STATSGO.gdb/'\n",
    "for field in convfields:\n",
    "    rfilled = arcpy.sa.Con(arcpy.sa.IsNull(path1+field), path2+field, path1+field)\n",
    "    rfilled.save('H:/GIS/Soils.gdb/'+field)"
   ]
  },
  {
   "cell_type": "markdown",
   "metadata": {
    "deletable": true,
    "editable": true
   },
   "source": [
    "# PRISM"
   ]
  },
  {
   "cell_type": "markdown",
   "metadata": {
    "deletable": true,
    "editable": true
   },
   "source": [
    "PRISM Data\n",
    "http://www.prism.oregonstate.edu/"
   ]
  },
  {
   "cell_type": "markdown",
   "metadata": {
    "deletable": true,
    "editable": true
   },
   "source": [
    "<a href=http://www.prism.oregonstate.edu/documents/PRISM_downloads_web_service.pdf>PRISM Web Services</a>"
   ]
  },
  {
   "cell_type": "code",
   "execution_count": null,
   "metadata": {
    "collapsed": true,
    "deletable": true,
    "editable": true
   },
   "outputs": [],
   "source": [
    "monthRange = [1,12]\n",
    "\n",
    "fileplace = 'H:/GIS/PRISM/PRISM'\n",
    "\n",
    "for m in range(monthRange[0],monthRange[1]+1): \n",
    "    testfile = urllib.URLopener()\n",
    "    testfile.retrieve(\"http://services.nacse.org/prism/data/public/normals/800m/ppt/\"+ str(m).zfill(2), \n",
    "                      fileplace+str(m).zfill(2)+'.zip')\n"
   ]
  },
  {
   "cell_type": "code",
   "execution_count": null,
   "metadata": {
    "collapsed": false,
    "deletable": true,
    "editable": true
   },
   "outputs": [],
   "source": [
    "testfile = urllib.URLopener()\n",
    "testfile.retrieve(\"http://services.nacse.org/prism/data/public/normals/800m/ppt/\"+ '14', \n",
    "                    fileplace+'14'+'.zip')"
   ]
  },
  {
   "cell_type": "code",
   "execution_count": null,
   "metadata": {
    "collapsed": true,
    "deletable": true,
    "editable": true
   },
   "outputs": [],
   "source": [
    "fileplace = 'H:/GIS/PRISM/PRISM/'"
   ]
  },
  {
   "cell_type": "code",
   "execution_count": null,
   "metadata": {
    "collapsed": true,
    "deletable": true,
    "editable": true
   },
   "outputs": [],
   "source": [
    "def unzipper(filepath):\n",
    "\n",
    "    import zipfile\n",
    "\n",
    "    f = zipfile.ZipFile(filepath,'r')\n",
    "    f.extractall(filepath[:-6])\n",
    " "
   ]
  },
  {
   "cell_type": "code",
   "execution_count": null,
   "metadata": {
    "collapsed": false,
    "deletable": true,
    "editable": true
   },
   "outputs": [],
   "source": [
    "for files in glob.glob(fileplace+'*.zip'):\n",
    "    unzipper(files)\n",
    "    print(files)"
   ]
  },
  {
   "cell_type": "code",
   "execution_count": null,
   "metadata": {
    "collapsed": true,
    "deletable": true,
    "editable": true
   },
   "outputs": [],
   "source": [
    "monthRange = [1,12]\n",
    "\n",
    "fileplace = 'H:/GIS/PRISM/PRISM'\n",
    "\n",
    "for m in range(monthRange[0],monthRange[1]+1): \n",
    "    testfile = urllib.URLopener()\n",
    "    testfile.retrieve(\"http://services.nacse.org/prism/data/public/normals/800m/ppt/\"+ str(m).zfill(2), \n",
    "                      fileplace+str(m).zfill(2)+'.zip')\n",
    "testfile = urllib.URLopener()\n",
    "testfile.retrieve(\"http://services.nacse.org/prism/data/public/normals/800m/ppt/\"+ 14, \n",
    "                    fileplace+str(m).zfill(2)+'.zip')"
   ]
  },
  {
   "cell_type": "markdown",
   "metadata": {
    "deletable": true,
    "editable": true
   },
   "source": [
    "# Calculations"
   ]
  },
  {
   "cell_type": "markdown",
   "metadata": {
    "deletable": true,
    "editable": true
   },
   "source": [
    "## Available Water"
   ]
  },
  {
   "cell_type": "markdown",
   "metadata": {
    "deletable": true,
    "editable": true
   },
   "source": [
    "Calculates monthly available water:\n",
    "    $$Available\\;water = Rain + Snowmelt$$\n",
    "<br>"
   ]
  },
  {
   "cell_type": "code",
   "execution_count": null,
   "metadata": {
    "collapsed": false,
    "deletable": true,
    "editable": true,
    "scrolled": true
   },
   "outputs": [],
   "source": [
    "path=\"H:/GIS/SNODAS.gdb/\"\n",
    "path2 = \"U:/GWP/Groundwater/Projects/BCM/Data/AvailableWater2.gdb/\"\n",
    "\n",
    "def calc_avail_water(path, path2, months='',years='')\n",
    "\n",
    "    arcpy.env.workspace = path\n",
    "    arcpy.env.overwriteOutput = True\n",
    "\n",
    "    if months == '':\n",
    "        months = [1,12] \n",
    "    if years == '':\n",
    "        years = [2004,2014]\n",
    "\n",
    "    for y in range(years[0], years[1]+1): #set years converted here\n",
    "        for m in range(months[0], months[1]+1): #set months converted here\n",
    "            my = str(y)+str(m).zfill(2)\n",
    "            newdn = 'AVWT' + my\n",
    "            rain = Raster('RAIN'+ my +'SUM')\n",
    "            melt = Raster('SNML'+ my +'SUM')\n",
    "            calc = rain + melt\n",
    "            calc.save(path2+newdn)\n",
    "            print(newdn)\n",
    "        \n",
    "calc_avail_water(path, path2)"
   ]
  },
  {
   "cell_type": "markdown",
   "metadata": {
    "deletable": true,
    "editable": true
   },
   "source": [
    "## Available Soil Water"
   ]
  },
  {
   "cell_type": "markdown",
   "metadata": {
    "deletable": true,
    "editable": true
   },
   "source": [
    "<p>The calculation of excess water provides the water that is available for watershed hydrology. Available water occupies the soil profile, where water will become actual evapotranspiration,and may result in runoff or recharge, depending on the permeability of the underlying bedrock. Total soil‐water storage is calculated as porosity multiplied by soil depth. Field capacity (soil water volume at ‐0.3 megapascals [MPa]) is the soil water volume below which drainage is negligible, and wilting point (soil water volume at ‐1.5 MPa) is the soil water volume below which actual evapotranspiration does not occur (Hillel 1980).</p>\n",
    "<p>Once available water is calculated, it may exceed total soil storage and become runoff, or it may be less than total soil storage but greater than field capacity and become recharge. Anything less than field capacity will be calculated as actual evapotranspiration at the rate of PET for that month until it reaches wilting point. When soil water is less than total soil storage and greater than field capacity, soil water greater than field capacity equals recharge. If recharge is greater than bedrock permeability (K), then recharge = K and excess becomes runoff, else it will recharge at K until field capacity. Runoff and recharge combine to calculate basin discharge, and actual evapotranspiration is subtracted from PET to calculate climate water deficit.</p>"
   ]
  },
  {
   "cell_type": "markdown",
   "metadata": {
    "deletable": true,
    "editable": true
   },
   "source": [
    "$$Available\\;Soil\\;Water_{t} = Available\\;Water_{t} + Available\\;Soil\\;Water_{t-1}$$\n",
    "$$Available\\;Soil\\;Water_{t} = Available\\;Soil\\;Water_{t-1} - Runoff_{t} - Recharge_{t} - AET_{t}$$\n",
    "* IF Available Soil Water is greater than Total Soil Water then equation 1<br>\n",
    "* IF Available Soil Water is between Total Soil Water and FC Soil Water then equation 2<br>\n",
    "* IF Available Soil Water is between FC Soil Water and WLT Soil Water then equation 3<br>\n",
    "* IF Available Soil Water is less than WLT Soil Water then equation 4<br>\n",
    "* Current Month Soil Water becomes new Previous Month Soil Water"
   ]
  },
  {
   "cell_type": "markdown",
   "metadata": {
    "deletable": true,
    "editable": true
   },
   "source": [
    "<strong>Equation 1</strong>\n",
    "* Runoff = ((Previous Soil Water + Available Water) - Total Soil Water) + (If recharge > geologic K then (Recharge-geologic K)) \n",
    "* Recharge = (Total Soil Water - FC Soil Water) \n",
    "* AET = PET\n",
    "\n",
    "<strong>Equation 2</strong>\n",
    "* Runoff = (If recharge > geologic K then (Recharge-geologic K)) \n",
    "* Recharge = Soil Water - FC Soil Water\n",
    "* AET = PET\n",
    "\n",
    "<strong>Equation 3</strong>\n",
    "* Runoff = 0\n",
    "* Recharge = 0\n",
    "* AET = PET\n",
    "\n",
    "<strong>Equation 4</strong>\n",
    "* Runoff = 0\n",
    "* Recharge = 0\n",
    "* AET = 0"
   ]
  },
  {
   "cell_type": "markdown",
   "metadata": {
    "collapsed": true,
    "deletable": true,
    "editable": true
   },
   "source": [
    "http://gis.stackexchange.com/questions/95027/multiple-conditional-statement-with-in-a-con-tool"
   ]
  },
  {
   "cell_type": "code",
   "execution_count": null,
   "metadata": {
    "collapsed": true,
    "deletable": true,
    "editable": true
   },
   "outputs": [],
   "source": [
    "from arcpy import Raster"
   ]
  },
  {
   "cell_type": "code",
   "execution_count": null,
   "metadata": {
    "collapsed": false,
    "deletable": true,
    "editable": true
   },
   "outputs": [],
   "source": [
    "monthRange = [1,12] \n",
    "yearRange = [2004,2014]\n",
    "\n",
    "path = \"U:/GWP/Groundwater/Projects/BCM/Data/\"\n",
    "field_cap = Raster(path + \"Soil.gdb/fieldCap\")\n",
    "wilt_point = Raster(path + \"Soil.gdb/WiltPoint\")\n",
    "T_soil_water = Raster(path + \"Soil.gdb/Tsoilwater\")\n",
    "geol_k = Raster(path + \"Soil.gdb/Geol_K\")\n",
    "#geol_k = Raster(path + \"Soil.gdb/BMC_K\")\n",
    "avail_water = \"U:/GWP/Groundwater/Projects/BCM/Data/AvailableWater2.gdb/\"\n",
    "pet = path+'MODIS16.gdb/'\n",
    "\n",
    "results = \"U:/GWP/Groundwater/Projects/BCM/Data/Results.gdb/\"\n",
    "    \n",
    "def UBM_calc(results, field_cap, wilt_point, T_soil_water, geol_k, avail_water, pet, months = '', years = ''):\n",
    "    \n",
    "    arcpy.env.workspace = path\n",
    "    arcpy.env.overwriteOutput = True\n",
    "\n",
    "    if months == '':\n",
    "        months = [1,12] \n",
    "    if years == '':\n",
    "        years = [2004,2014]\n",
    "\n",
    "    av_soil_water = field_cap\n",
    "    for y in range(years[0],years[1]+1): #set years converted here\n",
    "        for m in range(months[0],months[1]+1): #set months converted here\n",
    "            my = str(y) + str(m).zfill(2)\n",
    "            av_wtr = Raster(avail_water+'AVWT'+ my)\n",
    "            pet_rast = Raster(pet + 'PET'+ my) \n",
    "\n",
    "            av_soil_water = av_wtr + av_soil_water\n",
    "\n",
    "            #Eq 1\n",
    "            av_recharge1 = \"T_soil_water - field_cap\"\n",
    "            recharge1 = \"Con(eval(av_recharge1) > geol_k, geol_k, eval(av_recharge1))\"\n",
    "            runoff1 = \"(av_soil_water - T_soil_water) + Con(eval(av_recharge1) > geol_k, eval(av_recharge1) - geol_k, 0)\"\n",
    "            #Eq2\n",
    "            av_recharge2 = \"av_soil_water - field_cap\"\n",
    "            recharge2 = \"Con(eval(av_recharge2) > geol_k, geol_k, eval(av_recharge2))\"\n",
    "            runoff2 = \"Con(eval(av_recharge2) > geol_k, eval(av_recharge2) - geol_k, 0)\"\n",
    "            #Eq3 recharge3 = 0 runoff3 = 0 aet = pet_rast\n",
    "            #Eq4 recharge3 = 0 runoff3 = 0 aet = 0\n",
    "\n",
    "            #Order of if/then is Eq 1, Eq 4, Eq 2, Eq 3\n",
    "            recharge = Con(av_soil_water > T_soil_water, eval(recharge1), \n",
    "                      Con(av_soil_water < wilt_point, 0,\n",
    "                         Con((av_soil_water < T_soil_water) & (av_soil_water > field_cap), eval(recharge2),\n",
    "                            Con((av_soil_water > wilt_point) & (av_soil_water < field_cap), 0, 0))))\n",
    "            recharge.save(results + 'rec' + my)\n",
    "\n",
    "            runoff = Con(av_soil_water > T_soil_water, eval(runoff1), \n",
    "                      Con(av_soil_water < wilt_point, 0,\n",
    "                         Con((av_soil_water < T_soil_water) & (av_soil_water > field_cap), eval(runoff2),\n",
    "                            Con((av_soil_water > wilt_point) & (av_soil_water < field_cap), 0, 0))))\n",
    "            runoff.save(results + 'run' + my)\n",
    "\n",
    "            aet = Con(av_soil_water > T_soil_water, pet_rast, \n",
    "                      Con(av_soil_water < wilt_point, 0,\n",
    "                         Con((av_soil_water < T_soil_water) & (av_soil_water > field_cap), pet_rast,\n",
    "                            Con((av_soil_water > wilt_point) & (av_soil_water < field_cap), pet_rast,0))))\n",
    "            aet.save(results + 'aet' + my)\n",
    "\n",
    "            av_soil_water = av_soil_water - runoff - recharge - aet\n",
    "            av_soil_water = Con(av_soil_water > 0.0, av_soil_water, 0.0)\n",
    "            av_soil_water.save(results + 'asw' + my)\n",
    "            print(my)"
   ]
  },
  {
   "cell_type": "code",
   "execution_count": null,
   "metadata": {
    "collapsed": true,
    "deletable": true,
    "editable": true
   },
   "outputs": [],
   "source": [
    "from arcpy import env  \n",
    "env.overwriteOutput = True  \n",
    "env.workspace = \"C:/Users/PAULINKENBRANDT/AppData/Roaming/ESRI/Desktop10.4/ArcCatalog/AGRC_SGID.sde\""
   ]
  },
  {
   "cell_type": "code",
   "execution_count": null,
   "metadata": {
    "collapsed": false,
    "deletable": true,
    "editable": true
   },
   "outputs": [],
   "source": [
    "def monthly_to_yearly(path, code, yearRange='', statistics='SUM'):\n",
    "    if yearRange=='':\n",
    "        yearRange = [2004,2014]\n",
    "    arcpy.env.workspace = path\n",
    "    arcpy.env.overwriteOutput = True\n",
    "    for y in range(yearRange[0],yearRange[1]+1): #set years converted here\n",
    "        ylist = arcpy.ListRasters(code+str(y)+\"*\") #pick all files from raw data folder of a data type\n",
    "        calc = CellStatistics(ylist, statistics_type = statistics, ignore_nodata=\"DATA\")\n",
    "        outnm = 'y'+code+str(y)\n",
    "        desc = arcpy.Describe(calc)\n",
    "        print(outnm)\n",
    "        calc.save(outnm)\n"
   ]
  },
  {
   "cell_type": "code",
   "execution_count": null,
   "metadata": {
    "collapsed": false,
    "deletable": true,
    "editable": true
   },
   "outputs": [],
   "source": [
    "def summarize(path, code, statistics='MEAN'):\n",
    "    arcpy.env.workspace = path\n",
    "    arcpy.env.overwriteOutput = True\n",
    "\n",
    "    rlist = arcpy.ListRasters(code+\"*\") #pick all files from raw data folder of a data type\n",
    "    # arcpy sa functions that summarize the daily data to monthly data\n",
    "    calc = CellStatistics(rlist, statistics_type = statistics, ignore_nodata=\"DATA\")\n",
    "    outnm = code+\"_\"+statistics\n",
    "    calc.save(outnm)\n",
    "    print(outnm)\n",
    "    "
   ]
  },
  {
   "cell_type": "code",
   "execution_count": null,
   "metadata": {
    "collapsed": false,
    "deletable": true,
    "editable": true
   },
   "outputs": [],
   "source": [
    "path = 'H:/GIS/Results.gdb'\n",
    "code = 'rec'\n",
    "monthly_to_yearly(path,code)\n",
    "#summarize(path,code)"
   ]
  },
  {
   "cell_type": "code",
   "execution_count": null,
   "metadata": {
    "collapsed": false,
    "deletable": true,
    "editable": true
   },
   "outputs": [],
   "source": [
    "code = 'yrec'\n",
    "summarize(path,code)"
   ]
  },
  {
   "cell_type": "code",
   "execution_count": null,
   "metadata": {
    "collapsed": false,
    "deletable": true,
    "editable": true
   },
   "outputs": [],
   "source": [
    "path = 'H:/GIS/Results.gdb'\n",
    "code = 'run'\n",
    "monthly_to_yearly(path,code)\n",
    "code = 'yrun'\n",
    "summarize(path,code)"
   ]
  },
  {
   "cell_type": "code",
   "execution_count": null,
   "metadata": {
    "collapsed": true,
    "deletable": true,
    "editable": true
   },
   "outputs": [],
   "source": []
  }
 ],
 "metadata": {
  "kernelspec": {
   "display_name": "Python 2",
   "language": "python",
   "name": "python2"
  },
  "language_info": {
   "codemirror_mode": {
    "name": "ipython",
    "version": 2
   },
   "file_extension": ".py",
   "mimetype": "text/x-python",
   "name": "python",
   "nbconvert_exporter": "python",
   "pygments_lexer": "ipython2",
   "version": "2.7.10"
  },
  "widgets": {
   "state": {},
   "version": "1.1.1"
  }
 },
 "nbformat": 4,
 "nbformat_minor": 0
}
