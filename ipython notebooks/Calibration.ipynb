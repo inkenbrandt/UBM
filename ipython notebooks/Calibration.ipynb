{
 "cells": [
  {
   "cell_type": "code",
   "execution_count": 1,
   "metadata": {
    "collapsed": true,
    "deletable": true,
    "editable": true
   },
   "outputs": [],
   "source": [
    "%matplotlib inline\n",
    "import matplotlib\n",
    "import pandas as pd\n",
    "import numpy as np\n",
    "import urllib2\n",
    "import folium\n",
    "import json\n",
    "import matplotlib.pyplot as plt\n",
    "import matplotlib.dates as dates\n",
    "import scipy\n",
    "import scipy.stats as sp\n",
    "import scipy.optimize as op\n",
    "import statsmodels.api as sm\n",
    "from scipy.stats import linregress\n",
    "from scipy.optimize import curve_fit\n",
    "from scipy import stats\n",
    "from pandas.stats.api import ols\n",
    "from datetime import datetime, date, timedelta\n",
    "from matplotlib.backends.backend_pdf import PdfPages\n",
    "#from matplotlib.pyplot import cm \n",
    "import platform\n",
    "import sys\n",
    "import glob\n",
    "\n",
    "import matplotlib as mpl\n",
    "import matplotlib.cm as cm\n",
    "\n",
    "import pyproj\n",
    "from pyproj import Proj\n",
    "import simplekml\n",
    "import wellapplication as wa\n",
    "#import matplotlib\n",
    "from pylab import rcParams\n",
    "rcParams['figure.figsize'] = 15, 15"
   ]
  },
  {
   "cell_type": "code",
   "execution_count": 2,
   "metadata": {
    "collapsed": true
   },
   "outputs": [],
   "source": [
    "import UBM"
   ]
  },
  {
   "cell_type": "code",
   "execution_count": 3,
   "metadata": {
    "collapsed": true,
    "deletable": true,
    "editable": true
   },
   "outputs": [],
   "source": [
    "engineroute = \"H:/Google Drive/WORK/Round_Valley/Data/\"\n",
    "#engineroute = \"E:/PROJECTS/Groundwater Chemistry\"\n",
    "#engineroute = \"C:/Users/Brooke/Downloads/\"\n",
    "sys.path.append(engineroute)\n",
    "import enginegetter"
   ]
  },
  {
   "cell_type": "code",
   "execution_count": 4,
   "metadata": {
    "collapsed": true,
    "deletable": true,
    "editable": true
   },
   "outputs": [],
   "source": [
    "engine = enginegetter.getEngine()"
   ]
  },
  {
   "cell_type": "code",
   "execution_count": 5,
   "metadata": {
    "collapsed": true,
    "deletable": true,
    "editable": true
   },
   "outputs": [],
   "source": [
    "from pylab import rcParams\n",
    "rcParams['figure.figsize'] = 15, 15"
   ]
  },
  {
   "cell_type": "markdown",
   "metadata": {
    "deletable": true,
    "editable": true
   },
   "source": [
    "# Populate database from exported data"
   ]
  },
  {
   "cell_type": "code",
   "execution_count": null,
   "metadata": {
    "collapsed": false,
    "deletable": true,
    "editable": true
   },
   "outputs": [],
   "source": [
    "systems = pd.read_csv('E:/sites.csv', memory_map=True)"
   ]
  },
  {
   "cell_type": "code",
   "execution_count": null,
   "metadata": {
    "collapsed": false,
    "deletable": true,
    "editable": true
   },
   "outputs": [],
   "source": [
    "srcs = systems.SOURCE.unique()\n",
    "vbls = systems.variable.unique()\n",
    "\n",
    "for src in srcs:\n",
    "    for vbl in vbls:\n",
    "        df = systems[(systems['SOURCE']==src)&(systems['variable']==vbl)]\n",
    "        df.to_sql(con=engine, name='zonal', if_exists='append',index=False)\n",
    "        print(src, vbl)"
   ]
  },
  {
   "cell_type": "code",
   "execution_count": null,
   "metadata": {
    "collapsed": false,
    "deletable": true,
    "editable": true
   },
   "outputs": [],
   "source": [
    "systems.head()"
   ]
  },
  {
   "cell_type": "markdown",
   "metadata": {
    "deletable": true,
    "editable": true
   },
   "source": [
    "# Calibration"
   ]
  },
  {
   "cell_type": "code",
   "execution_count": null,
   "metadata": {
    "collapsed": false,
    "deletable": true,
    "editable": true
   },
   "outputs": [],
   "source": [
    "def plotfits(HUC, SITE, fileloc='H:/Google Drive/WORK/UBM/'):\n",
    "    from matplotlib.backends.backend_pdf import PdfPages\n",
    "\n",
    "    HUC = [str(i) for i in HUC]\n",
    "    huc10 = [\"'{:}'\".format(i[:-2]) for i in HUC]\n",
    "    huc10 = list(set(huc10))\n",
    "    \n",
    "    pdf = PdfPages(fileloc+str(HUC[0])[:-2]+'.pdf')\n",
    "    \n",
    "    quer = \"SELECT HUC_12,YearMonth,volume_acft FROM ubm.bdgt WHERE SOURCE = '{:}' AND HUC_10 IN({:}) AND variable IN('{:}')\"\n",
    "    dataset = 'UBM'\n",
    "    variable = 'recharge'\n",
    "    Urc = pd.read_sql_query(sql=quer.format(dataset,','.join(huc10),variable),con=engine)\n",
    "    variable = 'runoff'\n",
    "    Urn = pd.read_sql_query(sql=quer.format(dataset,','.join(huc10),variable),con=engine)\n",
    "\n",
    "    Urun = Urn[Urn['HUC_12'].isin(HUC)]\n",
    "    Urun = Urun.rename(columns={'volume_acft':'runoff_acft'})\n",
    "    Urun.set_index(['HUC_12','YearMonth'],inplace=True)\n",
    "    Urec = Urc[Urc['HUC_12'].isin(HUC)]\n",
    "    Urec = Urec.rename(columns={'volume_acft':'recharge_acft'})\n",
    "    Urec.set_index(['HUC_12','YearMonth'],inplace=True)\n",
    "\n",
    "    UBM = pd.concat([Urun,Urec], axis =1)\n",
    "    UBM['dt'] = pd.to_datetime(UBM.index.get_level_values(1),errors='coerce',format='%Y%m')\n",
    "\n",
    "    UBM.reset_index(inplace=True)\n",
    "    UBM.dropna(inplace=True)\n",
    "    UBMgrp = UBM.groupby(['dt']).sum()\n",
    "\n",
    "    # Grab USGS data for comparison\n",
    "    nw = wa.nwis('dv',SITE,'sites', startDT='2003-01-01')\n",
    "    data = nw.data\n",
    "    Label = nw.sites.station_nm[0].title()\n",
    "    data['cfd'] = data.value * 86400 #cfs to cfd\n",
    "    if isinstance(data.index, pd.core.index.MultiIndex):\n",
    "        data.index = data.index.droplevel(0)\n",
    "    # convert to acft by converting from monthly sum of cfd to acft-mo\n",
    "    acft = data['cfd'].groupby(pd.TimeGrouper('MS', label='left')).sum() * 2.29569E-5\n",
    "    acft = acft.to_frame()\n",
    "    \n",
    "    # get monthly average values (plot 2)\n",
    "    # Model\n",
    "    UBMgrp['month'] = UBMgrp.index.month\n",
    "    UBMmon = UBMgrp.groupby(['month']).mean()\n",
    "    # USGS data\n",
    "    acft['month'] = acft.index.month \n",
    "    acgp = acft.groupby('month').mean()\n",
    "    \n",
    "    plt.figure()\n",
    "    plt.plot(UBMgrp.index, UBMgrp.recharge_acft, 'o-', label='Modeled Recharge')\n",
    "    plt.plot(UBMgrp.index, UBMgrp.runoff_acft, 'o-', label='Modeled Runoff' )\n",
    "    plt.plot(acft.index,acft['cfd'],'o-',label='Measured Surface Discharge')\n",
    "    plt.ylabel('Discharge (ac-ft)')\n",
    "    plt.legend()\n",
    "    plt.title(Label +' '+ str(SITE))\n",
    "    plt.grid()\n",
    "    pdf.attach_note(Label)  \n",
    "    pdf.savefig()\n",
    "    plt.close()\n",
    "    \n",
    "    plt.figure()\n",
    "    plt.plot(UBMmon.index, UBMmon.recharge_acft, 'o-', label='Modeled Recharge')\n",
    "    plt.plot(UBMmon.index, UBMmon.runoff_acft, 'o-', label='Modeled Runoff' )\n",
    "    plt.plot(acgp.index, acgp,'o-',label='Measured Surface Discharge')\n",
    "    plt.ylabel('Discharge (ac-ft)')\n",
    "    plt.legend()\n",
    "    plt.title(Label +' '+ str(SITE))\n",
    "    plt.grid()\n",
    "    pdf.attach_note(Label)  \n",
    "    pdf.savefig()\n",
    "    plt.close()\n",
    "    \n",
    "    # This section pulls the individual model inputs and plots them (third figure)\n",
    "    quer = \"SELECT HUC_12,YearMonth,volume_acft,SOURCE,AREA,variable FROM ubm.bdgt WHERE HUC_10 IN({:}) AND SOURCE IN({:})\"\n",
    "    sources = \"'Surrgo','State Geologic Maps','SNODAS','MODIS16'\"\n",
    "\n",
    "    chk = pd.read_sql_query(sql=quer.format(','.join(huc10),sources),con=engine)\n",
    "    chk = chk[chk['HUC_12'].isin(HUC)]\n",
    "    chk['dt'] = pd.to_datetime(chk.YearMonth,errors='coerce',format='%Y%m')\n",
    "\n",
    "    piv = pd.pivot_table(chk, index=['HUC_12','dt'], columns='variable', values='volume_acft')\n",
    "    pv = pd.pivot_table(chk, index=['HUC_12'], columns='variable', values='volume_acft')\n",
    "    pv.drop([u'evapotranspiration', u'precip as rain', u'snowmelt'],inplace=True,axis=1)\n",
    "    piv.reset_index(inplace=True)\n",
    "    pv.reset_index(inplace=True)\n",
    "    mrg1 = pd.merge(piv,pv, on='HUC_12')\n",
    "    mrg1.reset_index(inplace=True)\n",
    "\n",
    "    areas = chk.drop(['YearMonth','SOURCE','variable','volume_acft','dt'],axis=1)\n",
    "    areas.drop_duplicates(inplace=True)\n",
    "    mrg = pd.merge(mrg1, areas, on='HUC_12')\n",
    "    mrg.dropna(inplace=True)\n",
    "    \n",
    "    #mrg.set_index(['HUC_12','dt'],inplace=True)\n",
    "\n",
    "    mrg['incoming_water'] = mrg[u'precip as rain']+mrg[u'snowmelt']\n",
    "    mrg_grp = mrg.groupby(['dt']).agg([np.sum,np.mean])\n",
    "    #mrg_grp = mrg.groupby(['dt']).agg(np.sum)\n",
    "\n",
    "    mrg_grp.drop(['AREA','index', u'precip as rain', u'snowmelt','porosity'],inplace=True,axis=1)\n",
    "    if isinstance(mrg_grp.index, pd.core.index.MultiIndex):\n",
    "        mrg_grp.index = mrg_grp.index.droplevel(0)\n",
    "    mrg_grp.drop([('evapotranspiration','mean'),('incoming_water','mean'),\n",
    "              ('field capacity','sum'),('total soil moisture','sum'),\n",
    "              ('wilting point','sum'),('conductivity','sum')],axis=1,inplace=True)\n",
    "    mrg_grp.columns = mrg_grp.columns.droplevel(-1)\n",
    "\n",
    "    mrg_grp.plot()\n",
    "    plt.text('1/1/2009',mrg_grp['total soil moisture'].median(),'Max Soil Capacity')\n",
    "    plt.text('1/1/2009',mrg_grp['wilting point'].median(),'Wilting Point')\n",
    "    plt.text('1/1/2009',mrg_grp['field capacity'].median(),'Field Capacity')\n",
    "    plt.text('1/1/2009',mrg_grp['conductivity'].median(),'Geologic K')\n",
    "    plt.legend(loc=1)\n",
    "    plt.ylabel('ac-ft') \n",
    "    plt.title(Label +' '+ str(SITE))\n",
    "    pdf.attach_note(Label)  \n",
    "    pdf.savefig()\n",
    "    plt.close()\n",
    "    pdf.close()\n",
    "    \n",
    "    \n",
    "    mrg.set_index(['dt'], inplace=True)\n",
    "    mrg.drop('index', inplace=True,axis=1)\n",
    "    mrg['YearMonth'] = [str(x.year) + str(x.month).zfill(2) for x in mrg.index]\n",
    "    mrg1 = pd.merge(UBM, mrg, on=['HUC_12','YearMonth'])\n",
    "    mrg1.set_index(['dt'], inplace=True)\n",
    "    \n",
    "    return UBM, acft, UBMmon, acgp, mrg1"
   ]
  },
  {
   "cell_type": "code",
   "execution_count": null,
   "metadata": {
    "collapsed": false,
    "deletable": true,
    "editable": true
   },
   "outputs": [],
   "source": [
    "mrg1 = pd.merge(UBM,mrg,on=['HUC_12','YearMonth'])\n",
    "mrg"
   ]
  },
  {
   "cell_type": "code",
   "execution_count": null,
   "metadata": {
    "collapsed": false,
    "deletable": true,
    "editable": true
   },
   "outputs": [],
   "source": [
    "mrg"
   ]
  },
  {
   "cell_type": "markdown",
   "metadata": {
    "deletable": true,
    "editable": true
   },
   "source": [
    "## S. Fork Ogden River"
   ]
  },
  {
   "cell_type": "code",
   "execution_count": 6,
   "metadata": {
    "collapsed": true
   },
   "outputs": [],
   "source": [
    "import UBM"
   ]
  },
  {
   "cell_type": "code",
   "execution_count": 7,
   "metadata": {
    "collapsed": false,
    "deletable": true,
    "editable": true,
    "scrolled": false
   },
   "outputs": [
    {
     "name": "stdout",
     "output_type": "stream",
     "text": [
      "connection successful\n"
     ]
    },
    {
     "ename": "TypeError",
     "evalue": "get_UBM_data() takes exactly 3 arguments (2 given)",
     "output_type": "error",
     "traceback": [
      "\u001b[0;31m---------------------------------------------------------------------------\u001b[0m",
      "\u001b[0;31mTypeError\u001b[0m                                 Traceback (most recent call last)",
      "\u001b[0;32m<ipython-input-7-7d28799c1c99>\u001b[0m in \u001b[0;36m<module>\u001b[0;34m()\u001b[0m\n\u001b[1;32m      4\u001b[0m \u001b[0mfileloc\u001b[0m \u001b[1;33m=\u001b[0m \u001b[1;34m'U:/GWP/Groundwater/Projects/BCM/Graphs/'\u001b[0m\u001b[1;33m\u001b[0m\u001b[0m\n\u001b[1;32m      5\u001b[0m \u001b[0mtable\u001b[0m \u001b[1;33m=\u001b[0m \u001b[1;34m'zonebudgets'\u001b[0m\u001b[1;33m\u001b[0m\u001b[0m\n\u001b[0;32m----> 6\u001b[0;31m \u001b[0mubm\u001b[0m\u001b[1;33m,\u001b[0m \u001b[0macft\u001b[0m\u001b[1;33m,\u001b[0m \u001b[0mubmmon\u001b[0m\u001b[1;33m,\u001b[0m \u001b[0macgp\u001b[0m\u001b[1;33m,\u001b[0m \u001b[0mmrg\u001b[0m \u001b[1;33m=\u001b[0m \u001b[0mUBM\u001b[0m\u001b[1;33m.\u001b[0m\u001b[0mplotfits\u001b[0m\u001b[1;33m(\u001b[0m\u001b[0mHUC\u001b[0m\u001b[1;33m,\u001b[0m\u001b[0mSITE\u001b[0m\u001b[1;33m,\u001b[0m\u001b[0mengine\u001b[0m\u001b[1;33m,\u001b[0m\u001b[0mfileloc\u001b[0m\u001b[1;33m,\u001b[0m\u001b[0mtable\u001b[0m\u001b[1;33m)\u001b[0m\u001b[1;33m\u001b[0m\u001b[0m\n\u001b[0m",
      "\u001b[0;32mc:\\python27\\arcgisx6410.4\\lib\\site-packages\\UBM\\zonal.pyc\u001b[0m in \u001b[0;36mplotfits\u001b[0;34m(HUC, SITE, engine, fileloc, table)\u001b[0m\n\u001b[1;32m    296\u001b[0m     \u001b[0mplt\u001b[0m\u001b[1;33m.\u001b[0m\u001b[0mclose\u001b[0m\u001b[1;33m(\u001b[0m\u001b[1;33m)\u001b[0m\u001b[1;33m\u001b[0m\u001b[0m\n\u001b[1;32m    297\u001b[0m \u001b[1;33m\u001b[0m\u001b[0m\n\u001b[0;32m--> 298\u001b[0;31m     \u001b[0mmrg\u001b[0m \u001b[1;33m=\u001b[0m \u001b[0mget_model_inputs\u001b[0m\u001b[1;33m(\u001b[0m\u001b[0mHUC\u001b[0m\u001b[1;33m,\u001b[0m \u001b[0mengine\u001b[0m\u001b[1;33m,\u001b[0m \u001b[0mtable\u001b[0m\u001b[1;33m)\u001b[0m\u001b[1;33m\u001b[0m\u001b[0m\n\u001b[0m\u001b[1;32m    299\u001b[0m     \u001b[0mmrg_grp\u001b[0m \u001b[1;33m=\u001b[0m \u001b[0mmerge_huc\u001b[0m\u001b[1;33m(\u001b[0m\u001b[0mmrg\u001b[0m\u001b[1;33m)\u001b[0m\u001b[1;33m\u001b[0m\u001b[0m\n\u001b[1;32m    300\u001b[0m \u001b[1;33m\u001b[0m\u001b[0m\n",
      "\u001b[0;32mc:\\python27\\arcgisx6410.4\\lib\\site-packages\\UBM\\zonal.pyc\u001b[0m in \u001b[0;36mget_model_inputs\u001b[0;34m(HUC, engine, table)\u001b[0m\n\u001b[1;32m    207\u001b[0m \u001b[1;32mdef\u001b[0m \u001b[0mget_model_inputs\u001b[0m\u001b[1;33m(\u001b[0m\u001b[0mHUC\u001b[0m\u001b[1;33m,\u001b[0m\u001b[0mengine\u001b[0m\u001b[1;33m,\u001b[0m\u001b[0mtable\u001b[0m\u001b[1;33m)\u001b[0m\u001b[1;33m:\u001b[0m\u001b[1;33m\u001b[0m\u001b[0m\n\u001b[1;32m    208\u001b[0m     \u001b[0mHUC\u001b[0m\u001b[1;33m,\u001b[0m \u001b[0mhuc10\u001b[0m \u001b[1;33m=\u001b[0m \u001b[0mprocess_huc\u001b[0m\u001b[1;33m(\u001b[0m\u001b[0mHUC\u001b[0m\u001b[1;33m)\u001b[0m\u001b[1;33m\u001b[0m\u001b[0m\n\u001b[0;32m--> 209\u001b[0;31m     \u001b[0mUBM\u001b[0m \u001b[1;33m=\u001b[0m \u001b[0mget_UBM_data\u001b[0m\u001b[1;33m(\u001b[0m\u001b[0mHUC\u001b[0m\u001b[1;33m,\u001b[0m \u001b[0mengine\u001b[0m\u001b[1;33m)\u001b[0m\u001b[1;33m[\u001b[0m\u001b[1;36m0\u001b[0m\u001b[1;33m]\u001b[0m\u001b[1;33m\u001b[0m\u001b[0m\n\u001b[0m\u001b[1;32m    210\u001b[0m     \u001b[1;31m# This section pulls the individual model inputs and plots them (third figure)\u001b[0m\u001b[1;33m\u001b[0m\u001b[1;33m\u001b[0m\u001b[0m\n\u001b[1;32m    211\u001b[0m     \u001b[0mquer\u001b[0m \u001b[1;33m=\u001b[0m \u001b[1;34m\"SELECT HUC_12,YearMonth,volume_acft,SOURCE,AREA,variable FROM ubm.{:} WHERE HUC_10 IN({:}) AND SOURCE IN({:})\"\u001b[0m\u001b[1;33m\u001b[0m\u001b[0m\n",
      "\u001b[0;31mTypeError\u001b[0m: get_UBM_data() takes exactly 3 arguments (2 given)"
     ]
    }
   ],
   "source": [
    "HUC = ['160201020204','160201020203','160201020205','160201020202','160201020201']\n",
    "SITE = 10137500\n",
    "Label = 'S. Fork Ogden River'\n",
    "fileloc = 'U:/GWP/Groundwater/Projects/BCM/Graphs/'\n",
    "table = 'zonebudgets'\n",
    "ubm, acft, ubmmon, acgp, mrg = UBM.plotfits(HUC,SITE,engine,fileloc,table)"
   ]
  },
  {
   "cell_type": "code",
   "execution_count": null,
   "metadata": {
    "collapsed": false,
    "deletable": true,
    "editable": true
   },
   "outputs": [],
   "source": [
    "df = UBM.runModel(mrg)\n",
    "df"
   ]
  },
  {
   "cell_type": "markdown",
   "metadata": {
    "deletable": true,
    "editable": true
   },
   "source": [
    "## Chalk Creek"
   ]
  },
  {
   "cell_type": "code",
   "execution_count": null,
   "metadata": {
    "collapsed": false,
    "deletable": true,
    "editable": true
   },
   "outputs": [],
   "source": [
    "HUC = [160202010307, 160202010304, 160202010306, 160202010305, 160202010303, 160202010302, 160202010301]\n",
    "SITE = 10131000\n",
    "Label = 'Chalk Creek'\n",
    "\n",
    "UBM, acft, UBMmon, acgp, mrg = plotfits(HUC,SITE,Label)"
   ]
  },
  {
   "cell_type": "markdown",
   "metadata": {
    "deletable": true,
    "editable": true
   },
   "source": [
    "## Logan River"
   ]
  },
  {
   "cell_type": "code",
   "execution_count": null,
   "metadata": {
    "collapsed": false,
    "deletable": true,
    "editable": true,
    "scrolled": false
   },
   "outputs": [],
   "source": [
    "HUC = [160102030303,160102030305,160102030307,160102030306,160102030302,160102030304,160102030301]\n",
    "SITE = 10109000\n",
    "SITE1 = 10109001\n",
    "\n",
    "UBM, acft, UBMmon, acgp, mrg = plotfits(HUC,SITE)"
   ]
  },
  {
   "cell_type": "markdown",
   "metadata": {
    "collapsed": true,
    "deletable": true,
    "editable": true
   },
   "source": [
    "## Blacksmith Fork"
   ]
  },
  {
   "cell_type": "code",
   "execution_count": null,
   "metadata": {
    "collapsed": false,
    "deletable": true,
    "editable": true
   },
   "outputs": [],
   "source": [
    "HUC = [160102030203,160102030201,160102030204,160102030202,160102030205,160102030208,160102030206,160102030207]\n",
    "SITE = 10113500 \n",
    "Label = 'Blacksmith Fork'\n",
    "UBM, acft, UBMmon, acgp, mrg = plotfits(HUC,SITE,Label)"
   ]
  },
  {
   "cell_type": "markdown",
   "metadata": {
    "deletable": true,
    "editable": true
   },
   "source": [
    "## Currant Creek"
   ]
  },
  {
   "cell_type": "code",
   "execution_count": null,
   "metadata": {
    "collapsed": true,
    "deletable": true,
    "editable": true
   },
   "outputs": [],
   "source": [
    "[160202010105,160202010102,160202010103,160202010104,160202010107,160202010101,160202010106]\n",
    "10146400"
   ]
  },
  {
   "cell_type": "code",
   "execution_count": null,
   "metadata": {
    "collapsed": true,
    "deletable": true,
    "editable": true
   },
   "outputs": [],
   "source": [
    "[160202010105,160202010103,160202010104]\n",
    "10146000"
   ]
  },
  {
   "cell_type": "markdown",
   "metadata": {
    "deletable": true,
    "editable": true
   },
   "source": [
    "## Multiple Basins"
   ]
  },
  {
   "cell_type": "code",
   "execution_count": null,
   "metadata": {
    "collapsed": true,
    "deletable": true,
    "editable": true
   },
   "outputs": [],
   "source": [
    "sitesHUCs = {10150500:[160202020105,160202020104,160202020306,160202020103,160202020305,160202020303,160202020302,160202020301,\n",
    "                       160202020501,160202020307,160202020202,160202020201,160202020101,160202020204,160202020304,160202020205,\n",
    "                       160202020106,160202020203,160202020102,160202020107], 10146000:[160202010105,160202010103,160202010104], \n",
    "             10146400:[160202010105,160202010102,160202010103,160202010104,160202010107,160202010101,160202010106],\n",
    "             10113500:[160102030203,160102030201,160102030204,160102030202,160102030205,160102030208,160102030206,160102030207],\n",
    "             10109000:[160102030303,160102030305,160102030307,160102030306,160102030302,160102030304,160102030301],\n",
    "             10131000:[160202010307,160202010304,160202010306,160202010305,160202010303,160202010302,160202010301],\n",
    "             10137500:[160201020204,160201020203,160201020205,160201020202,160201020201],\n",
    "             10149400:[160202020303,160202020302,160202020301,160202020304], \n",
    "             10149000:[160202020301],\n",
    "             '09288000':[140600040403,140600040402,140600040401,140600040404],\n",
    "             '09285900':[140600040103,140600040304,140600040104,140600040106,140600040105,140600040301,140600040303,\n",
    "                         140600040101,140600040102,140600040302],\n",
    "             '09288180':[140600040506,140600040103,140600040802,140600040503,140600040304,140600040504,140600040801,\n",
    "                         140600040201,140600040203,140600040804,140600040405,140600040403,140600040402,140600040204,\n",
    "                         140600040202,140600040501,140600040401,140600040502,140600040104,140600040106,140600040105,\n",
    "                         140600040805,140600040301,140600040303,140600040101,140600040102,140600040302,140600040404,\n",
    "                         140600040505,140600040803],\n",
    "             '09326500':[140600090302,140600090301,140600090303],\n",
    "             '09405500':[150100080104,150100080103,150100080102,150100080106,150100080101,150100080108,150100080107,\n",
    "                         150100080105,150100080109],\n",
    "             '09409880':[150100080603,150100080702,150100080704,150100080701,150100080802,150100080703,150100080601,\n",
    "                         150100080602],\n",
    "             '09409100':[150100080702,150100080701,150100080703],\n",
    "             '09414900':[150100100101,150100100102,150100100202,150100100205,150100100105,150100100207,150100100109,\n",
    "                         150100100110,150100100208,150100100104,150100100206,150100100204,150100100106,150100100107,\n",
    "                         150100100108,150100100203,150100100103],\n",
    "             10166430:[160202010701],\n",
    "             10128500:[160201010205,160201010204,160201010203,160201010206,160201010201,160201010202]}\n",
    "\n"
   ]
  },
  {
   "cell_type": "code",
   "execution_count": null,
   "metadata": {
    "collapsed": true,
    "deletable": true,
    "editable": true
   },
   "outputs": [],
   "source": [
    "{10174500:[160300010101,160300010202,160300010203,160300010302,160300010301,160300010103,\n",
    "          160300010102,160300010201,160300010303,160300010104,160300010204,160300010105],\n",
    "'09408195':[150100090601,150100090603,150100090408,150100090604,150100090602],\n",
    "             10215900:[1603000306],\n",
    "             '09406000':[150100080209,150100080506,150100080505,150100080504,150100080207,150100080503,150100080104,\n",
    "                         150100080103,150100080204,150100080102,150100080201,150100080502,150100080507,150100080106,\n",
    "                         150100080208,150100080101,150100080205,150100080202,150100080108,150100080206,150100080107,\n",
    "                         150100080203,150100080105,150100080109,150100080210],}"
   ]
  },
  {
   "cell_type": "code",
   "execution_count": null,
   "metadata": {
    "collapsed": false,
    "deletable": true,
    "editable": true
   },
   "outputs": [],
   "source": [
    "for key,values in sitesHUCs.iteritems():\n",
    "    print(key)\n",
    "    UBM, acft, UBMmon, acgp, mrg = plotfits(values,key)"
   ]
  },
  {
   "cell_type": "code",
   "execution_count": null,
   "metadata": {
    "collapsed": false,
    "deletable": true,
    "editable": true
   },
   "outputs": [],
   "source": [
    "mrg.set_index(['HUC_12','dt'],inplace=True)"
   ]
  },
  {
   "cell_type": "code",
   "execution_count": null,
   "metadata": {
    "collapsed": false,
    "deletable": true,
    "editable": true
   },
   "outputs": [],
   "source": []
  },
  {
   "cell_type": "code",
   "execution_count": null,
   "metadata": {
    "collapsed": false,
    "deletable": true,
    "editable": true
   },
   "outputs": [],
   "source": [
    "mrg['YearMonth'] = [str(x.year) + str(x.month).zfill(2) for x in mrg.index]"
   ]
  },
  {
   "cell_type": "code",
   "execution_count": null,
   "metadata": {
    "collapsed": true,
    "deletable": true,
    "editable": true
   },
   "outputs": [],
   "source": [
    "huc12list = mrg.index.get_level_values(0)\n",
    "\n",
    "mrg['avail_water'] = np.nan\n",
    "mrg['avail_rech'] = np.nan\n",
    "mrg['aet'] = np.nan\n",
    "mrg['runoff'] = np.nan\n",
    "mrg['recharge'] = np.nan\n",
    "\n",
    "\n",
    "for huc, grp in mrg.groupby(level=0):\n",
    "    \n",
    "    grp.ix[grp.index.min(),'avail_water'] = grp.ix[0,'precip as rain'] + grp.ix[0,'snowmelt'] + grp['field capacity'].mean()\n",
    "    soil_max = grp['total soil moisture'].mean()\n",
    "    field_cap = grp['field capacity'].mean()\n",
    "    geo_k = grp['conductivity'].mean()\n",
    "    wilt_pnt = grp['wilting point'].mean()\n",
    "    \n",
    "    for i, sub in grp.groupby(level=0):\n",
    "\n",
    "        sub.ix[i,'test'] = i\n",
    "        rain = sub.ix[i,'precip as rain']\n",
    "        melt = sub.ix[i,'snowmelt']\n",
    "        pet = sub.ix[i, 'evapotranspiration']\n",
    "\n",
    "        if i == grp.index.min():\n",
    "            sub.ix[i,'avail_water'] = rain + melt + field_cap\n",
    "        else:    \n",
    "            sub.ix[i,'avail_water'] = rain + melt + sub.ix[i.shift(-1"
   ]
  },
  {
   "cell_type": "code",
   "execution_count": null,
   "metadata": {
    "collapsed": false,
    "deletable": true,
    "editable": true
   },
   "outputs": [],
   "source": [
    "mrg.drop('index',inplace=True,axis=1)"
   ]
  },
  {
   "cell_type": "code",
   "execution_count": null,
   "metadata": {
    "collapsed": false,
    "deletable": true,
    "editable": true
   },
   "outputs": [],
   "source": [
    "mrg.set_index(['dt'],inplace=True)\n",
    "mrg.drop('index',inplace=True,axis=1)"
   ]
  },
  {
   "cell_type": "code",
   "execution_count": null,
   "metadata": {
    "collapsed": false,
    "deletable": true,
    "editable": true
   },
   "outputs": [],
   "source": [
    "UBMplus = pd.merge(UBM, df, on=['HUC_12','YearMonth'])\n",
    "\n"
   ]
  },
  {
   "cell_type": "code",
   "execution_count": null,
   "metadata": {
    "collapsed": false,
    "deletable": true,
    "editable": true,
    "scrolled": false
   },
   "outputs": [],
   "source": [
    "UBMplus.to_clipboard()"
   ]
  },
  {
   "cell_type": "code",
   "execution_count": null,
   "metadata": {
    "collapsed": false,
    "deletable": true,
    "editable": true
   },
   "outputs": [],
   "source": [
    "x = UBMplus.recharge\n",
    "y = UBMplus.recharge_acft\n",
    "\n",
    "plt.scatter(x,y)"
   ]
  },
  {
   "cell_type": "code",
   "execution_count": null,
   "metadata": {
    "collapsed": false,
    "deletable": true,
    "editable": true
   },
   "outputs": [],
   "source": [
    "def runModel(mrg, geo_k=''):\n",
    "    huc12list = mrg['HUC_12'].unique()\n",
    "\n",
    "    mrg['avail_water'] = np.nan\n",
    "    mrg['avail_rech'] = np.nan\n",
    "    mrg['aet'] = np.nan\n",
    "    mrg['runoff'] = np.nan\n",
    "    mrg['recharge'] = np.nan\n",
    "    mrg['eqt'] = np.nan\n",
    "\n",
    "    grp = {}\n",
    "\n",
    "    for h in huc12list:\n",
    "\n",
    "        grp[h] = mrg[mrg['HUC_12']==h]\n",
    "        grp[h] = grp[h][~grp[h].index.duplicated(keep='first')]\n",
    "\n",
    "        soil_max = grp[h]['porosity'].mean()\n",
    "        field_cap = grp[h]['field capacity'].mean()\n",
    "        if geo_k == '':\n",
    "            geo_k = grp[h]['conductivity'].mean()\n",
    "    \n",
    "        wilt_pnt = grp[h]['wilting point'].mean()\n",
    "        dates = pd.date_range(start=grp[h].index.min(),end=grp[h].index.max(),freq='MS')\n",
    "\n",
    "        for i in dates:\n",
    "            rain = grp[h].ix[i,'precip as rain']\n",
    "            melt = grp[h].ix[i,'snowmelt']\n",
    "            pet = grp[h].ix[i,'evapotranspiration']\n",
    "            if i == dates[0]:\n",
    "                avail_water = rain + melt + field_cap\n",
    "            elif i.month == 1:    \n",
    "                avail_water = rain + melt + grp[h].ix[pd.datetime(i.year-1,12,1),'avail_water']\n",
    "            else:\n",
    "                avail_water = rain + melt + grp[h].ix[pd.datetime(i.year,i.month-1,1),'avail_water']\n",
    "\n",
    "            if avail_water > soil_max:\n",
    "\n",
    "                avail_rech = soil_max - field_cap\n",
    "                grp[h].ix[i, 'aet'] = pet\n",
    "\n",
    "                if avail_rech > geo_k:\n",
    "                    grp[h].ix[i,'eqt'] = 1.1\n",
    "\n",
    "                    grp[h].ix[i,'runoff'] = (avail_water - soil_max) + (avail_rech - geo_k)\n",
    "                    grp[h].ix[i,'recharge'] = geo_k\n",
    "                else:\n",
    "                    grp[h].ix[i,'eqt'] = 1.2\n",
    "                    grp[h].ix[i,'runoff'] = avail_water - soil_max\n",
    "                    grp[h].ix[i,'recharge'] = avail_rech\n",
    "            elif (avail_water < soil_max) and (avail_water > field_cap):\n",
    "                grp[h].ix[i,'eqt'] = 2\n",
    "                avail_rech = avail_water - field_cap\n",
    "                grp[h].ix[i, 'aet'] = pet\n",
    "\n",
    "                if avail_rech > geo_k:\n",
    "                    grp[h].ix[i,'runoff'] = avail_rech - geo_k\n",
    "                    grp[h].ix[i,'recharge'] = geo_k\n",
    "                else:\n",
    "                    grp[h].ix[i,'runoff'] = 0\n",
    "                    grp[h].ix[i,'recharge'] = avail_rech\n",
    "            elif (avail_water > wilt_pnt) and (avail_water < field_cap):\n",
    "                grp[h].ix[i,'eqt'] = 3\n",
    "                grp[h].ix[i,'runoff'] = 0\n",
    "                grp[h].ix[i,'recharge'] = 0\n",
    "                grp[h].ix[i, 'aet'] = pet        \n",
    "            elif avail_water < wilt_pnt:\n",
    "                grp[h].ix[i,'eqt'] = 4\n",
    "                grp[h].ix[i,'runoff'] = 0\n",
    "                grp[h].ix[i,'recharge'] = 0\n",
    "                grp[h].ix[i, 'aet'] = 0\n",
    "            else:\n",
    "                pass\n",
    "\n",
    "            grp[h].ix[i, 'avail_rech'] = avail_rech\n",
    "            grp[h].ix[i,'avail_water'] = avail_water\n",
    "\n",
    "\n",
    "    if len(huc12list) > 1:\n",
    "        df = pd.concat([grp[h] for h in huc12list])\n",
    "\n",
    "    else:\n",
    "        df = grp[h]\n",
    "    df['YearMonth'] = [str(x.year) + str(x.month).zfill(2) for x in df.index]\n",
    "\n",
    "    return df\n"
   ]
  },
  {
   "cell_type": "code",
   "execution_count": null,
   "metadata": {
    "collapsed": false,
    "deletable": true,
    "editable": true
   },
   "outputs": [],
   "source": []
  },
  {
   "cell_type": "code",
   "execution_count": null,
   "metadata": {
    "collapsed": false,
    "deletable": true,
    "editable": true
   },
   "outputs": [],
   "source": [
    "df['YearMonth']"
   ]
  },
  {
   "cell_type": "code",
   "execution_count": null,
   "metadata": {
    "collapsed": false,
    "deletable": true,
    "editable": true
   },
   "outputs": [],
   "source": [
    "from scipy.interpolate import griddata\n",
    "import matplotlib.cm as cm\n",
    "\n",
    "\n",
    "SITE = '10131000'\n",
    "meth = 'linear'#'nearest'\n",
    "\n",
    "nw = wa.nwis('dv',SITE,'sites')#, startDT='1999-01-01')\n",
    "data = nw.data\n",
    "if isinstance(data.index, pd.core.index.MultiIndex):\n",
    "    data.index = data.index.droplevel(0)\n",
    "    \n",
    "x = data.index.dayofyear\n",
    "y = data.index.year\n",
    "z = data.value.values\n",
    "\n",
    "xi = np.linspace(x.min(), x.max(), 1000)\n",
    "yi = np.linspace(y.min(), y.max(), 1000)\n",
    "zi = griddata((x,y),z,(xi[None,:],yi[:,None]),method=meth)\n",
    "\n",
    "\n",
    "cmap = plt.cm.get_cmap('RdYlBu')\n",
    "norm = mpl.colors.Normalize(vmin=z.min(), vmax=z.max())\n",
    "m = cm.ScalarMappable(norm=norm, cmap=cmap)\n",
    "m.set_array(z)\n",
    "\n",
    "\n",
    "br = plt.contourf(xi,yi,zi,color=m.to_rgba(z),cmap=cmap)\n",
    "# setup the colorbar\n",
    "\n",
    "\n",
    "cbar = plt.colorbar(m)\n",
    "cbar.set_label('Discharge (cfs)')\n",
    "\n",
    "plt.xlabel('Month')\n",
    "plt.ylabel('Year')\n",
    "plt.yticks(range(y.min(),y.max()))\n",
    "\n",
    "mons = {'Apr': 90.25, 'Aug': 212.25, 'Dec': 334.25, 'Feb': 31, 'Jan': 1, 'Jul': 181.25, 'Jun': 151.25, 'Mar': 59.25, 'May': 120.25,\n",
    " 'Nov': 304.25, 'Oct': 273.25, 'Sep': 243.25}\n",
    "monnms = ['Jan','Feb','Mar','Apr','May','Jun','Jul','Aug','Sep','Oct','Nov','Dec']\n",
    "\n",
    "plt.title(nw.sites.station_nm[0].title())\n",
    "tickplc = []\n",
    "plt.xticks([mons[i] for i in monnms], monnms)\n",
    "print(y.max())\n",
    "plt.grid()"
   ]
  }
 ],
 "metadata": {
  "kernelspec": {
   "display_name": "Python 2",
   "language": "python",
   "name": "python2"
  },
  "language_info": {
   "codemirror_mode": {
    "name": "ipython",
    "version": 2
   },
   "file_extension": ".py",
   "mimetype": "text/x-python",
   "name": "python",
   "nbconvert_exporter": "python",
   "pygments_lexer": "ipython2",
   "version": "2.7.10"
  },
  "widgets": {
   "state": {},
   "version": "1.1.1"
  }
 },
 "nbformat": 4,
 "nbformat_minor": 1
}
