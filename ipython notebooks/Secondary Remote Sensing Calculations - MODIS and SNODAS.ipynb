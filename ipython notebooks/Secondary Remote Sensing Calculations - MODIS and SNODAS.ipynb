{
 "cells": [
  {
   "cell_type": "code",
   "execution_count": 1,
   "metadata": {
    "collapsed": false,
    "deletable": true,
    "editable": true
   },
   "outputs": [],
   "source": [
    "%matplotlib inline\n",
    "import pandas as pd\n",
    "import zipfile\n",
    "import shutil\n",
    "import urllib2\n",
    "from urllib2 import urlopen\n",
    "import numpy as np\n",
    "import matplotlib.pyplot as plt\n",
    "import matplotlib.dates as dates\n",
    "import matplotlib.ticker as tick\n",
    "import scipy.stats as sp\n",
    "import statsmodels.api as sm\n",
    "from pandas.stats.api import ols\n",
    "from datetime import datetime\n",
    "from bs4 import BeautifulSoup\n",
    "from pylab import rcParams\n",
    "import platform\n",
    "rcParams['figure.figsize'] = 15, 10\n",
    "import re\n",
    "import os\n",
    "import sys\n",
    "import glob\n",
    "import urllib\n",
    "import HTMLParser\n",
    "from cStringIO import StringIO\n",
    "\n",
    "import pyproj\n",
    "from pyproj import Proj\n",
    "\n",
    "import gzip\n",
    "\n",
    "import ftplib\n",
    "import calendar\n",
    "import datetime\n",
    "from datetime import date\n",
    "\n",
    "import pymodis"
   ]
  },
  {
   "cell_type": "code",
   "execution_count": 2,
   "metadata": {
    "collapsed": true,
    "deletable": true,
    "editable": true
   },
   "outputs": [],
   "source": [
    "import arcpy\n",
    "arcpy.CheckOutExtension(\"spatial\")\n",
    "from arcpy import env \n",
    "from arcpy.sa import *"
   ]
  },
  {
   "cell_type": "code",
   "execution_count": 3,
   "metadata": {
    "collapsed": false,
    "deletable": true,
    "editable": true
   },
   "outputs": [
    {
     "name": "stdout",
     "output_type": "stream",
     "text": [
      "Operating System Windows 7\n",
      "Python Version 2.7.10 (default, May 23 2015, 09:44:00) [MSC v.1500 64 bit (AMD64)]\n",
      "Pandas Version 0.19.2\n",
      "Numpy Version 1.12.0\n"
     ]
    }
   ],
   "source": [
    "print(\"Operating System \" + platform.system() + \" \" + platform.release())\n",
    "print(\"Python Version \" + str(sys.version))\n",
    "print(\"Pandas Version \" + str(pd.__version__))\n",
    "print(\"Numpy Version \" + str(np.__version__))"
   ]
  },
  {
   "cell_type": "code",
   "execution_count": 4,
   "metadata": {
    "collapsed": true
   },
   "outputs": [],
   "source": [
    "import wellapplication as wa\n",
    "import UBM"
   ]
  },
  {
   "cell_type": "code",
   "execution_count": 5,
   "metadata": {
    "collapsed": true
   },
   "outputs": [],
   "source": [
    "Zonal_HUCS = \"H:/GIS/BCM/ZonalExtra.gdb/Zonal_HUC\"\n",
    "Zone_field = \"HUC_12\"\n",
    "z_Name = \"H:/GIS/BCM/ZonalExtra.gdb\"\n",
    "arcpy.env.overwriteOutput = True\n",
    "\n"
   ]
  },
  {
   "cell_type": "code",
   "execution_count": null,
   "metadata": {
    "collapsed": false
   },
   "outputs": [
    {
     "name": "stdout",
     "output_type": "stream",
     "text": [
      "z_AVWT200401\n",
      "z_AVWT200402\n",
      "z_AVWT200403\n",
      "z_AVWT200404\n",
      "z_AVWT200405\n",
      "z_AVWT200406\n",
      "z_AVWT200407\n",
      "z_AVWT200408\n",
      "z_AVWT200409\n",
      "z_AVWT200410\n",
      "z_AVWT200411\n",
      "z_AVWT200412\n",
      "z_AVWT200501\n",
      "z_AVWT200502\n",
      "z_AVWT200503\n",
      "z_AVWT200504\n",
      "z_AVWT200505\n",
      "z_AVWT200506\n"
     ]
    }
   ],
   "source": [
    "indata = \"H:/GIS/BCM/AvailableWater.gdb\"\n",
    "UBM.zone_gdb(indata, z_Name, Zonal_HUCS, Zone_field)"
   ]
  },
  {
   "cell_type": "code",
   "execution_count": null,
   "metadata": {
    "collapsed": true
   },
   "outputs": [],
   "source": []
  },
  {
   "cell_type": "code",
   "execution_count": null,
   "metadata": {
    "collapsed": true
   },
   "outputs": [],
   "source": []
  },
  {
   "cell_type": "code",
   "execution_count": null,
   "metadata": {
    "collapsed": true
   },
   "outputs": [],
   "source": []
  },
  {
   "cell_type": "code",
   "execution_count": null,
   "metadata": {
    "collapsed": true
   },
   "outputs": [],
   "source": []
  },
  {
   "cell_type": "code",
   "execution_count": null,
   "metadata": {
    "collapsed": true,
    "deletable": true,
    "editable": true
   },
   "outputs": [],
   "source": [
    "def replace_hdr_file(hdrfile):\n",
    "    \"\"\"\n",
    "    Replace the .hdr file for a .bil raster with the correct data for Arc processing\n",
    "    Required: hdrfile -- filepath for .hdr file to replace/create\n",
    "    Output:   None\n",
    "    \"\"\"\n",
    "    # hdr file replacment string\n",
    "    HDRFILE_STRING = \"byteorder M\\n\\\n",
    "    layout bil\\n\\\n",
    "    nbands 1\\n\\\n",
    "    nbits 16\\n\\\n",
    "    ncols 6935\\n\\\n",
    "    nrows 3351\\n\\\n",
    "    ulxmap -124.729583333331703\\n\\\n",
    "    ulymap 52.871249516804028\\n\\\n",
    "    xdim 0.00833333333\\n\\\n",
    "    ydim 0.00833333333\\n\"\n",
    "    with open(hdrfile, 'w') as o:\n",
    "        o.write(HDRFILE_STRING)"
   ]
  },
  {
   "cell_type": "code",
   "execution_count": null,
   "metadata": {
    "collapsed": false,
    "deletable": true,
    "editable": true
   },
   "outputs": [],
   "source": [
    "path= \"H:/GIS/MODIS2/MODIS.gdb/\"\n",
    "arcpy.env.workspace = path\n",
    "\n",
    "for rast in arcpy.ListRasters()[:3]:\n",
    "        dsc = arcpy.Describe(rast)\n",
    "        print(dsc.baseName) "
   ]
  },
  {
   "cell_type": "code",
   "execution_count": null,
   "metadata": {
    "collapsed": true,
    "deletable": true,
    "editable": true
   },
   "outputs": [],
   "source": [
    "for hdrfile in glob.glob(\"H:/GIS/SNODAS/SNODASUNZIPPED/SNODASUNGZ/*.Hdr\"):\n",
    "    replace_hdr_file(hdrfile)"
   ]
  },
  {
   "cell_type": "code",
   "execution_count": null,
   "metadata": {
    "collapsed": false,
    "deletable": true,
    "editable": true
   },
   "outputs": [],
   "source": [
    "sr = arcpy.SpatialReference(4326) #Spatial Projection WGS84\n",
    "\n",
    "# Set output coordinate system\n",
    "outCS = arcpy.SpatialReference('NAD 1983 UTM Zone 12N')  #NAD83 Zone 12 Code is 26912\n",
    "\n",
    "# Set local variables\n",
    "inMaskData = \"H:/GIS/SNODAS/SNODAS.gdb/UT_HUC_area\"\n",
    "\n",
    "# from Table 4 of http://nsidc.org/data/docs/noaa/g02158_snodas_snow_cover_model/\n",
    "prodcodelong = {1025: 'Precipitation', 1034: 'Snow water equivalent', 1036: 'Snow depth', \n",
    "            1038: 'Snow pack average temperature', 1039: 'Blowing snow sublimation',\n",
    "            1044: 'Snow melt', 1050: 'Snow pack sublimation'}\n",
    "prodcode = {1025: 'PREC', 1034: 'SWEQ', 1036: 'SNOD', 1038: 'SPAT', 1039: 'BSSB', 1044: 'SNML', 1050: 'SPSB'}\n",
    "\n",
    "# iterate through data files creating rasters and defining projections\n",
    "for dtfile in glob.glob(\"H:/GIS/SNODAS/SNODASUNZIPPED/SNODASUNGZ/*.dat\"):\n",
    "    indata = arcpy.Raster(dtfile)\n",
    "    arcpy.DefineProjection_management(indata, sr)\n",
    "    typAbb = prodcode[int(os.path.basename(dtfile)[8:12])]\n",
    "    \n",
    "    #indata.save(\"H:/GIS/SNODAS/SNODAS.gdb/\" + typAbb + dtfile[-20:-11]) #YYYYMMDD\n",
    "    \n",
    "    # Execute ExtractByMask to clip snodas data to Utah watersheds\n",
    "    outExtractByMask = arcpy.sa.ExtractByMask(indata, inMaskData)\n",
    "\n",
    "    # Determine the new output feature class path and name = productcode + YYYYMMDD and save to a geodatabase\n",
    "    outrast = \"H:/GIS/SNODAS/SNODAS.gdb/\" + typAbb + dtfile[-20:-11] #os.path.join(outWorkspace, rast)\n",
    "    \n",
    "    # Print name to veryfy save\n",
    "    print(typAbb + dtfile[-20:-11])\n",
    "    \n",
    "    # Project Raster to UTM Zone 12\n",
    "    arcpy.ProjectRaster_management(outExtractByMask, outrast, outCS, 'BILINEAR', '1000',\\\n",
    "                                   'WGS_1984_(ITRF00)_To_NAD_1983', '#', '#')\n",
    "    "
   ]
  },
  {
   "cell_type": "markdown",
   "metadata": {
    "deletable": true,
    "editable": true
   },
   "source": [
    "From http://nsidc.org/data/docs/noaa/g02158_snodas_snow_cover_model/, the file abbreviations are as follows:\n",
    "<ul type=\"disc\">\n",
    "<li>`RAIN` = `Wet Precip`</li>\n",
    "<li>`SWEQ` = `Snow Water Equivalent`</li> \n",
    "<li>`SNOD` = `Snow Depth`</li> \n",
    "<li>`SPAT` = `Snow Pack Average Temp`</li>\n",
    "<li>`BSSB` = `Blowing Snow Sublimation`</li>\n",
    "<li>`SNML` = `Snowmelt`</li>\n",
    "<li>`SPSB` = `Snow Pack Sublimation`</li>\n",
    "</ul>"
   ]
  },
  {
   "cell_type": "code",
   "execution_count": null,
   "metadata": {
    "collapsed": false,
    "deletable": true,
    "editable": true
   },
   "outputs": [],
   "source": [
    "prodcode = {'us_ssmv11038wS__A':'SPAT', 'us_ssmv11044bS__T':'SNML', 'us_ssmv11050lL00T':'SPSB', \n",
    "            'us_ssmv11034tS__T':'SWEQ', 'us_ssmv01025SlL00':'RAIN', 'us_ssmv01025SlL01':'SNOW',\n",
    "            'us_ssmv11036tS__T':'SNOD', 'us_ssmv11039lL00T':'BSSB'}\n",
    "\n",
    "path = \"H:/GIS/SNODAS/geotifSNODAS/SNDS/\"\n",
    "for filename in os.listdir(path):\n",
    "    if filename.startswith(\"us_ssmv\"):\n",
    "        code = prodcode[filename[0:17]]\n",
    "        yrsrt = filename.find('TNATS') + 5\n",
    "        yr = filename[yrsrt:yrsrt+4]\n",
    "        mo = filename[yrsrt+4:yrsrt+6]\n",
    "        dy = filename[yrsrt+6:yrsrt+8]\n",
    "        os.rename(os.path.join(path, filename), os.path.join(path,code+yr+mo+dy+filename[-4:]))"
   ]
  },
  {
   "cell_type": "code",
   "execution_count": null,
   "metadata": {
    "collapsed": true,
    "deletable": true,
    "editable": true
   },
   "outputs": [],
   "source": [
    "def mergeRasts(path, data_type = 'AET', monthRange = [1,4], yearRange = [2000,2001]):\n",
    "    arcpy.env.workspace = path\n",
    "    print(arcpy.ListRasters())\n",
    "    \n",
    "    for y in range(yearRange[0],yearRange[-1]+1): #set years converted here\n",
    "        for m in range(monthRange[0],monthRange[-1]+1): #set months converted here   \n",
    "            nm = data_type + str(y) + str(m).zfill(2)\n",
    "            rlist=[]\n",
    "            for rast in arcpy.ListRasters(nm+'*'): \n",
    "                rlist.append(rast)\n",
    "            print(rlist)"
   ]
  },
  {
   "cell_type": "code",
   "execution_count": null,
   "metadata": {
    "collapsed": false,
    "deletable": true,
    "editable": true
   },
   "outputs": [],
   "source": [
    "path=\"H:/GIS/MODIS2/MODIS.gdb\"\n",
    "mergeRasts(path)"
   ]
  },
  {
   "cell_type": "code",
   "execution_count": null,
   "metadata": {
    "collapsed": false,
    "deletable": true,
    "editable": true
   },
   "outputs": [],
   "source": [
    "path = \"H:/GIS/SNODAS/geotifSNODAS/SNDS/\"\n",
    "g = {}\n",
    "from arcpy.sa import *\n",
    "arcpy.env.workspace = path\n",
    "arcpy.env.overwriteOutput = True\n",
    "\n",
    "code = 'PREC'\n",
    "\n",
    "for y in range(2003,2016):\n",
    "    for m in range(1,13):\n",
    "        g[code+str(y)+str(m).zfill(2)] = []\n",
    "        for name in sorted(glob.glob(path+code+'*.tif')):\n",
    "            rast = os.path.basename(name)\n",
    "            if rast[0:4] == code and int(rast[4:8]) == y and int(rast[8:10]) == m:\n",
    "                g[code+str(y)+str(m).zfill(2)].append(rast)\n",
    "            else:\n",
    "                pass\n",
    "        if len(g[code+str(y)+str(m).zfill(2)])>0:\n",
    "            print(g[code+str(y)+str(m).zfill(2)])\n",
    "            calc = CellStatistics(g[code+str(y)+str(m).zfill(2)], statistics_type = \"SUM\", ignore_nodata=\"DATA\")\n",
    "            calc.save(\"H:/GIS/SNODAS/SNODAS.gdb/\"+rast[0:4]+str(y).zfill(2)+str(m).zfill(2)+\"SUM\")"
   ]
  },
  {
   "cell_type": "code",
   "execution_count": null,
   "metadata": {
    "collapsed": true,
    "deletable": true,
    "editable": true
   },
   "outputs": [],
   "source": []
  },
  {
   "cell_type": "code",
   "execution_count": null,
   "metadata": {
    "collapsed": true,
    "deletable": true,
    "editable": true
   },
   "outputs": [],
   "source": [
    "sr = arcpy.SpatialReference(4326) #Spatial Projection WGS84\n",
    "\n",
    "# Set output coordinate system\n",
    "outCS = arcpy.SpatialReference('NAD 1983 UTM Zone 12N')  #NAD83 Zone 12 Code is 26912\n",
    "\n",
    "# Set local variables\n",
    "inMaskData = \"H:/GIS/SNODAS/SNODAS.gdb/UT_HUC_area\"\n",
    "\n",
    "# from Table 4 of http://nsidc.org/data/docs/noaa/g02158_snodas_snow_cover_model/\n",
    "prodcodelong = {1025: 'Precipitation', 1034: 'Snow water equivalent', 1036: 'Snow depth', \n",
    "            1038: 'Snow pack average temperature', 1039: 'Blowing snow sublimation',\n",
    "            1044: 'Snow melt', 1050: 'Snow pack sublimation'}\n",
    "prodcode = {1025: 'PREC', 1034: 'SWEQ', 1036: 'SNOD', 1038: 'SPAT', 1039: 'BSSB', 1044: 'SNML', 1050: 'SPSB'}\n",
    "\n",
    "# iterate through data files creating rasters and defining projections\n",
    "for dtfile in glob.glob(\"H:/GIS/SNODAS/SNODASUNZIPPED/SNODASUNGZ/*.dat\"):\n",
    "    indata = arcpy.Raster(dtfile)\n",
    "    arcpy.DefineProjection_management(indata, sr)\n",
    "    typAbb = prodcode[int(os.path.basename(dtfile)[8:12])]\n",
    "    \n",
    "    # Determine the new output feature class path and name = productcode + YYYYMMDD and save to a geodatabase\n",
    "    outrast = \"H:/GIS/SNODAS/SNODAS.gdb/\" + typAbb + dtfile[-20:-11] #os.path.join(outWorkspace, rast)\n",
    "    \n",
    "    # Print name to veryfy save\n",
    "    print(typAbb + dtfile[-20:-11])\n",
    "    \n",
    "    # Project Raster to UTM Zone 12\n",
    "    arcpy.ProjectRaster_management(outExtractByMask, outrast, outCS, 'BILINEAR', '1000',\\\n",
    "                                   'WGS_1984_(ITRF00)_To_NAD_1983', '#', '#')\n",
    "    "
   ]
  },
  {
   "cell_type": "code",
   "execution_count": null,
   "metadata": {
    "collapsed": false,
    "deletable": true,
    "editable": true
   },
   "outputs": [],
   "source": [
    "\n",
    "arcpy.env.overwriteOutput = True\n",
    "path=\"H:/GIS/SNODAS/SNODASproj.gdb/\"\n",
    "arcpy.env.workspace = path\n",
    "for name in arcpy.ListRasters():"
   ]
  },
  {
   "cell_type": "code",
   "execution_count": null,
   "metadata": {
    "collapsed": false,
    "deletable": true,
    "editable": true
   },
   "outputs": [],
   "source": [
    "monthRange = [1,12] \n",
    "yearRange = [2003,2016]\n",
    "\n",
    "g = {}\n",
    "path=\"H:/GIS/SNODAS/SNODASproj.gdb/\"\n",
    "arcpy.env.workspace = path\n",
    "arcpy.env.overwriteOutput = True\n",
    "\n",
    "\n",
    "for y in range(yearRange[0],yearRange[1]+1): #set years converted here\n",
    "    for m in range(monthRange[0],monthRange[1]+1): #set months converted here\n",
    "        my = str(y)+str(m).zfill(2)\n",
    "        newdn = 'TPPT' + my\n",
    "        try:\n",
    "            calc = Plus('SNOW'+ my +'SUM', 'RAIN'+ my +'SUM')\n",
    "            calc.save(newdn+'SUM')\n",
    "            print(newdn)\n",
    "        except(RuntimeError):\n",
    "            pass"
   ]
  },
  {
   "cell_type": "code",
   "execution_count": null,
   "metadata": {
    "collapsed": false,
    "deletable": true,
    "editable": true
   },
   "outputs": [],
   "source": [
    "from arcpy.sa import *\n",
    "\n",
    "monthRange = [1,12] \n",
    "yearRange = [2005,2005]\n",
    "\n",
    "path = \"H:/GIS/Calc.gdb/\"\n",
    "path1 = \"H:/GIS/SNODAS/SNODASproj.gdb/\"\n",
    "path2 = \"H:/GIS/MODIS/MODOUT.gdb/\"\n",
    "arcpy.env.workspace = path\n",
    "arcpy.env.overwriteOutput = True\n",
    "area = 'H:/GIS/NHD_UT_Proj.gdb/UT_HUC_area'\n",
    "arcpy.env.mask = area\n",
    "\n",
    "for y in range(yearRange[0],yearRange[1]+1): #set years converted here\n",
    "    for m in range(monthRange[0],monthRange[1]+1): #set months converted here\n",
    "        my = str(y)+str(m).zfill(2)\n",
    "        newdn = 'AVLW' + my\n",
    "        rain = (path1 + 'RAIN'+ my +'SUM')\n",
    "        snowMelt = (path1 + 'SNML'+ my +'SUM')\n",
    "        actEvap = (path2 + 'AET'+ my)\n",
    "        \n",
    "        avail = (Con(IsNull(rain),0, rain)) + (Con(IsNull(snowMelt),0, snowMelt)) - (Con(IsNull(actEvap),0, actEvap))\n",
    "        avail = (available < 0, 0, available)\n",
    "        available.save(newdn)\n",
    "        print(newdn)\n"
   ]
  },
  {
   "cell_type": "code",
   "execution_count": null,
   "metadata": {
    "collapsed": true,
    "deletable": true,
    "editable": true
   },
   "outputs": [],
   "source": []
  }
 ],
 "metadata": {
  "kernelspec": {
   "display_name": "Python 2",
   "language": "python",
   "name": "python2"
  },
  "language_info": {
   "codemirror_mode": {
    "name": "ipython",
    "version": 2
   },
   "file_extension": ".py",
   "mimetype": "text/x-python",
   "name": "python",
   "nbconvert_exporter": "python",
   "pygments_lexer": "ipython2",
   "version": "2.7.10"
  },
  "widgets": {
   "state": {},
   "version": "1.1.1"
  }
 },
 "nbformat": 4,
 "nbformat_minor": 0
}
