{
 "cells": [
  {
   "cell_type": "code",
   "execution_count": 1,
   "metadata": {
    "collapsed": false,
    "deletable": true,
    "editable": true
   },
   "outputs": [],
   "source": [
    "%matplotlib inline\n",
    "import pandas as pd\n",
    "import numpy as np\n",
    "import urllib2\n",
    "import folium\n",
    "import json\n",
    "import matplotlib.pyplot as plt\n",
    "import matplotlib.dates as dates\n",
    "import scipy\n",
    "import scipy.stats as sp\n",
    "import scipy.optimize as op\n",
    "import statsmodels.api as sm\n",
    "from scipy.stats import linregress\n",
    "from scipy.optimize import curve_fit\n",
    "from scipy import stats\n",
    "from pandas.stats.api import ols\n",
    "from datetime import datetime, date, timedelta\n",
    "from matplotlib.backends.backend_pdf import PdfPages\n",
    "#from matplotlib.pyplot import cm \n",
    "import platform\n",
    "import sys\n",
    "import glob\n",
    "\n",
    "import matplotlib as mpl\n",
    "import matplotlib.cm as cm\n",
    "\n",
    "import pyproj\n",
    "from pyproj import Proj\n",
    "import simplekml\n",
    "\n",
    "import pyodbc\n",
    "\n",
    "#import matplotlib\n",
    "from pylab import rcParams\n",
    "rcParams['figure.figsize'] = 15, 15"
   ]
  },
  {
   "cell_type": "code",
   "execution_count": 2,
   "metadata": {
    "collapsed": false,
    "deletable": true,
    "editable": true
   },
   "outputs": [],
   "source": [
    "import wellapplication as wa\n",
    "import UBM"
   ]
  },
  {
   "cell_type": "code",
   "execution_count": 3,
   "metadata": {
    "collapsed": false,
    "deletable": true,
    "editable": true
   },
   "outputs": [
    {
     "data": {
      "text/plain": [
       "'0.0.5'"
      ]
     },
     "execution_count": 3,
     "metadata": {},
     "output_type": "execute_result"
    }
   ],
   "source": [
    "UBM.__version__"
   ]
  },
  {
   "cell_type": "code",
   "execution_count": 4,
   "metadata": {
    "collapsed": false,
    "deletable": true,
    "editable": true
   },
   "outputs": [
    {
     "name": "stdout",
     "output_type": "stream",
     "text": [
      "Operating System Windows 7\n",
      "Python Version 2.7.10 (default, May 23 2015, 09:44:00) [MSC v.1500 64 bit (AMD64)]\n",
      "Pandas Version 0.19.2\n",
      "Numpy Version 1.12.0\n",
      "Matplotlib Version 2.0.0\n",
      "Well Application Version 0.4.19\n",
      "Scipy Version 0.18.1\n"
     ]
    }
   ],
   "source": [
    "print(\"Operating System \" + platform.system() + \" \" + platform.release())\n",
    "print(\"Python Version \" + str(sys.version))\n",
    "print(\"Pandas Version \" + str(pd.__version__))\n",
    "print(\"Numpy Version \" + str(np.__version__))\n",
    "print(\"Matplotlib Version \" + str(mpl.__version__))\n",
    "print(\"Well Application Version \" + str(wa.__version__))\n",
    "print(\"Scipy Version \" +str(scipy.__version__))"
   ]
  },
  {
   "cell_type": "code",
   "execution_count": 5,
   "metadata": {
    "collapsed": false,
    "deletable": true,
    "editable": true
   },
   "outputs": [],
   "source": [
    "import arcpy\n",
    "arcpy.CheckOutExtension(\"spatial\")\n",
    "from arcpy import env \n",
    "from arcpy.sa import *"
   ]
  },
  {
   "cell_type": "code",
   "execution_count": null,
   "metadata": {
    "collapsed": true,
    "deletable": true,
    "editable": true
   },
   "outputs": [],
   "source": []
  },
  {
   "cell_type": "code",
   "execution_count": 6,
   "metadata": {
    "collapsed": false,
    "deletable": true,
    "editable": true
   },
   "outputs": [],
   "source": [
    "engineroute = \"H:/Google Drive/WORK/Round_Valley/Data/\"\n",
    "#engineroute = \"C:/Users/Brooke/Downloads/\"\n",
    "sys.path.append(engineroute)\n",
    "import enginegetter"
   ]
  },
  {
   "cell_type": "code",
   "execution_count": 7,
   "metadata": {
    "collapsed": false,
    "deletable": true,
    "editable": true
   },
   "outputs": [],
   "source": [
    "engine = enginegetter.getEngine()"
   ]
  },
  {
   "cell_type": "markdown",
   "metadata": {
    "deletable": true,
    "editable": true
   },
   "source": [
    "# Zonal Statistics"
   ]
  },
  {
   "cell_type": "code",
   "execution_count": 8,
   "metadata": {
    "collapsed": true,
    "deletable": true,
    "editable": true
   },
   "outputs": [],
   "source": [
    "Zonal_HUCS = \"H:/GIS/BCM/Calc.gdb/Zonal_HUC\"\n",
    "Zone_field = \"HUC_12\"\n",
    "z_Name = \"H:/GIS/BCM/Zonal.gdb\"\n",
    "indata = \"H:/GIS/BCM/BM_tools/Results.gdb\"\n",
    "arcpy.env.overwriteOutput = True\n"
   ]
  },
  {
   "cell_type": "code",
   "execution_count": null,
   "metadata": {
    "collapsed": false,
    "deletable": true,
    "editable": true,
    "scrolled": true
   },
   "outputs": [],
   "source": [
    "UBM.zone_gdb(indata, z_Name, Zonal_HUCS, Zone_field,wildcard='*2014*')"
   ]
  },
  {
   "cell_type": "code",
   "execution_count": null,
   "metadata": {
    "collapsed": false,
    "deletable": true,
    "editable": true
   },
   "outputs": [],
   "source": [
    "indata = \"H:/GIS/BCM/AvailableWater.gdb\"\n",
    "UBM.zone_gdb(indata, z_Name, Zonal_HUCS, Zone_field)"
   ]
  },
  {
   "cell_type": "code",
   "execution_count": null,
   "metadata": {
    "collapsed": false,
    "deletable": true,
    "editable": true
   },
   "outputs": [],
   "source": [
    "indata = \"H:/GIS/BCM/SIR2010_5193_BCM.gdb\"\n",
    "UBM.zone_gdb(indata, z_Name, Zonal_HUCS, Zone_field)\n",
    "\n",
    "indata = \"H:/GIS/BCM/Soils.gdb\"\n",
    "UBM.zone_gdb(indata, z_Name, Zonal_HUCS, Zone_field)"
   ]
  },
  {
   "cell_type": "code",
   "execution_count": null,
   "metadata": {
    "collapsed": false,
    "deletable": true,
    "editable": true
   },
   "outputs": [],
   "source": [
    "indata = 'H:/GIS/BCM/MODIS16.gdb'\n",
    "UBM.zone_gdb(indata, z_Name, Zonal_HUCS, Zone_field)"
   ]
  },
  {
   "cell_type": "code",
   "execution_count": null,
   "metadata": {
    "collapsed": true,
    "deletable": true,
    "editable": true
   },
   "outputs": [],
   "source": [
    "indata = 'H:/GIS/BCM/SNODAS.gdb'\n",
    "UBM.zone_gdb(indata, z_Name, Zonal_HUCS, Zone_field)"
   ]
  },
  {
   "cell_type": "markdown",
   "metadata": {
    "deletable": true,
    "editable": true
   },
   "source": [
    "# Store Zonal Data in Database"
   ]
  },
  {
   "cell_type": "code",
   "execution_count": null,
   "metadata": {
    "collapsed": true,
    "deletable": true,
    "editable": true
   },
   "outputs": [],
   "source": [
    "                 \n",
    "def calcvols(tablegdb, searchstr, source, variable, stat='MEAN', mult = 1.0):\n",
    "    \"\"\"Calculates volume of water per zone in ac-ft. Uses output from zone_gdb. Created pandas DataFrame.\n",
    "\n",
    "    :param tablegdb: Path to file geodatabase in which tables are stored\n",
    "    :param searchstr: Search wildcard to select a subset of input tables; use astrix (*) for any string after search string\n",
    "    :param source: Designate name of data source field\n",
    "    :param variable: Designate name of data variable; ex. 'runoff'\n",
    "    :param stat: Type of statistic to bring into calculations; default is 'MEAN'\n",
    "    :param mult: Multiplier to adjust values of input\n",
    "    :return: pandas DataFrame of zonal values in ac-ft\n",
    "    \"\"\"\n",
    "    arcpy.env.workspace = tablegdb\n",
    "    tables = list(arcpy.ListTables(searchstr))\n",
    "    print(tables)\n",
    "    fields = arcpy.ListFields(tables[0])\n",
    "    # for table in prism_tables:\n",
    "    fieldlist = [field.name for field in fields]\n",
    "\n",
    "    f = {}\n",
    "    for table in tables:\n",
    "        f[table] = pd.DataFrame(arcpy.da.TableToNumPyArray(table ,fieldlist))\n",
    "    g = pd.concat(f)\n",
    "    g.reset_index(inplace=True)\n",
    "\n",
    "    g['YearMonth'] = g['level_0'].apply(lambda x: str(x)[-9:-3] if str(x)[-3:] == 'SUM' else str(x)[-6:] ,1)\n",
    "    g['HUC_10'] = g['HUC_12'].apply(lambda x: str(x)[:-2] ,1)\n",
    "    g['HUC_08'] = g['HUC_12'].apply(lambda x: str(x)[:-4] ,1)\n",
    "    g.drop(['level_0', 'level_1', 'OBJECTID', 'ZONE_CODE'], axis=1, inplace=True)\n",
    "    g['SOURCE'] = source\n",
    "    g['variable'] = variable\n",
    "    g['volume_m_cubed'] = g[stat] * g['AREA'] * mult\n",
    "    g['volume_acft'] = g['volume_m_cubed'] * 0.000810714\n",
    "    return g"
   ]
  },
  {
   "cell_type": "code",
   "execution_count": 10,
   "metadata": {
    "collapsed": false,
    "deletable": true,
    "editable": true
   },
   "outputs": [],
   "source": [
    "#tabplace = 'U:/GWP/Groundwater/Projects/BCM/Data/Zonal.gdb'\n",
    "tabplace = \"H:/GIS/BCM/Zonal.gdb\"\n",
    "outfold = 'M:/PROJECTS/UBM/'\n",
    "\n",
    "tabname = 'zonebudgets'\n",
    "arcpy.env.workspace = tabplace"
   ]
  },
  {
   "cell_type": "markdown",
   "metadata": {
    "deletable": true,
    "editable": true
   },
   "source": [
    "## UBM"
   ]
  },
  {
   "cell_type": "code",
   "execution_count": null,
   "metadata": {
    "collapsed": false,
    "deletable": true,
    "editable": true
   },
   "outputs": [],
   "source": [
    "g = UBM.calcvols(tabplace ,'z_run*','UBM','runoff')\n",
    "g.to_sql(con=engine, name=tabname, if_exists='append', index=False)"
   ]
  },
  {
   "cell_type": "code",
   "execution_count": null,
   "metadata": {
    "collapsed": false,
    "deletable": true,
    "editable": true
   },
   "outputs": [],
   "source": [
    "g = UBM.calcvols(tabplace ,'z_rec*','UBM','recharge')\n",
    "g.to_sql(con=engine, name=tabname, if_exists='append', index=False)"
   ]
  },
  {
   "cell_type": "code",
   "execution_count": 13,
   "metadata": {
    "collapsed": true
   },
   "outputs": [],
   "source": [
    "g = UBM.calcvols(tabplace ,'z_aet*','UBM','AET')\n",
    "g.to_sql(con=engine, name=tabname, if_exists='append', index=False)"
   ]
  },
  {
   "cell_type": "code",
   "execution_count": 14,
   "metadata": {
    "collapsed": true
   },
   "outputs": [],
   "source": [
    "g = UBM.calcvols(tabplace ,'z_asw*','UBM','available soil water')\n",
    "g.to_sql(con=engine, name=tabname, if_exists='append', index=False)"
   ]
  },
  {
   "cell_type": "markdown",
   "metadata": {
    "deletable": true,
    "editable": true
   },
   "source": [
    "## PRISM"
   ]
  },
  {
   "cell_type": "code",
   "execution_count": null,
   "metadata": {
    "collapsed": true,
    "deletable": true,
    "editable": true
   },
   "outputs": [],
   "source": [
    "g = UBM.calcvols(tabplace, 'z_a*','PRISM','precipitation')\n",
    "g.to_sql(con=engine, name=tabname, if_exists='append', index=False)"
   ]
  },
  {
   "cell_type": "markdown",
   "metadata": {
    "deletable": true,
    "editable": true
   },
   "source": [
    "## MODIS16"
   ]
  },
  {
   "cell_type": "code",
   "execution_count": null,
   "metadata": {
    "collapsed": false,
    "deletable": true,
    "editable": true
   },
   "outputs": [],
   "source": [
    "g = UBM.calcvols(tabplace,'z_PET*','MODIS16','PET')\n",
    "g.to_sql(con=engine, name = tabname, if_exists='append', index=False)"
   ]
  },
  {
   "cell_type": "code",
   "execution_count": null,
   "metadata": {
    "collapsed": true,
    "deletable": true,
    "editable": true
   },
   "outputs": [],
   "source": [
    "g = UBM.calcvols(tabplace,'z_ET*','MODIS16','evapotranspiration')\n",
    "g.to_sql(con=engine, name = tabname, if_exists='append', index=False)"
   ]
  },
  {
   "cell_type": "markdown",
   "metadata": {
    "deletable": true,
    "editable": true
   },
   "source": [
    "## BCM"
   ]
  },
  {
   "cell_type": "code",
   "execution_count": null,
   "metadata": {
    "collapsed": false,
    "deletable": true,
    "editable": true
   },
   "outputs": [],
   "source": [
    "g = UBM.calcvols(tabplace,'z_sir20105193_rch*','BCM','recharge', mult=0.000001)\n",
    "g.to_sql(con=engine, name = tabname, if_exists='append', index=False)"
   ]
  },
  {
   "cell_type": "code",
   "execution_count": null,
   "metadata": {
    "collapsed": false,
    "deletable": true,
    "editable": true
   },
   "outputs": [],
   "source": [
    "g = UBM.calcvols(tabplace,'z_sir20105193_run*','BCM','runoff', mult=0.000001)\n",
    "g.to_sql(con=engine, name = tabname, if_exists='append', index=False)"
   ]
  },
  {
   "cell_type": "code",
   "execution_count": null,
   "metadata": {
    "collapsed": false,
    "deletable": true,
    "editable": true
   },
   "outputs": [],
   "source": [
    "g = UBM.calcvols(tabplace,'z_sir20105193_bc*','BCM','conductivity', mult=0.000001)\n",
    "g.to_sql(con= engine, name = tabname, if_exists='append', index=False)"
   ]
  },
  {
   "cell_type": "markdown",
   "metadata": {
    "deletable": true,
    "editable": true
   },
   "source": [
    "## Soil Properties"
   ]
  },
  {
   "cell_type": "code",
   "execution_count": 12,
   "metadata": {
    "collapsed": false,
    "deletable": true,
    "editable": true
   },
   "outputs": [],
   "source": [
    "g = UBM.calcvols(tabplace,'z_porosity*','Surrgo','porosity')\n",
    "g.to_sql(con=engine, name = tabname, if_exists='append', index=False)\n",
    "\n",
    "g = UBM.calcvols(tabplace,'z_fieldC*','Surrgo','field capacity')\n",
    "g.to_sql(con=engine, name = tabname, if_exists='append', index=False)\n",
    "\n",
    "g = UBM.calcvols(tabplace,'z_Wilt*','Surrgo','wilting point')\n",
    "g.to_sql(con=engine, name = tabname, if_exists='append', index=False)\n",
    "\n",
    "g = UBM.calcvols(tabplace,'z_Tsoi*','Surrgo','total soil moisture')\n",
    "g.to_sql(con=engine, name = tabname, if_exists='append', index=False)\n",
    "\n",
    "g = UBM.calcvols(tabplace,'z_Geo*','State Geologic Maps','conductivity')\n",
    "g.to_sql(con=engine, name = tabname, if_exists='append', index=False)"
   ]
  },
  {
   "cell_type": "markdown",
   "metadata": {
    "deletable": true,
    "editable": true
   },
   "source": [
    "## SNODAS"
   ]
  },
  {
   "cell_type": "code",
   "execution_count": null,
   "metadata": {
    "collapsed": false,
    "deletable": true,
    "editable": true
   },
   "outputs": [],
   "source": [
    "g = UBM.calcvols(\"H:/GIS/BCM/Zonal.gdb\",'*_SNML*','SNODAS','snowmelt')\n",
    "g.to_sql(con=engine, name = tabname, if_exists='append', index=False)"
   ]
  },
  {
   "cell_type": "code",
   "execution_count": null,
   "metadata": {
    "collapsed": true,
    "deletable": true,
    "editable": true
   },
   "outputs": [],
   "source": [
    "g = UBM.calcvols(\"H:/GIS/BCM/Zonal.gdb\",'*_RAIN*','SNODAS','precip as rain')\n",
    "g.to_sql(con=engine, name = tabname, if_exists='append', index=False)"
   ]
  },
  {
   "cell_type": "code",
   "execution_count": null,
   "metadata": {
    "collapsed": false
   },
   "outputs": [],
   "source": [
    "g = UBM.calcvols(\"H:/GIS/BCM/Zonal.gdb\",'z_AVWT*','SNODAS','snow and rain')\n",
    "g.to_sql(con=engine, name = tabname, if_exists='append', index=False)"
   ]
  },
  {
   "cell_type": "code",
   "execution_count": null,
   "metadata": {
    "collapsed": false,
    "deletable": true,
    "editable": true
   },
   "outputs": [],
   "source": [
    "g = UBM.calcvols(\"H:/GIS/BCM/Zonal.gdb\",'*_SNOW*','SNODAS','precip as snow')\n",
    "g.to_sql(con=engine, name = tabname, if_exists='append', index=False)\n",
    "\n",
    "g = UBM.calcvols(\"H:/GIS/BCM/Zonal.gdb\",'*_TPPT*','SNODAS','total precip')\n",
    "g.to_sql(con=engine, name = tabname, if_exists='append', index=False)\n",
    "\n",
    "g = UBM.calcvols(\"H:/GIS/BCM/Zonal.gdb\",'*_TSSB*','SNODAS','total snow sublimation')\n",
    "g.to_sql(con=engine, name = tabname, if_exists='append', index=False)\n",
    "\n",
    "g = UBM.calcvols(\"H:/GIS/BCM/Zonal.gdb\",'*_SWEQ*','SNODAS','snow water equivalent')\n",
    "g.to_sql(con=engine, name = tabname, if_exists='append', index=False)"
   ]
  },
  {
   "cell_type": "markdown",
   "metadata": {
    "deletable": true,
    "editable": true
   },
   "source": [
    "# Query Database and Analyze Data"
   ]
  },
  {
   "cell_type": "markdown",
   "metadata": {
    "deletable": true,
    "editable": true
   },
   "source": [
    "## Compare UBM with BCM"
   ]
  },
  {
   "cell_type": "code",
   "execution_count": null,
   "metadata": {
    "collapsed": false,
    "deletable": true,
    "editable": true
   },
   "outputs": [],
   "source": [
    "variable = 'MEAN'\n",
    "quer = \"SELECT HUC_12, {:} FROM ubm.{:} WHERE SOURCE = 'BCM' AND variable IN('runoff')\"\n",
    "BCMrun = pd.read_sql_query(sql=quer.format(variable,tabname), con=engine)\n",
    "BCMrun.rename(columns={variable:'BCM_run_acft'}, inplace=True)\n",
    "\n",
    "quer = \"SELECT HUC_12, {:} FROM ubm.{:} WHERE SOURCE = 'BCM' AND variable IN('recharge')\"\n",
    "BCMrec = pd.read_sql_query(sql=quer.format(variable, tabname), con=engine)\n",
    "BCMrec.rename(columns={variable:'BCM_rec_acft'}, inplace=True)\n",
    "\n",
    "BCMrun.set_index(['HUC_12'], inplace=True)\n",
    "BCMrec.set_index(['HUC_12'], inplace=True)\n",
    "\n",
    "bcm = pd.concat([BCMrun,BCMrec],axis=1)"
   ]
  },
  {
   "cell_type": "code",
   "execution_count": null,
   "metadata": {
    "collapsed": false,
    "deletable": true,
    "editable": true
   },
   "outputs": [],
   "source": [
    "quer = \"SELECT HUC_12,YearMonth,{:} FROM ubm.{:} WHERE SOURCE = 'ubm' AND variable IN('runoff')\"\n",
    "ubm = pd.read_sql_query(sql=quer.format(variable, tabname), con=engine)\n",
    "\n",
    "ubm['dt'] = pd.to_datetime(ubm.YearMonth,errors='coerce',format='%Y%m')\n",
    "ubm['year'] = ubm['dt'].apply(lambda x: x.year,1)\n",
    "ubmyrly = ubm.groupby(['HUC_12','year']).sum()\n",
    "ubmyrly.reset_index(inplace=True)\n",
    "ubmavgrun = ubmyrly.groupby('HUC_12').mean()\n",
    "ubmavgrun.drop(['year'], axis=1, inplace=True)\n",
    "ubmavgrun.rename(columns={variable:'ubm_run_acft'},inplace=True)\n",
    "\n",
    "quer = \"SELECT HUC_12,YearMonth,{:} FROM ubm.{:} WHERE SOURCE = 'ubm' AND variable IN('recharge')\"\n",
    "ubm = pd.read_sql_query(sql=quer.format(variable, tabname),con=engine)\n",
    "\n",
    "ubm['dt'] = pd.to_datetime(ubm.YearMonth,errors='coerce',format='%Y%m')\n",
    "ubm['year'] = ubm['dt'].apply(lambda x: x.year,1)\n",
    "ubmyrly = ubm.groupby(['HUC_12','year']).sum()\n",
    "ubmyrly.reset_index(inplace=True)\n",
    "ubmavgrec = ubmyrly.groupby('HUC_12').mean()\n",
    "ubmavgrec.drop(['year'], axis=1, inplace=True)\n",
    "ubmavgrec.rename(columns={variable:'ubm_rec_acft'},inplace=True)\n",
    "\n",
    "ubm = pd.concat([ubmavgrun,ubmavgrec],axis=1)"
   ]
  },
  {
   "cell_type": "code",
   "execution_count": null,
   "metadata": {
    "collapsed": false,
    "deletable": true,
    "editable": true
   },
   "outputs": [],
   "source": [
    "BM = pd.concat([bcm,ubm],axis=1)"
   ]
  },
  {
   "cell_type": "code",
   "execution_count": null,
   "metadata": {
    "collapsed": false,
    "deletable": true,
    "editable": true
   },
   "outputs": [],
   "source": [
    "len(BM)"
   ]
  },
  {
   "cell_type": "code",
   "execution_count": null,
   "metadata": {
    "collapsed": false,
    "deletable": true,
    "editable": true
   },
   "outputs": [],
   "source": [
    "BM.dropna(inplace=True)"
   ]
  },
  {
   "cell_type": "code",
   "execution_count": null,
   "metadata": {
    "collapsed": true,
    "deletable": true,
    "editable": true
   },
   "outputs": [],
   "source": [
    "huclist = [160102030101,160102030102,160102030103,160102030104,160102030105,160102030201,160102030202,160102030203,\n",
    "           160102030204,160102030205,160102030206,160102030207,160102030208,160102030209,160102030301,160102030302,\n",
    "           160102030303,160102030304,160102030305,160102030306,160102030307,160102030401,160201020501,160201020502,\n",
    "           160201020503,160201020504,160201020505,160201020506,160201020601,160201020602,160201020603,160201020604,\n",
    "           160201020701,160201020702,160201020703,160202010101,160202010102,160202010103,160202010104,160202010105,\n",
    "           160202010106,160202010107,160202010108,160202010109,160202010201,160202010202,160202010203,160202010301,\n",
    "           160202010302,160202010401,160202010402,160202010403,160202010406,160202010500,160202010701,160202010702,\n",
    "           160202010801,160202010802,160202010803,160202010804,160202011001,160202011002,160202020101,160202020102,\n",
    "           160202020103,160202020104,160202020105,160202020106,160202020107,160202020202,160202020203,160202020204,\n",
    "           160202020205,160202020301,160202020302,160202020303,160202020304,160202020305,160202020306,160202020307,\n",
    "           160202020401,160202020402,160202020403,160202020404,160202020405,160202020501,160202020503,160202020601,\n",
    "           160202030502,160202030504,160202030505,160202040101,160202040102,160202040103,160202040104,160202040106,\n",
    "           160202040107,160202040201,160202040202,160202040204,160202040205,160202040206,160202040301,160202040302,\n",
    "           160202040303,160202040304,160202040306,160202040307,160202040404,160202040405,160300030706,160300050101,\n",
    "           160300050102,160300050103,160300050104,160300050201,160300050202,160300050203,160300050204,160300050205,\n",
    "           160300050206,160300050301,160300050302,160300050303,160300050304,160300050401,160300050402,160300050403,\n",
    "           160300050404,160300050405,160300050406,160300050501,160300050503,160300050505,160300050506,160300050507,\n",
    "           160300050801,160300051201,160300051202,160300051301,160300051302,160300051303,160300051304,160300051305,\n",
    "           160300051307,160300051401,160300051402,160300051403,160300051404,160300051405,160300051406,160300051407,\n",
    "           160300051408,160300051409,160300051411,160300051502,160300051503,160300051504,160300051505,160300051507\n",
    "          ]"
   ]
  },
  {
   "cell_type": "code",
   "execution_count": null,
   "metadata": {
    "collapsed": true
   },
   "outputs": [],
   "source": [
    "huclist =[160201020602,160201020701,160202030504,160201020505,160201020506,160202030505,\n",
    "          160201020603,160201020703,160201020604,160202010108,160202010105,160202010701,\n",
    "          160202010102,160202010500,160202010404,160202010203,160202010804,160202010201,\n",
    "          160202010401,160202011001,160202010202,160202010104,160202010803,160202010107,\n",
    "          160202010301,160202010403,160202010602,160202010601,160202010106,160202010406,\n",
    "          160202010405,160202010702,160202011002,160202010204,160202010109,160202010302,\n",
    "          160202010402,160202010900,160202040303,160202040203,160202040102,160202040305,\n",
    "          160202040401,160202040204,160202040402,160202040101,160202040104,160202040202,\n",
    "          160202040306,160202040105,160202040205,160202040103,160202040403,160202040107,\n",
    "          160202040106,160202040404,160202040307,160202040405,160202040206,160202020105,\n",
    "          160202020104,160202020306,160202020305,160202020502,160202020602,160202020501,\n",
    "          160202020405,160202020307,160202020403,160202020504,160202020404,160202020204,\n",
    "          160202020205,160202020601,160202020503,160202020203,160202020603,160202020604,\n",
    "          160202020107,160300050501,160300050604,160300050601,160300050608,160300050605,\n",
    "          160300050607,160300050602,160300050502,160300050701,160300050503,160300050702,\n",
    "          160300050706,160300050504,160300050603,160300050707,160300050505,160300050703,\n",
    "          160300050705,160300050606,160300050507,160300050301,160300051001,160300051003,\n",
    "          160300050704,160300051002,160300050709,160300050710,160300050302,160300050506,\n",
    "          160300050303,160300051004,160300050901,160300050508,160300050902,160300050304,\n",
    "          160300050509,160300050905,160300050708,160300051202,160300050205,160300051005,\n",
    "          160300050903,160300050801,160300050405,160300050906,160300050804,160300050406,\n",
    "          160300050802,160300050904,160300051101,160300050203,160300051203,160300050805,\n",
    "          160300051102,160300050206,160300051201,160300050803,160300051006,160300051103,\n",
    "          160300050404,160300050403,160300051104,160300051505,160300051702,160300051701,\n",
    "          160300051204,160300051504,160300051704,160300051703,160300051205,160300051603,\n",
    "          160300051601,160300050401,160300051506,160300051705,160300051503,160300051602,\n",
    "          160300051508,160300051509,160300051206,160300051105,160300051507,160300051604,\n",
    "          160300051502,160300051409,160300051706,160300051707,160300051407,160300051708,\n",
    "          160300051709,160300051410,160300051501,160300051408,160300051411,160300051406,\n",
    "          160300051405,160300051404,160300051403,160300051307,160300051401,160300051306,\n",
    "          160300051305,160300051304,160300051303,160203030405,160203030102,160203030104,\n",
    "          160203030208,160203030503,160203030204,160203030206,160203030303,160203030210,\n",
    "          160203030201,160203030103,160203030105,160203030501,160203030209,160203030205,\n",
    "          160203030502,160203030301,160203030207,160203030202,160203030304,160203030402,\n",
    "          160203030211,160203030203,160203030401,160203030404,160203030302,160203030101,\n",
    "          160203030403,160203011202,160203010703,160203010309,160203010504,160203010402,\n",
    "          160203011504,160203010603,160203011503,160203010403,160203011402,160203010306,\n",
    "          160203011501,160203011002,160203010901,160203010605,160203010801,160203010601,\n",
    "          160203010304,160203010503,160203011004,160203011203,160203011109,160203011106,\n",
    "          160203010302,160203010902,160203010904,160203010401,160203010602,160203010308,\n",
    "          160203010301,160203010606,160203011103,160203011101,160203011107,160203011505,\n",
    "          160203010105,160203011102,160203010608,160203011303,160203010701,160203010104,\n",
    "          160203011304,160203011104,160203010502,160203011001,160203010103,160203010903,\n",
    "          160203010102,160203010101,160203010702,160203011403,160203010303,160203010305,\n",
    "          160203010607,160203011105,160203010307,160203011502,160203010604,160203010501,\n",
    "          160203011201,160203011301,160203010804,160203011003,160203011108,160203010404,\n",
    "          160203010704,160203010907,160203010310,160203011302,160203010905,160203011204,\n",
    "          160203010805,160203010906,160203011110,160203010806,160203020202,160203020206,\n",
    "          160203020204,160203020102,160203020302,160203020403,160203020105,160203020104,\n",
    "          160203020103,160203020201,160203020205,160203020207,160203020401,160203020404,\n",
    "          160203020203,160203020101,160203020303,160203020301,160203020402,160203020304,\n",
    "          160102030404,160102030401,160102030305,160102030402,160102030307,160102030405,\n",
    "          160102030306,160102030302,160102030204,160102030209,160102030104,160102030308,\n",
    "          160102030208,160102030105,160102030403,160102030207,160300090204,160300080201,\n",
    "          160300090107,160300070507,160300090500,160300090205,160300080303,160300080204,\n",
    "          160300080203,160300080301,160300090401,160300080202,160300090303,160300070705,\n",
    "          160300090301,160300090302,160300090203,160300070704,160300090206,160300070509,\n",
    "          160300070703,160300070702,160300070504,160300090202,160300070506,160300090201,\n",
    "          160300070701,160300070508,160300090108,160300070609,160300070610,160300070503,\n",
    "          160300070505,160300090106,160300090105,160300090104,160300070605,160300070608,\n",
    "          160300070607,160300070602,160300070102,160300090103,160300070606,160300070601,\n",
    "          160300070310,160300070603,160300090101,160300090102,160300070604,160300070105,\n",
    "          160300070208,160300070104,160300070406,160300070309,160300070308,160300070302,\n",
    "          160300070301,160300070106,160300070211,160300070405,160300070207,160300060703,\n",
    "          160300060705,160300070404,160300060701,160300070403,160300070307,160300070206,\n",
    "          160300070402,160300060707,160300070306,160300070209,160300070210,160300070304,\n",
    "          160300070305,160300070303,160300070401,160300060702,160300060706,160300060801,\n",
    "          160300060704,160300060104,160300060302,160300060606,160300060603,160300060301,\n",
    "          160300060106,160300060802,160300060303,160300060605,160300060803,160300060507,\n",
    "          160300060310,160300060604,160300060504,160300060506,160300060110,160300060602,\n",
    "          160300061408,160300060505,160300060205,160300060503,160300060203,160300060601,\n",
    "          160300061404,160300060309,160300060308,160300080306,160300090403,160300080103,\n",
    "          160300090406,160300090407,160300090408,160300080406,160300090409,160300090405,\n",
    "          160300080502,160300080501,160300090404,160300080405,160300090306,160300080404,\n",
    "          160300080403,160300080305,160300080402,160300080401,160300080304,160300090305,\n",
    "          160300080302,160300090402,160300080102,160300090304,160300060101,160300060201,\n",
    "          160300060903,150100100101,160300060904,150100100102,160300061206,160300060902,\n",
    "          150100100202,160300061303,150100100205,160300061203,150100100105,150100100207,\n",
    "          150100100109,160300061405,150100130402,160300061207,160300061402,160300060502,\n",
    "          160300060307,160300061003,150100100208,160300060406,160300061101,160300061004,\n",
    "          160300060204,150100100104,160300061208,150100100206,150100100503,160300061301,\n",
    "          150100100204,160300060407,160300061406,160300061005,150100100108,160300061407,\n",
    "          160300060901,150100130302,160300061002,160300061307,160300061102,160300061201,\n",
    "          150100100203,160300061006,160300061205,160300061204,160300061103,150100130107,\n",
    "          150100130108,160300060905,160300061202,160300061001,160300060405,160203040309,\n",
    "          160203040401,160203040206,160203040307,160203040405,160203040305,160203040301,\n",
    "          160203040103,160203040204,160203040302,160203040308,160203040508,160203040404,\n",
    "          160203040303,160203040306,160203040403,160203040101,160203040202,160203040502,\n",
    "          160203040105,160203040505,160203040501,160203040310,160203040207,160203040203,\n",
    "          160203040504,160203040402,160203040201,160203040507,160203040102,160203040104,\n",
    "          160203040205,160203040304,160203040503,160203040506,160102040501,160102040404,\n",
    "          160102040303,160102040305,160102040301,160102040402,160102040401,160102040306,\n",
    "          160102040302,160102040304,160102040503,160102040403,160102040308,160102040307,\n",
    "          160102040504,160102020704,160102020506,160102020601,160102020502,160102020507,\n",
    "          160102020706,160102020702,160102020701,160102020604,160102020508,160102020603,\n",
    "          160102020703,160102020504,160102020602,160102020503,160102020705,160203081407,\n",
    "          160203081406,160203081405,160203081402,160203081408,160203080210,160203081403,\n",
    "          160203080209,160203081003,160203081404,160203080205,160203081409,160203081002,\n",
    "          160203081005,160203080301,160203080208,160203081004,160203081502,160203080304,\n",
    "          160203081006,160203080303,160203081501,160203080302,160203081503,160203080305,\n",
    "          160203080904,160203081007,160203080901,160203080903,160203080902,160203081504,\n",
    "          160203081008,160203081705,160203081703,160203081505,160203081101,160203081506,\n",
    "          160203081704,160203081507,160203080309,160203080905,160203080306,160203081508,\n",
    "          160203080801,160203081102,160203081706,160203080803,160203080310,160203081200,\n",
    "          160203080802,160203081702,160203081103,160203081707,160203080307,160203081602,\n",
    "          160203080308,160203081801,160203081604,160203080106,160203081605,160203081701,\n",
    "          160203080701,160203081603,160203081802,160203080105,160203080104,160203081104,\n",
    "          160203080702,160203080102,160203081601,160203081303,160203080103,160203081803,\n",
    "          160203080605,160203080703,160203081304,160203081302,160203080602,160203080101,\n",
    "          160203081804,160203080704,160203080604,160203080503,160203080502,160203081301,\n",
    "          160203080603,160203080601,160203080501,160203080401,160203080403,160203080402,\n",
    "          160203050502,160203050202,160203050501,160203050401,160203050102,160203050303,\n",
    "          160203050505,160203050403,160203050201,160203050402,160203050504,160203050203,\n",
    "          160203050304,160203050301,160203050101,160203050103,160203050302,160203050104,\n",
    "          160203050503,160203050404,160203100100,160203090504,160203090502,160203090805,\n",
    "          160203090308,160203090601,160203090503,160203090810,160203090203,160203090307,\n",
    "          160203090306,160203090406,160203090303,160203090808,160203090310,160203090301,\n",
    "          160203090305,160203090403,160203090607,160203090302,160203090704,160203090507,\n",
    "          160203090804,160203090407,160203090703,160203090506,160203090604,160203090809,\n",
    "          160203090701,160203090807,160203090404,160203090402,160203090205,160203090705,\n",
    "          160203090505,160203090602,160203090806,160203090702,160203090405,160203090606,\n",
    "          160203090802,160203090603,160203090801,160203090811,160203090803,160203090309,\n",
    "          160203090501,160203090605,160203090204,160203090304]\n",
    "huclist = set(huclist) - set([160202010900, 160300090500])"
   ]
  },
  {
   "cell_type": "code",
   "execution_count": null,
   "metadata": {
    "collapsed": false,
    "deletable": true,
    "editable": true
   },
   "outputs": [],
   "source": [
    "BM = BM[pd.to_numeric(BM.index).isin(huclist)]"
   ]
  },
  {
   "cell_type": "code",
   "execution_count": null,
   "metadata": {
    "collapsed": false,
    "deletable": true,
    "editable": true
   },
   "outputs": [],
   "source": [
    "import statsmodels.api as sm\n",
    "\n",
    "x = BM['ubm_run_acft'].values\n",
    "Y = BM['BCM_run_acft'].values\n",
    "\n",
    "X = sm.add_constant(x)\n",
    "model = sm.OLS(Y,X)\n",
    "est = model.fit()\n",
    "const = est.params[0]\n",
    "slope = est.params[1]\n",
    "\n",
    "SIZE = 18\n",
    "plt.rc('font', size=SIZE) \n",
    "\n",
    "\n",
    "plt.plot(x, est.predict(X), c='g', label='simple linear regression m = {:.2f} b = {:.0f}, r^2 = {:.2f}'.format(slope, const,est.rsquared))\n",
    "plt.scatter(x,Y, label='model runoff comparison')\n",
    "x2 = range(int(np.min(x)),int(np.max(x)))\n",
    "plt.plot(x2,x2,'--', label='m=1')\n",
    "plt.legend(loc='upper left')\n",
    "plt.xlabel('UBM (acft/yr)')\n",
    "plt.ylabel('BCM (acft/yr)')\n",
    "plt.title('Runoff')\n",
    "#plt.xlim(-100,10000)\n",
    "#plt.ylim(-100,8000)\n",
    "plt.grid()\n",
    "plt.savefig('U:/GWP/Groundwater/Projects/BCM/Graphs/'+'runoff_bcm_vs_ubm.png')"
   ]
  },
  {
   "cell_type": "code",
   "execution_count": null,
   "metadata": {
    "collapsed": false,
    "deletable": true,
    "editable": true
   },
   "outputs": [],
   "source": [
    "import statsmodels.api as sm\n",
    "\n",
    "x = BM['ubm_rec_acft'].values\n",
    "Y = BM['BCM_rec_acft'].values\n",
    "\n",
    "X = sm.add_constant(x)\n",
    "model = sm.OLS(Y,X)\n",
    "est = model.fit()\n",
    "const = est.params[0]\n",
    "slope = est.params[1]\n",
    "\n",
    "SIZE = 18\n",
    "plt.rc('font', size=SIZE) \n",
    "\n",
    "plt.plot(x, est.predict(X), c='g', label='simple linear regression m = {:.2f} b = {:.0f}, r^2 = {:.2f}'.format(slope, const,est.rsquared))\n",
    "plt.scatter(x,Y, label='model recharge comparison')\n",
    "x2 = range(int(np.min(x)),int(np.max(x)))\n",
    "plt.plot(x2,x2,'--', label='m=1')\n",
    "\n",
    "plt.legend(loc='upper left')\n",
    "plt.xlabel('UBM (acft/yr)')\n",
    "plt.ylabel('BCM (acft/yr)')\n",
    "plt.title('Recharge')\n",
    "#plt.xlim(-100,10000)\n",
    "#plt.ylim(-100,8000)\n",
    "plt.grid()\n",
    "plt.savefig('U:/GWP/Groundwater/Projects/BCM/Graphs/'+'recharge_bcm_vs_ubm.png')"
   ]
  },
  {
   "cell_type": "code",
   "execution_count": null,
   "metadata": {
    "collapsed": false,
    "deletable": true,
    "editable": true
   },
   "outputs": [],
   "source": [
    "BM['ubm_comb_acft'] = BM['ubm_run_acft'] + BM['ubm_rec_acft']\n",
    "BM['BCM_comb_acft'] = BM['BCM_run_acft'] + BM['BCM_rec_acft']\n",
    "\n",
    "x = BM['ubm_comb_acft']\n",
    "Y = BM['BCM_comb_acft']\n",
    "\n",
    "X = sm.add_constant(x)\n",
    "model = sm.OLS(Y,X)\n",
    "est = model.fit()\n",
    "const = est.params[0]\n",
    "slope = est.params[1]\n",
    "\n",
    "SIZE = 18\n",
    "plt.rc('font', size=SIZE)   \n",
    "#matplotlib.rc('pdf', fonttype=42)\n",
    "plt.plot(x, est.predict(X), c='g', label='simple linear regression m = {:.2f} b = {:.0f}, r^2 = {:.2f}'.format(slope, const,est.rsquared))\n",
    "plt.scatter(x,Y, label='model runoff comparison')\n",
    "x2 = range(int(np.min(x)),int(np.max(x)))\n",
    "plt.plot(x2,x2,'--', label='m=1')\n",
    "plt.legend(loc='upper left')\n",
    "plt.xlabel('UBM (acft/yr)')\n",
    "plt.ylabel('BCM (acft/yr)')\n",
    "#plt.xlim(-100,12000)\n",
    "#plt.ylim(-100,14000)\n",
    "plt.title('Combined Runoff and Recharge')\n",
    "plt.grid()\n",
    "plt.savefig('U:/GWP/Groundwater/Projects/BCM/Graphs/'+'combined_bcm_vs_ubm.png')"
   ]
  },
  {
   "cell_type": "code",
   "execution_count": null,
   "metadata": {
    "collapsed": true,
    "deletable": true,
    "editable": true
   },
   "outputs": [],
   "source": [
    "BM.to_clipboard()"
   ]
  },
  {
   "cell_type": "code",
   "execution_count": null,
   "metadata": {
    "collapsed": true,
    "deletable": true,
    "editable": true
   },
   "outputs": [],
   "source": [
    "10133980\n",
    "\n",
    "10217000\n",
    "\n",
    "10172870\n",
    "\n",
    "10242000\n",
    "\n",
    "10234500\n",
    "\n",
    "10113500\n",
    "\n",
    "10011500\n",
    "\n",
    "10155000\n",
    "\n",
    "10172200"
   ]
  },
  {
   "cell_type": "code",
   "execution_count": null,
   "metadata": {
    "collapsed": false,
    "deletable": true,
    "editable": true
   },
   "outputs": [],
   "source": [
    "nw10128500 = wa.nwis(\"dv\",'10128500','sites',startDT='2004-01-01',endDT='2015-01-01')"
   ]
  },
  {
   "cell_type": "code",
   "execution_count": null,
   "metadata": {
    "collapsed": false,
    "deletable": true,
    "editable": true
   },
   "outputs": [],
   "source": [
    "nw = wa.nwis(\"dv\",'10133980','sites',startDT='2004-01-01',endDT='2015-01-01')"
   ]
  },
  {
   "cell_type": "code",
   "execution_count": null,
   "metadata": {
    "collapsed": false,
    "deletable": true,
    "editable": true
   },
   "outputs": [],
   "source": [
    "nw10128500.data.value.plot()\n",
    "plt.yscale('log')"
   ]
  },
  {
   "cell_type": "code",
   "execution_count": null,
   "metadata": {
    "collapsed": false,
    "deletable": true,
    "editable": true
   },
   "outputs": [],
   "source": [
    "#nw.data.index = nw.data.index.to_datetime()\n",
    "\n",
    "#nw.data.value.plot()\n",
    "\n",
    "recess = nw.data[nw.data['value'].diff(2) < 0.0].copy()\n",
    "\n",
    "recess = recess.resample('1D').mean()\n",
    "recess.value.plot()\n",
    "plt.legend()"
   ]
  },
  {
   "cell_type": "code",
   "execution_count": null,
   "metadata": {
    "collapsed": false,
    "deletable": true,
    "editable": true
   },
   "outputs": [],
   "source": [
    "recess.groupby(recess.index.month).mean().plot()"
   ]
  },
  {
   "cell_type": "code",
   "execution_count": null,
   "metadata": {
    "collapsed": false,
    "deletable": true,
    "editable": true
   },
   "outputs": [],
   "source": [
    "measflow = nw.data\n",
    "measflow['afm'] = measflow.value * 60.3307\n",
    "monmeasflow = measflow['afm'].groupby(pd.TimeGrouper('M')).mean().plot()\n",
    "#monmeasflow['afm']\n",
    "#rungrp['volume_acft'].plot()\n",
    "#recgrp['volume_acft'].plot()"
   ]
  },
  {
   "cell_type": "code",
   "execution_count": null,
   "metadata": {
    "collapsed": false,
    "deletable": true,
    "editable": true
   },
   "outputs": [],
   "source": [
    "monmeasflow"
   ]
  },
  {
   "cell_type": "markdown",
   "metadata": {
    "deletable": true,
    "editable": true
   },
   "source": [
    "## Snotel"
   ]
  },
  {
   "cell_type": "code",
   "execution_count": null,
   "metadata": {
    "collapsed": false,
    "deletable": true,
    "editable": true
   },
   "outputs": [],
   "source": [
    "# Set environment settings\n",
    "arcpy.env.workspace = \"H:/GIS/Results.gdb/\"\n",
    "arcpy.env.overwriteOutput = True\n",
    "# Set local variables\n",
    "memoryFeature = \"H:/GIS/UT_BASE.gdb/Snotel\"\n",
    "\n",
    "\n",
    "inRasterList = []\n",
    "\n",
    "monthRange = [1,12] \n",
    "yearRange = [2008,2015]\n",
    "\n",
    "for y in range(yearRange[0],yearRange[1]+1): #set years converted here\n",
    "    for m in range(monthRange[0],monthRange[1]+1): #set months converted here\n",
    "        my = 'asw' + str(y) + str(m).zfill(2)\n",
    "\n",
    "        arcpy.sa.ExtractValuesToPoints(memoryFeature, my, 'SnotelPoints',\"INTERPOLATE\", \"VALUE_ONLY\")\n",
    "        memoryFeature = \"in_memory/myMemoryFeature\"\n",
    "        arcpy.CopyFeatures_management('SnotelPoints', memoryFeature)\n",
    "        arcpy.AlterField_management(memoryFeature,'RASTERVALU',my,my)\n",
    "        inPointFeatures = 'SnotelPoints'\n",
    "        print(my)"
   ]
  },
  {
   "cell_type": "code",
   "execution_count": null,
   "metadata": {
    "collapsed": true,
    "deletable": true,
    "editable": true
   },
   "outputs": [],
   "source": []
  },
  {
   "cell_type": "markdown",
   "metadata": {
    "collapsed": true,
    "deletable": true,
    "editable": true
   },
   "source": [
    "## SNODAS Processing"
   ]
  },
  {
   "cell_type": "code",
   "execution_count": null,
   "metadata": {
    "collapsed": false,
    "deletable": true,
    "editable": true
   },
   "outputs": [],
   "source": [
    "quer = \"SELECT HUC_12,YearMonth,SOURCE,variable,volume_acft FROM ubm.zbudget;\"\n",
    "budg = pd.read_sql_query(sql=quer,con=engine)\n",
    "budg.ix[budg['SOURCE']=='MODIS','YearMonth'] = budg['YearMonth'].apply(lambda x: x[3:],1)\n",
    "budg.ix[budg['SOURCE']=='SNODAS','YearMonth'] = budg['YearMonth'].apply(lambda x: x[-9:-3],1)\n",
    "budg = budg[budg['YearMonth']>200000]\n",
    "budg['dt'] = pd.to_datetime(budg.YearMonth,errors='coerce',format='%Y%m')\n",
    "budg.drop(['SOURCE','YearMonth'],axis=1,inplace=True)\n",
    "budg['HUC_08'] = budg['HUC_12'].apply(lambda x: str(x)[:-4], 1)\n",
    "prov12 = budg[budg['HUC_12'].isin(['160202030403','160202030402','160202030404'])]\n",
    "provo = prov12.groupby(['dt','variable']).sum()\n",
    "provo.reset_index(inplace=True)\n",
    "provpiv = provo.pivot(index='dt',columns='variable',values='volume_acft')\n",
    "provpiv['precipitation'] = provpiv['precipitation']/100.0\n",
    "provpiv = provpiv[provpiv['snow water equivalent']<100000]\n"
   ]
  },
  {
   "cell_type": "code",
   "execution_count": null,
   "metadata": {
    "collapsed": false,
    "deletable": true,
    "editable": true
   },
   "outputs": [],
   "source": [
    "prov12 = budg[budg['HUC_12'].isin(['160202030403','160202030402','160202030404'])]\n",
    "provo = prov12.groupby(['dt','variable']).sum()\n",
    "provo.reset_index(inplace=True)\n",
    "provpiv = provo.pivot(index='dt',columns='variable',values='volume_acft')\n",
    "provpiv['precipitation'] = provpiv['precipitation']/100.0\n",
    "provpiv = provpiv[provpiv['snow water equivalent']<100000]\n"
   ]
  },
  {
   "cell_type": "code",
   "execution_count": null,
   "metadata": {
    "collapsed": false,
    "deletable": true,
    "editable": true
   },
   "outputs": [],
   "source": [
    "provpivmo = provpiv.groupby(provpiv.index.month).median()\n",
    "provpivmo.to_csv()"
   ]
  },
  {
   "cell_type": "code",
   "execution_count": null,
   "metadata": {
    "collapsed": false,
    "deletable": true,
    "editable": true
   },
   "outputs": [],
   "source": [
    "provpivmo.sum().to_clipboard(engineroute+\"ZoneData.csv\")"
   ]
  },
  {
   "cell_type": "code",
   "execution_count": null,
   "metadata": {
    "collapsed": false,
    "deletable": true,
    "editable": true
   },
   "outputs": [],
   "source": [
    "provpiv"
   ]
  },
  {
   "cell_type": "code",
   "execution_count": null,
   "metadata": {
    "collapsed": false,
    "deletable": true,
    "editable": true
   },
   "outputs": [],
   "source": [
    "provpivmo['total precip'].sum()"
   ]
  },
  {
   "cell_type": "code",
   "execution_count": null,
   "metadata": {
    "collapsed": false,
    "deletable": true,
    "editable": true
   },
   "outputs": [],
   "source": [
    "provpiv['precipitation'] = provpiv['precipitation']/100.0\n",
    "provpiv = provpiv[provpiv['snow water equivalent']<1e7]\n",
    "provpiv.plot()"
   ]
  },
  {
   "cell_type": "code",
   "execution_count": null,
   "metadata": {
    "collapsed": true,
    "deletable": true,
    "editable": true
   },
   "outputs": [],
   "source": [
    "pp"
   ]
  },
  {
   "cell_type": "code",
   "execution_count": null,
   "metadata": {
    "collapsed": false,
    "deletable": true,
    "editable": true
   },
   "outputs": [],
   "source": [
    "pp = provpiv.dropna()\n",
    "x = pp[u'precipitation'].values\n",
    "y = pp[u'total precip'].values\n",
    "w = pp.index.to_julian_date()\n",
    "wa.graphs.scatterColor(x,y,x)"
   ]
  },
  {
   "cell_type": "code",
   "execution_count": null,
   "metadata": {
    "collapsed": true,
    "deletable": true,
    "editable": true
   },
   "outputs": [],
   "source": [
    "provo.pivot(index='dt',columns='variable',values='volume_acft')"
   ]
  }
 ],
 "metadata": {
  "kernelspec": {
   "display_name": "Python 2",
   "language": "python",
   "name": "python2"
  },
  "language_info": {
   "codemirror_mode": {
    "name": "ipython",
    "version": 2
   },
   "file_extension": ".py",
   "mimetype": "text/x-python",
   "name": "python",
   "nbconvert_exporter": "python",
   "pygments_lexer": "ipython2",
   "version": "2.7.10"
  },
  "widgets": {
   "state": {},
   "version": "1.1.1"
  }
 },
 "nbformat": 4,
 "nbformat_minor": 0
}
