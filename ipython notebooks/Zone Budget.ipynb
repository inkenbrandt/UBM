{
 "cells": [
  {
   "cell_type": "code",
   "execution_count": 44,
   "metadata": {
    "collapsed": false,
    "deletable": true,
    "editable": true
   },
   "outputs": [],
   "source": [
    "%matplotlib inline\n",
    "import pandas as pd\n",
    "import numpy as np\n",
    "import urllib2\n",
    "import folium\n",
    "import json\n",
    "import matplotlib.pyplot as plt\n",
    "import matplotlib.dates as dates\n",
    "import scipy\n",
    "import scipy.stats as sp\n",
    "import scipy.optimize as op\n",
    "import statsmodels.api as sm\n",
    "from scipy.stats import linregress\n",
    "from scipy.optimize import curve_fit\n",
    "from scipy import stats\n",
    "from pandas.stats.api import ols\n",
    "from datetime import datetime, date, timedelta\n",
    "from matplotlib.backends.backend_pdf import PdfPages\n",
    "#from matplotlib.pyplot import cm \n",
    "import platform\n",
    "import sys\n",
    "import glob\n",
    "\n",
    "import matplotlib as mpl\n",
    "import matplotlib.cm as cm\n",
    "\n",
    "import pyproj\n",
    "from pyproj import Proj\n",
    "import simplekml\n",
    "\n",
    "import pyodbc\n",
    "\n",
    "#import matplotlib\n",
    "from pylab import rcParams\n",
    "rcParams['figure.figsize'] = 15, 15"
   ]
  },
  {
   "cell_type": "code",
   "execution_count": 45,
   "metadata": {
    "collapsed": false,
    "deletable": true,
    "editable": true
   },
   "outputs": [],
   "source": [
    "import wellapplication as wa\n",
    "import UBM"
   ]
  },
  {
   "cell_type": "code",
   "execution_count": 3,
   "metadata": {
    "collapsed": false
   },
   "outputs": [
    {
     "data": {
      "text/plain": [
       "'0.0.4'"
      ]
     },
     "execution_count": 3,
     "metadata": {},
     "output_type": "execute_result"
    }
   ],
   "source": [
    "UBM.__version__"
   ]
  },
  {
   "cell_type": "code",
   "execution_count": 4,
   "metadata": {
    "collapsed": false,
    "deletable": true,
    "editable": true
   },
   "outputs": [
    {
     "name": "stdout",
     "output_type": "stream",
     "text": [
      "Operating System Windows 7\n",
      "Python Version 2.7.10 (default, May 23 2015, 09:44:00) [MSC v.1500 64 bit (AMD64)]\n",
      "Pandas Version 0.19.2\n",
      "Numpy Version 1.12.0\n",
      "Matplotlib Version 2.0.0\n",
      "Well Application Version 0.4.19\n",
      "Scipy Version 0.18.1\n"
     ]
    }
   ],
   "source": [
    "print(\"Operating System \" + platform.system() + \" \" + platform.release())\n",
    "print(\"Python Version \" + str(sys.version))\n",
    "print(\"Pandas Version \" + str(pd.__version__))\n",
    "print(\"Numpy Version \" + str(np.__version__))\n",
    "print(\"Matplotlib Version \" + str(mpl.__version__))\n",
    "print(\"Well Application Version \" + str(wa.__version__))\n",
    "print(\"Scipy Version \" +str(scipy.__version__))"
   ]
  },
  {
   "cell_type": "code",
   "execution_count": 5,
   "metadata": {
    "collapsed": false,
    "deletable": true,
    "editable": true
   },
   "outputs": [],
   "source": [
    "import arcpy\n",
    "arcpy.CheckOutExtension(\"spatial\")\n",
    "from arcpy import env \n",
    "from arcpy.sa import *"
   ]
  },
  {
   "cell_type": "code",
   "execution_count": null,
   "metadata": {
    "collapsed": true,
    "deletable": true,
    "editable": true
   },
   "outputs": [],
   "source": []
  },
  {
   "cell_type": "code",
   "execution_count": 6,
   "metadata": {
    "collapsed": false,
    "deletable": true,
    "editable": true
   },
   "outputs": [],
   "source": [
    "engineroute = \"H:/Google Drive/WORK/Round_Valley/Data/\"\n",
    "#engineroute = \"C:/Users/Brooke/Downloads/\"\n",
    "sys.path.append(engineroute)\n",
    "import enginegetter"
   ]
  },
  {
   "cell_type": "code",
   "execution_count": 7,
   "metadata": {
    "collapsed": false,
    "deletable": true,
    "editable": true
   },
   "outputs": [],
   "source": [
    "engine = enginegetter.getEngine()"
   ]
  },
  {
   "cell_type": "markdown",
   "metadata": {
    "deletable": true,
    "editable": true
   },
   "source": [
    "# Zonal Statistics"
   ]
  },
  {
   "cell_type": "code",
   "execution_count": 8,
   "metadata": {
    "collapsed": true
   },
   "outputs": [],
   "source": [
    "Zonal_HUCS = \"H:/GIS/BCM/Calc.gdb/Zonal_HUC\"\n",
    "Zone_field = \"HUC_12\"\n",
    "z_Name = \"H:/GIS/BCM/Zonal.gdb\"\n",
    "indata = \"H:/GIS/BCM/BM_tools/Results.gdb\"\n",
    "arcpy.env.overwriteOutput = True\n"
   ]
  },
  {
   "cell_type": "code",
   "execution_count": 13,
   "metadata": {
    "collapsed": false,
    "deletable": true,
    "editable": true,
    "scrolled": true
   },
   "outputs": [
    {
     "name": "stdout",
     "output_type": "stream",
     "text": [
      "z_rec201401\n",
      "z_run201401\n",
      "z_aet201401\n",
      "z_asw201401\n",
      "z_rec201402\n",
      "z_run201402\n",
      "z_aet201402\n",
      "z_asw201402\n",
      "z_rec201403\n",
      "z_run201403\n",
      "z_aet201403\n",
      "z_asw201403\n",
      "z_rec201404\n",
      "z_run201404\n",
      "z_aet201404\n",
      "z_asw201404\n",
      "z_rec201405\n",
      "z_run201405\n",
      "z_aet201405\n",
      "z_asw201405\n",
      "z_rec201406\n",
      "z_run201406\n",
      "z_aet201406\n",
      "z_asw201406\n",
      "z_rec201407\n",
      "z_run201407\n",
      "z_aet201407\n",
      "z_asw201407\n",
      "z_rec201408\n",
      "z_run201408\n",
      "z_aet201408\n",
      "z_asw201408\n",
      "z_rec201409\n",
      "z_run201409\n",
      "z_aet201409\n",
      "z_asw201409\n",
      "z_rec201410\n",
      "z_run201410\n",
      "z_aet201410\n",
      "z_asw201410\n",
      "z_rec201411\n",
      "z_run201411\n",
      "z_aet201411\n",
      "z_asw201411\n",
      "z_rec201412\n",
      "z_run201412\n",
      "z_aet201412\n",
      "z_asw201412\n"
     ]
    }
   ],
   "source": [
    "UBM.zone_gdb(indata, z_Name, Zonal_HUCS, Zone_field,wildcard='*2014*')"
   ]
  },
  {
   "cell_type": "code",
   "execution_count": 14,
   "metadata": {
    "collapsed": false,
    "deletable": true,
    "editable": true
   },
   "outputs": [
    {
     "name": "stdout",
     "output_type": "stream",
     "text": [
      "z_AVWT200401\n",
      "z_AVWT200402\n",
      "z_AVWT200403\n",
      "z_AVWT200404\n",
      "z_AVWT200405\n",
      "z_AVWT200406\n",
      "z_AVWT200407\n",
      "z_AVWT200408\n",
      "z_AVWT200409\n",
      "z_AVWT200410\n",
      "z_AVWT200411\n",
      "z_AVWT200412\n",
      "z_AVWT200501\n",
      "z_AVWT200502\n",
      "z_AVWT200503\n",
      "z_AVWT200504\n",
      "z_AVWT200505\n",
      "z_AVWT200506\n",
      "z_AVWT200507\n",
      "z_AVWT200508\n",
      "z_AVWT200509\n",
      "z_AVWT200510\n",
      "z_AVWT200511\n",
      "z_AVWT200512\n",
      "z_AVWT200601\n",
      "z_AVWT200602\n",
      "z_AVWT200603\n",
      "z_AVWT200604\n",
      "z_AVWT200605\n",
      "z_AVWT200606\n",
      "z_AVWT200607\n",
      "z_AVWT200608\n",
      "z_AVWT200609\n",
      "z_AVWT200610\n",
      "z_AVWT200611\n",
      "z_AVWT200612\n",
      "z_AVWT200701\n",
      "z_AVWT200702\n",
      "z_AVWT200703\n",
      "z_AVWT200704\n",
      "z_AVWT200705\n",
      "z_AVWT200706\n",
      "z_AVWT200707\n",
      "z_AVWT200708\n",
      "z_AVWT200709\n",
      "z_AVWT200710\n",
      "z_AVWT200711\n",
      "z_AVWT200712\n",
      "z_AVWT200801\n",
      "z_AVWT200802\n",
      "z_AVWT200803\n",
      "z_AVWT200804\n",
      "z_AVWT200805\n",
      "z_AVWT200806\n",
      "z_AVWT200807\n",
      "z_AVWT200808\n",
      "z_AVWT200809\n",
      "z_AVWT200810\n",
      "z_AVWT200811\n",
      "z_AVWT200812\n",
      "z_AVWT200901\n",
      "z_AVWT200902\n",
      "z_AVWT200903\n",
      "z_AVWT200904\n",
      "z_AVWT200905\n",
      "z_AVWT200906\n",
      "z_AVWT200907\n",
      "z_AVWT200908\n",
      "z_AVWT200909\n",
      "z_AVWT200910\n",
      "z_AVWT200911\n",
      "z_AVWT200912\n",
      "z_AVWT201001\n",
      "z_AVWT201002\n",
      "z_AVWT201003\n",
      "z_AVWT201004\n",
      "z_AVWT201005\n",
      "z_AVWT201006\n",
      "z_AVWT201007\n",
      "z_AVWT201008\n",
      "z_AVWT201009\n",
      "z_AVWT201010\n",
      "z_AVWT201011\n",
      "z_AVWT201012\n",
      "z_AVWT201101\n",
      "z_AVWT201102\n",
      "z_AVWT201103\n",
      "z_AVWT201104\n",
      "z_AVWT201105\n",
      "z_AVWT201106\n",
      "z_AVWT201107\n",
      "z_AVWT201108\n",
      "z_AVWT201109\n",
      "z_AVWT201110\n",
      "z_AVWT201111\n",
      "z_AVWT201112\n",
      "z_AVWT201201\n",
      "z_AVWT201202\n",
      "z_AVWT201203\n",
      "z_AVWT201204\n",
      "z_AVWT201205\n",
      "z_AVWT201206\n",
      "z_AVWT201207\n",
      "z_AVWT201208\n",
      "z_AVWT201209\n",
      "z_AVWT201210\n",
      "z_AVWT201211\n",
      "z_AVWT201212\n",
      "z_AVWT201301\n",
      "z_AVWT201302\n",
      "z_AVWT201303\n",
      "z_AVWT201304\n",
      "z_AVWT201305\n",
      "z_AVWT201306\n",
      "z_AVWT201307\n",
      "z_AVWT201308\n",
      "z_AVWT201309\n",
      "z_AVWT201310\n",
      "z_AVWT201311\n",
      "z_AVWT201312\n",
      "z_AVWT201401\n",
      "z_AVWT201402\n",
      "z_AVWT201403\n",
      "z_AVWT201404\n",
      "z_AVWT201405\n",
      "z_AVWT201406\n",
      "z_AVWT201407\n",
      "z_AVWT201408\n",
      "z_AVWT201409\n",
      "z_AVWT201410\n",
      "z_AVWT201411\n",
      "z_AVWT201412\n"
     ]
    }
   ],
   "source": [
    "indata = \"H:/GIS/BCM/AvailableWater.gdb\"\n",
    "UBM.zone_gdb(indata, z_Name, Zonal_HUCS, Zone_field)"
   ]
  },
  {
   "cell_type": "code",
   "execution_count": 15,
   "metadata": {
    "collapsed": false,
    "deletable": true,
    "editable": true
   },
   "outputs": [
    {
     "name": "stdout",
     "output_type": "stream",
     "text": [
      "z_sir20105193_bcmk\n",
      "z_sir20105193_rch4006\n",
      "z_sir20105193_run4006\n",
      "z_porosity\n",
      "z_fieldCap\n",
      "z_WiltPoint\n",
      "z_Tsoilwater\n",
      "z_BMC_K\n",
      "z_Geol_K\n"
     ]
    }
   ],
   "source": [
    "indata = \"H:/GIS/BCM/SIR2010_5193_BCM.gdb\"\n",
    "UBM.zone_gdb(indata, z_Name, Zonal_HUCS, Zone_field)\n",
    "\n",
    "indata = \"H:/GIS/BCM/Soils.gdb\"\n",
    "UBM.zone_gdb(indata, z_Name, Zonal_HUCS, Zone_field)"
   ]
  },
  {
   "cell_type": "code",
   "execution_count": 16,
   "metadata": {
    "collapsed": false,
    "deletable": true,
    "editable": true
   },
   "outputs": [
    {
     "name": "stdout",
     "output_type": "stream",
     "text": [
      "z_PET200001\n",
      "z_PET200002\n",
      "z_PET200003\n",
      "z_PET200004\n",
      "z_PET200005\n",
      "z_PET200006\n",
      "z_PET200007\n",
      "z_PET200008\n",
      "z_PET200009\n",
      "z_PET200010\n",
      "z_PET200011\n",
      "z_PET200012\n",
      "z_PET200101\n",
      "z_PET200102\n",
      "z_PET200103\n",
      "z_PET200104\n",
      "z_PET200105\n",
      "z_PET200106\n",
      "z_PET200107\n",
      "z_PET200108\n",
      "z_PET200109\n",
      "z_PET200110\n",
      "z_PET200111\n",
      "z_PET200112\n",
      "z_PET200201\n",
      "z_PET200202\n",
      "z_PET200203\n",
      "z_PET200204\n",
      "z_PET200205\n",
      "z_PET200206\n",
      "z_PET200207\n",
      "z_PET200208\n",
      "z_PET200209\n",
      "z_PET200210\n",
      "z_PET200211\n",
      "z_PET200212\n",
      "z_PET200301\n",
      "z_PET200302\n",
      "z_PET200303\n",
      "z_PET200304\n",
      "z_PET200305\n",
      "z_PET200306\n",
      "z_PET200307\n",
      "z_PET200308\n",
      "z_PET200309\n",
      "z_PET200310\n",
      "z_PET200311\n",
      "z_PET200312\n",
      "z_PET200401\n",
      "z_PET200402\n",
      "z_PET200403\n",
      "z_PET200404\n",
      "z_PET200405\n",
      "z_PET200406\n",
      "z_PET200407\n",
      "z_PET200408\n",
      "z_PET200409\n",
      "z_PET200410\n",
      "z_PET200411\n",
      "z_PET200412\n",
      "z_PET200501\n",
      "z_PET200502\n",
      "z_PET200503\n",
      "z_PET200504\n",
      "z_PET200505\n",
      "z_PET200506\n",
      "z_PET200507\n",
      "z_PET200508\n",
      "z_PET200509\n",
      "z_PET200510\n",
      "z_PET200511\n",
      "z_PET200512\n",
      "z_PET200601\n",
      "z_PET200602\n",
      "z_PET200603\n",
      "z_PET200604\n",
      "z_PET200605\n",
      "z_PET200606\n",
      "z_PET200607\n",
      "z_PET200608\n",
      "z_PET200609\n",
      "z_PET200610\n",
      "z_PET200611\n",
      "z_PET200612\n",
      "z_PET200701\n",
      "z_PET200702\n",
      "z_PET200703\n",
      "z_PET200704\n",
      "z_PET200705\n",
      "z_PET200706\n",
      "z_PET200707\n",
      "z_PET200708\n",
      "z_PET200709\n",
      "z_PET200710\n",
      "z_PET200711\n",
      "z_PET200712\n",
      "z_PET200801\n",
      "z_PET200802\n",
      "z_PET200803\n",
      "z_PET200804\n",
      "z_PET200805\n",
      "z_PET200806\n",
      "z_PET200807\n",
      "z_PET200808\n",
      "z_PET200809\n",
      "z_PET200810\n",
      "z_PET200811\n",
      "z_PET200812\n",
      "z_PET200901\n",
      "z_PET200902\n",
      "z_PET200903\n",
      "z_PET200904\n",
      "z_PET200905\n",
      "z_PET200906\n",
      "z_PET200907\n",
      "z_PET200908\n",
      "z_PET200909\n",
      "z_PET200910\n",
      "z_PET200911\n",
      "z_PET200912\n",
      "z_PET201001\n",
      "z_PET201002\n",
      "z_PET201003\n",
      "z_PET201004\n",
      "z_PET201005\n",
      "z_PET201006\n",
      "z_PET201007\n",
      "z_PET201008\n",
      "z_PET201009\n",
      "z_PET201010\n",
      "z_PET201011\n",
      "z_PET201012\n",
      "z_PET201101\n",
      "z_PET201102\n",
      "z_PET201103\n",
      "z_PET201104\n",
      "z_PET201105\n",
      "z_PET201106\n",
      "z_PET201107\n",
      "z_PET201108\n",
      "z_PET201109\n",
      "z_PET201110\n",
      "z_PET201111\n",
      "z_PET201112\n",
      "z_PET201201\n",
      "z_PET201202\n",
      "z_PET201203\n",
      "z_PET201204\n",
      "z_PET201205\n",
      "z_PET201206\n",
      "z_PET201207\n",
      "z_PET201208\n",
      "z_PET201209\n",
      "z_PET201210\n",
      "z_PET201211\n",
      "z_PET201212\n",
      "z_PET201301\n",
      "z_PET201302\n",
      "z_PET201303\n",
      "z_PET201304\n",
      "z_PET201305\n",
      "z_PET201306\n",
      "z_PET201307\n",
      "z_PET201308\n",
      "z_PET201309\n",
      "z_PET201310\n",
      "z_PET201311\n",
      "z_PET201312\n",
      "z_PET201401\n",
      "z_PET201402\n",
      "z_PET201403\n",
      "z_PET201404\n",
      "z_PET201405\n",
      "z_PET201406\n",
      "z_PET201407\n",
      "z_PET201408\n",
      "z_PET201409\n",
      "z_PET201410\n",
      "z_PET201411\n",
      "z_PET201412\n"
     ]
    }
   ],
   "source": [
    "indata = 'H:/GIS/BCM/MODIS16.gdb'\n",
    "UBM.zone_gdb(indata, z_Name, Zonal_HUCS, Zone_field)"
   ]
  },
  {
   "cell_type": "code",
   "execution_count": 17,
   "metadata": {
    "collapsed": false,
    "deletable": true,
    "editable": true,
    "scrolled": true
   },
   "outputs": [
    {
     "name": "stdout",
     "output_type": "stream",
     "text": [
      "z_RAIN200309SUM\n",
      "z_RAIN200310SUM\n",
      "z_RAIN200311SUM\n",
      "z_RAIN200312SUM\n",
      "z_RAIN200401SUM\n",
      "z_RAIN200402SUM\n",
      "z_RAIN200403SUM\n",
      "z_RAIN200404SUM\n",
      "z_RAIN200405SUM\n",
      "z_RAIN200406SUM\n",
      "z_RAIN200407SUM\n",
      "z_RAIN200408SUM\n",
      "z_RAIN200409SUM\n",
      "z_RAIN200410SUM\n",
      "z_RAIN200411SUM\n",
      "z_RAIN200412SUM\n",
      "z_RAIN200501SUM\n",
      "z_RAIN200502SUM\n",
      "z_RAIN200503SUM\n",
      "z_RAIN200504SUM\n",
      "z_RAIN200505SUM\n",
      "z_RAIN200506SUM\n",
      "z_RAIN200507SUM\n",
      "z_RAIN200508SUM\n",
      "z_RAIN200509SUM\n",
      "z_RAIN200510SUM\n",
      "z_RAIN200511SUM\n",
      "z_RAIN200512SUM\n",
      "z_RAIN200601SUM\n",
      "z_RAIN200602SUM\n",
      "z_RAIN200603SUM\n",
      "z_RAIN200604SUM\n",
      "z_RAIN200605SUM\n",
      "z_RAIN200606SUM\n",
      "z_RAIN200607SUM\n",
      "z_RAIN200608SUM\n",
      "z_RAIN200609SUM\n",
      "z_RAIN200610SUM\n",
      "z_RAIN200611SUM\n",
      "z_RAIN200612SUM\n",
      "z_RAIN200701SUM\n",
      "z_RAIN200702SUM\n",
      "z_RAIN200703SUM\n",
      "z_RAIN200704SUM\n",
      "z_RAIN200705SUM\n",
      "z_RAIN200706SUM\n",
      "z_RAIN200707SUM\n",
      "z_RAIN200708SUM\n",
      "z_RAIN200709SUM\n",
      "z_RAIN200710SUM\n",
      "z_RAIN200711SUM\n",
      "z_RAIN200712SUM\n",
      "z_RAIN200801SUM\n",
      "z_RAIN200802SUM\n",
      "z_RAIN200803SUM\n",
      "z_RAIN200804SUM\n",
      "z_RAIN200805SUM\n",
      "z_RAIN200806SUM\n",
      "z_RAIN200807SUM\n",
      "z_RAIN200808SUM\n",
      "z_RAIN200809SUM\n",
      "z_RAIN200810SUM\n",
      "z_RAIN200811SUM\n",
      "z_RAIN200812SUM\n",
      "z_RAIN200901SUM\n",
      "z_RAIN200902SUM\n",
      "z_RAIN200903SUM\n",
      "z_RAIN200904SUM\n",
      "z_RAIN200905SUM\n",
      "z_RAIN200906SUM\n",
      "z_RAIN200907SUM\n",
      "z_RAIN200908SUM\n",
      "z_RAIN200909SUM\n",
      "z_RAIN200910SUM\n",
      "z_RAIN200911SUM\n",
      "z_RAIN200912SUM\n",
      "z_RAIN201001SUM\n",
      "z_RAIN201002SUM\n",
      "z_RAIN201003SUM\n",
      "z_RAIN201004SUM\n",
      "z_RAIN201005SUM\n",
      "z_RAIN201006SUM\n",
      "z_RAIN201007SUM\n",
      "z_RAIN201008SUM\n",
      "z_RAIN201009SUM\n",
      "z_RAIN201010SUM\n",
      "z_RAIN201011SUM\n",
      "z_RAIN201012SUM\n",
      "z_RAIN201101SUM\n",
      "z_RAIN201102SUM\n",
      "z_RAIN201103SUM\n",
      "z_RAIN201104SUM\n",
      "z_RAIN201105SUM\n",
      "z_RAIN201106SUM\n",
      "z_RAIN201107SUM\n",
      "z_RAIN201108SUM\n",
      "z_RAIN201109SUM\n",
      "z_RAIN201110SUM\n",
      "z_RAIN201111SUM\n",
      "z_RAIN201112SUM\n",
      "z_RAIN201201SUM\n",
      "z_RAIN201202SUM\n",
      "z_RAIN201203SUM\n",
      "z_RAIN201204SUM\n",
      "z_RAIN201205SUM\n",
      "z_RAIN201206SUM\n",
      "z_RAIN201207SUM\n",
      "z_RAIN201208SUM\n",
      "z_RAIN201209SUM\n",
      "z_RAIN201210SUM\n",
      "z_RAIN201211SUM\n",
      "z_RAIN201212SUM\n",
      "z_RAIN201301SUM\n",
      "z_RAIN201302SUM\n",
      "z_RAIN201303SUM\n",
      "z_RAIN201304SUM\n",
      "z_RAIN201305SUM\n",
      "z_RAIN201306SUM\n",
      "z_RAIN201307SUM\n",
      "z_RAIN201308SUM\n",
      "z_RAIN201309SUM\n",
      "z_RAIN201310SUM\n",
      "z_RAIN201311SUM\n",
      "z_RAIN201312SUM\n",
      "z_RAIN201401SUM\n",
      "z_RAIN201402SUM\n",
      "z_RAIN201403SUM\n",
      "z_RAIN201404SUM\n",
      "z_RAIN201405SUM\n",
      "z_RAIN201406SUM\n",
      "z_RAIN201407SUM\n",
      "z_RAIN201408SUM\n",
      "z_RAIN201409SUM\n",
      "z_RAIN201410SUM\n",
      "z_RAIN201411SUM\n",
      "z_RAIN201412SUM\n",
      "z_RAIN201501SUM\n",
      "z_RAIN201502SUM\n",
      "z_RAIN201503SUM\n",
      "z_RAIN201504SUM\n",
      "z_RAIN201505SUM\n",
      "z_RAIN201506SUM\n",
      "z_RAIN201507SUM\n",
      "z_RAIN201508SUM\n",
      "z_RAIN201509SUM\n",
      "z_RAIN201510SUM\n",
      "z_RAIN201511SUM\n",
      "z_RAIN201512SUM\n",
      "z_SNML200309SUM\n",
      "z_SNML200310SUM\n",
      "z_SNML200311SUM\n",
      "z_SNML200312SUM\n",
      "z_SNML200401SUM\n",
      "z_SNML200402SUM\n",
      "z_SNML200403SUM\n",
      "z_SNML200404SUM\n",
      "z_SNML200405SUM\n",
      "z_SNML200406SUM\n",
      "z_SNML200407SUM\n",
      "z_SNML200408SUM\n",
      "z_SNML200409SUM\n",
      "z_SNML200410SUM\n",
      "z_SNML200411SUM\n",
      "z_SNML200412SUM\n",
      "z_SNML200501SUM\n",
      "z_SNML200502SUM\n",
      "z_SNML200503SUM\n",
      "z_SNML200504SUM\n",
      "z_SNML200505SUM\n",
      "z_SNML200506SUM\n",
      "z_SNML200507SUM\n",
      "z_SNML200508SUM\n",
      "z_SNML200509SUM\n",
      "z_SNML200510SUM\n",
      "z_SNML200511SUM\n",
      "z_SNML200512SUM\n",
      "z_SNML200601SUM\n",
      "z_SNML200602SUM\n",
      "z_SNML200603SUM\n",
      "z_SNML200604SUM\n",
      "z_SNML200605SUM\n",
      "z_SNML200606SUM\n",
      "z_SNML200607SUM\n",
      "z_SNML200608SUM\n",
      "z_SNML200609SUM\n",
      "z_SNML200610SUM\n",
      "z_SNML200611SUM\n",
      "z_SNML200612SUM\n",
      "z_SNML200701SUM\n",
      "z_SNML200702SUM\n",
      "z_SNML200703SUM\n",
      "z_SNML200704SUM\n",
      "z_SNML200705SUM\n",
      "z_SNML200706SUM\n",
      "z_SNML200707SUM\n",
      "z_SNML200708SUM\n",
      "z_SNML200709SUM\n",
      "z_SNML200710SUM\n",
      "z_SNML200711SUM\n",
      "z_SNML200712SUM\n",
      "z_SNML200801SUM\n",
      "z_SNML200802SUM\n",
      "z_SNML200803SUM\n",
      "z_SNML200804SUM\n",
      "z_SNML200805SUM\n",
      "z_SNML200806SUM\n",
      "z_SNML200807SUM\n",
      "z_SNML200808SUM\n",
      "z_SNML200809SUM\n",
      "z_SNML200810SUM\n",
      "z_SNML200811SUM\n",
      "z_SNML200812SUM\n",
      "z_SNML200901SUM\n",
      "z_SNML200902SUM\n",
      "z_SNML200903SUM\n",
      "z_SNML200904SUM\n",
      "z_SNML200905SUM\n",
      "z_SNML200906SUM\n",
      "z_SNML200907SUM\n",
      "z_SNML200908SUM\n",
      "z_SNML200909SUM\n",
      "z_SNML200910SUM\n",
      "z_SNML200911SUM\n",
      "z_SNML200912SUM\n",
      "z_SNML201001SUM\n",
      "z_SNML201002SUM\n",
      "z_SNML201003SUM\n",
      "z_SNML201004SUM\n",
      "z_SNML201005SUM\n",
      "z_SNML201006SUM\n",
      "z_SNML201007SUM\n",
      "z_SNML201008SUM\n",
      "z_SNML201009SUM\n",
      "z_SNML201010SUM\n",
      "z_SNML201011SUM\n",
      "z_SNML201012SUM\n",
      "z_SNML201101SUM\n",
      "z_SNML201102SUM\n",
      "z_SNML201103SUM\n",
      "z_SNML201104SUM\n",
      "z_SNML201105SUM\n",
      "z_SNML201106SUM\n",
      "z_SNML201107SUM\n",
      "z_SNML201108SUM\n",
      "z_SNML201109SUM\n",
      "z_SNML201110SUM\n",
      "z_SNML201111SUM\n",
      "z_SNML201112SUM\n",
      "z_SNML201201SUM\n",
      "z_SNML201202SUM\n",
      "z_SNML201203SUM\n",
      "z_SNML201204SUM\n",
      "z_SNML201205SUM\n",
      "z_SNML201206SUM\n",
      "z_SNML201207SUM\n",
      "z_SNML201208SUM\n",
      "z_SNML201209SUM\n",
      "z_SNML201210SUM\n",
      "z_SNML201211SUM\n",
      "z_SNML201212SUM\n",
      "z_SNML201301SUM\n",
      "z_SNML201302SUM\n",
      "z_SNML201303SUM\n",
      "z_SNML201304SUM\n",
      "z_SNML201305SUM\n",
      "z_SNML201306SUM\n",
      "z_SNML201307SUM\n",
      "z_SNML201308SUM\n",
      "z_SNML201309SUM\n",
      "z_SNML201310SUM\n",
      "z_SNML201311SUM\n",
      "z_SNML201312SUM\n",
      "z_SNML201401SUM\n",
      "z_SNML201402SUM\n",
      "z_SNML201403SUM\n",
      "z_SNML201404SUM\n",
      "z_SNML201405SUM\n",
      "z_SNML201406SUM\n",
      "z_SNML201407SUM\n",
      "z_SNML201408SUM\n",
      "z_SNML201409SUM\n",
      "z_SNML201410SUM\n",
      "z_SNML201411SUM\n",
      "z_SNML201412SUM\n",
      "z_SNML201501SUM\n",
      "z_SNML201502SUM\n",
      "z_SNML201503SUM\n",
      "z_SNML201504SUM\n",
      "z_SNML201505SUM\n",
      "z_SNML201506SUM\n",
      "z_SNML201507SUM\n",
      "z_SNML201508SUM\n",
      "z_SNML201509SUM\n",
      "z_SNML201510SUM\n",
      "z_SNML201511SUM\n",
      "z_SNML201512SUM\n"
     ]
    }
   ],
   "source": [
    "indata = 'H:/GIS/BCM/SNODAS.gdb'\n",
    "UBM.zone_gdb(indata, z_Name, Zonal_HUCS, Zone_field)"
   ]
  },
  {
   "cell_type": "markdown",
   "metadata": {
    "deletable": true,
    "editable": true
   },
   "source": [
    "# Store Zonal Data in Database"
   ]
  },
  {
   "cell_type": "code",
   "execution_count": null,
   "metadata": {
    "collapsed": true,
    "deletable": true,
    "editable": true
   },
   "outputs": [],
   "source": [
    "def calcvols(searchStr,source,variable, stat='MEAN', mult = 1.0):\n",
    "    tables = arcpy.ListTables(searchStr)\n",
    "    fields = arcpy.ListFields(tables[0])\n",
    "    #for table in prism_tables:\n",
    "    fieldlist = [field.name for field in fields]\n",
    "\n",
    "    f = {}\n",
    "    for table in tables:\n",
    "        f[table] = pd.DataFrame(arcpy.da.TableToNumPyArray(table,fieldlist))\n",
    "    g = pd.concat(f)\n",
    "    g.reset_index(inplace=True)\n",
    "    \n",
    "    \n",
    "    g['YearMonth'] = g['level_0'].apply(lambda x: str(x)[-9:-3] if str(x)[-3:]=='SUM' else str(x)[-6:],1)\n",
    "    g['HUC_10'] = g['HUC_12'].apply(lambda x: str(x)[:-2],1)\n",
    "    g['HUC_08'] = g['HUC_12'].apply(lambda x: str(x)[:-4],1)\n",
    "    g.drop(['level_0','level_1','OBJECTID','ZONE_CODE'],axis=1,inplace=True)\n",
    "    g['SOURCE'] = source\n",
    "    g['variable'] = variable\n",
    "    g['volume_m_cubed'] = g[stat]*g['AREA']* mult\n",
    "    g['volume_acft'] = g['volume_m_cubed']*0.000810714\n",
    "    #g = g[(~g.YearMonth.str.contains('yr'))]\n",
    "    #g['dt'] = pd.to_datetime(g.YearMonth,errors='coerce',format='%Y%m')\n",
    "    return g"
   ]
  },
  {
   "cell_type": "code",
   "execution_count": 18,
   "metadata": {
    "collapsed": false,
    "deletable": true,
    "editable": true
   },
   "outputs": [],
   "source": [
    "#tabplace = 'U:/GWP/Groundwater/Projects/BCM/Data/Zonal.gdb'\n",
    "tabplace = \"H:/GIS/BCM/Zonal.gdb\"\n",
    "outfold = 'M:/PROJECTS/UBM/'\n",
    "\n",
    "tabname = 'zonebudgets'\n",
    "arcpy.env.workspace = tabplace"
   ]
  },
  {
   "cell_type": "markdown",
   "metadata": {
    "deletable": true,
    "editable": true
   },
   "source": [
    "## UBM"
   ]
  },
  {
   "cell_type": "code",
   "execution_count": 20,
   "metadata": {
    "collapsed": false,
    "deletable": true,
    "editable": true
   },
   "outputs": [],
   "source": [
    "g = UBM.calcvols(tabplace ,'z_run*','UBM','runoff')\n",
    "g.to_sql(con=engine, name=tabname, if_exists='append', index=False)"
   ]
  },
  {
   "cell_type": "code",
   "execution_count": 22,
   "metadata": {
    "collapsed": false,
    "deletable": true,
    "editable": true
   },
   "outputs": [],
   "source": [
    "g = UBM.calcvols(tabplace ,'z_rec*','UBM','recharge')\n",
    "g.to_sql(con=engine, name=tabname, if_exists='append', index=False)"
   ]
  },
  {
   "cell_type": "markdown",
   "metadata": {
    "deletable": true,
    "editable": true
   },
   "source": [
    "## PRISM"
   ]
  },
  {
   "cell_type": "code",
   "execution_count": null,
   "metadata": {
    "collapsed": true,
    "deletable": true,
    "editable": true
   },
   "outputs": [],
   "source": [
    "g = UBM.calcvols(tabplace, 'z_a*','PRISM','precipitation')\n",
    "g.to_sql(con=engine, name=tabname, if_exists='append', index=False)"
   ]
  },
  {
   "cell_type": "markdown",
   "metadata": {
    "deletable": true,
    "editable": true
   },
   "source": [
    "## MODIS16"
   ]
  },
  {
   "cell_type": "code",
   "execution_count": 43,
   "metadata": {
    "collapsed": false,
    "deletable": true,
    "editable": true
   },
   "outputs": [
    {
     "ename": "AttributeError",
     "evalue": "'DataFrame' object has no attribute 'calcvols'",
     "output_type": "error",
     "traceback": [
      "\u001b[0;31m---------------------------------------------------------------------------\u001b[0m",
      "\u001b[0;31mAttributeError\u001b[0m                            Traceback (most recent call last)",
      "\u001b[0;32m<ipython-input-43-025b220924d1>\u001b[0m in \u001b[0;36m<module>\u001b[0;34m()\u001b[0m\n\u001b[0;32m----> 1\u001b[0;31m \u001b[0mg\u001b[0m \u001b[1;33m=\u001b[0m \u001b[0mUBM\u001b[0m\u001b[1;33m.\u001b[0m\u001b[0mcalcvols\u001b[0m\u001b[1;33m(\u001b[0m\u001b[0mtabplace\u001b[0m\u001b[1;33m,\u001b[0m\u001b[1;34m'z_PET*'\u001b[0m\u001b[1;33m,\u001b[0m\u001b[1;34m'MODIS16'\u001b[0m\u001b[1;33m,\u001b[0m\u001b[1;34m'PET'\u001b[0m\u001b[1;33m)\u001b[0m\u001b[1;33m\u001b[0m\u001b[0m\n\u001b[0m\u001b[1;32m      2\u001b[0m \u001b[0mg\u001b[0m\u001b[1;33m.\u001b[0m\u001b[0mto_sql\u001b[0m\u001b[1;33m(\u001b[0m\u001b[0mcon\u001b[0m\u001b[1;33m=\u001b[0m\u001b[0mengine\u001b[0m\u001b[1;33m,\u001b[0m \u001b[0mname\u001b[0m \u001b[1;33m=\u001b[0m \u001b[0mtabname\u001b[0m\u001b[1;33m,\u001b[0m \u001b[0mif_exists\u001b[0m\u001b[1;33m=\u001b[0m\u001b[1;34m'append'\u001b[0m\u001b[1;33m,\u001b[0m \u001b[0mindex\u001b[0m\u001b[1;33m=\u001b[0m\u001b[0mFalse\u001b[0m\u001b[1;33m)\u001b[0m\u001b[1;33m\u001b[0m\u001b[0m\n",
      "\u001b[0;32mc:\\python27\\arcgisx6410.4\\lib\\site-packages\\pandas\\core\\generic.pyc\u001b[0m in \u001b[0;36m__getattr__\u001b[0;34m(self, name)\u001b[0m\n\u001b[1;32m   2742\u001b[0m             \u001b[1;32mif\u001b[0m \u001b[0mname\u001b[0m \u001b[1;32min\u001b[0m \u001b[0mself\u001b[0m\u001b[1;33m.\u001b[0m\u001b[0m_info_axis\u001b[0m\u001b[1;33m:\u001b[0m\u001b[1;33m\u001b[0m\u001b[0m\n\u001b[1;32m   2743\u001b[0m                 \u001b[1;32mreturn\u001b[0m \u001b[0mself\u001b[0m\u001b[1;33m[\u001b[0m\u001b[0mname\u001b[0m\u001b[1;33m]\u001b[0m\u001b[1;33m\u001b[0m\u001b[0m\n\u001b[0;32m-> 2744\u001b[0;31m             \u001b[1;32mreturn\u001b[0m \u001b[0mobject\u001b[0m\u001b[1;33m.\u001b[0m\u001b[0m__getattribute__\u001b[0m\u001b[1;33m(\u001b[0m\u001b[0mself\u001b[0m\u001b[1;33m,\u001b[0m \u001b[0mname\u001b[0m\u001b[1;33m)\u001b[0m\u001b[1;33m\u001b[0m\u001b[0m\n\u001b[0m\u001b[1;32m   2745\u001b[0m \u001b[1;33m\u001b[0m\u001b[0m\n\u001b[1;32m   2746\u001b[0m     \u001b[1;32mdef\u001b[0m \u001b[0m__setattr__\u001b[0m\u001b[1;33m(\u001b[0m\u001b[0mself\u001b[0m\u001b[1;33m,\u001b[0m \u001b[0mname\u001b[0m\u001b[1;33m,\u001b[0m \u001b[0mvalue\u001b[0m\u001b[1;33m)\u001b[0m\u001b[1;33m:\u001b[0m\u001b[1;33m\u001b[0m\u001b[0m\n",
      "\u001b[0;31mAttributeError\u001b[0m: 'DataFrame' object has no attribute 'calcvols'"
     ]
    }
   ],
   "source": [
    "g = UBM.calcvols(tabplace,'z_PET*','MODIS16','PET')\n",
    "g.to_sql(con=engine, name = tabname, if_exists='append', index=False)"
   ]
  },
  {
   "cell_type": "code",
   "execution_count": 25,
   "metadata": {
    "collapsed": true,
    "deletable": true,
    "editable": true
   },
   "outputs": [
    {
     "ename": "IndexError",
     "evalue": "list index out of range",
     "output_type": "error",
     "traceback": [
      "\u001b[0;31m---------------------------------------------------------------------------\u001b[0m",
      "\u001b[0;31mIndexError\u001b[0m                                Traceback (most recent call last)",
      "\u001b[0;32m<ipython-input-25-8e7402783424>\u001b[0m in \u001b[0;36m<module>\u001b[0;34m()\u001b[0m\n\u001b[0;32m----> 1\u001b[0;31m \u001b[0mg\u001b[0m \u001b[1;33m=\u001b[0m \u001b[0mUBM\u001b[0m\u001b[1;33m.\u001b[0m\u001b[0mcalcvols\u001b[0m\u001b[1;33m(\u001b[0m\u001b[1;34m\"H:/GIS/BCM/Zonal.gdb\"\u001b[0m\u001b[1;33m,\u001b[0m\u001b[1;34m'z_ET*'\u001b[0m\u001b[1;33m,\u001b[0m\u001b[1;34m'MODIS16'\u001b[0m\u001b[1;33m,\u001b[0m\u001b[1;34m'evapotranspiration'\u001b[0m\u001b[1;33m)\u001b[0m\u001b[1;33m\u001b[0m\u001b[0m\n\u001b[0m\u001b[1;32m      2\u001b[0m \u001b[0mg\u001b[0m\u001b[1;33m.\u001b[0m\u001b[0mto_sql\u001b[0m\u001b[1;33m(\u001b[0m\u001b[0mcon\u001b[0m\u001b[1;33m=\u001b[0m\u001b[0mengine\u001b[0m\u001b[1;33m,\u001b[0m \u001b[0mname\u001b[0m \u001b[1;33m=\u001b[0m \u001b[0mtabname\u001b[0m\u001b[1;33m,\u001b[0m \u001b[0mif_exists\u001b[0m\u001b[1;33m=\u001b[0m\u001b[1;34m'append'\u001b[0m\u001b[1;33m,\u001b[0m \u001b[0mindex\u001b[0m\u001b[1;33m=\u001b[0m\u001b[0mFalse\u001b[0m\u001b[1;33m)\u001b[0m\u001b[1;33m\u001b[0m\u001b[0m\n",
      "\u001b[0;32mc:\\python27\\arcgisx6410.4\\lib\\site-packages\\UBM\\zonal.pyc\u001b[0m in \u001b[0;36mcalcvols\u001b[0;34m(tablegdb, searchstr, source, variable, stat, mult)\u001b[0m\n\u001b[1;32m     10\u001b[0m     \u001b[0marcpy\u001b[0m\u001b[1;33m.\u001b[0m\u001b[0menv\u001b[0m\u001b[1;33m.\u001b[0m\u001b[0mworkspace\u001b[0m \u001b[1;33m=\u001b[0m \u001b[0mtablegdb\u001b[0m\u001b[1;33m\u001b[0m\u001b[0m\n\u001b[1;32m     11\u001b[0m     \u001b[0mtables\u001b[0m \u001b[1;33m=\u001b[0m \u001b[0marcpy\u001b[0m\u001b[1;33m.\u001b[0m\u001b[0mListTables\u001b[0m\u001b[1;33m(\u001b[0m\u001b[0msearchstr\u001b[0m\u001b[1;33m)\u001b[0m\u001b[1;33m\u001b[0m\u001b[0m\n\u001b[0;32m---> 12\u001b[0;31m     \u001b[0mfields\u001b[0m \u001b[1;33m=\u001b[0m \u001b[0marcpy\u001b[0m\u001b[1;33m.\u001b[0m\u001b[0mListFields\u001b[0m\u001b[1;33m(\u001b[0m\u001b[0mtables\u001b[0m\u001b[1;33m[\u001b[0m\u001b[1;36m0\u001b[0m\u001b[1;33m]\u001b[0m\u001b[1;33m)\u001b[0m\u001b[1;33m\u001b[0m\u001b[0m\n\u001b[0m\u001b[1;32m     13\u001b[0m     \u001b[1;31m# for table in prism_tables:\u001b[0m\u001b[1;33m\u001b[0m\u001b[1;33m\u001b[0m\u001b[0m\n\u001b[1;32m     14\u001b[0m     \u001b[0mfieldlist\u001b[0m \u001b[1;33m=\u001b[0m \u001b[1;33m[\u001b[0m\u001b[0mfield\u001b[0m\u001b[1;33m.\u001b[0m\u001b[0mname\u001b[0m \u001b[1;32mfor\u001b[0m \u001b[0mfield\u001b[0m \u001b[1;32min\u001b[0m \u001b[0mfields\u001b[0m\u001b[1;33m]\u001b[0m\u001b[1;33m\u001b[0m\u001b[0m\n",
      "\u001b[0;31mIndexError\u001b[0m: list index out of range"
     ]
    }
   ],
   "source": [
    "g = UBM.calcvols(tabplace,'z_ET*','MODIS16','evapotranspiration')\n",
    "g.to_sql(con=engine, name = tabname, if_exists='append', index=False)"
   ]
  },
  {
   "cell_type": "markdown",
   "metadata": {
    "deletable": true,
    "editable": true
   },
   "source": [
    "## BCM"
   ]
  },
  {
   "cell_type": "code",
   "execution_count": 30,
   "metadata": {
    "collapsed": false,
    "deletable": true,
    "editable": true
   },
   "outputs": [],
   "source": [
    "g = UBM.calcvols(tabplace,'z_sir20105193_rch*','BCM','recharge', mult=0.000001)\n",
    "g.to_sql(con=engine, name = tabname, if_exists='append', index=False)"
   ]
  },
  {
   "cell_type": "code",
   "execution_count": 31,
   "metadata": {
    "collapsed": false
   },
   "outputs": [],
   "source": [
    "g = UBM.calcvols(tabplace,'z_sir20105193_run*','BCM','runoff', mult=0.000001)\n",
    "g.to_sql(con=engine, name = tabname, if_exists='append', index=False)"
   ]
  },
  {
   "cell_type": "code",
   "execution_count": null,
   "metadata": {
    "collapsed": true
   },
   "outputs": [],
   "source": []
  },
  {
   "cell_type": "markdown",
   "metadata": {
    "deletable": true,
    "editable": true
   },
   "source": [
    "## Soil Properties"
   ]
  },
  {
   "cell_type": "code",
   "execution_count": 28,
   "metadata": {
    "collapsed": false,
    "deletable": true,
    "editable": true
   },
   "outputs": [],
   "source": [
    "g = UBM.calcvols(\"H:/GIS/BCM/Zonal.gdb\",'z_porosity*','Surrgo','porosity')\n",
    "g.to_sql(con=engine, name=tabname, if_exists='append', index=False)\n",
    "\n",
    "g = UBM.calcvols(\"H:/GIS/BCM/Zonal.gdb\",'z_fieldC*','Surrgo','field capacity')\n",
    "g.to_sql(con=engine, name = tabname, if_exists='append', index=False)\n",
    "\n",
    "g = UBM.calcvols(\"H:/GIS/BCM/Zonal.gdb\",'z_Wilt*','Surrgo','wilting point')\n",
    "g.to_sql(con=engine, name = tabname, if_exists='append', index=False)\n",
    "\n",
    "g = UBM.calcvols(\"H:/GIS/BCM/Zonal.gdb\",'z_Tsoi*','Surrgo','total soil moisture')\n",
    "g.to_sql(con=engine, name = tabname, if_exists='append', index=False)\n",
    "\n",
    "g = UBM.calcvols(\"H:/GIS/BCM/Zonal.gdb\",'z_Geo*','State Geologic Maps','conductivity')\n",
    "g.to_sql(con=engine, name = tabname, if_exists='append', index=False)"
   ]
  },
  {
   "cell_type": "markdown",
   "metadata": {
    "deletable": true,
    "editable": true
   },
   "source": [
    "## SNODAS"
   ]
  },
  {
   "cell_type": "code",
   "execution_count": 33,
   "metadata": {
    "collapsed": false,
    "deletable": true,
    "editable": true
   },
   "outputs": [],
   "source": [
    "g = UBM.calcvols(\"H:/GIS/BCM/Zonal.gdb\",'*_SNML*','SNODAS','snowmelt')\n",
    "g.to_sql(con=engine, name = tabname, if_exists='append', index=False)"
   ]
  },
  {
   "cell_type": "code",
   "execution_count": 32,
   "metadata": {
    "collapsed": true,
    "deletable": true,
    "editable": true
   },
   "outputs": [],
   "source": [
    "g = UBM.calcvols(\"H:/GIS/BCM/Zonal.gdb\",'*_RAIN*','SNODAS','precip as rain')\n",
    "g.to_sql(con=engine, name = tabname, if_exists='append', index=False)"
   ]
  },
  {
   "cell_type": "code",
   "execution_count": null,
   "metadata": {
    "collapsed": false,
    "deletable": true,
    "editable": true
   },
   "outputs": [],
   "source": [
    "g = UBM.calcvols(\"H:/GIS/BCM/Zonal.gdb\",'*_SNOW*','SNODAS','precip as snow')\n",
    "g.to_sql(con=engine, name = tabname, if_exists='append', index=False)\n",
    "\n",
    "g = UBM.calcvols(\"H:/GIS/BCM/Zonal.gdb\",'*_TPPT*','SNODAS','total precip')\n",
    "g.to_sql(con=engine, name = tabname, if_exists='append', index=False)\n",
    "\n",
    "g = UBM.calcvols(\"H:/GIS/BCM/Zonal.gdb\",'*_TSSB*','SNODAS','total snow sublimation')\n",
    "g.to_sql(con=engine, name = tabname, if_exists='append', index=False)\n",
    "\n",
    "g = UBM.calcvols(\"H:/GIS/BCM/Zonal.gdb\",'*_SWEQ*','SNODAS','snow water equivalent')\n",
    "g.to_sql(con=engine, name = tabname, if_exists='append', index=False)"
   ]
  },
  {
   "cell_type": "markdown",
   "metadata": {
    "deletable": true,
    "editable": true
   },
   "source": [
    "# Query Database and Analyze Data"
   ]
  },
  {
   "cell_type": "markdown",
   "metadata": {
    "deletable": true,
    "editable": true
   },
   "source": [
    "## Compare UBM with BCM"
   ]
  },
  {
   "cell_type": "code",
   "execution_count": 34,
   "metadata": {
    "collapsed": false,
    "deletable": true,
    "editable": true
   },
   "outputs": [],
   "source": [
    "quer = \"SELECT HUC_12, volume_acft FROM ubm.zonebudgets WHERE SOURCE = 'BCM' AND variable IN('runoff')\"\n",
    "BCMrun = pd.read_sql_query(sql=quer,con=engine)\n",
    "BCMrun.rename(columns={'volume_acft':'BCM_run_acft'},inplace=True)\n",
    "\n",
    "quer = \"SELECT HUC_12, volume_acft FROM ubm.zonebudgets WHERE SOURCE = 'BCM' AND variable IN('recharge')\"\n",
    "BCMrec = pd.read_sql_query(sql=quer,con=engine)\n",
    "BCMrec.rename(columns={'volume_acft':'BCM_rec_acft'},inplace=True)\n",
    "\n",
    "BCMrun.set_index(['HUC_12'],inplace=True)\n",
    "BCMrec.set_index(['HUC_12'],inplace=True)\n",
    "\n",
    "BCM = pd.concat([BCMrun,BCMrec],axis=1)"
   ]
  },
  {
   "cell_type": "code",
   "execution_count": 35,
   "metadata": {
    "collapsed": false,
    "deletable": true,
    "editable": true
   },
   "outputs": [],
   "source": [
    "quer = \"SELECT HUC_12,YearMonth,volume_acft FROM ubm.zonebudgets WHERE SOURCE = 'UBM' AND variable IN('runoff')\"\n",
    "UBM = pd.read_sql_query(sql=quer,con=engine)\n",
    "\n",
    "UBM['dt'] = pd.to_datetime(UBM.YearMonth,errors='coerce',format='%Y%m')\n",
    "UBM['year'] = UBM['dt'].apply(lambda x: x.year,1)\n",
    "UBMyrly = UBM.groupby(['HUC_12','year']).sum()\n",
    "UBMyrly.reset_index(inplace=True)\n",
    "UBMavgrun = UBMyrly.groupby('HUC_12').mean()\n",
    "UBMavgrun.drop(['year'], axis=1, inplace=True)\n",
    "UBMavgrun.rename(columns={'volume_acft':'UBM_run_acft'},inplace=True)\n",
    "\n",
    "quer = \"SELECT HUC_12,YearMonth,volume_acft FROM ubm.zonebudgets WHERE SOURCE = 'UBM' AND variable IN('recharge')\"\n",
    "UBM = pd.read_sql_query(sql=quer,con=engine)\n",
    "\n",
    "UBM['dt'] = pd.to_datetime(UBM.YearMonth,errors='coerce',format='%Y%m')\n",
    "UBM['year'] = UBM['dt'].apply(lambda x: x.year,1)\n",
    "UBMyrly = UBM.groupby(['HUC_12','year']).sum()\n",
    "UBMyrly.reset_index(inplace=True)\n",
    "UBMavgrec = UBMyrly.groupby('HUC_12').mean()\n",
    "UBMavgrec.drop(['year'], axis=1, inplace=True)\n",
    "UBMavgrec.rename(columns={'volume_acft':'UBM_rec_acft'},inplace=True)\n",
    "\n",
    "UBM = pd.concat([UBMavgrun,UBMavgrec],axis=1)"
   ]
  },
  {
   "cell_type": "code",
   "execution_count": 36,
   "metadata": {
    "collapsed": false,
    "deletable": true,
    "editable": true
   },
   "outputs": [],
   "source": [
    "BM = pd.concat([BCM,UBM],axis=1)"
   ]
  },
  {
   "cell_type": "code",
   "execution_count": null,
   "metadata": {
    "collapsed": false,
    "deletable": true,
    "editable": true
   },
   "outputs": [],
   "source": [
    "len(BM)"
   ]
  },
  {
   "cell_type": "code",
   "execution_count": 37,
   "metadata": {
    "collapsed": false,
    "deletable": true,
    "editable": true
   },
   "outputs": [],
   "source": [
    "BM.dropna(inplace=True)"
   ]
  },
  {
   "cell_type": "code",
   "execution_count": 38,
   "metadata": {
    "collapsed": true,
    "deletable": true,
    "editable": true
   },
   "outputs": [],
   "source": [
    "huclist = [160102030101,160102030102,160102030103,160102030104,160102030105,160102030201,160102030202,160102030203,\n",
    "           160102030204,160102030205,160102030206,160102030207,160102030208,160102030209,160102030301,160102030302,\n",
    "           160102030303,160102030304,160102030305,160102030306,160102030307,160102030401,160201020501,160201020502,\n",
    "           160201020503,160201020504,160201020505,160201020506,160201020601,160201020602,160201020603,160201020604,\n",
    "           160201020701,160201020702,160201020703,160202010101,160202010102,160202010103,160202010104,160202010105,\n",
    "           160202010106,160202010107,160202010108,160202010109,160202010201,160202010202,160202010203,160202010301,\n",
    "           160202010302,160202010401,160202010402,160202010403,160202010406,160202010500,160202010701,160202010702,\n",
    "           160202010801,160202010802,160202010803,160202010804,160202011001,160202011002,160202020101,160202020102,\n",
    "           160202020103,160202020104,160202020105,160202020106,160202020107,160202020202,160202020203,160202020204,\n",
    "           160202020205,160202020301,160202020302,160202020303,160202020304,160202020305,160202020306,160202020307,\n",
    "           160202020401,160202020402,160202020403,160202020404,160202020405,160202020501,160202020503,160202020601,\n",
    "           160202030502,160202030504,160202030505,160202040101,160202040102,160202040103,160202040104,160202040106,\n",
    "           160202040107,160202040201,160202040202,160202040204,160202040205,160202040206,160202040301,160202040302,\n",
    "           160202040303,160202040304,160202040306,160202040307,160202040404,160202040405,160300030706,160300050101,\n",
    "           160300050102,160300050103,160300050104,160300050201,160300050202,160300050203,160300050204,160300050205,\n",
    "           160300050206,160300050301,160300050302,160300050303,160300050304,160300050401,160300050402,160300050403,\n",
    "           160300050404,160300050405,160300050406,160300050501,160300050503,160300050505,160300050506,160300050507,\n",
    "           160300050801,160300051201,160300051202,160300051301,160300051302,160300051303,160300051304,160300051305,\n",
    "           160300051307,160300051401,160300051402,160300051403,160300051404,160300051405,160300051406,160300051407,\n",
    "           160300051408,160300051409,160300051411,160300051502,160300051503,160300051504,160300051505,160300051507\n",
    "          ]"
   ]
  },
  {
   "cell_type": "code",
   "execution_count": 39,
   "metadata": {
    "collapsed": false,
    "deletable": true,
    "editable": true
   },
   "outputs": [],
   "source": [
    "BM = BM[pd.to_numeric(BM.index).isin(huclist)]"
   ]
  },
  {
   "cell_type": "code",
   "execution_count": 40,
   "metadata": {
    "collapsed": false,
    "deletable": true,
    "editable": true
   },
   "outputs": [
    {
     "data": {
      "image/png": "[encoded data removed]",
      "text/plain": [
       "<matplotlib.figure.Figure at 0x77645cc0>"
      ]
     },
     "metadata": {},
     "output_type": "display_data"
    }
   ],
   "source": [
    "import statsmodels.api as sm\n",
    "\n",
    "x = BM['UBM_run_acft'].values\n",
    "Y = BM['BCM_run_acft'].values\n",
    "\n",
    "X = sm.add_constant(x)\n",
    "model = sm.OLS(Y,X)\n",
    "est = model.fit()\n",
    "const = est.params[0]\n",
    "slope = est.params[1]\n",
    "\n",
    "SIZE = 18\n",
    "plt.rc('font', size=SIZE) \n",
    "\n",
    "\n",
    "plt.plot(x, est.predict(X), c='g', label='simple linear regression m = {:.2f} b = {:.0f}, r^2 = {:.2f}'.format(slope, const,est.rsquared))\n",
    "plt.scatter(x,Y, label='model runoff comparison')\n",
    "x2 = range(int(np.min(x)),int(np.max(x)))\n",
    "plt.plot(x2,x2,'--', label='m=1')\n",
    "plt.legend(loc='upper left')\n",
    "plt.xlabel('UBM (acft/yr)')\n",
    "plt.ylabel('BCM (acft/yr)')\n",
    "plt.title('Runoff')\n",
    "#plt.xlim(-100,10000)\n",
    "#plt.ylim(-100,8000)\n",
    "plt.grid()\n",
    "plt.savefig('U:/GWP/Groundwater/Projects/BCM/Graphs/'+'runoff_bcm_vs_ubm.png')"
   ]
  },
  {
   "cell_type": "code",
   "execution_count": 41,
   "metadata": {
    "collapsed": false,
    "deletable": true,
    "editable": true
   },
   "outputs": [
    {
     "data": {
      "image/png": "[encoded data removed]",
      "text/plain": [
       "<matplotlib.figure.Figure at 0x6bae5b70>"
      ]
     },
     "metadata": {},
     "output_type": "display_data"
    }
   ],
   "source": [
    "import statsmodels.api as sm\n",
    "\n",
    "x = BM['UBM_rec_acft'].values\n",
    "Y = BM['BCM_rec_acft'].values\n",
    "\n",
    "X = sm.add_constant(x)\n",
    "model = sm.OLS(Y,X)\n",
    "est = model.fit()\n",
    "const = est.params[0]\n",
    "slope = est.params[1]\n",
    "\n",
    "SIZE = 18\n",
    "plt.rc('font', size=SIZE) \n",
    "\n",
    "plt.plot(x, est.predict(X), c='g', label='simple linear regression m = {:.2f} b = {:.0f}, r^2 = {:.2f}'.format(slope, const,est.rsquared))\n",
    "plt.scatter(x,Y, label='model recharge comparison')\n",
    "x2 = range(int(np.min(x)),int(np.max(x)))\n",
    "plt.plot(x2,x2,'--', label='m=1')\n",
    "\n",
    "plt.legend(loc='upper left')\n",
    "plt.xlabel('UBM (acft/yr)')\n",
    "plt.ylabel('BCM (acft/yr)')\n",
    "plt.title('Recharge')\n",
    "#plt.xlim(-100,10000)\n",
    "#plt.ylim(-100,8000)\n",
    "plt.grid()\n",
    "plt.savefig('U:/GWP/Groundwater/Projects/BCM/Graphs/'+'recharge_bcm_vs_ubm.png')"
   ]
  },
  {
   "cell_type": "code",
   "execution_count": 42,
   "metadata": {
    "collapsed": false,
    "deletable": true,
    "editable": true
   },
   "outputs": [
    {
     "data": {
      "image/png": "[encoded data removed]",
      "text/plain": [
       "<matplotlib.figure.Figure at 0x7760bcf8>"
      ]
     },
     "metadata": {},
     "output_type": "display_data"
    }
   ],
   "source": [
    "BM['UBM_comb_acft'] = BM['UBM_run_acft'] + BM['UBM_rec_acft']\n",
    "BM['BCM_comb_acft'] = BM['BCM_run_acft'] + BM['BCM_rec_acft']\n",
    "\n",
    "x = BM['UBM_comb_acft']\n",
    "Y = BM['BCM_comb_acft']\n",
    "\n",
    "X = sm.add_constant(x)\n",
    "model = sm.OLS(Y,X)\n",
    "est = model.fit()\n",
    "const = est.params[0]\n",
    "slope = est.params[1]\n",
    "\n",
    "SIZE = 18\n",
    "plt.rc('font', size=SIZE)   \n",
    "#matplotlib.rc('pdf', fonttype=42)\n",
    "plt.plot(x, est.predict(X), c='g', label='simple linear regression m = {:.2f} b = {:.0f}, r^2 = {:.2f}'.format(slope, const,est.rsquared))\n",
    "plt.scatter(x,Y, label='model runoff comparison')\n",
    "x2 = range(int(np.min(x)),int(np.max(x)))\n",
    "plt.plot(x2,x2,'--', label='m=1')\n",
    "plt.legend(loc='upper left')\n",
    "plt.xlabel('UBM (acft/yr)')\n",
    "plt.ylabel('BCM (acft/yr)')\n",
    "#plt.xlim(-100,12000)\n",
    "#plt.ylim(-100,14000)\n",
    "plt.title('Combined Runoff and Recharge')\n",
    "plt.grid()\n",
    "plt.savefig('U:/GWP/Groundwater/Projects/BCM/Graphs/'+'combined_bcm_vs_ubm.png')"
   ]
  },
  {
   "cell_type": "code",
   "execution_count": null,
   "metadata": {
    "collapsed": true,
    "deletable": true,
    "editable": true
   },
   "outputs": [],
   "source": [
    "BM.to_clipboard()"
   ]
  },
  {
   "cell_type": "code",
   "execution_count": null,
   "metadata": {
    "collapsed": true,
    "deletable": true,
    "editable": true
   },
   "outputs": [],
   "source": [
    "10133980\n",
    "\n",
    "10217000\n",
    "\n",
    "10172870\n",
    "\n",
    "10242000\n",
    "\n",
    "10234500\n",
    "\n",
    "10113500\n",
    "\n",
    "10011500\n",
    "\n",
    "10155000\n",
    "\n",
    "10172200"
   ]
  },
  {
   "cell_type": "code",
   "execution_count": null,
   "metadata": {
    "collapsed": false,
    "deletable": true,
    "editable": true
   },
   "outputs": [],
   "source": [
    "nw10128500 = wa.nwis(\"dv\",'10128500','sites',startDT='2004-01-01',endDT='2015-01-01')"
   ]
  },
  {
   "cell_type": "code",
   "execution_count": null,
   "metadata": {
    "collapsed": false,
    "deletable": true,
    "editable": true
   },
   "outputs": [],
   "source": [
    "nw = wa.nwis(\"dv\",'10133980','sites',startDT='2004-01-01',endDT='2015-01-01')"
   ]
  },
  {
   "cell_type": "code",
   "execution_count": null,
   "metadata": {
    "collapsed": false,
    "deletable": true,
    "editable": true
   },
   "outputs": [],
   "source": [
    "nw10128500.data.value.plot()\n",
    "plt.yscale('log')"
   ]
  },
  {
   "cell_type": "code",
   "execution_count": null,
   "metadata": {
    "collapsed": false,
    "deletable": true,
    "editable": true
   },
   "outputs": [],
   "source": [
    "#nw.data.index = nw.data.index.to_datetime()\n",
    "\n",
    "#nw.data.value.plot()\n",
    "\n",
    "recess = nw.data[nw.data['value'].diff(2) < 0.0].copy()\n",
    "\n",
    "recess = recess.resample('1D').mean()\n",
    "recess.value.plot()\n",
    "plt.legend()"
   ]
  },
  {
   "cell_type": "code",
   "execution_count": null,
   "metadata": {
    "collapsed": false,
    "deletable": true,
    "editable": true
   },
   "outputs": [],
   "source": [
    "recess.groupby(recess.index.month).mean().plot()"
   ]
  },
  {
   "cell_type": "code",
   "execution_count": null,
   "metadata": {
    "collapsed": false,
    "deletable": true,
    "editable": true
   },
   "outputs": [],
   "source": [
    "measflow = nw.data\n",
    "measflow['afm'] = measflow.value *60.3307\n",
    "monmeasflow = measflow['afm'].groupby(pd.TimeGrouper('M')).mean().plot()\n",
    "#monmeasflow['afm']\n",
    "#rungrp['volume_acft'].plot()\n",
    "#recgrp['volume_acft'].plot()"
   ]
  },
  {
   "cell_type": "code",
   "execution_count": null,
   "metadata": {
    "collapsed": false,
    "deletable": true,
    "editable": true
   },
   "outputs": [],
   "source": [
    "monmeasflow"
   ]
  },
  {
   "cell_type": "markdown",
   "metadata": {
    "deletable": true,
    "editable": true
   },
   "source": [
    "## Snotel"
   ]
  },
  {
   "cell_type": "code",
   "execution_count": null,
   "metadata": {
    "collapsed": false,
    "deletable": true,
    "editable": true
   },
   "outputs": [],
   "source": [
    "# Set environment settings\n",
    "arcpy.env.workspace = \"H:/GIS/Results.gdb/\"\n",
    "arcpy.env.overwriteOutput = True\n",
    "# Set local variables\n",
    "memoryFeature = \"H:/GIS/UT_BASE.gdb/Snotel\"\n",
    "\n",
    "\n",
    "inRasterList = []\n",
    "\n",
    "monthRange = [1,12] \n",
    "yearRange = [2008,2015]\n",
    "\n",
    "for y in range(yearRange[0],yearRange[1]+1): #set years converted here\n",
    "    for m in range(monthRange[0],monthRange[1]+1): #set months converted here\n",
    "        my = 'asw' + str(y) + str(m).zfill(2)\n",
    "\n",
    "        arcpy.sa.ExtractValuesToPoints(memoryFeature, my, 'SnotelPoints',\"INTERPOLATE\", \"VALUE_ONLY\")\n",
    "        memoryFeature = \"in_memory/myMemoryFeature\"\n",
    "        arcpy.CopyFeatures_management('SnotelPoints', memoryFeature)\n",
    "        arcpy.AlterField_management(memoryFeature,'RASTERVALU',my,my)\n",
    "        inPointFeatures = 'SnotelPoints'\n",
    "        print(my)"
   ]
  },
  {
   "cell_type": "code",
   "execution_count": null,
   "metadata": {
    "collapsed": true,
    "deletable": true,
    "editable": true
   },
   "outputs": [],
   "source": []
  },
  {
   "cell_type": "markdown",
   "metadata": {
    "collapsed": true,
    "deletable": true,
    "editable": true
   },
   "source": [
    "## SNODAS Processing"
   ]
  },
  {
   "cell_type": "code",
   "execution_count": null,
   "metadata": {
    "collapsed": false,
    "deletable": true,
    "editable": true
   },
   "outputs": [],
   "source": [
    "quer = \"SELECT HUC_12,YearMonth,SOURCE,variable,volume_acft FROM ubm.zbudget;\"\n",
    "budg = pd.read_sql_query(sql=quer,con=engine)\n",
    "budg.ix[budg['SOURCE']=='MODIS','YearMonth'] = budg['YearMonth'].apply(lambda x: x[3:],1)\n",
    "budg.ix[budg['SOURCE']=='SNODAS','YearMonth'] = budg['YearMonth'].apply(lambda x: x[-9:-3],1)\n",
    "budg = budg[budg['YearMonth']>200000]\n",
    "budg['dt'] = pd.to_datetime(budg.YearMonth,errors='coerce',format='%Y%m')\n",
    "budg.drop(['SOURCE','YearMonth'],axis=1,inplace=True)\n",
    "budg['HUC_08'] = budg['HUC_12'].apply(lambda x: str(x)[:-4], 1)\n",
    "prov12 = budg[budg['HUC_12'].isin(['160202030403','160202030402','160202030404'])]\n",
    "provo = prov12.groupby(['dt','variable']).sum()\n",
    "provo.reset_index(inplace=True)\n",
    "provpiv = provo.pivot(index='dt',columns='variable',values='volume_acft')\n",
    "provpiv['precipitation'] = provpiv['precipitation']/100.0\n",
    "provpiv = provpiv[provpiv['snow water equivalent']<100000]\n"
   ]
  },
  {
   "cell_type": "code",
   "execution_count": null,
   "metadata": {
    "collapsed": false,
    "deletable": true,
    "editable": true
   },
   "outputs": [],
   "source": [
    "prov12 = budg[budg['HUC_12'].isin(['160202030403','160202030402','160202030404'])]\n",
    "provo = prov12.groupby(['dt','variable']).sum()\n",
    "provo.reset_index(inplace=True)\n",
    "provpiv = provo.pivot(index='dt',columns='variable',values='volume_acft')\n",
    "provpiv['precipitation'] = provpiv['precipitation']/100.0\n",
    "provpiv = provpiv[provpiv['snow water equivalent']<100000]\n"
   ]
  },
  {
   "cell_type": "code",
   "execution_count": null,
   "metadata": {
    "collapsed": false,
    "deletable": true,
    "editable": true
   },
   "outputs": [],
   "source": [
    "provpivmo = provpiv.groupby(provpiv.index.month).median()\n",
    "provpivmo.to_csv()"
   ]
  },
  {
   "cell_type": "code",
   "execution_count": null,
   "metadata": {
    "collapsed": false,
    "deletable": true,
    "editable": true
   },
   "outputs": [],
   "source": [
    "provpivmo.sum().to_clipboard(engineroute+\"ZoneData.csv\")"
   ]
  },
  {
   "cell_type": "code",
   "execution_count": null,
   "metadata": {
    "collapsed": false,
    "deletable": true,
    "editable": true
   },
   "outputs": [],
   "source": [
    "provpiv"
   ]
  },
  {
   "cell_type": "code",
   "execution_count": null,
   "metadata": {
    "collapsed": false,
    "deletable": true,
    "editable": true
   },
   "outputs": [],
   "source": [
    "provpivmo['total precip'].sum()"
   ]
  },
  {
   "cell_type": "code",
   "execution_count": null,
   "metadata": {
    "collapsed": false,
    "deletable": true,
    "editable": true
   },
   "outputs": [],
   "source": [
    "provpiv['precipitation'] = provpiv['precipitation']/100.0\n",
    "provpiv = provpiv[provpiv['snow water equivalent']<1e7]\n",
    "provpiv.plot()"
   ]
  },
  {
   "cell_type": "code",
   "execution_count": null,
   "metadata": {
    "collapsed": true,
    "deletable": true,
    "editable": true
   },
   "outputs": [],
   "source": [
    "pp"
   ]
  },
  {
   "cell_type": "code",
   "execution_count": null,
   "metadata": {
    "collapsed": false,
    "deletable": true,
    "editable": true
   },
   "outputs": [],
   "source": [
    "pp = provpiv.dropna()\n",
    "x = pp[u'precipitation'].values\n",
    "y = pp[u'total precip'].values\n",
    "w = pp.index.to_julian_date()\n",
    "wa.graphs.scatterColor(x,y,x)"
   ]
  },
  {
   "cell_type": "code",
   "execution_count": null,
   "metadata": {
    "collapsed": true,
    "deletable": true,
    "editable": true
   },
   "outputs": [],
   "source": [
    "provo.pivot(index='dt',columns='variable',values='volume_acft')"
   ]
  }
 ],
 "metadata": {
  "kernelspec": {
   "display_name": "Python 2",
   "language": "python",
   "name": "python2"
  },
  "language_info": {
   "codemirror_mode": {
    "name": "ipython",
    "version": 2
   },
   "file_extension": ".py",
   "mimetype": "text/x-python",
   "name": "python",
   "nbconvert_exporter": "python",
   "pygments_lexer": "ipython2",
   "version": "2.7.10"
  },
  "widgets": {
   "state": {},
   "version": "1.1.1"
  }
 },
 "nbformat": 4,
 "nbformat_minor": 0
}
